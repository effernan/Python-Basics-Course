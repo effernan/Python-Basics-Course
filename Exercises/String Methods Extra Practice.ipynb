{
 "cells": [
  {
   "cell_type": "markdown",
   "id": "59da3709",
   "metadata": {},
   "source": [
    "# Adding some Zurich information to our Eurovision phone app"
   ]
  },
  {
   "cell_type": "markdown",
   "id": "c6113295",
   "metadata": {},
   "source": [
    "Your Eurovision attendees would like to have some Zurich information on the tip of their fingers during this Christmas visit to town. Let's create a new icon called \"Zurich information\" and let's practice with how to manipulate strings!"
   ]
  },
  {
   "cell_type": "markdown",
   "id": "dced6a46",
   "metadata": {},
   "source": [
    "String methods are build-in pieces of code that allow us to conveniently manipulate strings without having to write any scripts (other than the method that we are using!):  https://wesmckinney.com/book/data-cleaning.html#text_string_methods \n",
    "\n",
    "In this notebook we are going to practice how to use **split(), strip(), join(), index()** and **find()**."
   ]
  },
  {
   "cell_type": "markdown",
   "id": "ff992f83",
   "metadata": {},
   "source": [
    "# 1. First let's create a text (string) variable."
   ]
  },
  {
   "cell_type": "markdown",
   "id": "03528580",
   "metadata": {},
   "source": [
    "Let's install the wikipedia Python library (https://pypi.org/project/wikipedia/)"
   ]
  },
  {
   "cell_type": "code",
   "execution_count": 212,
   "id": "075ea61f",
   "metadata": {},
   "outputs": [],
   "source": [
    "#your code here"
   ]
  },
  {
   "cell_type": "code",
   "execution_count": 213,
   "id": "72fd5bef",
   "metadata": {},
   "outputs": [],
   "source": [
    "#Solution\n",
    "\n",
    "import wikipedia"
   ]
  },
  {
   "cell_type": "markdown",
   "id": "4ded156c",
   "metadata": {},
   "source": [
    "Now, having a look at the documentation of the Wikipedia python library, let's create a variable called \"zurich\" containing the Wikipedia information of Zurich."
   ]
  },
  {
   "cell_type": "code",
   "execution_count": 214,
   "id": "5b847824",
   "metadata": {},
   "outputs": [],
   "source": [
    "#Your code here"
   ]
  },
  {
   "cell_type": "code",
   "execution_count": 215,
   "id": "e4a6753c",
   "metadata": {},
   "outputs": [],
   "source": [
    "#Solution\n",
    "\n",
    "zurich = wikipedia.page(\"Zurich\")"
   ]
  },
  {
   "cell_type": "code",
   "execution_count": 216,
   "id": "715d16d4",
   "metadata": {},
   "outputs": [
    {
     "name": "stdout",
     "output_type": "stream",
     "text": [
      "<WikipediaPage 'Zürich'>\n"
     ]
    }
   ],
   "source": [
    "print(zurich)"
   ]
  },
  {
   "cell_type": "markdown",
   "id": "c93b8ffe",
   "metadata": {},
   "source": [
    "Ok now we need to access the text in there. Have a look at the documentation and create a new variable called zurich_text!"
   ]
  },
  {
   "cell_type": "code",
   "execution_count": 217,
   "id": "6c11268d",
   "metadata": {},
   "outputs": [],
   "source": [
    "#Your code here"
   ]
  },
  {
   "cell_type": "code",
   "execution_count": 218,
   "id": "42a1bc29",
   "metadata": {},
   "outputs": [],
   "source": [
    "#Solution\n",
    "\n",
    "zurich_text = zurich.content"
   ]
  },
  {
   "cell_type": "code",
   "execution_count": 219,
   "id": "91b9c9c1",
   "metadata": {},
   "outputs": [
    {
     "data": {
      "text/plain": [
       "'Zürich ( ZURE-ik, German: [ˈtsyːrɪç] ; see below) is the largest city in Switzerland and the capital of the canton of Zürich. It is located in north-central Switzerland, at the northwestern tip of Lake Zürich. As of January 2023 the municipality had 443,037 inhabitants, the urban area 1.315 million (2009), and the Zürich metropolitan area 1.83 million (2011). Zürich is a hub for railways, roads, and air traffic. Both Zurich Airport and Zürich\\'s main railway station are the largest and busiest in the country.\\nPermanently settled for over 2,000 years, Zürich was founded by the Romans, who called it Turicum. However, early settlements have been found dating back more than 6,400 years (although this only indicates human presence in the area and not the presence of a town that early). During the Middle Ages, Zürich gained the independent and privileged status of imperial immediacy and, in 1519, became a primary centre of the Protestant Reformation in Europe under the leadership of Huldrych Zwingli.The official language of Zürich is German, but the main spoken language is Zürich German, the local variant of the Alemannic Swiss German dialect.\\nMany museums and art galleries can be found in the city, including the Swiss National Museum and Kunsthaus. Schauspielhaus Zürich is generally considered to be one of the most important theatres in the German-speaking world.As one of Switzerland\\'s primary financial centres, Zürich is home to many financial institutions and banking companies.\\n\\n\\n== Name ==\\nIn German, the city name is written Zürich, and pronounced [ˈtsyːrɪç] in Swiss Standard German or [ˈtsyːʁɪç]  in German Standard German. In the local dialect, the name is pronounced without the final consonant, as Züri [ˈtsyri], although the adjective remains Zürcher(in). The city is called Zurich [zyʁik] in French, Zurigo [dzuˈriːɡo] in Italian, and Turitg [tuˈritɕ]  in Romansh.\\nThe name is traditionally written in English as Zurich, without the umlaut. It is pronounced  ZURE-ik.The earliest known form of the city\\'s name is Turicum, attested on a tombstone of the late 2nd century AD in the form STA(tio) TURICEN(sis) (\"Turicum tax post\"). The name is interpreted as a derivation from a given name, possibly the Gaulish personal name Tūros, for a reconstructed native form of the toponym of *Turīcon. The Latin stress on the long vowel of the Gaulish name, [tʊˈriːkõː], was lost in German [ˈtsyːrɪç] but is preserved in Italian [dzuˈriːɡo] and in Romansh [tuˈritɕ]. The first development towards its later Germanic form is attested as early as the 6th century with the form Ziurichi. From the 9th century onward, the name is established in an Old High German form Zuri(c)h (857 in villa Zurih, 924 in Zurich curtem, 1416 Zürich Stadt). In the early modern period, the name became associated with the name of the Tigurini, and the name Tigurum rather than the historical Turicum is sometimes encountered in Modern Latin contexts.\\n\\n\\n== History ==\\n\\n\\n=== Early history ===\\nSettlements of the Neolithic and Bronze Age were found around Lake Zürich. Traces of pre-Roman Celtic, La Tène settlements were discovered near the Lindenhof, a morainic hill dominating the SE - NW waterway constituted by Lake Zurich and the river Limmat. In Roman times, during the conquest of the alpine region in 15 BC, the Romans built a castellum on the Lindenhof. Later here was erected Turicum (a toponym of clear Celtic origin), a tax-collecting point for goods trafficked on the Limmat, which constituted part of the border between Gallia Belgica (from AD 90 Germania Superior) and Raetia: this customs point developed later into a vicus. After Emperor Constantine\\'s reforms in AD 318, the border between Gaul and Italy (two of the four praetorian prefectures of the Roman Empire) was located east of Turicum, crossing the river Linth between Lake Walen and Lake Zürich, where a castle and garrison looked over Turicum\\'s safety. The earliest written record of the town dates from the 2nd century, with a tombstone referring to it as to the Statio Turicensis Quadragesima Galliarum (\"Zürich post for collecting the 2.5% value tax of the Galliae\"), discovered at the Lindenhof.In the 5th century, the Germanic Alemanni tribe settled in the Swiss Plateau. The Roman castle remained standing until the 7th century. A Carolingian castle, built on the site of the Roman castle by the grandson of Charlemagne, Louis the German, is mentioned in 835 (in castro Turicino iuxta fluvium Lindemaci). Louis also founded the Fraumünster abbey in 853 for his daughter Hildegard. He endowed the Benedictine convent with the lands of Zürich, Uri, and the Albis forest, and granted the convent immunity, placing it under his direct authority. In 1045, King Henry III granted the convent the right to hold markets, collect tolls, and mint coins, and thus effectively made the abbess the ruler of the city.Zürich gained Imperial immediacy (Reichsunmittelbar, becoming an Imperial free city) in 1218 with the extinction of the main line of the Zähringer family and attained a status comparable to statehood. During the 1230s, a city wall was built, enclosing 38 hectares, when the earliest stone houses on the Rennweg were built as well. The Carolingian castle was used as a quarry, as it had started to fall into ruin.Emperor Frederick II promoted the abbess of the Fraumünster to the rank of a duchess in 1234. The abbess nominated the mayor, and she frequently delegated the minting of coins to citizens of the city. The political power of the convent slowly waned in the 14th century, beginning with the establishment of the Zunftordnung (guild laws) in 1336 by Rudolf Brun, who also became the first independent mayor, i.e. not nominated by the abbess.\\nAn important event in the early 14th century was the completion of the Manesse Codex, a key source of medieval German poetry. The famous illuminated manuscript – described as \"the most beautifully illumined German manuscript in centuries;\" – was commissioned by the Manesse family of Zürich, copied and illustrated in the city at some time between 1304 and 1340. Producing such a work was a highly expensive prestige project, requiring several years work by highly skilled scribes and miniature painters, and it clearly testifies to the increasing wealth and pride of Zürich citizens in this period. The work contains 6 songs by Süsskind von Trimberg, who may have been a Jew, since the work itself contains reflections on medieval Jewish life, though little is known about him.The first mention of Jews in Zürich was in 1273. Sources show that there was a synagogue in Zürich in the 13th century, implying the existence of a Jewish community. With the rise of the Black Death in 1349, Zürich, like most other Swiss cities, responded by persecuting and burning the local Jews, marking the end of the first Jewish community there. The second Jewish community of Zürich, formed towards the end of the 14th century, was short-lived, and Jews were expulsed and banned from the city from 1423 until the 19th century.\\n\\n\\n==== Archaeological findings ====\\nA woman who died in about 200 BC was found buried in a carved tree trunk during a construction project at the Kern school complex in March 2017 in Aussersihl. Archaeologists revealed that she was approximately 40 years old when she died and likely carried out little physical labor when she was alive. A sheepskin coat, a belt chain, a fancy wool dress, a scarf and a pendant made of glass and amber beads were also discovered with the woman.\\n\\n\\n=== Old Swiss Confederacy ===\\nOn 1 May 1351, the citizens of Zürich had to swear allegiance before representatives of the cantons of Lucerne, Schwyz, Uri and Unterwalden, the other members of the Swiss Confederacy. Thus, Zürich became the fifth member of the Confederacy, which was at that time a loose confederation of de facto independent states. Zürich was the presiding canton of the Diet from 1468 to 1519. This authority was the executive council and lawmaking body of the confederacy, from the Middle Ages until the establishment of the Swiss federal state in 1848. Zürich was temporarily expelled from the confederacy in 1440 due to a war with the other member states over the territory of Toggenburg (the Old Zürich War). Neither side had attained significant victory when peace was agreed upon in 1446, and Zürich was readmitted to the confederation in 1450.\\nZwingli started the Swiss Reformation at the time when he was the main preacher in the 1520s, at the Grossmünster. He lived there from 1484 until his death in 1531. The Zürich Bible, based on that of Zwingli, was issued in 1531. The Reformation resulted in major changes in state matters and civil life in Zürich, spreading also to a number of other cantons. Several cantons remained Catholic and became the basis of serious conflicts that eventually led to the outbreak of the Wars of Kappel.\\nDuring the 16th and 17th centuries, the Council of Zürich adopted an isolationist attitude, resulting in a second ring of imposing fortifications built in 1624. The Thirty Years\\' War which raged across Europe motivated the city to build these walls. The fortifications required a lot of resources, which were taken from subject territories without reaching any agreement. The following revolts were crushed brutally. In 1648, Zürich proclaimed itself a republic, shedding its former status of a free imperial city. In this time the political system of Zürich was an oligarchy (Patriziat): the dominant families of the city were the following ones: Bonstetten, Brun, Bürkli, Escher vom Glas, Escher vom Luchs, Hirzel, Jori (or von Jori), Kilchsperger, Landenberg, Manesse, Meiss, Meyer von Knonau, Mülner, von Orelli.\\n\\nThe Helvetic Revolution of 1798 saw the fall of the Ancien Régime. Zürich lost control of the land and its economic privileges, and the city and the canton separated their possessions between 1803 and 1805. In 1839, the city had to yield to the demands of its urban subjects, following the Züriputsch of 6 September. Most of the ramparts built in the 17th century were torn down, without ever having been besieged, to allay rural concerns over the city\\'s hegemony. The Treaty of Zürich between Austria, France, and Sardinia was signed in 1859.\\n\\n\\n=== Modern history ===\\nZürich was the Federal capital for 1839–40, and consequently, the victory of the Conservative party there in 1839 caused a great stir throughout Switzerland. But when in 1845 the Radicals regained power at Zürich, which was again the Federal capital for 1845–46, Zürich took the lead in opposing the Sonderbund cantons. Following the Sonderbund war and the formation of the Swiss Federal State, Zürich voted in favour of the Federal constitutions of 1848 and of 1874. The enormous immigration from the country districts into the town from the 1830s onwards created an industrial class which, though \"settled\" in the town, did not possess the privileges of burghership, and consequently had no share in the municipal government. First of all in 1860 the town schools, hitherto open to \"settlers\" only on paying high fees, were made accessible to all, next in 1875 ten years\\' residence ipso facto conferred the right of burghership, and in 1893 the eleven outlying districts were incorporated within the town proper.\\nWhen Jews also began to settle in Zürich following their equality in 1862, the Israelitische Cultusgemeinde Zürich was founded.\\nExtensive developments took place during the 19th century. From 1847, the Spanisch-Brötli-Bahn, the first railway on Swiss territory, connected Zürich with Baden, putting the Zürich Hauptbahnhof at the origin of the Swiss rail network. The present building of the Hauptbahnhof (the main railway station) dates to 1871. Zürich\\'s Bahnhofstrasse (Station Street) was laid out in 1867, and the Zürich Stock Exchange was founded in 1877. Industrialisation led to migration into the cities and to rapid population growth, particularly in the suburbs of Zürich.\\nThe Quaianlagen are an important milestone in the development of the modern city of Zürich, as the construction of the new lake front transformed Zürich from a small medieval town on the rivers Limmat and Sihl to an attractive modern city on the Zürichsee shore, under the guidance of the city engineer Arnold Bürkli.In 1893, the twelve outlying districts were incorporated into Zürich, including Aussersihl, the workman\\'s quarter on the left bank of the Sihl, and additional land was reclaimed from Lake Zürich.In 1934, eight additional districts in the north and west of Zürich were incorporated.\\nZürich was accidentally bombed during World War II. As persecuted Jews sought refuge in Switzerland, the SIG (Israelite Community of Switzerland) raised financial resources. The central committee for refugee aid, created in 1933, was located in Zürich.\\nThe canton of Zürich did not recognise the Jewish religious communities as legal entities (and therefore as equal to national churches) until 2005.\\n\\n\\n=== Coat of arms ===\\nThe blue and white coat of arms of Zürich is attested from 1389 and was derived from banners with blue and white stripes in use since 1315. The first certain testimony of banners with the same design is from 1434. The coat of arms is flanked by two lions. The red Schwenkel on top of the banner had varying interpretations: For the people of Zürich, it was a mark of honour, granted by Rudolph I. Zürich\\'s neighbours mocked it as a sign of shame, commemorating the loss of the banner at Winterthur in 1292. Today, the Canton of Zürich uses the same coat of arms as the city.\\n\\n\\n== Politics ==\\n\\n\\n=== City districts ===\\n\\nThe previous boundaries of the city of Zürich (before 1893) were more or less synonymous with the location of the old town. Two large expansions of the city limits occurred in 1893 and in 1934 when the city of Zürich merged with many surrounding municipalities, that had been growing increasingly together since the 19th century. Today, the city is divided into twelve districts (known as Kreis in German), numbered 1 to 12, each one of which contains between one and four neighborhoods:\\n\\nKreis 1, known as Altstadt, contains the old town, both to the east and west of the start of the Limmat. District 1 contains the neighbourhoods of Hochschulen, Rathaus, Lindenhof, and City.\\nKreis 2 lies along the west side of Lake Zürich, and contains the neighbourhoods of Enge, Wollishofen and Leimbach.\\nKreis 3, known as Wiedikon is between the Sihl and the Uetliberg, and contains the neighbourhoods of Alt-Wiedikon, Sihlfeld and Friesenberg.\\nKreis 4, known as Aussersihl lies between the Sihl and the train tracks leaving Zürich Hauptbahnhof, and contains the neighbourhoods of Werd, Langstrasse, and Hard.\\nKreis 5, known as Industriequartier, is between the Limmat and the train tracks leaving Zürich Hauptbahnhof, it contains the former industrial area of Zürich which has undergone large-scale rezoning to create upscale modern housing, retail, and commercial real estate. It contains the neighborhoods of Gewerbeschule and Escher-Wyss.\\nKreis 6 is on the edge of the Zürichberg, a hill overlooking the eastern part of the city. District 6 contains the neighbourhoods of Oberstrass and Unterstrass.\\nKreis 7 is on the edge of the Adlisberg hill as well as the Zürichberg, on the eastern side of the city. District 7 contains the neighbourhoods of Fluntern, Hottingen, and Hirslanden. These neighbourhoods are home to Zürich\\'s wealthiest and more prominent residents. The neighbourhood Witikon also belongs to district 7.\\nKreis 8, officially called Riesbach, but colloquially known as Seefeld, lies on the eastern side of Lake Zürich. District 8 consists of the neighbourhoods of Seefeld, Mühlebach, and Weinegg.\\nKreis 9 is between the Limmat to the north and the Uetliberg to the south. It contains the neighbourhoods Altstetten and Albisrieden.\\nKreis 10 is to the east of the Limmat and to the south of the Hönggerberg and Käferberg hills. District 10 contains the neighbourhoods of Höngg and Wipkingen.\\nKreis 11 is in the area north of the Hönggerberg and Käferberg and between the Glatt Valley and the Katzensee (Cats Lake). It contains the neighbourhoods of Affoltern, Oerlikon and Seebach.\\nKreis 12, known as Schwamendingen, is located in the Glattal (Glatt valley) on the northern side of the Zürichberg. District 12 contains the neighbourhoods of Saatlen, Schwamendigen Mitte, and Hirzenbach.Most of the district boundaries are fairly similar to the original boundaries of the previously existing municipalities before they were incorporated into the city of Zürich.\\n\\n\\n=== Government ===\\n\\nThe City Council (Stadtrat) constitutes the executive government of the City of Zürich and operates as a collegiate authority. It is composed of nine councilors, each presiding over a department. Departmental tasks, coordination measures and implementation of laws decreed by the Municipal Council are carried out by the City Council. The regular election of the City Council by any inhabitant valid to vote is held every four years. The mayor (German: Stadtpräsident(in)) is elected as such by a public election by a system of Majorz while the heads of the other departments are assigned by the collegiate. Any resident of Zurich allowed to vote can be elected as a member of the City Council. In the mandate period 2022–2026 (Legislatur) the City Council is presided by mayor Corine Mauch. The executive body holds its meetings in the City Hall (German: Stadthaus), on the left bank of the Limmat. The building was built in 1883 in Renaissance style.\\nAs of May 2023, the Zürich City Council is made up of four representatives of the SP (Social Democratic Party, one of whom is the mayor), two members each of the Green Party and the FDP (Free Democratic Party), and one member of GLP (Green Liberal Party), giving the left parties a combined six out of nine seats. The last regular election was held on 13 February 2022.\\n\\nClaudia Cuche-Curti is Town Chronicler (Stadtschreiberin) since 2012, and Andrea Töndury is Legal Counsel (Rechtskonsulent) since 2020 for the City Council.\\n\\n\\n=== Parliament ===\\n\\nThe Municipal Council (Gemeinderat) holds the legislative power. It is made up of 125 members (Gemeindrat / Gemeinderätin), with elections held every four years. The Municipal Council decrees regulations and by-laws that are executed by the City Council and the administration. The sessions of the Municipal Council are held in public. Unlike those of the City Council, the members of the Municipal Council are not politicians by profession but are paid a fee based on their attendance. Any resident of Zürich allowed to vote can be elected as a member of the Municipal Council. The legislative body holds its meetings in the town hall (Rathaus), on the right bank of the Limmat opposite to the City Hall (Stadthaus).The last election of the Municipal Council was held on 4 March 2018 for the mandate period of 2022–2026. As of February 2023, the Municipal Council consist of 37 members of the Social Democratic Party (SP), 23 The Liberals (FDP), 18 Green Party (GPS), 16 Green Liberal Party (GLP), 14 members of the Swiss People\\'s Party (SVP), 8 Alternative List (AL), and three members of the Evangelical People\\'s Party (EVP), giving the left parties an  absolute majority of total 63 seats with only one seat.\\n\\n\\n=== Elections ===\\n\\n\\n==== National Council ====\\nIn the 2019 federal election for the Swiss National Council the most popular party was the SPS which received 25.6% (-6) of the vote. The next four most popular parties were the GPS (20.9%, +9.7), GLP (15.7%, +6.4), SVP (13.7%, -4.3), the FDP (11.8%, -2.2), the AL (4%, new), and the CVP (3.5%, -0.2). In the federal election, a total of 110,760 voters were cast, and the voter turnout was 47.7%.In the 2015 federal election for the Swiss National Council the most popular party was the SPS which received 31.6% of the vote. The next four most popular parties were the SVP (18%), the FDP (14%), the GPS (10.7%), the GLP (9.2%). In the federal election, a total of 114,377 voters were cast, and the voter turnout was 46.2%.\\n\\n\\n=== International relations ===\\n\\n\\n==== Twin towns and sister cities ====\\nZürich is partnered with two sister cities: Kunming and San Francisco.\\n\\n\\n== Geography ==\\nZürich is situated at 408 m (1,339 ft) above sea level on the lower (northern) end of Lake Zürich (Zürichsee) about 30 km (19 mi) north of the Alps, nestling between the wooded hills on the west and east side. The Old Town stretches on both sides of the Limmat, which flows from the lake, running northwards at first and then gradually turning into a curve to the west. The geographic (and historic) centre of the city is the Lindenhof, a small natural hill on the west bank of the Limmat, about 700 m (2,300 ft) north of where the river issues from Lake Zürich. Today the incorporated city stretches somewhat beyond the natural confines of the hills and includes some districts to the northeast in the Glatt Valley (Glattal) and to the north in the Limmat Valley (Limmattal). The boundaries of the older city are easy to recognize by the Schanzengraben canal. This artificial watercourse has been used for the construction of the third fortress in the 17th and 18th centuries.\\n\\n\\n=== Topography ===\\nThe municipality of Zürich has an area of 91.88 km2 (35.48 sq mi), of which 4.1 km2 (1.6 sq mi) is made up of Lake Zürich. The area includes a section of the northern Swiss Plateau. The banks of the Limmat constitute the densest part of the city. The river is oriented in the southeast–northwest direction, with the flat valley floor having a width of two to three km (1.2 to 1.9 mi). The partially channeled and straightened Limmat does not flow in the central part of the valley, but always along its right (northeastern) side. The Sihl meets with the Limmat at the end of Platzspitz, which borders the Swiss National Museum. The Limmat reaches the lowest point of the municipality in Oberengstringen at 392 m (1,286 ft) above sea level.\\nOn its west side, the Limmat valley is flanked by the wooded heights of the Albis chain, which runs along the western border. The Uetliberg is, with 869 m (2,851 ft) above sea level, the highest elevation of the surrounding area. Its summit can be reached easily by the Uetlibergbahn. From the platform of the observation tower on the summit, an impressive panorama of the city, the lake, and the Alps can be seen.The northeast side of the Limmat valley includes a range of hills, which marks the watershed between the Limmat and the Glatt. From the northwest to the southeast, the height of the mostly wooded knolls generally increases: the Gubrist (615 m or 2,018 ft), the Hönggerberg (541 m or 1,775 ft), the Käferberg (571 m or 1,873 ft), the Zürichberg (676 m or 2,218 ft), the Adlisberg (701 m or 2,300 ft) and the Öschbrig (696 m or 2,283 ft). Between the Käferberg and the Zürichberg is located the saddle of the Milchbuck (about 470 m or 1,540 ft), an important passage from the Limmat valley to the Glatt valley.The northernmost part of the municipality extends to the plain of the Glatt valley and to the saddle which makes the connection between the Glattal and Furttal. Also, a part of the Katzensee (nature reserve) and the Büsisee, both of which are drained by the Katzenbach to Glatt, belong to the city.\\n\\n\\n=== Climate ===\\nZürich has an oceanic climate (Köppen: Cfb), with warm summers and four distinct seasons. Decisive for the climate of Zürich are both the winds from westerly directions, which often result in precipitation and, on the other hand, the Bise (east or north-east wind), which is usually associated with high-pressure situations, but cooler weather phases with temperatures lower than the average. The Foehn wind, which plays an important role in the northern alpine valleys, also has some impact on Zürich.The annual mean temperature at the measuring station of the Federal Office of Meteorology and Climatology in Zürich-Fluntern (556 m[1,824 ft] above sea level on the slope of the Zürichberg, 150 m[490 ft] above the level of the city centre) is 9.3 °C (48.7 °F). The lowest monthly mean of daily minimum temperature are measured in January with −2.0 °C (28.4 °F) and the highest monthly mean of daily maximum temperature are measured in July with 24.0 °C (75.2 °F). On average there are 74.9 days in which the minimum temperature is below 0 °C (32 °F) (so-called frost days), and 23.7 days in which the maximum temperature is below 0 °C (32 °F) (so-called ice days). There are on average 30 so-called summer days (maximum temperature equal to or above 25 °C [77 °F]) throughout the year, while so-called heat days (with maximum temperature equal to or above 30 °C [86 °F]) are 5.8 days.The average high temperature in July is 24.0 °C (75.2 °F) and average low temperature is 14 °C (57.2 °F). The highest recorded temperature in Zürich was 37.7 °C (100 °F), recorded in July 1947, and typically the warmest day reaches an average of 32.2 °C (90.0 °F).Spring and autumn are generally cool to mild, but sometimes with large differences between warm and cold days even during the same year. The highest temperature of the month March in 2014 was on the 20th at 20.6 °C (69.1 °F) during a sunny afternoon and the lowest temperature was on the 25th at −0.4 °C (31.3 °F) during the night/early morning. Record low of average daily temperatures in March since 1864 is −12 °C (10 °F) and record high of average daily temperatures in March is 16 °C (61 °F). Record low of average daily temperatures in October is −16 °C (3 °F) and record high of average daily temperatures in October is 20 °C (68 °F).Zürich has an average of 1,544 hours of sunshine per year and shines on 38% of its potential time throughout the year. During the months April until September the sun shines between 150 and 215 hours per month. The 1,134 mm (44.6 in) rainfall spread on 133.9 days with precipitation throughout the year. Roughly about every third day you will encounter at least some precipitation, which is very much a Swiss average. During the warmer half of the year and especially during the three summer months, the strength of rainfall is higher than those measured in winter, but the days with precipitation stays about the same throughout the year (in average 9.9–12.7 days per month). October has the lowest number (9.9) of days with some precipitation. There is an average of 59.5 so-called bright days (number of days with sunshine duration greater than 80%) through the year, the most in July and August (7.4, 7.7 days), and the least in January and December (2.7, 1.8 days). The average number of days with sunshine duration less than 20%, so-called cloudy days, is 158.4 days, while the most cloudy days are in November (17.8 days), December (21.7 days), and January with 19 days.\\n\\n\\n=== Climate protection ===\\nIn November 2008 the people of Zürich voted in a public referendum to write into law the quantifiable and fixed deadline of one tonne of CO2 per person per annum by 2050. This forces any decision of the executive to support this goal, even if the costs are higher in all dimensions. Some examples are the new disinfection section of the public city hospital in Triemli (Minergie-P quality – passive house), the continued optimisation and creation of public transportation, enlargement of the bicycle-only network, research and projects for renewable energy and enclosure of speed-ways.\\n\\n\\n=== Urban area ===\\nThe areas surrounding the Limmat are almost completely developed with residential, industrial, and commercial zones. The sunny and desirable residential areas in the hills overlooking Zürich, Waidberg and Zürichberg, and the bottom part of the slope on the western side of the valley on the Uetliberg, are also densely built.\\nThe \"green lungs\" of the city include the vast forest areas of Adlisberg, Zürichberg, Käferberg, Hönggerberg and Uetliberg. Major parks are also located along the lakeshore (Zürichhorn and Enge), while smaller parks dot the city. Larger contiguous agricultural lands are located near Affoltern and Seebach. Of the total area of the municipality of Zürich (in 1996, without the lake), 45.4% is residential, industrial and commercial, 15.5% is transportation infrastructure, 26.5% is forest, 11%: is agriculture and 1.2% is water.\\n\\n\\n== Transport ==\\n\\n\\n=== Public transport ===\\nPublic transport is extremely popular in Zürich, and its inhabitants use public transport in large numbers. About 70% of the visitors to the city use the tram or bus, and about half of the journeys within the municipality take place on public transport. The ZVV network of public transport contains at least four means of mass-transit: any train that stops within the network\\'s borders, in particular the S-Bahn (local trains), Zürich trams, and buses (both diesel and electric, also called trolley buses) and boats on the lake and river. In addition, the public transport network includes funicular railways and even the Luftseilbahn Adliswil-Felsenegg (LAF), a cable car between Adliswil and Felsenegg. Tickets purchased for a trip are valid on all means of public transportation (train, tram, bus, boat). The Zürichsee-Schifffahrtsgesellschaft (commonly abbreviated to ZSG) operates passenger vessels on the Limmat and the Lake Zürich, connecting surrounding towns between Zürich and Rapperswil.\\n\\nZürich is a mixed hub for railways, roads, and air traffic. Zürich Hauptbahnhof (Zürich HB) is the largest and busiest station in Switzerland and is an important railway hub in Europe. As of early 2020, Zürich HB served around 470,000 passengers and nearly 3,000 trains every day. Among the 16 railway stations (and 10 additional train stops) within Zürich\\'s city borders, there are five other major passenger railway stations. Three of them belong to the ten most frequented railway stations in Switzerland: Stadelhofen, Oerlikon, Altstetten, Hardbrücke, and Enge. The railway network is mainly operated by the Swiss Federal Railways (SBB CFF FFS), but Zürich is also served by major EuroCity trains from the neighbouring countries and is a destination for both French/Swiss (TGV Lyria) and German (ICE) high-speed trains, as well as by Austrian RailJet.\\n\\n\\n=== Zurich Airport ===\\nZurich Airport is located less than 10 km (6.2 mi) northeast of the city in Kloten. Zurich Airport has its own railway station, which is located underground. It is directly connected to Zürich and most of the major Swiss cities. Zurich Airport is served by more than 60 passenger airlines from around the world. It is also served by one cargo airline and is a hub for Swiss International Air Lines. There is also an airfield in Dübendorf.\\n\\n\\n=== Road traffic ===\\nThe A1, A3 and A4 motorways pass close to Zürich. The A1 heads west towards Bern and Geneva and eastwards towards St. Gallen; the A4 leads northwards to Schaffhausen and southwards to Altdorf connecting with the A2 towards Chiasso; and the A3 heads northwest towards Basel and southeast along Lake Zürich and Lake Walen towards Sargans.\\n\\n\\n=== Bicycle transport ===\\nIn 2012, the city council launched a program to improve the city\\'s attractiveness for bicycle traffic. The so-called \"Masterplan Velo\" is part of the superordinate framework Stadtverkehr 2025 which shapes the future of the different means of transport. Research revealed that infrastructure and the social environment are essential factors in improving a city\\'s appeal to bicycle traffic. Three main goals are specified: First, the modal share of bicycle traffic should be enhanced to twice the value of 2011 by 2015. Second, cyclists\\' safety should be improved to lower the overall accident risk. Third, cycling should be established as an everyday means of transport with a special focus on children and young people.\\nIn terms of infrastructure, the city aims to build up a network of distinctive bicycle routes in order to achieve these objectives. At a final stage, the network will consist of main routes (Hauptrouten) for everyday use and comfort routes (Komfortrouten), with the latter focusing on leisure cycling. Additional measures such as special Velostationen providing bike-related services are expected to help to further improve the quality. One of the key projects of the system is a tunnel beneath the tracks of the main railway station planned to combine a main connection with staffed possibilities where commuters can leave their bikes throughout the day. Apart from infrastructural measures, further approaches are planned in the fields of communication, education and administration.\\nHowever, these efforts cause critique, mainly due to postponing. The institution of the bike tunnel at the main railway station, originally planned for 2016, was delayed to at least 2019. Pro Velo, a nationwide interest group, has publicly questioned whether the masterplan already failed. The critique aims at badly governed traffic management at construction sites, missing possibilities to park bikes in the city as well as rather diffident ambitions. In response, the responsible city department points to the big investments made every year and mentions ongoing discussions that would finally lead to even better results.\\n\\n\\n== Demographics ==\\n\\n\\n=== Population ===\\nThere are 421,878 people living in Zürich (as of 31 December 2020), making it Switzerland\\'s largest city. Of registered inhabitants (in 2016), 32% (133,473) do not hold Swiss citizenship. Of these, German citizens make up the largest group with 8% (33,548), followed by Italians 3.5% (14,543). As of 2011, the population of the city, including suburbs, totaled 1.17 million people. The entire metropolitan area (including the cities of Winterthur, Baden, Brugg, Schaffhausen, Frauenfeld, Uster / Wetzikon, Rapperswil-Jona, and Zug) had a population of around 1.82 million people.\\n\\n\\n=== Languages ===\\nThe official formal language used by governmental institutions, print, news, schools and universities, courts, theatres and in any kind of written form is the Swiss variety of Standard German, while the spoken language is Zürich German (Züritüütsch), one of the several more or less distinguishable, but mutually intelligible Swiss German dialects of Switzerland with roots in the medieval Alemannic German dialect groups. However, because of Zürich\\'s national importance, and therefore its existing high fluctuation, its inhabitants and commuters speak all kinds of Swiss German dialects. As of the December 2010 census, 69.3% of the population speaks diglossic Swiss German/Swiss Standard German as their mother-tongue at home. Some 22.7% of inhabitants speak Standard German in their family environment (\"at home\"). Dramatically increasing, according to the last census in 2000, 8.8% now speak English. Italian follows behind at 7.1% of the population, then French at 4.5%. Other languages spoken here include: Bosnian (4.1%), Spanish (3.9%), Portuguese (3.1%), and Albanian (2.3%). (Multiple choices were possible.) Thus, 20% of the population speak two or more languages at home.\\n\\n\\n=== Religion ===\\n\\nBefore the Protestant Reformation reached Zürich, it was de jure and de facto Roman Catholic.\\nThe Protestant Reformation, led by Huldrych Zwingli, made Zürich both a theological centre and a stronghold of Protestantism in Switzerland. Another Swiss city with a comparable status was Geneva, the so-called Protestant Rome, where John Calvin and his Protestant Reformers operated, as well as Basel. Zürich attracted other influential Protestant Reformers like Heinrich Bullinger. Zwingli translated the Bible (Zürich Bible) into the local variety of German, and introduced the Reformation by winning support of the magistrates, the princess abbess Katharina von Zimmern, and the largely peasant population of the Canton of Zürich. The canton unanimously adopted the Reformed tradition, as represented by Zwingli. Religious wars between Catholics and Protestants tormented the Swiss Confederacy. Zwingli died for political and religious reasons by defending the Canton of Zürich in the Battle of Kappel. Bullinger took over his role as the city\\'s spiritual leader.\\nIn 1970, about 53% of the population were Swiss Reformed, while almost 40% were Roman Catholic. Since then, both large Swiss churches, the Roman Catholic Church and Swiss Reformed Church, have been constantly losing members, though for the Catholic Church, the decrease started 20 years later, in around 1990. Nevertheless, for the last twenty years, both confessions have been reduced by 10%, to the current figures (census 2010): 30% Roman Catholic, and 26% Swiss Reformed (organized in Evangelical Reformed Church of the Canton of Zürich). In 1970, only 2% of Zürich\\'s inhabitants claimed to be not affiliated with any religious confession. In accordance with the loss by the large Swiss churches, the number of people declaring themselves as non-affiliated rose to 17% in the year 2000. In the last ten years, this figure rose to more than 25%. For the group of people, being between 24 and 44 years old, this is as high as one in every third person.5% of Zürich\\'s inhabitants are Muslims, a slight decrease of 1%, compared to the year 2000. The Mahmood Mosque Zürich, situated in Forchstrasse, is the first mosque built in Switzerland.The population of Jewish ethnicity and religion has been more or less constant since 1970, at about 1%. The Synagoge Zürich Löwenstrasse is the oldest and largest synagogue of Zürich.\\n\\n\\n=== Social ===\\nThe level of unemployment in Zürich was 3.2% in July 2012. In 2008, the average monthly income was about CHF 7000 before any deductions for social insurances and taxes. In 2010, there were 12,994 cases (on average per month) of direct or indirect welfare payments from the state.\\n\\n\\n=== Quality of living ===\\nZürich often performs very well in international rankings, some of which are mentioned below:\\n\\nMonocle\\'s 2012 \"Quality of Life Survey\" ranked Zürich first on a list of the top 25 cities in the world \"to make a base within\". In 2019 Zürich was ranked among the ten most liveable cities in the world by Mercer together with Geneva and Basel.\\nIn fDi Magazine\\'s \"Global Cities of the Future 2021/22\" report, Zürich placed 16th in the overall rankings (all categories). In the category \"Mid-sized and small cities\", Zürich was 2nd overall, behind Wroclaw, having also placed 2nd in the subcategory \"Human capital and lifestyle\" and 3rd under \"Business friendliness\". In the category \"FDI strategy, overall\" (relating to foreign direct investment), Zürich ranked 9th, behind such cities as New York, Montreal (1st and 2nd) and Dubai (at number 8).\\n\\n\\n== Main sites ==\\n\\nMost of Zürich\\'s sites are located within the area on either side of the Limmat, between the Main railway station and Lake Zürich. The churches and houses of the old town are clustered here, as are the most expensive shops along the famous Bahnhofstrasse. The Lindenhof in the old town is the historical site of the Roman castle, and the later Carolingian Imperial Palace.\\n\\n\\n=== Churches ===\\nGrossmünster (Great Minster) According to legend, Charlemagne discovered the graves of the city\\'s martyrs Felix and Regula and had built the first church as a monastery; start of current building around 1100; in the first half of the 16th century, the Great Minster was the starting point of the Swiss-German Reformation led by Huldrych Zwingli and Heinrich Bullinger; declared by Charlemagne imperial church; romanesque crypt, romanesque capitals in the church and cloister; choir windows by Augusto Giacometti (1932) and Sigmar Polke (2009), bronze doors by Otto Münch (1935 and 1950).\\nFraumünster (Women\\'s Minster) Church of a former abbey for aristocratical women from southern Germany which was founded in 853 by Louis the German for his daughter Hildegard; first church built before 874; the romanesque choir dates from 1250 to 1270; the church enjoyed the patronage of kings and had the right of coinage from Zürich to the 13th century; after the Reformation, church and convent passed into the possession of the city; the most important jewelry – in addition to the largest organ in the canton with its 5,793 pipes and 92 stops – are color windows: the window in the north transept of Augusto Giacometti (1945), the five-part cycle in the choir (1970) and the rosette in the southern transept (1978) are by Marc Chagall; also the church of Zürich\\'s largest choir with 100 and more singers.\\nSt. Peter romanesque-gothic-baroque church built on remains of former churches from before the 9th century; with the largest church clock face in Europe built 1538; baptismal font of 1598, baroque stucco; individual stalls from the 15th century from city repealed monasteries with rich carvings and armrests; Kanzellettner (increased barrier between the nave and choir with built-pulpit) of 1705 pulpit sounding board about 1790; rich Akanthus embellishment with Bible verse above the pulpit; 1971 new crystal chandelier modeled according 1710 design; organ in 1974 with 53 stops; Bells: five from 1880, the largest, A minor, without clapper weighs about 6,000 kg (13,228 lb); fire guard in the tower to the Middle Ages to 1911.\\nPredigerkirche is one of the four main churches of the old town, first built in 1231 AD as a Romanesque church of the then Dominican Predigerkloster nearby the Neumarkt. It was converted in the first half of the 14th century, and the choir rebuilt between 1308 and 1350. Due to its construction and for that time unusual high bell tower, it was regarded as the most high Gothic edifice in Zürich.\\n\\n\\n=== Museums ===\\nZürich Museum of Art – The Museum of Art, also known as Kunsthaus Zürich, is one of the significant art museums of Europe. It holds one of the largest collections in Classic Modern art in the world (Munch, Picasso, Braque, Giacometti, etc.). The museum also features a large library collection of photographs.\\nSwiss National Museum – The National Museum (German: Landesmuseum) displays many objects that illustrate the cultural and historical background of Switzerland. It also contains many ancient artifacts, including stained glass, costumes, painted furniture and weapons. The museum is located in the Platzspitz park opposite to the Hauptbahnhof.\\nCentre Le Corbusier – Located on the shore of the Lake Zürich nearby Zürichhorn, the Centre Le Corbusier (also named: Heidi Weber Museum), is an art museum dedicated to the work of the Swiss architect Le Corbusier, inside the last house he designed.\\nRietberg Museum – The Rietberg Museum, situated in Gablerstrasse, is one of the great repositories of art and culture in Zürich. The museum also displays exhibits gathered from various corners of the world: bronze artifacts from Tibet, ceramics and jade, Indian sculpture, Chinese grave decorations, masks by African tribes, etc.\\nMuseum of Design – The Museum of Design is a museum for industrial design, visual communication, architecture and craft. It is part of the Department of Cultural Analysis of the Zürich University of the Arts.\\nHaus Konstruktiv – The Haus Konstruktiv is a museum with Swiss-wide and international recognition. The museum is about constructive, concrete and conceptual art and design. It testimonies to Zürich\\'s industrial architecture in the immediate vicinity of the Main Station.\\nUhrenmuseum Beyer – The Uhrenmuseum is located in the heart of the city. Documenting the history of timekeeping and timekeepers, the museum is home to a large collection of mechanical timepieces as well as a collection of primitive time keeping devices such as water clocks, sundials and hourglasses.\\nNo Show Museum – the No Show Museum is the first museum dedicated to nothing and its various manifestations throughout the history of art.\\nGuild houses – The Guild houses (German: Zunfthaus) are located along the Limmat (downstream from the Grossmünster): Meisen (also a porcelain and faience museum), Rüden, Haue, Saffran, Schneidern, Schmiden, Zimmerleuten, and some more.\\nTram Museum – The Tram Museum is located at Burgwies in Zürich\\'s eastern suburbs, and chronicles the history of Zürich\\'s iconic tram system with exhibits varying in date from 1897 to the present day.\\nNorth America Native Museum – The North American Native Museum specializes in the conservation, documentation and presentation of ethnographic objects and art of Native American, First Nation and Inuit cultures.\\nFIFA Museum - The museum exhibits memorabilities from the world of Association Football (Soccer), founded by the Féderation Internationale de Football Association\\n\\n\\n=== Parks and nature ===\\nZoological Garden – The zoological garden holds about 260 species of animals and houses about 2200 animals. One can come across separate enclosures of snow leopards, India lions, clouded leopards, Amur leopards, otters and pandas in the zoo.\\nBotanical Garden – The Botanical Garden houses about 15,000 species of plants and trees and contains as many as three million plants. In the garden, many rare plant species from south western part of Africa, as well as from New Caledonia can be found. The University of Zürich holds the ownership of the Botanical Garden.\\nChinese Garden – The Chinese Garden is a gift by Zürich\\'s Chinese partner town Kunming, as remiscence for Zürich\\'s technical and scientific assistance in the development of the Kunming city drinking water supply and drainage. The garden is an expression of one of the main themes of Chinese culture, the «Three Friends of Winter» – three plants that together brave the cold season – pine, bamboo, and plum.\\nUetliberg – Located to the west of the city at an altitude of 813 m (2,667 ft) above sea level, the Uetliberg is the highest hill and offers views over the city. The summit is easily accessible by train from Zürich main station.\\n\\n\\n=== Kunst und Bau (construction permit office) ===\\nIn 1922 Augusto Giacometti won the competition to paint the entrance hall of Amtshaus I, which the city promised to brighten up this gloomy room, which was once used as a cellar, and at the same time to alleviate the precarious economic situation of the local artists. Giacometti brought in the painters Jakob Gubler, Giuseppe Scartezzini and Franz Riklin for the execution of this fresco, which encompasses the ceiling and walls, thereby creating a unique color space that appears almost sacred in its luminosity.\\n\\n\\n=== Architecture ===\\nCompared to other cities, there are few tall buildings in Zürich. The municipal building regulations (Article 9) limit the construction of high-rise buildings to areas in the west and north of the city. In the industrial district, Altstetten and Oerlikon, buildings up to 80 m (260 ft) in height are allowed (high-rise area I). In the adjacent high-rise areas II and III the height is limited to 40 m (130 ft). Around the year 2000, regulations became more flexible and high-rise buildings were again planned and built. The people\\'s initiative \"40 m (130 ft) is enough,\" which would have reduced both the maximum height and the high-rise buildings area, was clearly rejected on 29 November 2009. At this time in Zürich about a dozen high-rise buildings were under construction or in planning, including the Prime Tower as the tallest skyscraper in Switzerland at the time of its construction. There are numerous examples of brutalist buildings throughout the city, including the Swissmill Tower which, at 118m, is the world\\'s tallest grain silo. \\n\\n\\n=== World heritage sites ===\\nThe prehistoric settlements at Enge Alpenquai and Grosser Hafner and Kleiner Hafner are part of the Prehistoric Pile dwellings around the Alps a UNESCO World Heritage Site.\\n\\n\\n== Economy ==\\n\\nIn a 2009 survey by CityMayors.com, Zürich was ranked 9th among the \"World\\'s 10 Most Powerful Cities\". In the 2017 Global Financial Centres Index, Zürich was ranked as having the 11th most competitive financial center in the world, and second most competitive in Europe after London. The Greater Zürich Area is Switzerland\\'s economic centre and home to many international companies. By far the most important sector in the economy of Zürich is the service industry, which employs nearly four-fifths of workers. Other important industries include light industry, machine and textile industries and tourism. Located in Zürich, the Swiss Stock Exchange was established in 1877 and is now the fourth most prominent stock exchange in the world. In addition, Zürich is the world\\'s largest gold trading centre.Ten of the country\\'s 50 largest companies have their head offices in Zürich, among them ABB, UBS, Credit Suisse, Swiss Re and Zürich Financial Services. Most Swiss banks have their headquarters in Zürich and there are numerous foreign banks in the Greater Zürich Area. \"Gnomes of Zurich\" is a disparaging term used for Swiss bankers  on account of their alleged secrecy and speculative dealing.\\n\\n\\n=== Contributory factors to economic strength ===\\nThe high quality of life has been cited as a reason for economic growth in Zürich. The consulting firm Mercer has for many years ranked Zürich as a city with the highest quality of life in the world. In particular, Zürich received high scores for work, housing, leisure, education and safety. Local planning authorities ensure clear separation between urban and recreational areas and there are many protected nature reserves. Zürich is also ranked the third most expensive city in the world, behind Hong Kong and Tokyo and ahead of Singapore.Zürich benefits from the high level of investment in education which is typical of Switzerland in general and provides skilled labour at all levels. The city is home to two major universities, thus enabling access to graduates and high technology research. Professional training incorporates a mix of practical work experience and academic study while, in general, emphasis is placed on obtaining a good level of general education and language ability. As a result, the city is home to many multilingual people and employees generally demonstrate a high degree of motivation and a low level of absenteeism. The employment laws are less restrictive as nearby Germany or France. Technology new start, FinTech and others in MedTech secure good seed and starter funding.Google Zurich is a main hub for its operations in Europe with about 5000 employees. In March 2023, workers at the center staged a solidarity movement in coordination with its IT workers\\' union Syndicom to reduce lay-offs and to oppose salary cuts. According to a spokesperson for the company, Zurich would remain a major employer despite the measures.\\n\\n\\n=== The Swiss stock exchange ===\\nThe Swiss stock exchange is called SIX Swiss Exchange, formerly known as SWX. The SIX Swiss Exchange is the head group of several different worldwide operative financial systems: Eurex, Eurex US, EXFEED, STOXX, and virt-x. The exchange turnover generated at the SWX was in 2007 of 1,780,499.5 million CHF; the number of transactions arrived in the same period at 35,339,296 and the Swiss Performance Index (SPI) arrived at a total market capitalization of 1,359,976.2 million CHF.\\n\\n\\n== Education and research ==\\nAbout 70,000 people study at the 20 universities, colleges and institutions of higher education in Zürich in 2019. Two of Switzerland\\'s most distinguished universities are located in the city: the Swiss Federal Institute of Technology (ETH Zurich), which is controlled by the federal government, and the University of Zurich, under direction of the canton of Zürich. Both universities were listed in the top 50 world universities rated in 2007, while the ETH has consistently remained in the top 10 universities worldwide since 2016.ETH was founded in 1854 by the Swiss Confederation and opened its doors in 1855 as a polytechnic institute. ETH achieved its reputation particularly in the fields of chemistry, mathematics and physics and there are 21 Nobel Laureates who are associated with the institution. ETH is usually ranked the top university in continental Europe. The institution consists of two campuses, the main building in the heart of the city and the new campus on the outskirts of the city.\\nThe University of Zurich was founded in 1833, although its beginnings date back to 1525 when the Swiss reformer Ulrich Zwingli founded a college of theology. Nowadays with its 24,000 students and 1,900 graduations each year, the University of Zürich is the largest in Switzerland and offers the widest range of subjects and courses at any Swiss higher education institution.\\nThe Pedagogical College, the Zurich University of Applied Sciences (ZHAW) and the Zurich University of the Arts (ZHdK) are another three top-class technical colleges which contribute to Zürich\\'s reputation as a knowledge and research pole by providing applied research and development. Zürich is also one of the co-location centres of the Knowledge and Innovation Community (Climate Change Mitigation and Adaptation) of the European Institute of Innovation and Technology.In addition to the university libraries, the city is also served by the Zentralbibliothek Zürich, a research and public library, and the Pestalozzi-Bibliothek Zürich, a public library with 14 locations.\\n\\n\\n=== State universities by size in canton of Zürich ===\\n\\n\\n== Media ==\\nMany large Swiss media conglomerates are headquartered in Zürich, such as tamedia, Ringier and the NZZ-Verlag.\\n\\n\\n=== Television and radio ===\\nThe headquarters of Switzerland\\'s national licence fee-funded German language television network (\"SF\") are located in the Leutschenbach neighborhood, to the north of the Oerlikon railway station. Regional commercial television station \"TeleZüri\" (Zürich Television) has its headquarters near Escher-Wyss Platz. The production facilities for other commercial stations \"Star TV\", \"u1\" TV and \"3+\" are located in Schlieren.\\nOne section of the Swiss German language licence fee-funded public radio station \"Schweizer Radio DRS\" is located in Zürich. There are commercial local radio stations broadcasting from Zürich, such as \"Radio 24\" on the Limmatstrasse, \"Energy Zürich\" in Seefeld on the Kreuzstrasse, Radio \"LoRa\" and \"Radio 1\". There are other radio stations that operate only during certain parts of the year, such as \"CSD Radio\" (May/June), \"Radio Streetparade\" (July/August) and \"rundfunk.fm\" (August/September).\\n\\n\\n=== Print media ===\\nThere are three large daily newspapers published in Zürich that are known across Switzerland. The Neue Zürcher Zeitung (NZZ), the Tages-Anzeiger and Blick, the largest Swiss tabloid. All three of those newspapers publish Sunday editions. These are the NZZ am Sonntag, SonntagsZeitung and SonntagsBlick. Besides the three main daily newspapers, there is a free daily commuter newspaper which is widely distributed: 20 Minuten (20 minutes), published weekdays in the mornings.\\nA number of magazines from major publishers are based in Zürich. Some examples are Bilanz, Die Weltwoche, Annabelle, Schweizer Familie and Schweizer Illustrierte.\\n\\n\\n== Culture ==\\n\\nIn addition to high-quality museums and galleries, Zürich has high-calibre chamber and symphony orchestras and several important theatres.The Zurich Film Festival is an international film festival, lasting 11 days and featuring popular international productions.\\nOne of the largest and most popular annual events in Zürich is the Street Parade, which is also one of the largest techno and dance music festivals in the world. Proceeding along the side of Lake Zürich, it is normally held on the second Saturday in August. The first edition was held in 1992 with about 1,000 participants. By 2001 the event attracted one million participants. The Zürifäscht, on the other hand, is a triennial public festival. It features music, fireworks set to music, and other attractions throughout the old town. It is the largest public festival in Switzerland and attracts up to 2 million visitors.The Kunst Zürich is an international contemporary art fair with an annual guest city; it combines most recent arts with the works of well-established artists. Another annual public art exhibit is the city campaign, sponsored by the City Vereinigung (the local equivalent of a chamber of commerce) with the cooperation of the city government. It consists of decorated sculptures distributed over the city centre, in public places. Past themes have included lions (1986), cows (1998), benches (2003), teddy bears (2005), and huge flower pots (2009). From this originated the concept of the CowParade that has been featured in other major world cities.\\nZürich has been the home to several art movements. The Dada movement was founded in 1916 at the Cabaret Voltaire. Artists like Max Bill, Marcel Breuer, Camille Graeser or Richard Paul Lohse had their ateliers in Zürich, which became even more important after the takeover of power by the Nazi regime in Germany and World War II.\\nThe best known traditional holiday in Zürich is the Sechseläuten (Sächsilüüte), including a parade of the guilds and the burning of \"winter\" in effigy at the Sechseläutenplatz. During this festival the popular march known as the Sechseläutenmarsch is played. It has no known composer but likely originated in Russia. Another is the Knabenschiessen target shooting competition for teenagers (originally boys, open to female participants since 1991).\\n\\n\\n=== Opera, ballet, and theaters ===\\nThe Zürich Opera House (German: Zürcher Opernhaus), built in 1834, was the first permanent theatre in the heart of Zürich and was at the time, the main seat of Richard Wagner\\'s activities. Later in 1890, the theatre was re-built as an ornate building with a neo-classical architecture. The portico is made of white and grey stone ornamented with the busts of Wagner, Weber and Mozart. Later, busts of Schiller, Shakespeare and Goethe were also added. The auditorium is designed in the rococo style. Once a year, it hosts the Zürcher Opernball with the President of the Swiss Confederation and the economic and cultural élite of Switzerland. The Ballet Zürich performs at the opera house. The Zürich Opera Ball, a major social event, is held annually at the Opera House as a fundraiser for the opera and ballet companies.\\nThe Schauspielhaus Zürich is the main theatre complex of the city. It has two dépendances: Pfauen in the Central City District and Schiffbauhalle, an old industrial hall, in Zürich West. The Schauspielhaus was home to emigrants such as Bertolt Brecht or Thomas Mann, and saw premieres of works of Max Frisch, Friedrich Dürrenmatt, Botho Strauss or Elfriede Jelinek. The Schauspielhaus is one of the most prominent and important theatres in Switzerland.The Theater am Neumarkt is one of the oldest theatres of the city. Established by the old guilds in the Old City District, it is located in a baroque palace near Niederdorf Street. It has two stages staging mostly avantgarde works by European directors.\\nThe Zürcher Theater Spektakel is an international theatre festival, featuring contemporary performing arts.\\n\\n\\n=== Food ===\\nThe traditional cuisine of Zürich reflects the centuries of rule by patrician burghers as well as the lasting imprint of Huldrych Zwingli\\'s puritanism. Traditional dishes include Zürcher Geschnetzeltes and Tirggel.\\n\\n\\n=== Nightlife and clubbing ===\\nZürich is host city of the Street Parade, which takes place in August every year (see above).\\nThe most famous districts for Nightlife are the Niederdorf in the old town with bars, restaurants, lounges, hotels, clubs, etc. and a lot of fashion shops for a young and stylish public and the Langstrasse in the districts 4 and 5 of the city. There are authentic amusements: bars, punk clubs, hip hop stages, Caribbean restaurants, arthouse cinemas, Turkish kebabs and Italian espresso-bars, but also sex shops or the famous red-light district of Zürich.\\nIn the past ten years new parts of the city have risen into the spotlight. Notably, the area known as Zürich West in district 5, near the Escher-Wyss square and the S-Bahn Station of Zürich Hardbrücke.\\n\\n\\n== Sports ==\\nZürich is home to several international sport federations. The Fédération Internationale de Football Association (FIFA) is headquartered in the city. In 2007 were inaugurated the new FIFA headquarters building, designed by architect Tilla Theus.\\nAssociation football is an essential aspect of sports in Zürich. The city is home to two major Swiss football teams; Grasshopper Club Zürich founded in 1886 and FC Zürich founded in 1896, both competing in Switzerland\\'s highest league.\\nAmong the most popular sports in Switzerland is ice hockey. In Zürich it is represented by the ZSC Lions. The International Ice Hockey Federation (IIHF) officiating as head organisation for ice hockey leagues worldwide is based in Zürich as well.\\nCycling is a popular sport as well as a means of transport in Zürich. Cycling routes are generally marked with red and white signs and the yellow lanes are exclusively meant for cyclists. Also hiking trails are well marked with yellow signs, which give the hiker the probable time it will take them to reach their destination. There are specific maps available for hiking and walking trails throughout Switzerland. Some of the most accessible walks in the Zürich area are the Uetliberg and the Zürichberg. The Offene Rennbahn otherwise known as the Oerlikon Velodrome deserves a special visit on any Tuesday evening in the summer, for cyclists there are chances to see time trial champions or local Swiss national cyclists challenging other amateurs in a variety of races including Madison or Keirin events.\\nAs many as 30 clubs and seven indoor curling facilities can be found in the Greater Zürich Area. The curling season starts in early September and continues until the end of April.Zürich is Switzerland\\'s hub for lacrosse. The Zürich Lions Lacrosse Academics, who play their home games at the Hochschulsportanlage Fluntern, have been the country\\'s dominant team and a major competitor at international events.\\n\\n\\n=== Events ===\\nWeltklasse Zürich, sometimes referred to as the one-day Olympics, is a one-day athletics meet held annually at the Letzigrund Stadium. Since it started on 12 August 1928, the sporting event has witnessed new world records and national records. To date as many as 24 world records were set in Weltklasse.Zürich Marathon is a popular sport event, inviting numerous athletes from every corner of the globe. Zürich Marathon is a long-distance running event, covering 42.195 km (26.219 mi) at one stretch. The running course starts in Zürich and passes through Bahnhofstrasse, Bellevueplatz, Mythenquai, Quaibrücke, Talstrasse and Utoquai, and along Lake Zürich to several other places. New Year\\'s Eve run is another important running event. The race is held on 1 January each year and the start takes place at midnight exactly.\\nZürich was one of six venues of the 1954 FIFA World Cup and one of eight venues of the UEFA Euro 2008. The Euro 2008 games were held in the Letzigrund Stadium. Work on the new Letzigrund was completed in exceptionally quick time and the stadium opened in August 2007 just one year after the demolition of the old arena.Zürich hosted the UCI Track Cycling World Championships six times at the Oerlikon Velodrome. The first time was in 1929 and the last time in 1983.\\nSince 2013, the international Openair Literatur Festival Zürich takes place annually in Zurich, presented by Literaturhaus Zürich and Kaufleuten.\\nZürich also hosted the 1998 World Ice Hockey Championships. The city previously co-hosted the 1953 and 1939 editions.\\nZürich was also host to the 2012 Men\\'s World Floorball Championships. This was the first time the event had been held in Zürich.\\n\\n\\n== Notable people ==\\n\\n\\n== Other points of interest ==\\nThe Schwamendingen X: level crossing of tram tracks, necessary because the tunnel uses island platforms for boarding (between trams, whose doors are on the right) while normally (outside the tunnel), passengers board to the outside (opposite the boarding area of oncoming trams). Trams normally travel on the right track, but in the tunnel they travel on the left.\\nThe Sihlfeld cemetery has a vending machine for funeral cards and other mourning supplies.\\nThe \"Oepfelchammer\" tavern in Zürich\\'s Old Town offers an unusual athletic drinking game called Balkenprobe: the drinker has to pull themselves up on a ceiling beam, cross over to the next beam, then drink a glass of wine with their head hanging down.\\n\\n\\n== Further reading ==\\n\\n\\n=== Architecture ===\\nHönig, Roderick: Zürich wird gebaut. Architekturführer Zürich 1990–2010. Hochparterre, Zürich 2010, ISBN 978-3-85881-127-1.\\nOechslin, Werner: Hochschulstadt Zürich. Bauten der ETH 1855–2005. GTA, Zürich 2005, ISBN 3-85676-154-3.\\nBonte, Alexander, Bürkle, J. Christoph: Max Dudler Die neue Dichte – Der neue Stadtteil Europaallee und die Pädagogische Hochschule Zürich, Jovis, Berlin 2012, ISBN 978-3-86859-198-9\\n\\n\\n=== Culture ===\\nKröger, Ute: Zürich, du mein blaues Wunder. Literarische Streifzüge durch eine europäische Kulturstadt. Limmat, Zürich 2004, ISBN 3-85791-447-5.\\nStaub, Ueli: Jazzstadt Zürich. Von Louis Armstrong bis Zürich Jazz Orchestra. Neue Zürcher Zeitung, Zürich 2003, ISBN 3-03823-012-X.\\n\\n\\n=== Others ===\\nFoppa, Daniel: Berühmte und vergessene Tote auf Zürichs Friedhöfen. Limmat, Zürich 2003, ISBN 3-85791-446-7.\\nHegi, Christof u. a.: Zürich. Mairs, Ostfildern 2006, ISBN 3-8297-0315-5 (= Marco Polo Reiseführer).\\nHeimgartner, Susanna: Zürich komplett. Regenbogen, Zürich 2005, ISBN 3-85862-458-6 (= Regenbogen Reiseführer).\\nSmith, Duncan J. D.: Nur in Zürich – Ein Reiseführer zu einzigartigen Orten, geheimen Plätzen und ungewöhnlichen Sehenswürdigkeiten (übersetzt von Walter Goidinger), Brandstätter, Wien 2012, ISBN 978-3-85033-546-1.\\n\\n\\n== See also ==\\nSwitzerland\\nBern\\nList of mayors of Zürich\\nPS Stadt Zürich\\n\\n\\n== Notes and references ==\\n\\n\\n=== Notes ===\\n\\n\\n=== References ===\\n\\n\\n== External links ==\\n\\nStadt Zürich – official website (in German)\\nCity of Zürich – official website (in English)\\nZürich Tourism – official website\\nZürich Chamber of Commerce – official website\\nEvent & Pleasure Calendar by Tages-Anzeiger (newspaper) (in German)\\nNYT Travel Guide by The New York Times'"
      ]
     },
     "execution_count": 219,
     "metadata": {},
     "output_type": "execute_result"
    }
   ],
   "source": [
    "zurich_text"
   ]
  },
  {
   "cell_type": "markdown",
   "id": "e4596eb7",
   "metadata": {},
   "source": [
    "# 2. Split()"
   ]
  },
  {
   "cell_type": "markdown",
   "id": "6573fd56",
   "metadata": {},
   "source": [
    "Great! Now that we have our text, let's check how long it is. Use the built-in function len() to do that. Let's also check the type of data that we have."
   ]
  },
  {
   "cell_type": "code",
   "execution_count": 220,
   "id": "52316042",
   "metadata": {},
   "outputs": [
    {
     "data": {
      "text/plain": [
       "66084"
      ]
     },
     "execution_count": 220,
     "metadata": {},
     "output_type": "execute_result"
    }
   ],
   "source": [
    "len(zurich_text)"
   ]
  },
  {
   "cell_type": "code",
   "execution_count": 221,
   "id": "28c81692",
   "metadata": {},
   "outputs": [
    {
     "data": {
      "text/plain": [
       "str"
      ]
     },
     "execution_count": 221,
     "metadata": {},
     "output_type": "execute_result"
    }
   ],
   "source": [
    "type(zurich_text)"
   ]
  },
  {
   "cell_type": "markdown",
   "id": "4ad62b7e",
   "metadata": {},
   "source": [
    "So: we have a very long string and each number in len(zurich_text) represents one character in that string. We can use the split() method to break down that long string into smaller segments that may be more handy for our data analysis (for example if we woulc like to loop something)."
   ]
  },
  {
   "cell_type": "markdown",
   "id": "dd35644f",
   "metadata": {},
   "source": [
    "#### 2.1. Let's begin by breaking down our zurich_text string variable by using \",\" insde split()."
   ]
  },
  {
   "cell_type": "code",
   "execution_count": 222,
   "id": "3d149d59",
   "metadata": {},
   "outputs": [],
   "source": [
    "#Your code in here"
   ]
  },
  {
   "cell_type": "code",
   "execution_count": 223,
   "id": "66847515",
   "metadata": {},
   "outputs": [
    {
     "data": {
      "text/plain": [
       "['Zürich ( ZURE-ik',\n",
       " ' German: [ˈtsyːrɪç] ; see below) is the largest city in Switzerland and the capital of the canton of Zürich. It is located in north-central Switzerland',\n",
       " ' at the northwestern tip of Lake Zürich. As of January 2023 the municipality had 443',\n",
       " '037 inhabitants',\n",
       " ' the urban area 1.315 million (2009)',\n",
       " ' and the Zürich metropolitan area 1.83 million (2011). Zürich is a hub for railways',\n",
       " ' roads',\n",
       " \" and air traffic. Both Zurich Airport and Zürich's main railway station are the largest and busiest in the country.\\nPermanently settled for over 2\",\n",
       " '000 years',\n",
       " ' Zürich was founded by the Romans',\n",
       " ' who called it Turicum. However',\n",
       " ' early settlements have been found dating back more than 6',\n",
       " '400 years (although this only indicates human presence in the area and not the presence of a town that early). During the Middle Ages',\n",
       " ' Zürich gained the independent and privileged status of imperial immediacy and',\n",
       " ' in 1519',\n",
       " ' became a primary centre of the Protestant Reformation in Europe under the leadership of Huldrych Zwingli.The official language of Zürich is German',\n",
       " ' but the main spoken language is Zürich German',\n",
       " ' the local variant of the Alemannic Swiss German dialect.\\nMany museums and art galleries can be found in the city',\n",
       " \" including the Swiss National Museum and Kunsthaus. Schauspielhaus Zürich is generally considered to be one of the most important theatres in the German-speaking world.As one of Switzerland's primary financial centres\",\n",
       " ' Zürich is home to many financial institutions and banking companies.\\n\\n\\n== Name ==\\nIn German',\n",
       " ' the city name is written Zürich',\n",
       " ' and pronounced [ˈtsyːrɪç] in Swiss Standard German or [ˈtsyːʁɪç]  in German Standard German. In the local dialect',\n",
       " ' the name is pronounced without the final consonant',\n",
       " ' as Züri [ˈtsyri]',\n",
       " ' although the adjective remains Zürcher(in). The city is called Zurich [zyʁik] in French',\n",
       " ' Zurigo [dzuˈriːɡo] in Italian',\n",
       " ' and Turitg [tuˈritɕ]  in Romansh.\\nThe name is traditionally written in English as Zurich',\n",
       " \" without the umlaut. It is pronounced  ZURE-ik.The earliest known form of the city's name is Turicum\",\n",
       " ' attested on a tombstone of the late 2nd century AD in the form STA(tio) TURICEN(sis) (\"Turicum tax post\"). The name is interpreted as a derivation from a given name',\n",
       " ' possibly the Gaulish personal name Tūros',\n",
       " ' for a reconstructed native form of the toponym of *Turīcon. The Latin stress on the long vowel of the Gaulish name',\n",
       " ' [tʊˈriːkõː]',\n",
       " ' was lost in German [ˈtsyːrɪç] but is preserved in Italian [dzuˈriːɡo] and in Romansh [tuˈritɕ]. The first development towards its later Germanic form is attested as early as the 6th century with the form Ziurichi. From the 9th century onward',\n",
       " ' the name is established in an Old High German form Zuri(c)h (857 in villa Zurih',\n",
       " ' 924 in Zurich curtem',\n",
       " ' 1416 Zürich Stadt). In the early modern period',\n",
       " ' the name became associated with the name of the Tigurini',\n",
       " ' and the name Tigurum rather than the historical Turicum is sometimes encountered in Modern Latin contexts.\\n\\n\\n== History ==\\n\\n\\n=== Early history ===\\nSettlements of the Neolithic and Bronze Age were found around Lake Zürich. Traces of pre-Roman Celtic',\n",
       " ' La Tène settlements were discovered near the Lindenhof',\n",
       " ' a morainic hill dominating the SE - NW waterway constituted by Lake Zurich and the river Limmat. In Roman times',\n",
       " ' during the conquest of the alpine region in 15 BC',\n",
       " ' the Romans built a castellum on the Lindenhof. Later here was erected Turicum (a toponym of clear Celtic origin)',\n",
       " ' a tax-collecting point for goods trafficked on the Limmat',\n",
       " \" which constituted part of the border between Gallia Belgica (from AD 90 Germania Superior) and Raetia: this customs point developed later into a vicus. After Emperor Constantine's reforms in AD 318\",\n",
       " ' the border between Gaul and Italy (two of the four praetorian prefectures of the Roman Empire) was located east of Turicum',\n",
       " ' crossing the river Linth between Lake Walen and Lake Zürich',\n",
       " \" where a castle and garrison looked over Turicum's safety. The earliest written record of the town dates from the 2nd century\",\n",
       " ' with a tombstone referring to it as to the Statio Turicensis Quadragesima Galliarum (\"Zürich post for collecting the 2.5% value tax of the Galliae\")',\n",
       " ' discovered at the Lindenhof.In the 5th century',\n",
       " ' the Germanic Alemanni tribe settled in the Swiss Plateau. The Roman castle remained standing until the 7th century. A Carolingian castle',\n",
       " ' built on the site of the Roman castle by the grandson of Charlemagne',\n",
       " ' Louis the German',\n",
       " ' is mentioned in 835 (in castro Turicino iuxta fluvium Lindemaci). Louis also founded the Fraumünster abbey in 853 for his daughter Hildegard. He endowed the Benedictine convent with the lands of Zürich',\n",
       " ' Uri',\n",
       " ' and the Albis forest',\n",
       " ' and granted the convent immunity',\n",
       " ' placing it under his direct authority. In 1045',\n",
       " ' King Henry III granted the convent the right to hold markets',\n",
       " ' collect tolls',\n",
       " ' and mint coins',\n",
       " ' and thus effectively made the abbess the ruler of the city.Zürich gained Imperial immediacy (Reichsunmittelbar',\n",
       " ' becoming an Imperial free city) in 1218 with the extinction of the main line of the Zähringer family and attained a status comparable to statehood. During the 1230s',\n",
       " ' a city wall was built',\n",
       " ' enclosing 38 hectares',\n",
       " ' when the earliest stone houses on the Rennweg were built as well. The Carolingian castle was used as a quarry',\n",
       " ' as it had started to fall into ruin.Emperor Frederick II promoted the abbess of the Fraumünster to the rank of a duchess in 1234. The abbess nominated the mayor',\n",
       " ' and she frequently delegated the minting of coins to citizens of the city. The political power of the convent slowly waned in the 14th century',\n",
       " ' beginning with the establishment of the Zunftordnung (guild laws) in 1336 by Rudolf Brun',\n",
       " ' who also became the first independent mayor',\n",
       " ' i.e. not nominated by the abbess.\\nAn important event in the early 14th century was the completion of the Manesse Codex',\n",
       " ' a key source of medieval German poetry. The famous illuminated manuscript – described as \"the most beautifully illumined German manuscript in centuries;\" – was commissioned by the Manesse family of Zürich',\n",
       " ' copied and illustrated in the city at some time between 1304 and 1340. Producing such a work was a highly expensive prestige project',\n",
       " ' requiring several years work by highly skilled scribes and miniature painters',\n",
       " ' and it clearly testifies to the increasing wealth and pride of Zürich citizens in this period. The work contains 6 songs by Süsskind von Trimberg',\n",
       " ' who may have been a Jew',\n",
       " ' since the work itself contains reflections on medieval Jewish life',\n",
       " ' though little is known about him.The first mention of Jews in Zürich was in 1273. Sources show that there was a synagogue in Zürich in the 13th century',\n",
       " ' implying the existence of a Jewish community. With the rise of the Black Death in 1349',\n",
       " ' Zürich',\n",
       " ' like most other Swiss cities',\n",
       " ' responded by persecuting and burning the local Jews',\n",
       " ' marking the end of the first Jewish community there. The second Jewish community of Zürich',\n",
       " ' formed towards the end of the 14th century',\n",
       " ' was short-lived',\n",
       " ' and Jews were expulsed and banned from the city from 1423 until the 19th century.\\n\\n\\n==== Archaeological findings ====\\nA woman who died in about 200 BC was found buried in a carved tree trunk during a construction project at the Kern school complex in March 2017 in Aussersihl. Archaeologists revealed that she was approximately 40 years old when she died and likely carried out little physical labor when she was alive. A sheepskin coat',\n",
       " ' a belt chain',\n",
       " ' a fancy wool dress',\n",
       " ' a scarf and a pendant made of glass and amber beads were also discovered with the woman.\\n\\n\\n=== Old Swiss Confederacy ===\\nOn 1 May 1351',\n",
       " ' the citizens of Zürich had to swear allegiance before representatives of the cantons of Lucerne',\n",
       " ' Schwyz',\n",
       " ' Uri and Unterwalden',\n",
       " ' the other members of the Swiss Confederacy. Thus',\n",
       " ' Zürich became the fifth member of the Confederacy',\n",
       " ' which was at that time a loose confederation of de facto independent states. Zürich was the presiding canton of the Diet from 1468 to 1519. This authority was the executive council and lawmaking body of the confederacy',\n",
       " ' from the Middle Ages until the establishment of the Swiss federal state in 1848. Zürich was temporarily expelled from the confederacy in 1440 due to a war with the other member states over the territory of Toggenburg (the Old Zürich War). Neither side had attained significant victory when peace was agreed upon in 1446',\n",
       " ' and Zürich was readmitted to the confederation in 1450.\\nZwingli started the Swiss Reformation at the time when he was the main preacher in the 1520s',\n",
       " ' at the Grossmünster. He lived there from 1484 until his death in 1531. The Zürich Bible',\n",
       " ' based on that of Zwingli',\n",
       " ' was issued in 1531. The Reformation resulted in major changes in state matters and civil life in Zürich',\n",
       " ' spreading also to a number of other cantons. Several cantons remained Catholic and became the basis of serious conflicts that eventually led to the outbreak of the Wars of Kappel.\\nDuring the 16th and 17th centuries',\n",
       " ' the Council of Zürich adopted an isolationist attitude',\n",
       " \" resulting in a second ring of imposing fortifications built in 1624. The Thirty Years' War which raged across Europe motivated the city to build these walls. The fortifications required a lot of resources\",\n",
       " ' which were taken from subject territories without reaching any agreement. The following revolts were crushed brutally. In 1648',\n",
       " ' Zürich proclaimed itself a republic',\n",
       " ' shedding its former status of a free imperial city. In this time the political system of Zürich was an oligarchy (Patriziat): the dominant families of the city were the following ones: Bonstetten',\n",
       " ' Brun',\n",
       " ' Bürkli',\n",
       " ' Escher vom Glas',\n",
       " ' Escher vom Luchs',\n",
       " ' Hirzel',\n",
       " ' Jori (or von Jori)',\n",
       " ' Kilchsperger',\n",
       " ' Landenberg',\n",
       " ' Manesse',\n",
       " ' Meiss',\n",
       " ' Meyer von Knonau',\n",
       " ' Mülner',\n",
       " ' von Orelli.\\n\\nThe Helvetic Revolution of 1798 saw the fall of the Ancien Régime. Zürich lost control of the land and its economic privileges',\n",
       " ' and the city and the canton separated their possessions between 1803 and 1805. In 1839',\n",
       " ' the city had to yield to the demands of its urban subjects',\n",
       " ' following the Züriputsch of 6 September. Most of the ramparts built in the 17th century were torn down',\n",
       " ' without ever having been besieged',\n",
       " \" to allay rural concerns over the city's hegemony. The Treaty of Zürich between Austria\",\n",
       " ' France',\n",
       " ' and Sardinia was signed in 1859.\\n\\n\\n=== Modern history ===\\nZürich was the Federal capital for 1839–40',\n",
       " ' and consequently',\n",
       " ' the victory of the Conservative party there in 1839 caused a great stir throughout Switzerland. But when in 1845 the Radicals regained power at Zürich',\n",
       " ' which was again the Federal capital for 1845–46',\n",
       " ' Zürich took the lead in opposing the Sonderbund cantons. Following the Sonderbund war and the formation of the Swiss Federal State',\n",
       " ' Zürich voted in favour of the Federal constitutions of 1848 and of 1874. The enormous immigration from the country districts into the town from the 1830s onwards created an industrial class which',\n",
       " ' though \"settled\" in the town',\n",
       " ' did not possess the privileges of burghership',\n",
       " ' and consequently had no share in the municipal government. First of all in 1860 the town schools',\n",
       " ' hitherto open to \"settlers\" only on paying high fees',\n",
       " ' were made accessible to all',\n",
       " \" next in 1875 ten years' residence ipso facto conferred the right of burghership\",\n",
       " ' and in 1893 the eleven outlying districts were incorporated within the town proper.\\nWhen Jews also began to settle in Zürich following their equality in 1862',\n",
       " ' the Israelitische Cultusgemeinde Zürich was founded.\\nExtensive developments took place during the 19th century. From 1847',\n",
       " ' the Spanisch-Brötli-Bahn',\n",
       " ' the first railway on Swiss territory',\n",
       " ' connected Zürich with Baden',\n",
       " \" putting the Zürich Hauptbahnhof at the origin of the Swiss rail network. The present building of the Hauptbahnhof (the main railway station) dates to 1871. Zürich's Bahnhofstrasse (Station Street) was laid out in 1867\",\n",
       " ' and the Zürich Stock Exchange was founded in 1877. Industrialisation led to migration into the cities and to rapid population growth',\n",
       " ' particularly in the suburbs of Zürich.\\nThe Quaianlagen are an important milestone in the development of the modern city of Zürich',\n",
       " ' as the construction of the new lake front transformed Zürich from a small medieval town on the rivers Limmat and Sihl to an attractive modern city on the Zürichsee shore',\n",
       " ' under the guidance of the city engineer Arnold Bürkli.In 1893',\n",
       " ' the twelve outlying districts were incorporated into Zürich',\n",
       " ' including Aussersihl',\n",
       " \" the workman's quarter on the left bank of the Sihl\",\n",
       " ' and additional land was reclaimed from Lake Zürich.In 1934',\n",
       " ' eight additional districts in the north and west of Zürich were incorporated.\\nZürich was accidentally bombed during World War II. As persecuted Jews sought refuge in Switzerland',\n",
       " ' the SIG (Israelite Community of Switzerland) raised financial resources. The central committee for refugee aid',\n",
       " ' created in 1933',\n",
       " ' was located in Zürich.\\nThe canton of Zürich did not recognise the Jewish religious communities as legal entities (and therefore as equal to national churches) until 2005.\\n\\n\\n=== Coat of arms ===\\nThe blue and white coat of arms of Zürich is attested from 1389 and was derived from banners with blue and white stripes in use since 1315. The first certain testimony of banners with the same design is from 1434. The coat of arms is flanked by two lions. The red Schwenkel on top of the banner had varying interpretations: For the people of Zürich',\n",
       " ' it was a mark of honour',\n",
       " \" granted by Rudolph I. Zürich's neighbours mocked it as a sign of shame\",\n",
       " ' commemorating the loss of the banner at Winterthur in 1292. Today',\n",
       " ' the Canton of Zürich uses the same coat of arms as the city.\\n\\n\\n== Politics ==\\n\\n\\n=== City districts ===\\n\\nThe previous boundaries of the city of Zürich (before 1893) were more or less synonymous with the location of the old town. Two large expansions of the city limits occurred in 1893 and in 1934 when the city of Zürich merged with many surrounding municipalities',\n",
       " ' that had been growing increasingly together since the 19th century. Today',\n",
       " ' the city is divided into twelve districts (known as Kreis in German)',\n",
       " ' numbered 1 to 12',\n",
       " ' each one of which contains between one and four neighborhoods:\\n\\nKreis 1',\n",
       " ' known as Altstadt',\n",
       " ' contains the old town',\n",
       " ' both to the east and west of the start of the Limmat. District 1 contains the neighbourhoods of Hochschulen',\n",
       " ' Rathaus',\n",
       " ' Lindenhof',\n",
       " ' and City.\\nKreis 2 lies along the west side of Lake Zürich',\n",
       " ' and contains the neighbourhoods of Enge',\n",
       " ' Wollishofen and Leimbach.\\nKreis 3',\n",
       " ' known as Wiedikon is between the Sihl and the Uetliberg',\n",
       " ' and contains the neighbourhoods of Alt-Wiedikon',\n",
       " ' Sihlfeld and Friesenberg.\\nKreis 4',\n",
       " ' known as Aussersihl lies between the Sihl and the train tracks leaving Zürich Hauptbahnhof',\n",
       " ' and contains the neighbourhoods of Werd',\n",
       " ' Langstrasse',\n",
       " ' and Hard.\\nKreis 5',\n",
       " ' known as Industriequartier',\n",
       " ' is between the Limmat and the train tracks leaving Zürich Hauptbahnhof',\n",
       " ' it contains the former industrial area of Zürich which has undergone large-scale rezoning to create upscale modern housing',\n",
       " ' retail',\n",
       " ' and commercial real estate. It contains the neighborhoods of Gewerbeschule and Escher-Wyss.\\nKreis 6 is on the edge of the Zürichberg',\n",
       " ' a hill overlooking the eastern part of the city. District 6 contains the neighbourhoods of Oberstrass and Unterstrass.\\nKreis 7 is on the edge of the Adlisberg hill as well as the Zürichberg',\n",
       " ' on the eastern side of the city. District 7 contains the neighbourhoods of Fluntern',\n",
       " ' Hottingen',\n",
       " \" and Hirslanden. These neighbourhoods are home to Zürich's wealthiest and more prominent residents. The neighbourhood Witikon also belongs to district 7.\\nKreis 8\",\n",
       " ' officially called Riesbach',\n",
       " ' but colloquially known as Seefeld',\n",
       " ' lies on the eastern side of Lake Zürich. District 8 consists of the neighbourhoods of Seefeld',\n",
       " ' Mühlebach',\n",
       " ' and Weinegg.\\nKreis 9 is between the Limmat to the north and the Uetliberg to the south. It contains the neighbourhoods Altstetten and Albisrieden.\\nKreis 10 is to the east of the Limmat and to the south of the Hönggerberg and Käferberg hills. District 10 contains the neighbourhoods of Höngg and Wipkingen.\\nKreis 11 is in the area north of the Hönggerberg and Käferberg and between the Glatt Valley and the Katzensee (Cats Lake). It contains the neighbourhoods of Affoltern',\n",
       " ' Oerlikon and Seebach.\\nKreis 12',\n",
       " ' known as Schwamendingen',\n",
       " ' is located in the Glattal (Glatt valley) on the northern side of the Zürichberg. District 12 contains the neighbourhoods of Saatlen',\n",
       " ' Schwamendigen Mitte',\n",
       " ' and Hirzenbach.Most of the district boundaries are fairly similar to the original boundaries of the previously existing municipalities before they were incorporated into the city of Zürich.\\n\\n\\n=== Government ===\\n\\nThe City Council (Stadtrat) constitutes the executive government of the City of Zürich and operates as a collegiate authority. It is composed of nine councilors',\n",
       " ' each presiding over a department. Departmental tasks',\n",
       " ' coordination measures and implementation of laws decreed by the Municipal Council are carried out by the City Council. The regular election of the City Council by any inhabitant valid to vote is held every four years. The mayor (German: Stadtpräsident(in)) is elected as such by a public election by a system of Majorz while the heads of the other departments are assigned by the collegiate. Any resident of Zurich allowed to vote can be elected as a member of the City Council. In the mandate period 2022–2026 (Legislatur) the City Council is presided by mayor Corine Mauch. The executive body holds its meetings in the City Hall (German: Stadthaus)',\n",
       " ' on the left bank of the Limmat. The building was built in 1883 in Renaissance style.\\nAs of May 2023',\n",
       " ' the Zürich City Council is made up of four representatives of the SP (Social Democratic Party',\n",
       " ' one of whom is the mayor)',\n",
       " ' two members each of the Green Party and the FDP (Free Democratic Party)',\n",
       " ' and one member of GLP (Green Liberal Party)',\n",
       " ' giving the left parties a combined six out of nine seats. The last regular election was held on 13 February 2022.\\n\\nClaudia Cuche-Curti is Town Chronicler (Stadtschreiberin) since 2012',\n",
       " ' and Andrea Töndury is Legal Counsel (Rechtskonsulent) since 2020 for the City Council.\\n\\n\\n=== Parliament ===\\n\\nThe Municipal Council (Gemeinderat) holds the legislative power. It is made up of 125 members (Gemeindrat / Gemeinderätin)',\n",
       " ' with elections held every four years. The Municipal Council decrees regulations and by-laws that are executed by the City Council and the administration. The sessions of the Municipal Council are held in public. Unlike those of the City Council',\n",
       " ' the members of the Municipal Council are not politicians by profession but are paid a fee based on their attendance. Any resident of Zürich allowed to vote can be elected as a member of the Municipal Council. The legislative body holds its meetings in the town hall (Rathaus)',\n",
       " ' on the right bank of the Limmat opposite to the City Hall (Stadthaus).The last election of the Municipal Council was held on 4 March 2018 for the mandate period of 2022–2026. As of February 2023',\n",
       " ' the Municipal Council consist of 37 members of the Social Democratic Party (SP)',\n",
       " ' 23 The Liberals (FDP)',\n",
       " ' 18 Green Party (GPS)',\n",
       " ' 16 Green Liberal Party (GLP)',\n",
       " \" 14 members of the Swiss People's Party (SVP)\",\n",
       " ' 8 Alternative List (AL)',\n",
       " \" and three members of the Evangelical People's Party (EVP)\",\n",
       " ' giving the left parties an  absolute majority of total 63 seats with only one seat.\\n\\n\\n=== Elections ===\\n\\n\\n==== National Council ====\\nIn the 2019 federal election for the Swiss National Council the most popular party was the SPS which received 25.6% (-6) of the vote. The next four most popular parties were the GPS (20.9%',\n",
       " ' +9.7)',\n",
       " ' GLP (15.7%',\n",
       " ' +6.4)',\n",
       " ' SVP (13.7%',\n",
       " ' -4.3)',\n",
       " ' the FDP (11.8%',\n",
       " ' -2.2)',\n",
       " ' the AL (4%',\n",
       " ' new)',\n",
       " ' and the CVP (3.5%',\n",
       " ' -0.2). In the federal election',\n",
       " ' a total of 110',\n",
       " '760 voters were cast',\n",
       " ' and the voter turnout was 47.7%.In the 2015 federal election for the Swiss National Council the most popular party was the SPS which received 31.6% of the vote. The next four most popular parties were the SVP (18%)',\n",
       " ' the FDP (14%)',\n",
       " ' the GPS (10.7%)',\n",
       " ' the GLP (9.2%). In the federal election',\n",
       " ' a total of 114',\n",
       " '377 voters were cast',\n",
       " ' and the voter turnout was 46.2%.\\n\\n\\n=== International relations ===\\n\\n\\n==== Twin towns and sister cities ====\\nZürich is partnered with two sister cities: Kunming and San Francisco.\\n\\n\\n== Geography ==\\nZürich is situated at 408 m (1',\n",
       " '339 ft) above sea level on the lower (northern) end of Lake Zürich (Zürichsee) about 30 km (19 mi) north of the Alps',\n",
       " ' nestling between the wooded hills on the west and east side. The Old Town stretches on both sides of the Limmat',\n",
       " ' which flows from the lake',\n",
       " ' running northwards at first and then gradually turning into a curve to the west. The geographic (and historic) centre of the city is the Lindenhof',\n",
       " ' a small natural hill on the west bank of the Limmat',\n",
       " ' about 700 m (2',\n",
       " '300 ft) north of where the river issues from Lake Zürich. Today the incorporated city stretches somewhat beyond the natural confines of the hills and includes some districts to the northeast in the Glatt Valley (Glattal) and to the north in the Limmat Valley (Limmattal). The boundaries of the older city are easy to recognize by the Schanzengraben canal. This artificial watercourse has been used for the construction of the third fortress in the 17th and 18th centuries.\\n\\n\\n=== Topography ===\\nThe municipality of Zürich has an area of 91.88 km2 (35.48 sq mi)',\n",
       " ' of which 4.1 km2 (1.6 sq mi) is made up of Lake Zürich. The area includes a section of the northern Swiss Plateau. The banks of the Limmat constitute the densest part of the city. The river is oriented in the southeast–northwest direction',\n",
       " ' with the flat valley floor having a width of two to three km (1.2 to 1.9 mi). The partially channeled and straightened Limmat does not flow in the central part of the valley',\n",
       " ' but always along its right (northeastern) side. The Sihl meets with the Limmat at the end of Platzspitz',\n",
       " ' which borders the Swiss National Museum. The Limmat reaches the lowest point of the municipality in Oberengstringen at 392 m (1',\n",
       " '286 ft) above sea level.\\nOn its west side',\n",
       " ' the Limmat valley is flanked by the wooded heights of the Albis chain',\n",
       " ' which runs along the western border. The Uetliberg is',\n",
       " ' with 869 m (2',\n",
       " '851 ft) above sea level',\n",
       " ' the highest elevation of the surrounding area. Its summit can be reached easily by the Uetlibergbahn. From the platform of the observation tower on the summit',\n",
       " ' an impressive panorama of the city',\n",
       " ' the lake',\n",
       " ' and the Alps can be seen.The northeast side of the Limmat valley includes a range of hills',\n",
       " ' which marks the watershed between the Limmat and the Glatt. From the northwest to the southeast',\n",
       " ' the height of the mostly wooded knolls generally increases: the Gubrist (615 m or 2',\n",
       " '018 ft)',\n",
       " ' the Hönggerberg (541 m or 1',\n",
       " '775 ft)',\n",
       " ' the Käferberg (571 m or 1',\n",
       " '873 ft)',\n",
       " ' the Zürichberg (676 m or 2',\n",
       " '218 ft)',\n",
       " ' the Adlisberg (701 m or 2',\n",
       " '300 ft) and the Öschbrig (696 m or 2',\n",
       " '283 ft). Between the Käferberg and the Zürichberg is located the saddle of the Milchbuck (about 470 m or 1',\n",
       " '540 ft)',\n",
       " ' an important passage from the Limmat valley to the Glatt valley.The northernmost part of the municipality extends to the plain of the Glatt valley and to the saddle which makes the connection between the Glattal and Furttal. Also',\n",
       " ' a part of the Katzensee (nature reserve) and the Büsisee',\n",
       " ' both of which are drained by the Katzenbach to Glatt',\n",
       " ' belong to the city.\\n\\n\\n=== Climate ===\\nZürich has an oceanic climate (Köppen: Cfb)',\n",
       " ' with warm summers and four distinct seasons. Decisive for the climate of Zürich are both the winds from westerly directions',\n",
       " ' which often result in precipitation and',\n",
       " ' on the other hand',\n",
       " ' the Bise (east or north-east wind)',\n",
       " ' which is usually associated with high-pressure situations',\n",
       " ' but cooler weather phases with temperatures lower than the average. The Foehn wind',\n",
       " ' which plays an important role in the northern alpine valleys',\n",
       " ' also has some impact on Zürich.The annual mean temperature at the measuring station of the Federal Office of Meteorology and Climatology in Zürich-Fluntern (556 m[1',\n",
       " '824 ft] above sea level on the slope of the Zürichberg',\n",
       " ' 150 m[490 ft] above the level of the city centre) is 9.3 °C (48.7 °F). The lowest monthly mean of daily minimum temperature are measured in January with −2.0 °C (28.4 °F) and the highest monthly mean of daily maximum temperature are measured in July with 24.0 °C (75.2 °F). On average there are 74.9 days in which the minimum temperature is below 0 °C (32 °F) (so-called frost days)',\n",
       " ' and 23.7 days in which the maximum temperature is below 0 °C (32 °F) (so-called ice days). There are on average 30 so-called summer days (maximum temperature equal to or above 25 °C [77 °F]) throughout the year',\n",
       " ' while so-called heat days (with maximum temperature equal to or above 30 °C [86 °F]) are 5.8 days.The average high temperature in July is 24.0 °C (75.2 °F) and average low temperature is 14 °C (57.2 °F). The highest recorded temperature in Zürich was 37.7 °C (100 °F)',\n",
       " ' recorded in July 1947',\n",
       " ' and typically the warmest day reaches an average of 32.2 °C (90.0 °F).Spring and autumn are generally cool to mild',\n",
       " ' but sometimes with large differences between warm and cold days even during the same year. The highest temperature of the month March in 2014 was on the 20th at 20.6 °C (69.1 °F) during a sunny afternoon and the lowest temperature was on the 25th at −0.4 °C (31.3 °F) during the night/early morning. Record low of average daily temperatures in March since 1864 is −12 °C (10 °F) and record high of average daily temperatures in March is 16 °C (61 °F). Record low of average daily temperatures in October is −16 °C (3 °F) and record high of average daily temperatures in October is 20 °C (68 °F).Zürich has an average of 1',\n",
       " '544 hours of sunshine per year and shines on 38% of its potential time throughout the year. During the months April until September the sun shines between 150 and 215 hours per month. The 1',\n",
       " '134 mm (44.6 in) rainfall spread on 133.9 days with precipitation throughout the year. Roughly about every third day you will encounter at least some precipitation',\n",
       " ' which is very much a Swiss average. During the warmer half of the year and especially during the three summer months',\n",
       " ' the strength of rainfall is higher than those measured in winter',\n",
       " ' but the days with precipitation stays about the same throughout the year (in average 9.9–12.7 days per month). October has the lowest number (9.9) of days with some precipitation. There is an average of 59.5 so-called bright days (number of days with sunshine duration greater than 80%) through the year',\n",
       " ' the most in July and August (7.4',\n",
       " ' 7.7 days)',\n",
       " ' and the least in January and December (2.7',\n",
       " ' 1.8 days). The average number of days with sunshine duration less than 20%',\n",
       " ' so-called cloudy days',\n",
       " ' is 158.4 days',\n",
       " ' while the most cloudy days are in November (17.8 days)',\n",
       " ' December (21.7 days)',\n",
       " ' and January with 19 days.\\n\\n\\n=== Climate protection ===\\nIn November 2008 the people of Zürich voted in a public referendum to write into law the quantifiable and fixed deadline of one tonne of CO2 per person per annum by 2050. This forces any decision of the executive to support this goal',\n",
       " ' even if the costs are higher in all dimensions. Some examples are the new disinfection section of the public city hospital in Triemli (Minergie-P quality – passive house)',\n",
       " ' the continued optimisation and creation of public transportation',\n",
       " ' enlargement of the bicycle-only network',\n",
       " ' research and projects for renewable energy and enclosure of speed-ways.\\n\\n\\n=== Urban area ===\\nThe areas surrounding the Limmat are almost completely developed with residential',\n",
       " ' industrial',\n",
       " ' and commercial zones. The sunny and desirable residential areas in the hills overlooking Zürich',\n",
       " ' Waidberg and Zürichberg',\n",
       " ' and the bottom part of the slope on the western side of the valley on the Uetliberg',\n",
       " ' are also densely built.\\nThe \"green lungs\" of the city include the vast forest areas of Adlisberg',\n",
       " ' Zürichberg',\n",
       " ' Käferberg',\n",
       " ' Hönggerberg and Uetliberg. Major parks are also located along the lakeshore (Zürichhorn and Enge)',\n",
       " ' while smaller parks dot the city. Larger contiguous agricultural lands are located near Affoltern and Seebach. Of the total area of the municipality of Zürich (in 1996',\n",
       " ' without the lake)',\n",
       " ' 45.4% is residential',\n",
       " ' industrial and commercial',\n",
       " ' 15.5% is transportation infrastructure',\n",
       " ' 26.5% is forest',\n",
       " ' 11%: is agriculture and 1.2% is water.\\n\\n\\n== Transport ==\\n\\n\\n=== Public transport ===\\nPublic transport is extremely popular in Zürich',\n",
       " ' and its inhabitants use public transport in large numbers. About 70% of the visitors to the city use the tram or bus',\n",
       " \" and about half of the journeys within the municipality take place on public transport. The ZVV network of public transport contains at least four means of mass-transit: any train that stops within the network's borders\",\n",
       " ' in particular the S-Bahn (local trains)',\n",
       " ' Zürich trams',\n",
       " ' and buses (both diesel and electric',\n",
       " ' also called trolley buses) and boats on the lake and river. In addition',\n",
       " ' the public transport network includes funicular railways and even the Luftseilbahn Adliswil-Felsenegg (LAF)',\n",
       " ' a cable car between Adliswil and Felsenegg. Tickets purchased for a trip are valid on all means of public transportation (train',\n",
       " ' tram',\n",
       " ' bus',\n",
       " ' boat). The Zürichsee-Schifffahrtsgesellschaft (commonly abbreviated to ZSG) operates passenger vessels on the Limmat and the Lake Zürich',\n",
       " ' connecting surrounding towns between Zürich and Rapperswil.\\n\\nZürich is a mixed hub for railways',\n",
       " ' roads',\n",
       " ' and air traffic. Zürich Hauptbahnhof (Zürich HB) is the largest and busiest station in Switzerland and is an important railway hub in Europe. As of early 2020',\n",
       " ' Zürich HB served around 470',\n",
       " '000 passengers and nearly 3',\n",
       " \"000 trains every day. Among the 16 railway stations (and 10 additional train stops) within Zürich's city borders\",\n",
       " ' there are five other major passenger railway stations. Three of them belong to the ten most frequented railway stations in Switzerland: Stadelhofen',\n",
       " ' Oerlikon',\n",
       " ' Altstetten',\n",
       " ' Hardbrücke',\n",
       " ' and Enge. The railway network is mainly operated by the Swiss Federal Railways (SBB CFF FFS)',\n",
       " ' but Zürich is also served by major EuroCity trains from the neighbouring countries and is a destination for both French/Swiss (TGV Lyria) and German (ICE) high-speed trains',\n",
       " ' as well as by Austrian RailJet.\\n\\n\\n=== Zurich Airport ===\\nZurich Airport is located less than 10 km (6.2 mi) northeast of the city in Kloten. Zurich Airport has its own railway station',\n",
       " ' which is located underground. It is directly connected to Zürich and most of the major Swiss cities. Zurich Airport is served by more than 60 passenger airlines from around the world. It is also served by one cargo airline and is a hub for Swiss International Air Lines. There is also an airfield in Dübendorf.\\n\\n\\n=== Road traffic ===\\nThe A1',\n",
       " ' A3 and A4 motorways pass close to Zürich. The A1 heads west towards Bern and Geneva and eastwards towards St. Gallen; the A4 leads northwards to Schaffhausen and southwards to Altdorf connecting with the A2 towards Chiasso; and the A3 heads northwest towards Basel and southeast along Lake Zürich and Lake Walen towards Sargans.\\n\\n\\n=== Bicycle transport ===\\nIn 2012',\n",
       " ' the city council launched a program to improve the city\\'s attractiveness for bicycle traffic. The so-called \"Masterplan Velo\" is part of the superordinate framework Stadtverkehr 2025 which shapes the future of the different means of transport. Research revealed that infrastructure and the social environment are essential factors in improving a city\\'s appeal to bicycle traffic. Three main goals are specified: First',\n",
       " ' the modal share of bicycle traffic should be enhanced to twice the value of 2011 by 2015. Second',\n",
       " \" cyclists' safety should be improved to lower the overall accident risk. Third\",\n",
       " ' cycling should be established as an everyday means of transport with a special focus on children and young people.\\nIn terms of infrastructure',\n",
       " ' the city aims to build up a network of distinctive bicycle routes in order to achieve these objectives. At a final stage',\n",
       " ' the network will consist of main routes (Hauptrouten) for everyday use and comfort routes (Komfortrouten)',\n",
       " ' with the latter focusing on leisure cycling. Additional measures such as special Velostationen providing bike-related services are expected to help to further improve the quality. One of the key projects of the system is a tunnel beneath the tracks of the main railway station planned to combine a main connection with staffed possibilities where commuters can leave their bikes throughout the day. Apart from infrastructural measures',\n",
       " ' further approaches are planned in the fields of communication',\n",
       " ' education and administration.\\nHowever',\n",
       " ' these efforts cause critique',\n",
       " ' mainly due to postponing. The institution of the bike tunnel at the main railway station',\n",
       " ' originally planned for 2016',\n",
       " ' was delayed to at least 2019. Pro Velo',\n",
       " ' a nationwide interest group',\n",
       " ' has publicly questioned whether the masterplan already failed. The critique aims at badly governed traffic management at construction sites',\n",
       " ' missing possibilities to park bikes in the city as well as rather diffident ambitions. In response',\n",
       " ' the responsible city department points to the big investments made every year and mentions ongoing discussions that would finally lead to even better results.\\n\\n\\n== Demographics ==\\n\\n\\n=== Population ===\\nThere are 421',\n",
       " '878 people living in Zürich (as of 31 December 2020)',\n",
       " \" making it Switzerland's largest city. Of registered inhabitants (in 2016)\",\n",
       " ' 32% (133',\n",
       " '473) do not hold Swiss citizenship. Of these',\n",
       " ' German citizens make up the largest group with 8% (33',\n",
       " '548)',\n",
       " ' followed by Italians 3.5% (14',\n",
       " '543). As of 2011',\n",
       " ' the population of the city',\n",
       " ' including suburbs',\n",
       " ' totaled 1.17 million people. The entire metropolitan area (including the cities of Winterthur',\n",
       " ' Baden',\n",
       " ' Brugg',\n",
       " ' Schaffhausen',\n",
       " ' Frauenfeld',\n",
       " ' Uster / Wetzikon',\n",
       " ' Rapperswil-Jona',\n",
       " ' and Zug) had a population of around 1.82 million people.\\n\\n\\n=== Languages ===\\nThe official formal language used by governmental institutions',\n",
       " ' print',\n",
       " ' news',\n",
       " ' schools and universities',\n",
       " ' courts',\n",
       " ' theatres and in any kind of written form is the Swiss variety of Standard German',\n",
       " ' while the spoken language is Zürich German (Züritüütsch)',\n",
       " ' one of the several more or less distinguishable',\n",
       " ' but mutually intelligible Swiss German dialects of Switzerland with roots in the medieval Alemannic German dialect groups. However',\n",
       " \" because of Zürich's national importance\",\n",
       " ' and therefore its existing high fluctuation',\n",
       " ' its inhabitants and commuters speak all kinds of Swiss German dialects. As of the December 2010 census',\n",
       " ' 69.3% of the population speaks diglossic Swiss German/Swiss Standard German as their mother-tongue at home. Some 22.7% of inhabitants speak Standard German in their family environment (\"at home\"). Dramatically increasing',\n",
       " ' according to the last census in 2000',\n",
       " ' 8.8% now speak English. Italian follows behind at 7.1% of the population',\n",
       " ' then French at 4.5%. Other languages spoken here include: Bosnian (4.1%)',\n",
       " ' Spanish (3.9%)',\n",
       " ' Portuguese (3.1%)',\n",
       " ' and Albanian (2.3%). (Multiple choices were possible.) Thus',\n",
       " ' 20% of the population speak two or more languages at home.\\n\\n\\n=== Religion ===\\n\\nBefore the Protestant Reformation reached Zürich',\n",
       " ' it was de jure and de facto Roman Catholic.\\nThe Protestant Reformation',\n",
       " ' led by Huldrych Zwingli',\n",
       " ' made Zürich both a theological centre and a stronghold of Protestantism in Switzerland. Another Swiss city with a comparable status was Geneva',\n",
       " ' the so-called Protestant Rome',\n",
       " ' where John Calvin and his Protestant Reformers operated',\n",
       " ' as well as Basel. Zürich attracted other influential Protestant Reformers like Heinrich Bullinger. Zwingli translated the Bible (Zürich Bible) into the local variety of German',\n",
       " ' and introduced the Reformation by winning support of the magistrates',\n",
       " ' the princess abbess Katharina von Zimmern',\n",
       " ' and the largely peasant population of the Canton of Zürich. The canton unanimously adopted the Reformed tradition',\n",
       " \" as represented by Zwingli. Religious wars between Catholics and Protestants tormented the Swiss Confederacy. Zwingli died for political and religious reasons by defending the Canton of Zürich in the Battle of Kappel. Bullinger took over his role as the city's spiritual leader.\\nIn 1970\",\n",
       " ' about 53% of the population were Swiss Reformed',\n",
       " ' while almost 40% were Roman Catholic. Since then',\n",
       " ' both large Swiss churches',\n",
       " ' the Roman Catholic Church and Swiss Reformed Church',\n",
       " ' have been constantly losing members',\n",
       " ' though for the Catholic Church',\n",
       " ' the decrease started 20 years later',\n",
       " ' in around 1990. Nevertheless',\n",
       " ' for the last twenty years',\n",
       " ' both confessions have been reduced by 10%',\n",
       " ' to the current figures (census 2010): 30% Roman Catholic',\n",
       " ' and 26% Swiss Reformed (organized in Evangelical Reformed Church of the Canton of Zürich). In 1970',\n",
       " \" only 2% of Zürich's inhabitants claimed to be not affiliated with any religious confession. In accordance with the loss by the large Swiss churches\",\n",
       " ' the number of people declaring themselves as non-affiliated rose to 17% in the year 2000. In the last ten years',\n",
       " ' this figure rose to more than 25%. For the group of people',\n",
       " ' being between 24 and 44 years old',\n",
       " \" this is as high as one in every third person.5% of Zürich's inhabitants are Muslims\",\n",
       " ' a slight decrease of 1%',\n",
       " ' compared to the year 2000. The Mahmood Mosque Zürich',\n",
       " ' situated in Forchstrasse',\n",
       " ' is the first mosque built in Switzerland.The population of Jewish ethnicity and religion has been more or less constant since 1970',\n",
       " ' at about 1%. The Synagoge Zürich Löwenstrasse is the oldest and largest synagogue of Zürich.\\n\\n\\n=== Social ===\\nThe level of unemployment in Zürich was 3.2% in July 2012. In 2008',\n",
       " ' the average monthly income was about CHF 7000 before any deductions for social insurances and taxes. In 2010',\n",
       " ' there were 12',\n",
       " '994 cases (on average per month) of direct or indirect welfare payments from the state.\\n\\n\\n=== Quality of living ===\\nZürich often performs very well in international rankings',\n",
       " ' some of which are mentioned below:\\n\\nMonocle\\'s 2012 \"Quality of Life Survey\" ranked Zürich first on a list of the top 25 cities in the world \"to make a base within\". In 2019 Zürich was ranked among the ten most liveable cities in the world by Mercer together with Geneva and Basel.\\nIn fDi Magazine\\'s \"Global Cities of the Future 2021/22\" report',\n",
       " ' Zürich placed 16th in the overall rankings (all categories). In the category \"Mid-sized and small cities\"',\n",
       " ' Zürich was 2nd overall',\n",
       " ' behind Wroclaw',\n",
       " ' having also placed 2nd in the subcategory \"Human capital and lifestyle\" and 3rd under \"Business friendliness\". In the category \"FDI strategy',\n",
       " ' overall\" (relating to foreign direct investment)',\n",
       " ' Zürich ranked 9th',\n",
       " ' behind such cities as New York',\n",
       " \" Montreal (1st and 2nd) and Dubai (at number 8).\\n\\n\\n== Main sites ==\\n\\nMost of Zürich's sites are located within the area on either side of the Limmat\",\n",
       " ' between the Main railway station and Lake Zürich. The churches and houses of the old town are clustered here',\n",
       " ' as are the most expensive shops along the famous Bahnhofstrasse. The Lindenhof in the old town is the historical site of the Roman castle',\n",
       " ' and the later Carolingian Imperial Palace.\\n\\n\\n=== Churches ===\\nGrossmünster (Great Minster) According to legend',\n",
       " \" Charlemagne discovered the graves of the city's martyrs Felix and Regula and had built the first church as a monastery; start of current building around 1100; in the first half of the 16th century\",\n",
       " ' the Great Minster was the starting point of the Swiss-German Reformation led by Huldrych Zwingli and Heinrich Bullinger; declared by Charlemagne imperial church; romanesque crypt',\n",
       " ' romanesque capitals in the church and cloister; choir windows by Augusto Giacometti (1932) and Sigmar Polke (2009)',\n",
       " \" bronze doors by Otto Münch (1935 and 1950).\\nFraumünster (Women's Minster) Church of a former abbey for aristocratical women from southern Germany which was founded in 853 by Louis the German for his daughter Hildegard; first church built before 874; the romanesque choir dates from 1250 to 1270; the church enjoyed the patronage of kings and had the right of coinage from Zürich to the 13th century; after the Reformation\",\n",
       " ' church and convent passed into the possession of the city; the most important jewelry – in addition to the largest organ in the canton with its 5',\n",
       " '793 pipes and 92 stops – are color windows: the window in the north transept of Augusto Giacometti (1945)',\n",
       " \" the five-part cycle in the choir (1970) and the rosette in the southern transept (1978) are by Marc Chagall; also the church of Zürich's largest choir with 100 and more singers.\\nSt. Peter romanesque-gothic-baroque church built on remains of former churches from before the 9th century; with the largest church clock face in Europe built 1538; baptismal font of 1598\",\n",
       " ' baroque stucco; individual stalls from the 15th century from city repealed monasteries with rich carvings and armrests; Kanzellettner (increased barrier between the nave and choir with built-pulpit) of 1705 pulpit sounding board about 1790; rich Akanthus embellishment with Bible verse above the pulpit; 1971 new crystal chandelier modeled according 1710 design; organ in 1974 with 53 stops; Bells: five from 1880',\n",
       " ' the largest',\n",
       " ' A minor',\n",
       " ' without clapper weighs about 6',\n",
       " '000 kg (13',\n",
       " '228 lb); fire guard in the tower to the Middle Ages to 1911.\\nPredigerkirche is one of the four main churches of the old town',\n",
       " ' first built in 1231 AD as a Romanesque church of the then Dominican Predigerkloster nearby the Neumarkt. It was converted in the first half of the 14th century',\n",
       " ' and the choir rebuilt between 1308 and 1350. Due to its construction and for that time unusual high bell tower',\n",
       " ' it was regarded as the most high Gothic edifice in Zürich.\\n\\n\\n=== Museums ===\\nZürich Museum of Art – The Museum of Art',\n",
       " ' also known as Kunsthaus Zürich',\n",
       " ' is one of the significant art museums of Europe. It holds one of the largest collections in Classic Modern art in the world (Munch',\n",
       " ' Picasso',\n",
       " ' Braque',\n",
       " ' Giacometti',\n",
       " ' etc.). The museum also features a large library collection of photographs.\\nSwiss National Museum – The National Museum (German: Landesmuseum) displays many objects that illustrate the cultural and historical background of Switzerland. It also contains many ancient artifacts',\n",
       " ' including stained glass',\n",
       " ' costumes',\n",
       " ' painted furniture and weapons. The museum is located in the Platzspitz park opposite to the Hauptbahnhof.\\nCentre Le Corbusier – Located on the shore of the Lake Zürich nearby Zürichhorn',\n",
       " ' the Centre Le Corbusier (also named: Heidi Weber Museum)',\n",
       " ' is an art museum dedicated to the work of the Swiss architect Le Corbusier',\n",
       " ' inside the last house he designed.\\nRietberg Museum – The Rietberg Museum',\n",
       " ' situated in Gablerstrasse',\n",
       " ' is one of the great repositories of art and culture in Zürich. The museum also displays exhibits gathered from various corners of the world: bronze artifacts from Tibet',\n",
       " ' ceramics and jade',\n",
       " ' Indian sculpture',\n",
       " ' Chinese grave decorations',\n",
       " ' masks by African tribes',\n",
       " ' etc.\\nMuseum of Design – The Museum of Design is a museum for industrial design',\n",
       " ' visual communication',\n",
       " ' architecture and craft. It is part of the Department of Cultural Analysis of the Zürich University of the Arts.\\nHaus Konstruktiv – The Haus Konstruktiv is a museum with Swiss-wide and international recognition. The museum is about constructive',\n",
       " \" concrete and conceptual art and design. It testimonies to Zürich's industrial architecture in the immediate vicinity of the Main Station.\\nUhrenmuseum Beyer – The Uhrenmuseum is located in the heart of the city. Documenting the history of timekeeping and timekeepers\",\n",
       " ' the museum is home to a large collection of mechanical timepieces as well as a collection of primitive time keeping devices such as water clocks',\n",
       " ' sundials and hourglasses.\\nNo Show Museum – the No Show Museum is the first museum dedicated to nothing and its various manifestations throughout the history of art.\\nGuild houses – The Guild houses (German: Zunfthaus) are located along the Limmat (downstream from the Grossmünster): Meisen (also a porcelain and faience museum)',\n",
       " ' Rüden',\n",
       " ' Haue',\n",
       " ' Saffran',\n",
       " ' Schneidern',\n",
       " ' Schmiden',\n",
       " ' Zimmerleuten',\n",
       " \" and some more.\\nTram Museum – The Tram Museum is located at Burgwies in Zürich's eastern suburbs\",\n",
       " \" and chronicles the history of Zürich's iconic tram system with exhibits varying in date from 1897 to the present day.\\nNorth America Native Museum – The North American Native Museum specializes in the conservation\",\n",
       " ' documentation and presentation of ethnographic objects and art of Native American',\n",
       " ' First Nation and Inuit cultures.\\nFIFA Museum - The museum exhibits memorabilities from the world of Association Football (Soccer)',\n",
       " ' founded by the Féderation Internationale de Football Association\\n\\n\\n=== Parks and nature ===\\nZoological Garden – The zoological garden holds about 260 species of animals and houses about 2200 animals. One can come across separate enclosures of snow leopards',\n",
       " ' India lions',\n",
       " ' clouded leopards',\n",
       " ' Amur leopards',\n",
       " ' otters and pandas in the zoo.\\nBotanical Garden – The Botanical Garden houses about 15',\n",
       " '000 species of plants and trees and contains as many as three million plants. In the garden',\n",
       " ' many rare plant species from south western part of Africa',\n",
       " \" as well as from New Caledonia can be found. The University of Zürich holds the ownership of the Botanical Garden.\\nChinese Garden – The Chinese Garden is a gift by Zürich's Chinese partner town Kunming\",\n",
       " \" as remiscence for Zürich's technical and scientific assistance in the development of the Kunming city drinking water supply and drainage. The garden is an expression of one of the main themes of Chinese culture\",\n",
       " ' the «Three Friends of Winter» – three plants that together brave the cold season – pine',\n",
       " ' bamboo',\n",
       " ' and plum.\\nUetliberg – Located to the west of the city at an altitude of 813 m (2',\n",
       " '667 ft) above sea level',\n",
       " ' the Uetliberg is the highest hill and offers views over the city. The summit is easily accessible by train from Zürich main station.\\n\\n\\n=== Kunst und Bau (construction permit office) ===\\nIn 1922 Augusto Giacometti won the competition to paint the entrance hall of Amtshaus I',\n",
       " ' which the city promised to brighten up this gloomy room',\n",
       " ' which was once used as a cellar',\n",
       " ' and at the same time to alleviate the precarious economic situation of the local artists. Giacometti brought in the painters Jakob Gubler',\n",
       " ' Giuseppe Scartezzini and Franz Riklin for the execution of this fresco',\n",
       " ' which encompasses the ceiling and walls',\n",
       " ' thereby creating a unique color space that appears almost sacred in its luminosity.\\n\\n\\n=== Architecture ===\\nCompared to other cities',\n",
       " ' there are few tall buildings in Zürich. The municipal building regulations (Article 9) limit the construction of high-rise buildings to areas in the west and north of the city. In the industrial district',\n",
       " ' Altstetten and Oerlikon',\n",
       " ' buildings up to 80 m (260 ft) in height are allowed (high-rise area I). In the adjacent high-rise areas II and III the height is limited to 40 m (130 ft). Around the year 2000',\n",
       " ' regulations became more flexible and high-rise buildings were again planned and built. The people\\'s initiative \"40 m (130 ft) is enough',\n",
       " '\" which would have reduced both the maximum height and the high-rise buildings area',\n",
       " ' was clearly rejected on 29 November 2009. At this time in Zürich about a dozen high-rise buildings were under construction or in planning',\n",
       " ' including the Prime Tower as the tallest skyscraper in Switzerland at the time of its construction. There are numerous examples of brutalist buildings throughout the city',\n",
       " ' including the Swissmill Tower which',\n",
       " ' at 118m',\n",
       " \" is the world's tallest grain silo. \\n\\n\\n=== World heritage sites ===\\nThe prehistoric settlements at Enge Alpenquai and Grosser Hafner and Kleiner Hafner are part of the Prehistoric Pile dwellings around the Alps a UNESCO World Heritage Site.\\n\\n\\n== Economy ==\\n\\nIn a 2009 survey by CityMayors.com\",\n",
       " ' Zürich was ranked 9th among the \"World\\'s 10 Most Powerful Cities\". In the 2017 Global Financial Centres Index',\n",
       " ' Zürich was ranked as having the 11th most competitive financial center in the world',\n",
       " \" and second most competitive in Europe after London. The Greater Zürich Area is Switzerland's economic centre and home to many international companies. By far the most important sector in the economy of Zürich is the service industry\",\n",
       " ' which employs nearly four-fifths of workers. Other important industries include light industry',\n",
       " ' machine and textile industries and tourism. Located in Zürich',\n",
       " ' the Swiss Stock Exchange was established in 1877 and is now the fourth most prominent stock exchange in the world. In addition',\n",
       " \" Zürich is the world's largest gold trading centre.Ten of the country's 50 largest companies have their head offices in Zürich\",\n",
       " ' among them ABB',\n",
       " ' UBS',\n",
       " ' Credit Suisse',\n",
       " ' Swiss Re and Zürich Financial Services. Most Swiss banks have their headquarters in Zürich and there are numerous foreign banks in the Greater Zürich Area. \"Gnomes of Zurich\" is a disparaging term used for Swiss bankers  on account of their alleged secrecy and speculative dealing.\\n\\n\\n=== Contributory factors to economic strength ===\\nThe high quality of life has been cited as a reason for economic growth in Zürich. The consulting firm Mercer has for many years ranked Zürich as a city with the highest quality of life in the world. In particular',\n",
       " ' Zürich received high scores for work',\n",
       " ' housing',\n",
       " ' leisure',\n",
       " ' education and safety. Local planning authorities ensure clear separation between urban and recreational areas and there are many protected nature reserves. Zürich is also ranked the third most expensive city in the world',\n",
       " ' behind Hong Kong and Tokyo and ahead of Singapore.Zürich benefits from the high level of investment in education which is typical of Switzerland in general and provides skilled labour at all levels. The city is home to two major universities',\n",
       " ' thus enabling access to graduates and high technology research. Professional training incorporates a mix of practical work experience and academic study while',\n",
       " ' in general',\n",
       " ' emphasis is placed on obtaining a good level of general education and language ability. As a result',\n",
       " ' the city is home to many multilingual people and employees generally demonstrate a high degree of motivation and a low level of absenteeism. The employment laws are less restrictive as nearby Germany or France. Technology new start',\n",
       " ' FinTech and others in MedTech secure good seed and starter funding.Google Zurich is a main hub for its operations in Europe with about 5000 employees. In March 2023',\n",
       " \" workers at the center staged a solidarity movement in coordination with its IT workers' union Syndicom to reduce lay-offs and to oppose salary cuts. According to a spokesperson for the company\",\n",
       " ' Zurich would remain a major employer despite the measures.\\n\\n\\n=== The Swiss stock exchange ===\\nThe Swiss stock exchange is called SIX Swiss Exchange',\n",
       " ' formerly known as SWX. The SIX Swiss Exchange is the head group of several different worldwide operative financial systems: Eurex',\n",
       " ' Eurex US',\n",
       " ' EXFEED',\n",
       " ' STOXX',\n",
       " ' and virt-x. The exchange turnover generated at the SWX was in 2007 of 1',\n",
       " '780',\n",
       " '499.5 million CHF; the number of transactions arrived in the same period at 35',\n",
       " '339',\n",
       " '296 and the Swiss Performance Index (SPI) arrived at a total market capitalization of 1',\n",
       " '359',\n",
       " '976.2 million CHF.\\n\\n\\n== Education and research ==\\nAbout 70',\n",
       " '000 people study at the 20 universities',\n",
       " \" colleges and institutions of higher education in Zürich in 2019. Two of Switzerland's most distinguished universities are located in the city: the Swiss Federal Institute of Technology (ETH Zurich)\",\n",
       " ' which is controlled by the federal government',\n",
       " ' and the University of Zurich',\n",
       " ' under direction of the canton of Zürich. Both universities were listed in the top 50 world universities rated in 2007',\n",
       " ' while the ETH has consistently remained in the top 10 universities worldwide since 2016.ETH was founded in 1854 by the Swiss Confederation and opened its doors in 1855 as a polytechnic institute. ETH achieved its reputation particularly in the fields of chemistry',\n",
       " ' mathematics and physics and there are 21 Nobel Laureates who are associated with the institution. ETH is usually ranked the top university in continental Europe. The institution consists of two campuses',\n",
       " ' the main building in the heart of the city and the new campus on the outskirts of the city.\\nThe University of Zurich was founded in 1833',\n",
       " ' although its beginnings date back to 1525 when the Swiss reformer Ulrich Zwingli founded a college of theology. Nowadays with its 24',\n",
       " '000 students and 1',\n",
       " '900 graduations each year',\n",
       " ' the University of Zürich is the largest in Switzerland and offers the widest range of subjects and courses at any Swiss higher education institution.\\nThe Pedagogical College',\n",
       " \" the Zurich University of Applied Sciences (ZHAW) and the Zurich University of the Arts (ZHdK) are another three top-class technical colleges which contribute to Zürich's reputation as a knowledge and research pole by providing applied research and development. Zürich is also one of the co-location centres of the Knowledge and Innovation Community (Climate Change Mitigation and Adaptation) of the European Institute of Innovation and Technology.In addition to the university libraries\",\n",
       " ' the city is also served by the Zentralbibliothek Zürich',\n",
       " ' a research and public library',\n",
       " ' and the Pestalozzi-Bibliothek Zürich',\n",
       " ' a public library with 14 locations.\\n\\n\\n=== State universities by size in canton of Zürich ===\\n\\n\\n== Media ==\\nMany large Swiss media conglomerates are headquartered in Zürich',\n",
       " ' such as tamedia',\n",
       " ' Ringier and the NZZ-Verlag.\\n\\n\\n=== Television and radio ===\\nThe headquarters of Switzerland\\'s national licence fee-funded German language television network (\"SF\") are located in the Leutschenbach neighborhood',\n",
       " ' to the north of the Oerlikon railway station. Regional commercial television station \"TeleZüri\" (Zürich Television) has its headquarters near Escher-Wyss Platz. The production facilities for other commercial stations \"Star TV\"',\n",
       " ' \"u1\" TV and \"3+\" are located in Schlieren.\\nOne section of the Swiss German language licence fee-funded public radio station \"Schweizer Radio DRS\" is located in Zürich. There are commercial local radio stations broadcasting from Zürich',\n",
       " ' such as \"Radio 24\" on the Limmatstrasse',\n",
       " ' \"Energy Zürich\" in Seefeld on the Kreuzstrasse',\n",
       " ' Radio \"LoRa\" and \"Radio 1\". There are other radio stations that operate only during certain parts of the year',\n",
       " ' such as \"CSD Radio\" (May/June)',\n",
       " ' \"Radio Streetparade\" (July/August) and \"rundfunk.fm\" (August/September).\\n\\n\\n=== Print media ===\\nThere are three large daily newspapers published in Zürich that are known across Switzerland. The Neue Zürcher Zeitung (NZZ)',\n",
       " ' the Tages-Anzeiger and Blick',\n",
       " ' the largest Swiss tabloid. All three of those newspapers publish Sunday editions. These are the NZZ am Sonntag',\n",
       " ' SonntagsZeitung and SonntagsBlick. Besides the three main daily newspapers',\n",
       " ' there is a free daily commuter newspaper which is widely distributed: 20 Minuten (20 minutes)',\n",
       " ' published weekdays in the mornings.\\nA number of magazines from major publishers are based in Zürich. Some examples are Bilanz',\n",
       " ' Die Weltwoche',\n",
       " ' Annabelle',\n",
       " ' Schweizer Familie and Schweizer Illustrierte.\\n\\n\\n== Culture ==\\n\\nIn addition to high-quality museums and galleries',\n",
       " ' Zürich has high-calibre chamber and symphony orchestras and several important theatres.The Zurich Film Festival is an international film festival',\n",
       " ' lasting 11 days and featuring popular international productions.\\nOne of the largest and most popular annual events in Zürich is the Street Parade',\n",
       " ' which is also one of the largest techno and dance music festivals in the world. Proceeding along the side of Lake Zürich',\n",
       " ' it is normally held on the second Saturday in August. The first edition was held in 1992 with about 1',\n",
       " '000 participants. By 2001 the event attracted one million participants. The Zürifäscht',\n",
       " ' on the other hand',\n",
       " ' is a triennial public festival. It features music',\n",
       " ' fireworks set to music',\n",
       " ' and other attractions throughout the old town. It is the largest public festival in Switzerland and attracts up to 2 million visitors.The Kunst Zürich is an international contemporary art fair with an annual guest city; it combines most recent arts with the works of well-established artists. Another annual public art exhibit is the city campaign',\n",
       " ' sponsored by the City Vereinigung (the local equivalent of a chamber of commerce) with the cooperation of the city government. It consists of decorated sculptures distributed over the city centre',\n",
       " ' in public places. Past themes have included lions (1986)',\n",
       " ' cows (1998)',\n",
       " ' benches (2003)',\n",
       " ' teddy bears (2005)',\n",
       " ' and huge flower pots (2009). From this originated the concept of the CowParade that has been featured in other major world cities.\\nZürich has been the home to several art movements. The Dada movement was founded in 1916 at the Cabaret Voltaire. Artists like Max Bill',\n",
       " ' Marcel Breuer',\n",
       " ' Camille Graeser or Richard Paul Lohse had their ateliers in Zürich',\n",
       " ' which became even more important after the takeover of power by the Nazi regime in Germany and World War II.\\nThe best known traditional holiday in Zürich is the Sechseläuten (Sächsilüüte)',\n",
       " ' including a parade of the guilds and the burning of \"winter\" in effigy at the Sechseläutenplatz. During this festival the popular march known as the Sechseläutenmarsch is played. It has no known composer but likely originated in Russia. Another is the Knabenschiessen target shooting competition for teenagers (originally boys',\n",
       " ' open to female participants since 1991).\\n\\n\\n=== Opera',\n",
       " ' ballet',\n",
       " ' and theaters ===\\nThe Zürich Opera House (German: Zürcher Opernhaus)',\n",
       " ' built in 1834',\n",
       " ' was the first permanent theatre in the heart of Zürich and was at the time',\n",
       " \" the main seat of Richard Wagner's activities. Later in 1890\",\n",
       " ' the theatre was re-built as an ornate building with a neo-classical architecture. The portico is made of white and grey stone ornamented with the busts of Wagner',\n",
       " ' Weber and Mozart. Later',\n",
       " ' busts of Schiller',\n",
       " ' Shakespeare and Goethe were also added. The auditorium is designed in the rococo style. Once a year',\n",
       " ' it hosts the Zürcher Opernball with the President of the Swiss Confederation and the economic and cultural élite of Switzerland. The Ballet Zürich performs at the opera house. The Zürich Opera Ball',\n",
       " ' a major social event',\n",
       " ' is held annually at the Opera House as a fundraiser for the opera and ballet companies.\\nThe Schauspielhaus Zürich is the main theatre complex of the city. It has two dépendances: Pfauen in the Central City District and Schiffbauhalle',\n",
       " ' an old industrial hall',\n",
       " ' in Zürich West. The Schauspielhaus was home to emigrants such as Bertolt Brecht or Thomas Mann',\n",
       " ' and saw premieres of works of Max Frisch',\n",
       " ' Friedrich Dürrenmatt',\n",
       " ' Botho Strauss or Elfriede Jelinek. The Schauspielhaus is one of the most prominent and important theatres in Switzerland.The Theater am Neumarkt is one of the oldest theatres of the city. Established by the old guilds in the Old City District',\n",
       " ' it is located in a baroque palace near Niederdorf Street. It has two stages staging mostly avantgarde works by European directors.\\nThe Zürcher Theater Spektakel is an international theatre festival',\n",
       " \" featuring contemporary performing arts.\\n\\n\\n=== Food ===\\nThe traditional cuisine of Zürich reflects the centuries of rule by patrician burghers as well as the lasting imprint of Huldrych Zwingli's puritanism. Traditional dishes include Zürcher Geschnetzeltes and Tirggel.\\n\\n\\n=== Nightlife and clubbing ===\\nZürich is host city of the Street Parade\",\n",
       " ' which takes place in August every year (see above).\\nThe most famous districts for Nightlife are the Niederdorf in the old town with bars',\n",
       " ' restaurants',\n",
       " ' lounges',\n",
       " ' hotels',\n",
       " ' clubs',\n",
       " ' etc. and a lot of fashion shops for a young and stylish public and the Langstrasse in the districts 4 and 5 of the city. There are authentic amusements: bars',\n",
       " ' punk clubs',\n",
       " ' hip hop stages',\n",
       " ' Caribbean restaurants',\n",
       " ' arthouse cinemas',\n",
       " ' Turkish kebabs and Italian espresso-bars',\n",
       " ' but also sex shops or the famous red-light district of Zürich.\\nIn the past ten years new parts of the city have risen into the spotlight. Notably',\n",
       " ' the area known as Zürich West in district 5',\n",
       " ' near the Escher-Wyss square and the S-Bahn Station of Zürich Hardbrücke.\\n\\n\\n== Sports ==\\nZürich is home to several international sport federations. The Fédération Internationale de Football Association (FIFA) is headquartered in the city. In 2007 were inaugurated the new FIFA headquarters building',\n",
       " ' designed by architect Tilla Theus.\\nAssociation football is an essential aspect of sports in Zürich. The city is home to two major Swiss football teams; Grasshopper Club Zürich founded in 1886 and FC Zürich founded in 1896',\n",
       " \" both competing in Switzerland's highest league.\\nAmong the most popular sports in Switzerland is ice hockey. In Zürich it is represented by the ZSC Lions. The International Ice Hockey Federation (IIHF) officiating as head organisation for ice hockey leagues worldwide is based in Zürich as well.\\nCycling is a popular sport as well as a means of transport in Zürich. Cycling routes are generally marked with red and white signs and the yellow lanes are exclusively meant for cyclists. Also hiking trails are well marked with yellow signs\",\n",
       " ' which give the hiker the probable time it will take them to reach their destination. There are specific maps available for hiking and walking trails throughout Switzerland. Some of the most accessible walks in the Zürich area are the Uetliberg and the Zürichberg. The Offene Rennbahn otherwise known as the Oerlikon Velodrome deserves a special visit on any Tuesday evening in the summer',\n",
       " \" for cyclists there are chances to see time trial champions or local Swiss national cyclists challenging other amateurs in a variety of races including Madison or Keirin events.\\nAs many as 30 clubs and seven indoor curling facilities can be found in the Greater Zürich Area. The curling season starts in early September and continues until the end of April.Zürich is Switzerland's hub for lacrosse. The Zürich Lions Lacrosse Academics\",\n",
       " ' who play their home games at the Hochschulsportanlage Fluntern',\n",
       " \" have been the country's dominant team and a major competitor at international events.\\n\\n\\n=== Events ===\\nWeltklasse Zürich\",\n",
       " ' sometimes referred to as the one-day Olympics',\n",
       " ' is a one-day athletics meet held annually at the Letzigrund Stadium. Since it started on 12 August 1928',\n",
       " ' the sporting event has witnessed new world records and national records. To date as many as 24 world records were set in Weltklasse.Zürich Marathon is a popular sport event',\n",
       " ' inviting numerous athletes from every corner of the globe. Zürich Marathon is a long-distance running event',\n",
       " ' covering 42.195 km (26.219 mi) at one stretch. The running course starts in Zürich and passes through Bahnhofstrasse',\n",
       " ' Bellevueplatz',\n",
       " ' Mythenquai',\n",
       " ' Quaibrücke',\n",
       " ' Talstrasse and Utoquai',\n",
       " \" and along Lake Zürich to several other places. New Year's Eve run is another important running event. The race is held on 1 January each year and the start takes place at midnight exactly.\\nZürich was one of six venues of the 1954 FIFA World Cup and one of eight venues of the UEFA Euro 2008. The Euro 2008 games were held in the Letzigrund Stadium. Work on the new Letzigrund was completed in exceptionally quick time and the stadium opened in August 2007 just one year after the demolition of the old arena.Zürich hosted the UCI Track Cycling World Championships six times at the Oerlikon Velodrome. The first time was in 1929 and the last time in 1983.\\nSince 2013\",\n",
       " ' the international Openair Literatur Festival Zürich takes place annually in Zurich',\n",
       " \" presented by Literaturhaus Zürich and Kaufleuten.\\nZürich also hosted the 1998 World Ice Hockey Championships. The city previously co-hosted the 1953 and 1939 editions.\\nZürich was also host to the 2012 Men's World Floorball Championships. This was the first time the event had been held in Zürich.\\n\\n\\n== Notable people ==\\n\\n\\n== Other points of interest ==\\nThe Schwamendingen X: level crossing of tram tracks\",\n",
       " ' necessary because the tunnel uses island platforms for boarding (between trams',\n",
       " ' whose doors are on the right) while normally (outside the tunnel)',\n",
       " ' passengers board to the outside (opposite the boarding area of oncoming trams). Trams normally travel on the right track',\n",
       " ' but in the tunnel they travel on the left.\\nThe Sihlfeld cemetery has a vending machine for funeral cards and other mourning supplies.\\nThe \"Oepfelchammer\" tavern in Zürich\\'s Old Town offers an unusual athletic drinking game called Balkenprobe: the drinker has to pull themselves up on a ceiling beam',\n",
       " ' cross over to the next beam',\n",
       " ' then drink a glass of wine with their head hanging down.\\n\\n\\n== Further reading ==\\n\\n\\n=== Architecture ===\\nHönig',\n",
       " ' Roderick: Zürich wird gebaut. Architekturführer Zürich 1990–2010. Hochparterre',\n",
       " ' Zürich 2010',\n",
       " ' ISBN 978-3-85881-127-1.\\nOechslin',\n",
       " ' Werner: Hochschulstadt Zürich. Bauten der ETH 1855–2005. GTA',\n",
       " ' Zürich 2005',\n",
       " ' ISBN 3-85676-154-3.\\nBonte',\n",
       " ' Alexander',\n",
       " ' Bürkle',\n",
       " ' J. Christoph: Max Dudler Die neue Dichte – Der neue Stadtteil Europaallee und die Pädagogische Hochschule Zürich',\n",
       " ' Jovis',\n",
       " ' Berlin 2012',\n",
       " ' ISBN 978-3-86859-198-9\\n\\n\\n=== Culture ===\\nKröger',\n",
       " ' Ute: Zürich',\n",
       " ' du mein blaues Wunder. Literarische Streifzüge durch eine europäische Kulturstadt. Limmat',\n",
       " ' Zürich 2004',\n",
       " ' ISBN 3-85791-447-5.\\nStaub',\n",
       " ' Ueli: Jazzstadt Zürich. Von Louis Armstrong bis Zürich Jazz Orchestra. Neue Zürcher Zeitung',\n",
       " ' Zürich 2003',\n",
       " ' ISBN 3-03823-012-X.\\n\\n\\n=== Others ===\\nFoppa',\n",
       " ' Daniel: Berühmte und vergessene Tote auf Zürichs Friedhöfen. Limmat',\n",
       " ' Zürich 2003',\n",
       " ' ISBN 3-85791-446-7.\\nHegi',\n",
       " ' Christof u. a.: Zürich. Mairs',\n",
       " ' Ostfildern 2006',\n",
       " ' ISBN 3-8297-0315-5 (= Marco Polo Reiseführer).\\nHeimgartner',\n",
       " ' Susanna: Zürich komplett. Regenbogen',\n",
       " ' Zürich 2005',\n",
       " ' ISBN 3-85862-458-6 (= Regenbogen Reiseführer).\\nSmith',\n",
       " ' Duncan J. D.: Nur in Zürich – Ein Reiseführer zu einzigartigen Orten',\n",
       " ' geheimen Plätzen und ungewöhnlichen Sehenswürdigkeiten (übersetzt von Walter Goidinger)',\n",
       " ' Brandstätter',\n",
       " ' Wien 2012',\n",
       " ' ISBN 978-3-85033-546-1.\\n\\n\\n== See also ==\\nSwitzerland\\nBern\\nList of mayors of Zürich\\nPS Stadt Zürich\\n\\n\\n== Notes and references ==\\n\\n\\n=== Notes ===\\n\\n\\n=== References ===\\n\\n\\n== External links ==\\n\\nStadt Zürich – official website (in German)\\nCity of Zürich – official website (in English)\\nZürich Tourism – official website\\nZürich Chamber of Commerce – official website\\nEvent & Pleasure Calendar by Tages-Anzeiger (newspaper) (in German)\\nNYT Travel Guide by The New York Times']"
      ]
     },
     "execution_count": 223,
     "metadata": {},
     "output_type": "execute_result"
    }
   ],
   "source": [
    "#solution\n",
    "zurich_text.split(\",\")"
   ]
  },
  {
   "cell_type": "markdown",
   "id": "92986b16",
   "metadata": {},
   "source": [
    "Now name that variable \"comma\", and check again its len and type."
   ]
  },
  {
   "cell_type": "code",
   "execution_count": 224,
   "id": "f7c1d9d8",
   "metadata": {},
   "outputs": [],
   "source": [
    "#Your code in here"
   ]
  },
  {
   "cell_type": "code",
   "execution_count": 225,
   "id": "8238b1b8",
   "metadata": {},
   "outputs": [],
   "source": [
    "#Solution\n",
    "\n",
    "comma = zurich_text.split(\",\")"
   ]
  },
  {
   "cell_type": "code",
   "execution_count": 226,
   "id": "28d1aa87",
   "metadata": {},
   "outputs": [
    {
     "data": {
      "text/plain": [
       "list"
      ]
     },
     "execution_count": 226,
     "metadata": {},
     "output_type": "execute_result"
    }
   ],
   "source": [
    "type(comma)"
   ]
  },
  {
   "cell_type": "code",
   "execution_count": 227,
   "id": "e1e79dc5",
   "metadata": {},
   "outputs": [
    {
     "data": {
      "text/plain": [
       "706"
      ]
     },
     "execution_count": 227,
     "metadata": {},
     "output_type": "execute_result"
    }
   ],
   "source": [
    "len(comma)"
   ]
  },
  {
   "cell_type": "markdown",
   "id": "fd6e3e1e",
   "metadata": {},
   "source": [
    "So, now we have a list (not a long string) formed by many sub-strings separated by commas. Select the first element in the list and check out its data type."
   ]
  },
  {
   "cell_type": "code",
   "execution_count": 228,
   "id": "a22e2f99",
   "metadata": {},
   "outputs": [],
   "source": [
    "#Your code in here"
   ]
  },
  {
   "cell_type": "code",
   "execution_count": 229,
   "id": "1e3827d7",
   "metadata": {},
   "outputs": [
    {
     "data": {
      "text/plain": [
       "str"
      ]
     },
     "execution_count": 229,
     "metadata": {},
     "output_type": "execute_result"
    }
   ],
   "source": [
    "#Solution\n",
    "\n",
    "type(comma[0])"
   ]
  },
  {
   "cell_type": "code",
   "execution_count": 230,
   "id": "e21432df",
   "metadata": {},
   "outputs": [
    {
     "name": "stdout",
     "output_type": "stream",
     "text": [
      "Zürich ( ZURE-ik\n"
     ]
    }
   ],
   "source": [
    "print(comma[0])"
   ]
  },
  {
   "cell_type": "markdown",
   "id": "a8416272",
   "metadata": {},
   "source": [
    "#### 2.2. Now let's separate things using \".\" insde split().\n",
    "\n",
    "Create a new variable called point, check out it's lenght, type, and select its first element (and check out its type)."
   ]
  },
  {
   "cell_type": "code",
   "execution_count": 231,
   "id": "9b8c3e54",
   "metadata": {},
   "outputs": [],
   "source": [
    "#Your code in here"
   ]
  },
  {
   "cell_type": "code",
   "execution_count": 232,
   "id": "e1f43a38",
   "metadata": {},
   "outputs": [],
   "source": [
    "#Solution\n",
    "\n",
    "point = zurich_text.split(\".\")"
   ]
  },
  {
   "cell_type": "code",
   "execution_count": 233,
   "id": "f35c6c4d",
   "metadata": {},
   "outputs": [
    {
     "data": {
      "text/plain": [
       "['Zürich ( ZURE-ik, German: [ˈtsyːrɪç] ; see below) is the largest city in Switzerland and the capital of the canton of Zürich',\n",
       " ' It is located in north-central Switzerland, at the northwestern tip of Lake Zürich',\n",
       " ' As of January 2023 the municipality had 443,037 inhabitants, the urban area 1',\n",
       " '315 million (2009), and the Zürich metropolitan area 1',\n",
       " '83 million (2011)',\n",
       " ' Zürich is a hub for railways, roads, and air traffic',\n",
       " \" Both Zurich Airport and Zürich's main railway station are the largest and busiest in the country\",\n",
       " '\\nPermanently settled for over 2,000 years, Zürich was founded by the Romans, who called it Turicum',\n",
       " ' However, early settlements have been found dating back more than 6,400 years (although this only indicates human presence in the area and not the presence of a town that early)',\n",
       " ' During the Middle Ages, Zürich gained the independent and privileged status of imperial immediacy and, in 1519, became a primary centre of the Protestant Reformation in Europe under the leadership of Huldrych Zwingli',\n",
       " 'The official language of Zürich is German, but the main spoken language is Zürich German, the local variant of the Alemannic Swiss German dialect',\n",
       " '\\nMany museums and art galleries can be found in the city, including the Swiss National Museum and Kunsthaus',\n",
       " ' Schauspielhaus Zürich is generally considered to be one of the most important theatres in the German-speaking world',\n",
       " \"As one of Switzerland's primary financial centres, Zürich is home to many financial institutions and banking companies\",\n",
       " '\\n\\n\\n== Name ==\\nIn German, the city name is written Zürich, and pronounced [ˈtsyːrɪç] in Swiss Standard German or [ˈtsyːʁɪç]  in German Standard German',\n",
       " ' In the local dialect, the name is pronounced without the final consonant, as Züri [ˈtsyri], although the adjective remains Zürcher(in)',\n",
       " ' The city is called Zurich [zyʁik] in French, Zurigo [dzuˈriːɡo] in Italian, and Turitg [tuˈritɕ]  in Romansh',\n",
       " '\\nThe name is traditionally written in English as Zurich, without the umlaut',\n",
       " ' It is pronounced  ZURE-ik',\n",
       " 'The earliest known form of the city\\'s name is Turicum, attested on a tombstone of the late 2nd century AD in the form STA(tio) TURICEN(sis) (\"Turicum tax post\")',\n",
       " ' The name is interpreted as a derivation from a given name, possibly the Gaulish personal name Tūros, for a reconstructed native form of the toponym of *Turīcon',\n",
       " ' The Latin stress on the long vowel of the Gaulish name, [tʊˈriːkõː], was lost in German [ˈtsyːrɪç] but is preserved in Italian [dzuˈriːɡo] and in Romansh [tuˈritɕ]',\n",
       " ' The first development towards its later Germanic form is attested as early as the 6th century with the form Ziurichi',\n",
       " ' From the 9th century onward, the name is established in an Old High German form Zuri(c)h (857 in villa Zurih, 924 in Zurich curtem, 1416 Zürich Stadt)',\n",
       " ' In the early modern period, the name became associated with the name of the Tigurini, and the name Tigurum rather than the historical Turicum is sometimes encountered in Modern Latin contexts',\n",
       " '\\n\\n\\n== History ==\\n\\n\\n=== Early history ===\\nSettlements of the Neolithic and Bronze Age were found around Lake Zürich',\n",
       " ' Traces of pre-Roman Celtic, La Tène settlements were discovered near the Lindenhof, a morainic hill dominating the SE - NW waterway constituted by Lake Zurich and the river Limmat',\n",
       " ' In Roman times, during the conquest of the alpine region in 15 BC, the Romans built a castellum on the Lindenhof',\n",
       " ' Later here was erected Turicum (a toponym of clear Celtic origin), a tax-collecting point for goods trafficked on the Limmat, which constituted part of the border between Gallia Belgica (from AD 90 Germania Superior) and Raetia: this customs point developed later into a vicus',\n",
       " \" After Emperor Constantine's reforms in AD 318, the border between Gaul and Italy (two of the four praetorian prefectures of the Roman Empire) was located east of Turicum, crossing the river Linth between Lake Walen and Lake Zürich, where a castle and garrison looked over Turicum's safety\",\n",
       " ' The earliest written record of the town dates from the 2nd century, with a tombstone referring to it as to the Statio Turicensis Quadragesima Galliarum (\"Zürich post for collecting the 2',\n",
       " '5% value tax of the Galliae\"), discovered at the Lindenhof',\n",
       " 'In the 5th century, the Germanic Alemanni tribe settled in the Swiss Plateau',\n",
       " ' The Roman castle remained standing until the 7th century',\n",
       " ' A Carolingian castle, built on the site of the Roman castle by the grandson of Charlemagne, Louis the German, is mentioned in 835 (in castro Turicino iuxta fluvium Lindemaci)',\n",
       " ' Louis also founded the Fraumünster abbey in 853 for his daughter Hildegard',\n",
       " ' He endowed the Benedictine convent with the lands of Zürich, Uri, and the Albis forest, and granted the convent immunity, placing it under his direct authority',\n",
       " ' In 1045, King Henry III granted the convent the right to hold markets, collect tolls, and mint coins, and thus effectively made the abbess the ruler of the city',\n",
       " 'Zürich gained Imperial immediacy (Reichsunmittelbar, becoming an Imperial free city) in 1218 with the extinction of the main line of the Zähringer family and attained a status comparable to statehood',\n",
       " ' During the 1230s, a city wall was built, enclosing 38 hectares, when the earliest stone houses on the Rennweg were built as well',\n",
       " ' The Carolingian castle was used as a quarry, as it had started to fall into ruin',\n",
       " 'Emperor Frederick II promoted the abbess of the Fraumünster to the rank of a duchess in 1234',\n",
       " ' The abbess nominated the mayor, and she frequently delegated the minting of coins to citizens of the city',\n",
       " ' The political power of the convent slowly waned in the 14th century, beginning with the establishment of the Zunftordnung (guild laws) in 1336 by Rudolf Brun, who also became the first independent mayor, i',\n",
       " 'e',\n",
       " ' not nominated by the abbess',\n",
       " '\\nAn important event in the early 14th century was the completion of the Manesse Codex, a key source of medieval German poetry',\n",
       " ' The famous illuminated manuscript – described as \"the most beautifully illumined German manuscript in centuries;\" – was commissioned by the Manesse family of Zürich, copied and illustrated in the city at some time between 1304 and 1340',\n",
       " ' Producing such a work was a highly expensive prestige project, requiring several years work by highly skilled scribes and miniature painters, and it clearly testifies to the increasing wealth and pride of Zürich citizens in this period',\n",
       " ' The work contains 6 songs by Süsskind von Trimberg, who may have been a Jew, since the work itself contains reflections on medieval Jewish life, though little is known about him',\n",
       " 'The first mention of Jews in Zürich was in 1273',\n",
       " ' Sources show that there was a synagogue in Zürich in the 13th century, implying the existence of a Jewish community',\n",
       " ' With the rise of the Black Death in 1349, Zürich, like most other Swiss cities, responded by persecuting and burning the local Jews, marking the end of the first Jewish community there',\n",
       " ' The second Jewish community of Zürich, formed towards the end of the 14th century, was short-lived, and Jews were expulsed and banned from the city from 1423 until the 19th century',\n",
       " '\\n\\n\\n==== Archaeological findings ====\\nA woman who died in about 200 BC was found buried in a carved tree trunk during a construction project at the Kern school complex in March 2017 in Aussersihl',\n",
       " ' Archaeologists revealed that she was approximately 40 years old when she died and likely carried out little physical labor when she was alive',\n",
       " ' A sheepskin coat, a belt chain, a fancy wool dress, a scarf and a pendant made of glass and amber beads were also discovered with the woman',\n",
       " '\\n\\n\\n=== Old Swiss Confederacy ===\\nOn 1 May 1351, the citizens of Zürich had to swear allegiance before representatives of the cantons of Lucerne, Schwyz, Uri and Unterwalden, the other members of the Swiss Confederacy',\n",
       " ' Thus, Zürich became the fifth member of the Confederacy, which was at that time a loose confederation of de facto independent states',\n",
       " ' Zürich was the presiding canton of the Diet from 1468 to 1519',\n",
       " ' This authority was the executive council and lawmaking body of the confederacy, from the Middle Ages until the establishment of the Swiss federal state in 1848',\n",
       " ' Zürich was temporarily expelled from the confederacy in 1440 due to a war with the other member states over the territory of Toggenburg (the Old Zürich War)',\n",
       " ' Neither side had attained significant victory when peace was agreed upon in 1446, and Zürich was readmitted to the confederation in 1450',\n",
       " '\\nZwingli started the Swiss Reformation at the time when he was the main preacher in the 1520s, at the Grossmünster',\n",
       " ' He lived there from 1484 until his death in 1531',\n",
       " ' The Zürich Bible, based on that of Zwingli, was issued in 1531',\n",
       " ' The Reformation resulted in major changes in state matters and civil life in Zürich, spreading also to a number of other cantons',\n",
       " ' Several cantons remained Catholic and became the basis of serious conflicts that eventually led to the outbreak of the Wars of Kappel',\n",
       " '\\nDuring the 16th and 17th centuries, the Council of Zürich adopted an isolationist attitude, resulting in a second ring of imposing fortifications built in 1624',\n",
       " \" The Thirty Years' War which raged across Europe motivated the city to build these walls\",\n",
       " ' The fortifications required a lot of resources, which were taken from subject territories without reaching any agreement',\n",
       " ' The following revolts were crushed brutally',\n",
       " ' In 1648, Zürich proclaimed itself a republic, shedding its former status of a free imperial city',\n",
       " ' In this time the political system of Zürich was an oligarchy (Patriziat): the dominant families of the city were the following ones: Bonstetten, Brun, Bürkli, Escher vom Glas, Escher vom Luchs, Hirzel, Jori (or von Jori), Kilchsperger, Landenberg, Manesse, Meiss, Meyer von Knonau, Mülner, von Orelli',\n",
       " '\\n\\nThe Helvetic Revolution of 1798 saw the fall of the Ancien Régime',\n",
       " ' Zürich lost control of the land and its economic privileges, and the city and the canton separated their possessions between 1803 and 1805',\n",
       " ' In 1839, the city had to yield to the demands of its urban subjects, following the Züriputsch of 6 September',\n",
       " \" Most of the ramparts built in the 17th century were torn down, without ever having been besieged, to allay rural concerns over the city's hegemony\",\n",
       " ' The Treaty of Zürich between Austria, France, and Sardinia was signed in 1859',\n",
       " '\\n\\n\\n=== Modern history ===\\nZürich was the Federal capital for 1839–40, and consequently, the victory of the Conservative party there in 1839 caused a great stir throughout Switzerland',\n",
       " ' But when in 1845 the Radicals regained power at Zürich, which was again the Federal capital for 1845–46, Zürich took the lead in opposing the Sonderbund cantons',\n",
       " ' Following the Sonderbund war and the formation of the Swiss Federal State, Zürich voted in favour of the Federal constitutions of 1848 and of 1874',\n",
       " ' The enormous immigration from the country districts into the town from the 1830s onwards created an industrial class which, though \"settled\" in the town, did not possess the privileges of burghership, and consequently had no share in the municipal government',\n",
       " ' First of all in 1860 the town schools, hitherto open to \"settlers\" only on paying high fees, were made accessible to all, next in 1875 ten years\\' residence ipso facto conferred the right of burghership, and in 1893 the eleven outlying districts were incorporated within the town proper',\n",
       " '\\nWhen Jews also began to settle in Zürich following their equality in 1862, the Israelitische Cultusgemeinde Zürich was founded',\n",
       " '\\nExtensive developments took place during the 19th century',\n",
       " ' From 1847, the Spanisch-Brötli-Bahn, the first railway on Swiss territory, connected Zürich with Baden, putting the Zürich Hauptbahnhof at the origin of the Swiss rail network',\n",
       " ' The present building of the Hauptbahnhof (the main railway station) dates to 1871',\n",
       " \" Zürich's Bahnhofstrasse (Station Street) was laid out in 1867, and the Zürich Stock Exchange was founded in 1877\",\n",
       " ' Industrialisation led to migration into the cities and to rapid population growth, particularly in the suburbs of Zürich',\n",
       " '\\nThe Quaianlagen are an important milestone in the development of the modern city of Zürich, as the construction of the new lake front transformed Zürich from a small medieval town on the rivers Limmat and Sihl to an attractive modern city on the Zürichsee shore, under the guidance of the city engineer Arnold Bürkli',\n",
       " \"In 1893, the twelve outlying districts were incorporated into Zürich, including Aussersihl, the workman's quarter on the left bank of the Sihl, and additional land was reclaimed from Lake Zürich\",\n",
       " 'In 1934, eight additional districts in the north and west of Zürich were incorporated',\n",
       " '\\nZürich was accidentally bombed during World War II',\n",
       " ' As persecuted Jews sought refuge in Switzerland, the SIG (Israelite Community of Switzerland) raised financial resources',\n",
       " ' The central committee for refugee aid, created in 1933, was located in Zürich',\n",
       " '\\nThe canton of Zürich did not recognise the Jewish religious communities as legal entities (and therefore as equal to national churches) until 2005',\n",
       " '\\n\\n\\n=== Coat of arms ===\\nThe blue and white coat of arms of Zürich is attested from 1389 and was derived from banners with blue and white stripes in use since 1315',\n",
       " ' The first certain testimony of banners with the same design is from 1434',\n",
       " ' The coat of arms is flanked by two lions',\n",
       " ' The red Schwenkel on top of the banner had varying interpretations: For the people of Zürich, it was a mark of honour, granted by Rudolph I',\n",
       " \" Zürich's neighbours mocked it as a sign of shame, commemorating the loss of the banner at Winterthur in 1292\",\n",
       " ' Today, the Canton of Zürich uses the same coat of arms as the city',\n",
       " '\\n\\n\\n== Politics ==\\n\\n\\n=== City districts ===\\n\\nThe previous boundaries of the city of Zürich (before 1893) were more or less synonymous with the location of the old town',\n",
       " ' Two large expansions of the city limits occurred in 1893 and in 1934 when the city of Zürich merged with many surrounding municipalities, that had been growing increasingly together since the 19th century',\n",
       " ' Today, the city is divided into twelve districts (known as Kreis in German), numbered 1 to 12, each one of which contains between one and four neighborhoods:\\n\\nKreis 1, known as Altstadt, contains the old town, both to the east and west of the start of the Limmat',\n",
       " ' District 1 contains the neighbourhoods of Hochschulen, Rathaus, Lindenhof, and City',\n",
       " '\\nKreis 2 lies along the west side of Lake Zürich, and contains the neighbourhoods of Enge, Wollishofen and Leimbach',\n",
       " '\\nKreis 3, known as Wiedikon is between the Sihl and the Uetliberg, and contains the neighbourhoods of Alt-Wiedikon, Sihlfeld and Friesenberg',\n",
       " '\\nKreis 4, known as Aussersihl lies between the Sihl and the train tracks leaving Zürich Hauptbahnhof, and contains the neighbourhoods of Werd, Langstrasse, and Hard',\n",
       " '\\nKreis 5, known as Industriequartier, is between the Limmat and the train tracks leaving Zürich Hauptbahnhof, it contains the former industrial area of Zürich which has undergone large-scale rezoning to create upscale modern housing, retail, and commercial real estate',\n",
       " ' It contains the neighborhoods of Gewerbeschule and Escher-Wyss',\n",
       " '\\nKreis 6 is on the edge of the Zürichberg, a hill overlooking the eastern part of the city',\n",
       " ' District 6 contains the neighbourhoods of Oberstrass and Unterstrass',\n",
       " '\\nKreis 7 is on the edge of the Adlisberg hill as well as the Zürichberg, on the eastern side of the city',\n",
       " ' District 7 contains the neighbourhoods of Fluntern, Hottingen, and Hirslanden',\n",
       " \" These neighbourhoods are home to Zürich's wealthiest and more prominent residents\",\n",
       " ' The neighbourhood Witikon also belongs to district 7',\n",
       " '\\nKreis 8, officially called Riesbach, but colloquially known as Seefeld, lies on the eastern side of Lake Zürich',\n",
       " ' District 8 consists of the neighbourhoods of Seefeld, Mühlebach, and Weinegg',\n",
       " '\\nKreis 9 is between the Limmat to the north and the Uetliberg to the south',\n",
       " ' It contains the neighbourhoods Altstetten and Albisrieden',\n",
       " '\\nKreis 10 is to the east of the Limmat and to the south of the Hönggerberg and Käferberg hills',\n",
       " ' District 10 contains the neighbourhoods of Höngg and Wipkingen',\n",
       " '\\nKreis 11 is in the area north of the Hönggerberg and Käferberg and between the Glatt Valley and the Katzensee (Cats Lake)',\n",
       " ' It contains the neighbourhoods of Affoltern, Oerlikon and Seebach',\n",
       " '\\nKreis 12, known as Schwamendingen, is located in the Glattal (Glatt valley) on the northern side of the Zürichberg',\n",
       " ' District 12 contains the neighbourhoods of Saatlen, Schwamendigen Mitte, and Hirzenbach',\n",
       " 'Most of the district boundaries are fairly similar to the original boundaries of the previously existing municipalities before they were incorporated into the city of Zürich',\n",
       " '\\n\\n\\n=== Government ===\\n\\nThe City Council (Stadtrat) constitutes the executive government of the City of Zürich and operates as a collegiate authority',\n",
       " ' It is composed of nine councilors, each presiding over a department',\n",
       " ' Departmental tasks, coordination measures and implementation of laws decreed by the Municipal Council are carried out by the City Council',\n",
       " ' The regular election of the City Council by any inhabitant valid to vote is held every four years',\n",
       " ' The mayor (German: Stadtpräsident(in)) is elected as such by a public election by a system of Majorz while the heads of the other departments are assigned by the collegiate',\n",
       " ' Any resident of Zurich allowed to vote can be elected as a member of the City Council',\n",
       " ' In the mandate period 2022–2026 (Legislatur) the City Council is presided by mayor Corine Mauch',\n",
       " ' The executive body holds its meetings in the City Hall (German: Stadthaus), on the left bank of the Limmat',\n",
       " ' The building was built in 1883 in Renaissance style',\n",
       " '\\nAs of May 2023, the Zürich City Council is made up of four representatives of the SP (Social Democratic Party, one of whom is the mayor), two members each of the Green Party and the FDP (Free Democratic Party), and one member of GLP (Green Liberal Party), giving the left parties a combined six out of nine seats',\n",
       " ' The last regular election was held on 13 February 2022',\n",
       " '\\n\\nClaudia Cuche-Curti is Town Chronicler (Stadtschreiberin) since 2012, and Andrea Töndury is Legal Counsel (Rechtskonsulent) since 2020 for the City Council',\n",
       " '\\n\\n\\n=== Parliament ===\\n\\nThe Municipal Council (Gemeinderat) holds the legislative power',\n",
       " ' It is made up of 125 members (Gemeindrat / Gemeinderätin), with elections held every four years',\n",
       " ' The Municipal Council decrees regulations and by-laws that are executed by the City Council and the administration',\n",
       " ' The sessions of the Municipal Council are held in public',\n",
       " ' Unlike those of the City Council, the members of the Municipal Council are not politicians by profession but are paid a fee based on their attendance',\n",
       " ' Any resident of Zürich allowed to vote can be elected as a member of the Municipal Council',\n",
       " ' The legislative body holds its meetings in the town hall (Rathaus), on the right bank of the Limmat opposite to the City Hall (Stadthaus)',\n",
       " 'The last election of the Municipal Council was held on 4 March 2018 for the mandate period of 2022–2026',\n",
       " \" As of February 2023, the Municipal Council consist of 37 members of the Social Democratic Party (SP), 23 The Liberals (FDP), 18 Green Party (GPS), 16 Green Liberal Party (GLP), 14 members of the Swiss People's Party (SVP), 8 Alternative List (AL), and three members of the Evangelical People's Party (EVP), giving the left parties an  absolute majority of total 63 seats with only one seat\",\n",
       " '\\n\\n\\n=== Elections ===\\n\\n\\n==== National Council ====\\nIn the 2019 federal election for the Swiss National Council the most popular party was the SPS which received 25',\n",
       " '6% (-6) of the vote',\n",
       " ' The next four most popular parties were the GPS (20',\n",
       " '9%, +9',\n",
       " '7), GLP (15',\n",
       " '7%, +6',\n",
       " '4), SVP (13',\n",
       " '7%, -4',\n",
       " '3), the FDP (11',\n",
       " '8%, -2',\n",
       " '2), the AL (4%, new), and the CVP (3',\n",
       " '5%, -0',\n",
       " '2)',\n",
       " ' In the federal election, a total of 110,760 voters were cast, and the voter turnout was 47',\n",
       " '7%',\n",
       " 'In the 2015 federal election for the Swiss National Council the most popular party was the SPS which received 31',\n",
       " '6% of the vote',\n",
       " ' The next four most popular parties were the SVP (18%), the FDP (14%), the GPS (10',\n",
       " '7%), the GLP (9',\n",
       " '2%)',\n",
       " ' In the federal election, a total of 114,377 voters were cast, and the voter turnout was 46',\n",
       " '2%',\n",
       " '\\n\\n\\n=== International relations ===\\n\\n\\n==== Twin towns and sister cities ====\\nZürich is partnered with two sister cities: Kunming and San Francisco',\n",
       " '\\n\\n\\n== Geography ==\\nZürich is situated at 408 m (1,339 ft) above sea level on the lower (northern) end of Lake Zürich (Zürichsee) about 30 km (19 mi) north of the Alps, nestling between the wooded hills on the west and east side',\n",
       " ' The Old Town stretches on both sides of the Limmat, which flows from the lake, running northwards at first and then gradually turning into a curve to the west',\n",
       " ' The geographic (and historic) centre of the city is the Lindenhof, a small natural hill on the west bank of the Limmat, about 700 m (2,300 ft) north of where the river issues from Lake Zürich',\n",
       " ' Today the incorporated city stretches somewhat beyond the natural confines of the hills and includes some districts to the northeast in the Glatt Valley (Glattal) and to the north in the Limmat Valley (Limmattal)',\n",
       " ' The boundaries of the older city are easy to recognize by the Schanzengraben canal',\n",
       " ' This artificial watercourse has been used for the construction of the third fortress in the 17th and 18th centuries',\n",
       " '\\n\\n\\n=== Topography ===\\nThe municipality of Zürich has an area of 91',\n",
       " '88 km2 (35',\n",
       " '48 sq mi), of which 4',\n",
       " '1 km2 (1',\n",
       " '6 sq mi) is made up of Lake Zürich',\n",
       " ' The area includes a section of the northern Swiss Plateau',\n",
       " ' The banks of the Limmat constitute the densest part of the city',\n",
       " ' The river is oriented in the southeast–northwest direction, with the flat valley floor having a width of two to three km (1',\n",
       " '2 to 1',\n",
       " '9 mi)',\n",
       " ' The partially channeled and straightened Limmat does not flow in the central part of the valley, but always along its right (northeastern) side',\n",
       " ' The Sihl meets with the Limmat at the end of Platzspitz, which borders the Swiss National Museum',\n",
       " ' The Limmat reaches the lowest point of the municipality in Oberengstringen at 392 m (1,286 ft) above sea level',\n",
       " '\\nOn its west side, the Limmat valley is flanked by the wooded heights of the Albis chain, which runs along the western border',\n",
       " ' The Uetliberg is, with 869 m (2,851 ft) above sea level, the highest elevation of the surrounding area',\n",
       " ' Its summit can be reached easily by the Uetlibergbahn',\n",
       " ' From the platform of the observation tower on the summit, an impressive panorama of the city, the lake, and the Alps can be seen',\n",
       " 'The northeast side of the Limmat valley includes a range of hills, which marks the watershed between the Limmat and the Glatt',\n",
       " ' From the northwest to the southeast, the height of the mostly wooded knolls generally increases: the Gubrist (615 m or 2,018 ft), the Hönggerberg (541 m or 1,775 ft), the Käferberg (571 m or 1,873 ft), the Zürichberg (676 m or 2,218 ft), the Adlisberg (701 m or 2,300 ft) and the Öschbrig (696 m or 2,283 ft)',\n",
       " ' Between the Käferberg and the Zürichberg is located the saddle of the Milchbuck (about 470 m or 1,540 ft), an important passage from the Limmat valley to the Glatt valley',\n",
       " 'The northernmost part of the municipality extends to the plain of the Glatt valley and to the saddle which makes the connection between the Glattal and Furttal',\n",
       " ' Also, a part of the Katzensee (nature reserve) and the Büsisee, both of which are drained by the Katzenbach to Glatt, belong to the city',\n",
       " '\\n\\n\\n=== Climate ===\\nZürich has an oceanic climate (Köppen: Cfb), with warm summers and four distinct seasons',\n",
       " ' Decisive for the climate of Zürich are both the winds from westerly directions, which often result in precipitation and, on the other hand, the Bise (east or north-east wind), which is usually associated with high-pressure situations, but cooler weather phases with temperatures lower than the average',\n",
       " ' The Foehn wind, which plays an important role in the northern alpine valleys, also has some impact on Zürich',\n",
       " 'The annual mean temperature at the measuring station of the Federal Office of Meteorology and Climatology in Zürich-Fluntern (556 m[1,824 ft] above sea level on the slope of the Zürichberg, 150 m[490 ft] above the level of the city centre) is 9',\n",
       " '3 °C (48',\n",
       " '7 °F)',\n",
       " ' The lowest monthly mean of daily minimum temperature are measured in January with −2',\n",
       " '0 °C (28',\n",
       " '4 °F) and the highest monthly mean of daily maximum temperature are measured in July with 24',\n",
       " '0 °C (75',\n",
       " '2 °F)',\n",
       " ' On average there are 74',\n",
       " '9 days in which the minimum temperature is below 0 °C (32 °F) (so-called frost days), and 23',\n",
       " '7 days in which the maximum temperature is below 0 °C (32 °F) (so-called ice days)',\n",
       " ' There are on average 30 so-called summer days (maximum temperature equal to or above 25 °C [77 °F]) throughout the year, while so-called heat days (with maximum temperature equal to or above 30 °C [86 °F]) are 5',\n",
       " '8 days',\n",
       " 'The average high temperature in July is 24',\n",
       " '0 °C (75',\n",
       " '2 °F) and average low temperature is 14 °C (57',\n",
       " '2 °F)',\n",
       " ' The highest recorded temperature in Zürich was 37',\n",
       " '7 °C (100 °F), recorded in July 1947, and typically the warmest day reaches an average of 32',\n",
       " '2 °C (90',\n",
       " '0 °F)',\n",
       " 'Spring and autumn are generally cool to mild, but sometimes with large differences between warm and cold days even during the same year',\n",
       " ' The highest temperature of the month March in 2014 was on the 20th at 20',\n",
       " '6 °C (69',\n",
       " '1 °F) during a sunny afternoon and the lowest temperature was on the 25th at −0',\n",
       " '4 °C (31',\n",
       " '3 °F) during the night/early morning',\n",
       " ' Record low of average daily temperatures in March since 1864 is −12 °C (10 °F) and record high of average daily temperatures in March is 16 °C (61 °F)',\n",
       " ' Record low of average daily temperatures in October is −16 °C (3 °F) and record high of average daily temperatures in October is 20 °C (68 °F)',\n",
       " 'Zürich has an average of 1,544 hours of sunshine per year and shines on 38% of its potential time throughout the year',\n",
       " ' During the months April until September the sun shines between 150 and 215 hours per month',\n",
       " ' The 1,134 mm (44',\n",
       " '6 in) rainfall spread on 133',\n",
       " '9 days with precipitation throughout the year',\n",
       " ' Roughly about every third day you will encounter at least some precipitation, which is very much a Swiss average',\n",
       " ' During the warmer half of the year and especially during the three summer months, the strength of rainfall is higher than those measured in winter, but the days with precipitation stays about the same throughout the year (in average 9',\n",
       " '9–12',\n",
       " '7 days per month)',\n",
       " ' October has the lowest number (9',\n",
       " '9) of days with some precipitation',\n",
       " ' There is an average of 59',\n",
       " '5 so-called bright days (number of days with sunshine duration greater than 80%) through the year, the most in July and August (7',\n",
       " '4, 7',\n",
       " '7 days), and the least in January and December (2',\n",
       " '7, 1',\n",
       " '8 days)',\n",
       " ' The average number of days with sunshine duration less than 20%, so-called cloudy days, is 158',\n",
       " '4 days, while the most cloudy days are in November (17',\n",
       " '8 days), December (21',\n",
       " '7 days), and January with 19 days',\n",
       " '\\n\\n\\n=== Climate protection ===\\nIn November 2008 the people of Zürich voted in a public referendum to write into law the quantifiable and fixed deadline of one tonne of CO2 per person per annum by 2050',\n",
       " ' This forces any decision of the executive to support this goal, even if the costs are higher in all dimensions',\n",
       " ' Some examples are the new disinfection section of the public city hospital in Triemli (Minergie-P quality – passive house), the continued optimisation and creation of public transportation, enlargement of the bicycle-only network, research and projects for renewable energy and enclosure of speed-ways',\n",
       " '\\n\\n\\n=== Urban area ===\\nThe areas surrounding the Limmat are almost completely developed with residential, industrial, and commercial zones',\n",
       " ' The sunny and desirable residential areas in the hills overlooking Zürich, Waidberg and Zürichberg, and the bottom part of the slope on the western side of the valley on the Uetliberg, are also densely built',\n",
       " '\\nThe \"green lungs\" of the city include the vast forest areas of Adlisberg, Zürichberg, Käferberg, Hönggerberg and Uetliberg',\n",
       " ' Major parks are also located along the lakeshore (Zürichhorn and Enge), while smaller parks dot the city',\n",
       " ' Larger contiguous agricultural lands are located near Affoltern and Seebach',\n",
       " ' Of the total area of the municipality of Zürich (in 1996, without the lake), 45',\n",
       " '4% is residential, industrial and commercial, 15',\n",
       " '5% is transportation infrastructure, 26',\n",
       " '5% is forest, 11%: is agriculture and 1',\n",
       " '2% is water',\n",
       " '\\n\\n\\n== Transport ==\\n\\n\\n=== Public transport ===\\nPublic transport is extremely popular in Zürich, and its inhabitants use public transport in large numbers',\n",
       " ' About 70% of the visitors to the city use the tram or bus, and about half of the journeys within the municipality take place on public transport',\n",
       " \" The ZVV network of public transport contains at least four means of mass-transit: any train that stops within the network's borders, in particular the S-Bahn (local trains), Zürich trams, and buses (both diesel and electric, also called trolley buses) and boats on the lake and river\",\n",
       " ' In addition, the public transport network includes funicular railways and even the Luftseilbahn Adliswil-Felsenegg (LAF), a cable car between Adliswil and Felsenegg',\n",
       " ' Tickets purchased for a trip are valid on all means of public transportation (train, tram, bus, boat)',\n",
       " ' The Zürichsee-Schifffahrtsgesellschaft (commonly abbreviated to ZSG) operates passenger vessels on the Limmat and the Lake Zürich, connecting surrounding towns between Zürich and Rapperswil',\n",
       " '\\n\\nZürich is a mixed hub for railways, roads, and air traffic',\n",
       " ' Zürich Hauptbahnhof (Zürich HB) is the largest and busiest station in Switzerland and is an important railway hub in Europe',\n",
       " ' As of early 2020, Zürich HB served around 470,000 passengers and nearly 3,000 trains every day',\n",
       " \" Among the 16 railway stations (and 10 additional train stops) within Zürich's city borders, there are five other major passenger railway stations\",\n",
       " ' Three of them belong to the ten most frequented railway stations in Switzerland: Stadelhofen, Oerlikon, Altstetten, Hardbrücke, and Enge',\n",
       " ' The railway network is mainly operated by the Swiss Federal Railways (SBB CFF FFS), but Zürich is also served by major EuroCity trains from the neighbouring countries and is a destination for both French/Swiss (TGV Lyria) and German (ICE) high-speed trains, as well as by Austrian RailJet',\n",
       " '\\n\\n\\n=== Zurich Airport ===\\nZurich Airport is located less than 10 km (6',\n",
       " '2 mi) northeast of the city in Kloten',\n",
       " ' Zurich Airport has its own railway station, which is located underground',\n",
       " ' It is directly connected to Zürich and most of the major Swiss cities',\n",
       " ' Zurich Airport is served by more than 60 passenger airlines from around the world',\n",
       " ' It is also served by one cargo airline and is a hub for Swiss International Air Lines',\n",
       " ' There is also an airfield in Dübendorf',\n",
       " '\\n\\n\\n=== Road traffic ===\\nThe A1, A3 and A4 motorways pass close to Zürich',\n",
       " ' The A1 heads west towards Bern and Geneva and eastwards towards St',\n",
       " ' Gallen; the A4 leads northwards to Schaffhausen and southwards to Altdorf connecting with the A2 towards Chiasso; and the A3 heads northwest towards Basel and southeast along Lake Zürich and Lake Walen towards Sargans',\n",
       " \"\\n\\n\\n=== Bicycle transport ===\\nIn 2012, the city council launched a program to improve the city's attractiveness for bicycle traffic\",\n",
       " ' The so-called \"Masterplan Velo\" is part of the superordinate framework Stadtverkehr 2025 which shapes the future of the different means of transport',\n",
       " \" Research revealed that infrastructure and the social environment are essential factors in improving a city's appeal to bicycle traffic\",\n",
       " ' Three main goals are specified: First, the modal share of bicycle traffic should be enhanced to twice the value of 2011 by 2015',\n",
       " \" Second, cyclists' safety should be improved to lower the overall accident risk\",\n",
       " ' Third, cycling should be established as an everyday means of transport with a special focus on children and young people',\n",
       " '\\nIn terms of infrastructure, the city aims to build up a network of distinctive bicycle routes in order to achieve these objectives',\n",
       " ' At a final stage, the network will consist of main routes (Hauptrouten) for everyday use and comfort routes (Komfortrouten), with the latter focusing on leisure cycling',\n",
       " ' Additional measures such as special Velostationen providing bike-related services are expected to help to further improve the quality',\n",
       " ' One of the key projects of the system is a tunnel beneath the tracks of the main railway station planned to combine a main connection with staffed possibilities where commuters can leave their bikes throughout the day',\n",
       " ' Apart from infrastructural measures, further approaches are planned in the fields of communication, education and administration',\n",
       " '\\nHowever, these efforts cause critique, mainly due to postponing',\n",
       " ' The institution of the bike tunnel at the main railway station, originally planned for 2016, was delayed to at least 2019',\n",
       " ' Pro Velo, a nationwide interest group, has publicly questioned whether the masterplan already failed',\n",
       " ' The critique aims at badly governed traffic management at construction sites, missing possibilities to park bikes in the city as well as rather diffident ambitions',\n",
       " ' In response, the responsible city department points to the big investments made every year and mentions ongoing discussions that would finally lead to even better results',\n",
       " \"\\n\\n\\n== Demographics ==\\n\\n\\n=== Population ===\\nThere are 421,878 people living in Zürich (as of 31 December 2020), making it Switzerland's largest city\",\n",
       " ' Of registered inhabitants (in 2016), 32% (133,473) do not hold Swiss citizenship',\n",
       " ' Of these, German citizens make up the largest group with 8% (33,548), followed by Italians 3',\n",
       " '5% (14,543)',\n",
       " ' As of 2011, the population of the city, including suburbs, totaled 1',\n",
       " '17 million people',\n",
       " ' The entire metropolitan area (including the cities of Winterthur, Baden, Brugg, Schaffhausen, Frauenfeld, Uster / Wetzikon, Rapperswil-Jona, and Zug) had a population of around 1',\n",
       " '82 million people',\n",
       " '\\n\\n\\n=== Languages ===\\nThe official formal language used by governmental institutions, print, news, schools and universities, courts, theatres and in any kind of written form is the Swiss variety of Standard German, while the spoken language is Zürich German (Züritüütsch), one of the several more or less distinguishable, but mutually intelligible Swiss German dialects of Switzerland with roots in the medieval Alemannic German dialect groups',\n",
       " \" However, because of Zürich's national importance, and therefore its existing high fluctuation, its inhabitants and commuters speak all kinds of Swiss German dialects\",\n",
       " ' As of the December 2010 census, 69',\n",
       " '3% of the population speaks diglossic Swiss German/Swiss Standard German as their mother-tongue at home',\n",
       " ' Some 22',\n",
       " '7% of inhabitants speak Standard German in their family environment (\"at home\")',\n",
       " ' Dramatically increasing, according to the last census in 2000, 8',\n",
       " '8% now speak English',\n",
       " ' Italian follows behind at 7',\n",
       " '1% of the population, then French at 4',\n",
       " '5%',\n",
       " ' Other languages spoken here include: Bosnian (4',\n",
       " '1%), Spanish (3',\n",
       " '9%), Portuguese (3',\n",
       " '1%), and Albanian (2',\n",
       " '3%)',\n",
       " ' (Multiple choices were possible',\n",
       " ') Thus, 20% of the population speak two or more languages at home',\n",
       " '\\n\\n\\n=== Religion ===\\n\\nBefore the Protestant Reformation reached Zürich, it was de jure and de facto Roman Catholic',\n",
       " '\\nThe Protestant Reformation, led by Huldrych Zwingli, made Zürich both a theological centre and a stronghold of Protestantism in Switzerland',\n",
       " ' Another Swiss city with a comparable status was Geneva, the so-called Protestant Rome, where John Calvin and his Protestant Reformers operated, as well as Basel',\n",
       " ' Zürich attracted other influential Protestant Reformers like Heinrich Bullinger',\n",
       " ' Zwingli translated the Bible (Zürich Bible) into the local variety of German, and introduced the Reformation by winning support of the magistrates, the princess abbess Katharina von Zimmern, and the largely peasant population of the Canton of Zürich',\n",
       " ' The canton unanimously adopted the Reformed tradition, as represented by Zwingli',\n",
       " ' Religious wars between Catholics and Protestants tormented the Swiss Confederacy',\n",
       " ' Zwingli died for political and religious reasons by defending the Canton of Zürich in the Battle of Kappel',\n",
       " \" Bullinger took over his role as the city's spiritual leader\",\n",
       " '\\nIn 1970, about 53% of the population were Swiss Reformed, while almost 40% were Roman Catholic',\n",
       " ' Since then, both large Swiss churches, the Roman Catholic Church and Swiss Reformed Church, have been constantly losing members, though for the Catholic Church, the decrease started 20 years later, in around 1990',\n",
       " ' Nevertheless, for the last twenty years, both confessions have been reduced by 10%, to the current figures (census 2010): 30% Roman Catholic, and 26% Swiss Reformed (organized in Evangelical Reformed Church of the Canton of Zürich)',\n",
       " \" In 1970, only 2% of Zürich's inhabitants claimed to be not affiliated with any religious confession\",\n",
       " ' In accordance with the loss by the large Swiss churches, the number of people declaring themselves as non-affiliated rose to 17% in the year 2000',\n",
       " ' In the last ten years, this figure rose to more than 25%',\n",
       " ' For the group of people, being between 24 and 44 years old, this is as high as one in every third person',\n",
       " \"5% of Zürich's inhabitants are Muslims, a slight decrease of 1%, compared to the year 2000\",\n",
       " ' The Mahmood Mosque Zürich, situated in Forchstrasse, is the first mosque built in Switzerland',\n",
       " 'The population of Jewish ethnicity and religion has been more or less constant since 1970, at about 1%',\n",
       " ' The Synagoge Zürich Löwenstrasse is the oldest and largest synagogue of Zürich',\n",
       " '\\n\\n\\n=== Social ===\\nThe level of unemployment in Zürich was 3',\n",
       " '2% in July 2012',\n",
       " ' In 2008, the average monthly income was about CHF 7000 before any deductions for social insurances and taxes',\n",
       " ' In 2010, there were 12,994 cases (on average per month) of direct or indirect welfare payments from the state',\n",
       " '\\n\\n\\n=== Quality of living ===\\nZürich often performs very well in international rankings, some of which are mentioned below:\\n\\nMonocle\\'s 2012 \"Quality of Life Survey\" ranked Zürich first on a list of the top 25 cities in the world \"to make a base within\"',\n",
       " ' In 2019 Zürich was ranked among the ten most liveable cities in the world by Mercer together with Geneva and Basel',\n",
       " '\\nIn fDi Magazine\\'s \"Global Cities of the Future 2021/22\" report, Zürich placed 16th in the overall rankings (all categories)',\n",
       " ' In the category \"Mid-sized and small cities\", Zürich was 2nd overall, behind Wroclaw, having also placed 2nd in the subcategory \"Human capital and lifestyle\" and 3rd under \"Business friendliness\"',\n",
       " ' In the category \"FDI strategy, overall\" (relating to foreign direct investment), Zürich ranked 9th, behind such cities as New York, Montreal (1st and 2nd) and Dubai (at number 8)',\n",
       " \"\\n\\n\\n== Main sites ==\\n\\nMost of Zürich's sites are located within the area on either side of the Limmat, between the Main railway station and Lake Zürich\",\n",
       " ' The churches and houses of the old town are clustered here, as are the most expensive shops along the famous Bahnhofstrasse',\n",
       " ' The Lindenhof in the old town is the historical site of the Roman castle, and the later Carolingian Imperial Palace',\n",
       " \"\\n\\n\\n=== Churches ===\\nGrossmünster (Great Minster) According to legend, Charlemagne discovered the graves of the city's martyrs Felix and Regula and had built the first church as a monastery; start of current building around 1100; in the first half of the 16th century, the Great Minster was the starting point of the Swiss-German Reformation led by Huldrych Zwingli and Heinrich Bullinger; declared by Charlemagne imperial church; romanesque crypt, romanesque capitals in the church and cloister; choir windows by Augusto Giacometti (1932) and Sigmar Polke (2009), bronze doors by Otto Münch (1935 and 1950)\",\n",
       " \"\\nFraumünster (Women's Minster) Church of a former abbey for aristocratical women from southern Germany which was founded in 853 by Louis the German for his daughter Hildegard; first church built before 874; the romanesque choir dates from 1250 to 1270; the church enjoyed the patronage of kings and had the right of coinage from Zürich to the 13th century; after the Reformation, church and convent passed into the possession of the city; the most important jewelry – in addition to the largest organ in the canton with its 5,793 pipes and 92 stops – are color windows: the window in the north transept of Augusto Giacometti (1945), the five-part cycle in the choir (1970) and the rosette in the southern transept (1978) are by Marc Chagall; also the church of Zürich's largest choir with 100 and more singers\",\n",
       " '\\nSt',\n",
       " ' Peter romanesque-gothic-baroque church built on remains of former churches from before the 9th century; with the largest church clock face in Europe built 1538; baptismal font of 1598, baroque stucco; individual stalls from the 15th century from city repealed monasteries with rich carvings and armrests; Kanzellettner (increased barrier between the nave and choir with built-pulpit) of 1705 pulpit sounding board about 1790; rich Akanthus embellishment with Bible verse above the pulpit; 1971 new crystal chandelier modeled according 1710 design; organ in 1974 with 53 stops; Bells: five from 1880, the largest, A minor, without clapper weighs about 6,000 kg (13,228 lb); fire guard in the tower to the Middle Ages to 1911',\n",
       " '\\nPredigerkirche is one of the four main churches of the old town, first built in 1231 AD as a Romanesque church of the then Dominican Predigerkloster nearby the Neumarkt',\n",
       " ' It was converted in the first half of the 14th century, and the choir rebuilt between 1308 and 1350',\n",
       " ' Due to its construction and for that time unusual high bell tower, it was regarded as the most high Gothic edifice in Zürich',\n",
       " '\\n\\n\\n=== Museums ===\\nZürich Museum of Art – The Museum of Art, also known as Kunsthaus Zürich, is one of the significant art museums of Europe',\n",
       " ' It holds one of the largest collections in Classic Modern art in the world (Munch, Picasso, Braque, Giacometti, etc',\n",
       " ')',\n",
       " ' The museum also features a large library collection of photographs',\n",
       " '\\nSwiss National Museum – The National Museum (German: Landesmuseum) displays many objects that illustrate the cultural and historical background of Switzerland',\n",
       " ' It also contains many ancient artifacts, including stained glass, costumes, painted furniture and weapons',\n",
       " ' The museum is located in the Platzspitz park opposite to the Hauptbahnhof',\n",
       " '\\nCentre Le Corbusier – Located on the shore of the Lake Zürich nearby Zürichhorn, the Centre Le Corbusier (also named: Heidi Weber Museum), is an art museum dedicated to the work of the Swiss architect Le Corbusier, inside the last house he designed',\n",
       " '\\nRietberg Museum – The Rietberg Museum, situated in Gablerstrasse, is one of the great repositories of art and culture in Zürich',\n",
       " ' The museum also displays exhibits gathered from various corners of the world: bronze artifacts from Tibet, ceramics and jade, Indian sculpture, Chinese grave decorations, masks by African tribes, etc',\n",
       " '\\nMuseum of Design – The Museum of Design is a museum for industrial design, visual communication, architecture and craft',\n",
       " ' It is part of the Department of Cultural Analysis of the Zürich University of the Arts',\n",
       " '\\nHaus Konstruktiv – The Haus Konstruktiv is a museum with Swiss-wide and international recognition',\n",
       " ' The museum is about constructive, concrete and conceptual art and design',\n",
       " \" It testimonies to Zürich's industrial architecture in the immediate vicinity of the Main Station\",\n",
       " '\\nUhrenmuseum Beyer – The Uhrenmuseum is located in the heart of the city',\n",
       " ' Documenting the history of timekeeping and timekeepers, the museum is home to a large collection of mechanical timepieces as well as a collection of primitive time keeping devices such as water clocks, sundials and hourglasses',\n",
       " '\\nNo Show Museum – the No Show Museum is the first museum dedicated to nothing and its various manifestations throughout the history of art',\n",
       " '\\nGuild houses – The Guild houses (German: Zunfthaus) are located along the Limmat (downstream from the Grossmünster): Meisen (also a porcelain and faience museum), Rüden, Haue, Saffran, Schneidern, Schmiden, Zimmerleuten, and some more',\n",
       " \"\\nTram Museum – The Tram Museum is located at Burgwies in Zürich's eastern suburbs, and chronicles the history of Zürich's iconic tram system with exhibits varying in date from 1897 to the present day\",\n",
       " '\\nNorth America Native Museum – The North American Native Museum specializes in the conservation, documentation and presentation of ethnographic objects and art of Native American, First Nation and Inuit cultures',\n",
       " '\\nFIFA Museum - The museum exhibits memorabilities from the world of Association Football (Soccer), founded by the Féderation Internationale de Football Association\\n\\n\\n=== Parks and nature ===\\nZoological Garden – The zoological garden holds about 260 species of animals and houses about 2200 animals',\n",
       " ' One can come across separate enclosures of snow leopards, India lions, clouded leopards, Amur leopards, otters and pandas in the zoo',\n",
       " '\\nBotanical Garden – The Botanical Garden houses about 15,000 species of plants and trees and contains as many as three million plants',\n",
       " ' In the garden, many rare plant species from south western part of Africa, as well as from New Caledonia can be found',\n",
       " ' The University of Zürich holds the ownership of the Botanical Garden',\n",
       " \"\\nChinese Garden – The Chinese Garden is a gift by Zürich's Chinese partner town Kunming, as remiscence for Zürich's technical and scientific assistance in the development of the Kunming city drinking water supply and drainage\",\n",
       " ' The garden is an expression of one of the main themes of Chinese culture, the «Three Friends of Winter» – three plants that together brave the cold season – pine, bamboo, and plum',\n",
       " '\\nUetliberg – Located to the west of the city at an altitude of 813 m (2,667 ft) above sea level, the Uetliberg is the highest hill and offers views over the city',\n",
       " ' The summit is easily accessible by train from Zürich main station',\n",
       " '\\n\\n\\n=== Kunst und Bau (construction permit office) ===\\nIn 1922 Augusto Giacometti won the competition to paint the entrance hall of Amtshaus I, which the city promised to brighten up this gloomy room, which was once used as a cellar, and at the same time to alleviate the precarious economic situation of the local artists',\n",
       " ' Giacometti brought in the painters Jakob Gubler, Giuseppe Scartezzini and Franz Riklin for the execution of this fresco, which encompasses the ceiling and walls, thereby creating a unique color space that appears almost sacred in its luminosity',\n",
       " '\\n\\n\\n=== Architecture ===\\nCompared to other cities, there are few tall buildings in Zürich',\n",
       " ' The municipal building regulations (Article 9) limit the construction of high-rise buildings to areas in the west and north of the city',\n",
       " ' In the industrial district, Altstetten and Oerlikon, buildings up to 80 m (260 ft) in height are allowed (high-rise area I)',\n",
       " ' In the adjacent high-rise areas II and III the height is limited to 40 m (130 ft)',\n",
       " ' Around the year 2000, regulations became more flexible and high-rise buildings were again planned and built',\n",
       " ' The people\\'s initiative \"40 m (130 ft) is enough,\" which would have reduced both the maximum height and the high-rise buildings area, was clearly rejected on 29 November 2009',\n",
       " ' At this time in Zürich about a dozen high-rise buildings were under construction or in planning, including the Prime Tower as the tallest skyscraper in Switzerland at the time of its construction',\n",
       " \" There are numerous examples of brutalist buildings throughout the city, including the Swissmill Tower which, at 118m, is the world's tallest grain silo\",\n",
       " ' \\n\\n\\n=== World heritage sites ===\\nThe prehistoric settlements at Enge Alpenquai and Grosser Hafner and Kleiner Hafner are part of the Prehistoric Pile dwellings around the Alps a UNESCO World Heritage Site',\n",
       " '\\n\\n\\n== Economy ==\\n\\nIn a 2009 survey by CityMayors',\n",
       " 'com, Zürich was ranked 9th among the \"World\\'s 10 Most Powerful Cities\"',\n",
       " ' In the 2017 Global Financial Centres Index, Zürich was ranked as having the 11th most competitive financial center in the world, and second most competitive in Europe after London',\n",
       " \" The Greater Zürich Area is Switzerland's economic centre and home to many international companies\",\n",
       " ' By far the most important sector in the economy of Zürich is the service industry, which employs nearly four-fifths of workers',\n",
       " ' Other important industries include light industry, machine and textile industries and tourism',\n",
       " ' Located in Zürich, the Swiss Stock Exchange was established in 1877 and is now the fourth most prominent stock exchange in the world',\n",
       " \" In addition, Zürich is the world's largest gold trading centre\",\n",
       " \"Ten of the country's 50 largest companies have their head offices in Zürich, among them ABB, UBS, Credit Suisse, Swiss Re and Zürich Financial Services\",\n",
       " ' Most Swiss banks have their headquarters in Zürich and there are numerous foreign banks in the Greater Zürich Area',\n",
       " ' \"Gnomes of Zurich\" is a disparaging term used for Swiss bankers  on account of their alleged secrecy and speculative dealing',\n",
       " '\\n\\n\\n=== Contributory factors to economic strength ===\\nThe high quality of life has been cited as a reason for economic growth in Zürich',\n",
       " ' The consulting firm Mercer has for many years ranked Zürich as a city with the highest quality of life in the world',\n",
       " ' In particular, Zürich received high scores for work, housing, leisure, education and safety',\n",
       " ' Local planning authorities ensure clear separation between urban and recreational areas and there are many protected nature reserves',\n",
       " ' Zürich is also ranked the third most expensive city in the world, behind Hong Kong and Tokyo and ahead of Singapore',\n",
       " 'Zürich benefits from the high level of investment in education which is typical of Switzerland in general and provides skilled labour at all levels',\n",
       " ' The city is home to two major universities, thus enabling access to graduates and high technology research',\n",
       " ' Professional training incorporates a mix of practical work experience and academic study while, in general, emphasis is placed on obtaining a good level of general education and language ability',\n",
       " ' As a result, the city is home to many multilingual people and employees generally demonstrate a high degree of motivation and a low level of absenteeism',\n",
       " ' The employment laws are less restrictive as nearby Germany or France',\n",
       " ' Technology new start, FinTech and others in MedTech secure good seed and starter funding',\n",
       " 'Google Zurich is a main hub for its operations in Europe with about 5000 employees',\n",
       " \" In March 2023, workers at the center staged a solidarity movement in coordination with its IT workers' union Syndicom to reduce lay-offs and to oppose salary cuts\",\n",
       " ' According to a spokesperson for the company, Zurich would remain a major employer despite the measures',\n",
       " '\\n\\n\\n=== The Swiss stock exchange ===\\nThe Swiss stock exchange is called SIX Swiss Exchange, formerly known as SWX',\n",
       " ' The SIX Swiss Exchange is the head group of several different worldwide operative financial systems: Eurex, Eurex US, EXFEED, STOXX, and virt-x',\n",
       " ' The exchange turnover generated at the SWX was in 2007 of 1,780,499',\n",
       " '5 million CHF; the number of transactions arrived in the same period at 35,339,296 and the Swiss Performance Index (SPI) arrived at a total market capitalization of 1,359,976',\n",
       " '2 million CHF',\n",
       " '\\n\\n\\n== Education and research ==\\nAbout 70,000 people study at the 20 universities, colleges and institutions of higher education in Zürich in 2019',\n",
       " \" Two of Switzerland's most distinguished universities are located in the city: the Swiss Federal Institute of Technology (ETH Zurich), which is controlled by the federal government, and the University of Zurich, under direction of the canton of Zürich\",\n",
       " ' Both universities were listed in the top 50 world universities rated in 2007, while the ETH has consistently remained in the top 10 universities worldwide since 2016',\n",
       " 'ETH was founded in 1854 by the Swiss Confederation and opened its doors in 1855 as a polytechnic institute',\n",
       " ' ETH achieved its reputation particularly in the fields of chemistry, mathematics and physics and there are 21 Nobel Laureates who are associated with the institution',\n",
       " ' ETH is usually ranked the top university in continental Europe',\n",
       " ' The institution consists of two campuses, the main building in the heart of the city and the new campus on the outskirts of the city',\n",
       " '\\nThe University of Zurich was founded in 1833, although its beginnings date back to 1525 when the Swiss reformer Ulrich Zwingli founded a college of theology',\n",
       " ' Nowadays with its 24,000 students and 1,900 graduations each year, the University of Zürich is the largest in Switzerland and offers the widest range of subjects and courses at any Swiss higher education institution',\n",
       " \"\\nThe Pedagogical College, the Zurich University of Applied Sciences (ZHAW) and the Zurich University of the Arts (ZHdK) are another three top-class technical colleges which contribute to Zürich's reputation as a knowledge and research pole by providing applied research and development\",\n",
       " ' Zürich is also one of the co-location centres of the Knowledge and Innovation Community (Climate Change Mitigation and Adaptation) of the European Institute of Innovation and Technology',\n",
       " 'In addition to the university libraries, the city is also served by the Zentralbibliothek Zürich, a research and public library, and the Pestalozzi-Bibliothek Zürich, a public library with 14 locations',\n",
       " '\\n\\n\\n=== State universities by size in canton of Zürich ===\\n\\n\\n== Media ==\\nMany large Swiss media conglomerates are headquartered in Zürich, such as tamedia, Ringier and the NZZ-Verlag',\n",
       " '\\n\\n\\n=== Television and radio ===\\nThe headquarters of Switzerland\\'s national licence fee-funded German language television network (\"SF\") are located in the Leutschenbach neighborhood, to the north of the Oerlikon railway station',\n",
       " ' Regional commercial television station \"TeleZüri\" (Zürich Television) has its headquarters near Escher-Wyss Platz',\n",
       " ' The production facilities for other commercial stations \"Star TV\", \"u1\" TV and \"3+\" are located in Schlieren',\n",
       " '\\nOne section of the Swiss German language licence fee-funded public radio station \"Schweizer Radio DRS\" is located in Zürich',\n",
       " ' There are commercial local radio stations broadcasting from Zürich, such as \"Radio 24\" on the Limmatstrasse, \"Energy Zürich\" in Seefeld on the Kreuzstrasse, Radio \"LoRa\" and \"Radio 1\"',\n",
       " ' There are other radio stations that operate only during certain parts of the year, such as \"CSD Radio\" (May/June), \"Radio Streetparade\" (July/August) and \"rundfunk',\n",
       " 'fm\" (August/September)',\n",
       " '\\n\\n\\n=== Print media ===\\nThere are three large daily newspapers published in Zürich that are known across Switzerland',\n",
       " ' The Neue Zürcher Zeitung (NZZ), the Tages-Anzeiger and Blick, the largest Swiss tabloid',\n",
       " ' All three of those newspapers publish Sunday editions',\n",
       " ' These are the NZZ am Sonntag, SonntagsZeitung and SonntagsBlick',\n",
       " ' Besides the three main daily newspapers, there is a free daily commuter newspaper which is widely distributed: 20 Minuten (20 minutes), published weekdays in the mornings',\n",
       " '\\nA number of magazines from major publishers are based in Zürich',\n",
       " ' Some examples are Bilanz, Die Weltwoche, Annabelle, Schweizer Familie and Schweizer Illustrierte',\n",
       " '\\n\\n\\n== Culture ==\\n\\nIn addition to high-quality museums and galleries, Zürich has high-calibre chamber and symphony orchestras and several important theatres',\n",
       " 'The Zurich Film Festival is an international film festival, lasting 11 days and featuring popular international productions',\n",
       " '\\nOne of the largest and most popular annual events in Zürich is the Street Parade, which is also one of the largest techno and dance music festivals in the world',\n",
       " ' Proceeding along the side of Lake Zürich, it is normally held on the second Saturday in August',\n",
       " ' The first edition was held in 1992 with about 1,000 participants',\n",
       " ' By 2001 the event attracted one million participants',\n",
       " ' The Zürifäscht, on the other hand, is a triennial public festival',\n",
       " ' It features music, fireworks set to music, and other attractions throughout the old town',\n",
       " ' It is the largest public festival in Switzerland and attracts up to 2 million visitors',\n",
       " 'The Kunst Zürich is an international contemporary art fair with an annual guest city; it combines most recent arts with the works of well-established artists',\n",
       " ' Another annual public art exhibit is the city campaign, sponsored by the City Vereinigung (the local equivalent of a chamber of commerce) with the cooperation of the city government',\n",
       " ' It consists of decorated sculptures distributed over the city centre, in public places',\n",
       " ' Past themes have included lions (1986), cows (1998), benches (2003), teddy bears (2005), and huge flower pots (2009)',\n",
       " ' From this originated the concept of the CowParade that has been featured in other major world cities',\n",
       " '\\nZürich has been the home to several art movements',\n",
       " ' The Dada movement was founded in 1916 at the Cabaret Voltaire',\n",
       " ' Artists like Max Bill, Marcel Breuer, Camille Graeser or Richard Paul Lohse had their ateliers in Zürich, which became even more important after the takeover of power by the Nazi regime in Germany and World War II',\n",
       " '\\nThe best known traditional holiday in Zürich is the Sechseläuten (Sächsilüüte), including a parade of the guilds and the burning of \"winter\" in effigy at the Sechseläutenplatz',\n",
       " ' During this festival the popular march known as the Sechseläutenmarsch is played',\n",
       " ' It has no known composer but likely originated in Russia',\n",
       " ' Another is the Knabenschiessen target shooting competition for teenagers (originally boys, open to female participants since 1991)',\n",
       " \"\\n\\n\\n=== Opera, ballet, and theaters ===\\nThe Zürich Opera House (German: Zürcher Opernhaus), built in 1834, was the first permanent theatre in the heart of Zürich and was at the time, the main seat of Richard Wagner's activities\",\n",
       " ' Later in 1890, the theatre was re-built as an ornate building with a neo-classical architecture',\n",
       " ' The portico is made of white and grey stone ornamented with the busts of Wagner, Weber and Mozart',\n",
       " ' Later, busts of Schiller, Shakespeare and Goethe were also added',\n",
       " ' The auditorium is designed in the rococo style',\n",
       " ' Once a year, it hosts the Zürcher Opernball with the President of the Swiss Confederation and the economic and cultural élite of Switzerland',\n",
       " ' The Ballet Zürich performs at the opera house',\n",
       " ' The Zürich Opera Ball, a major social event, is held annually at the Opera House as a fundraiser for the opera and ballet companies',\n",
       " '\\nThe Schauspielhaus Zürich is the main theatre complex of the city',\n",
       " ' It has two dépendances: Pfauen in the Central City District and Schiffbauhalle, an old industrial hall, in Zürich West',\n",
       " ' The Schauspielhaus was home to emigrants such as Bertolt Brecht or Thomas Mann, and saw premieres of works of Max Frisch, Friedrich Dürrenmatt, Botho Strauss or Elfriede Jelinek',\n",
       " ' The Schauspielhaus is one of the most prominent and important theatres in Switzerland',\n",
       " 'The Theater am Neumarkt is one of the oldest theatres of the city',\n",
       " ' Established by the old guilds in the Old City District, it is located in a baroque palace near Niederdorf Street',\n",
       " ' It has two stages staging mostly avantgarde works by European directors',\n",
       " '\\nThe Zürcher Theater Spektakel is an international theatre festival, featuring contemporary performing arts',\n",
       " \"\\n\\n\\n=== Food ===\\nThe traditional cuisine of Zürich reflects the centuries of rule by patrician burghers as well as the lasting imprint of Huldrych Zwingli's puritanism\",\n",
       " ' Traditional dishes include Zürcher Geschnetzeltes and Tirggel',\n",
       " '\\n\\n\\n=== Nightlife and clubbing ===\\nZürich is host city of the Street Parade, which takes place in August every year (see above)',\n",
       " '\\nThe most famous districts for Nightlife are the Niederdorf in the old town with bars, restaurants, lounges, hotels, clubs, etc',\n",
       " ' and a lot of fashion shops for a young and stylish public and the Langstrasse in the districts 4 and 5 of the city',\n",
       " ' There are authentic amusements: bars, punk clubs, hip hop stages, Caribbean restaurants, arthouse cinemas, Turkish kebabs and Italian espresso-bars, but also sex shops or the famous red-light district of Zürich',\n",
       " '\\nIn the past ten years new parts of the city have risen into the spotlight',\n",
       " ' Notably, the area known as Zürich West in district 5, near the Escher-Wyss square and the S-Bahn Station of Zürich Hardbrücke',\n",
       " '\\n\\n\\n== Sports ==\\nZürich is home to several international sport federations',\n",
       " ' The Fédération Internationale de Football Association (FIFA) is headquartered in the city',\n",
       " ' In 2007 were inaugurated the new FIFA headquarters building, designed by architect Tilla Theus',\n",
       " '\\nAssociation football is an essential aspect of sports in Zürich',\n",
       " \" The city is home to two major Swiss football teams; Grasshopper Club Zürich founded in 1886 and FC Zürich founded in 1896, both competing in Switzerland's highest league\",\n",
       " '\\nAmong the most popular sports in Switzerland is ice hockey',\n",
       " ' In Zürich it is represented by the ZSC Lions',\n",
       " ' The International Ice Hockey Federation (IIHF) officiating as head organisation for ice hockey leagues worldwide is based in Zürich as well',\n",
       " '\\nCycling is a popular sport as well as a means of transport in Zürich',\n",
       " ' Cycling routes are generally marked with red and white signs and the yellow lanes are exclusively meant for cyclists',\n",
       " ' Also hiking trails are well marked with yellow signs, which give the hiker the probable time it will take them to reach their destination',\n",
       " ' There are specific maps available for hiking and walking trails throughout Switzerland',\n",
       " ' Some of the most accessible walks in the Zürich area are the Uetliberg and the Zürichberg',\n",
       " ' The Offene Rennbahn otherwise known as the Oerlikon Velodrome deserves a special visit on any Tuesday evening in the summer, for cyclists there are chances to see time trial champions or local Swiss national cyclists challenging other amateurs in a variety of races including Madison or Keirin events',\n",
       " '\\nAs many as 30 clubs and seven indoor curling facilities can be found in the Greater Zürich Area',\n",
       " ' The curling season starts in early September and continues until the end of April',\n",
       " \"Zürich is Switzerland's hub for lacrosse\",\n",
       " \" The Zürich Lions Lacrosse Academics, who play their home games at the Hochschulsportanlage Fluntern, have been the country's dominant team and a major competitor at international events\",\n",
       " '\\n\\n\\n=== Events ===\\nWeltklasse Zürich, sometimes referred to as the one-day Olympics, is a one-day athletics meet held annually at the Letzigrund Stadium',\n",
       " ' Since it started on 12 August 1928, the sporting event has witnessed new world records and national records',\n",
       " ' To date as many as 24 world records were set in Weltklasse',\n",
       " 'Zürich Marathon is a popular sport event, inviting numerous athletes from every corner of the globe',\n",
       " ' Zürich Marathon is a long-distance running event, covering 42',\n",
       " '195 km (26',\n",
       " '219 mi) at one stretch',\n",
       " ' The running course starts in Zürich and passes through Bahnhofstrasse, Bellevueplatz, Mythenquai, Quaibrücke, Talstrasse and Utoquai, and along Lake Zürich to several other places',\n",
       " \" New Year's Eve run is another important running event\",\n",
       " ' The race is held on 1 January each year and the start takes place at midnight exactly',\n",
       " '\\nZürich was one of six venues of the 1954 FIFA World Cup and one of eight venues of the UEFA Euro 2008',\n",
       " ' The Euro 2008 games were held in the Letzigrund Stadium',\n",
       " ' Work on the new Letzigrund was completed in exceptionally quick time and the stadium opened in August 2007 just one year after the demolition of the old arena',\n",
       " 'Zürich hosted the UCI Track Cycling World Championships six times at the Oerlikon Velodrome',\n",
       " ' The first time was in 1929 and the last time in 1983',\n",
       " '\\nSince 2013, the international Openair Literatur Festival Zürich takes place annually in Zurich, presented by Literaturhaus Zürich and Kaufleuten',\n",
       " '\\nZürich also hosted the 1998 World Ice Hockey Championships',\n",
       " ' The city previously co-hosted the 1953 and 1939 editions',\n",
       " \"\\nZürich was also host to the 2012 Men's World Floorball Championships\",\n",
       " ' This was the first time the event had been held in Zürich',\n",
       " '\\n\\n\\n== Notable people ==\\n\\n\\n== Other points of interest ==\\nThe Schwamendingen X: level crossing of tram tracks, necessary because the tunnel uses island platforms for boarding (between trams, whose doors are on the right) while normally (outside the tunnel), passengers board to the outside (opposite the boarding area of oncoming trams)',\n",
       " ' Trams normally travel on the right track, but in the tunnel they travel on the left',\n",
       " '\\nThe Sihlfeld cemetery has a vending machine for funeral cards and other mourning supplies',\n",
       " '\\nThe \"Oepfelchammer\" tavern in Zürich\\'s Old Town offers an unusual athletic drinking game called Balkenprobe: the drinker has to pull themselves up on a ceiling beam, cross over to the next beam, then drink a glass of wine with their head hanging down',\n",
       " '\\n\\n\\n== Further reading ==\\n\\n\\n=== Architecture ===\\nHönig, Roderick: Zürich wird gebaut',\n",
       " ' Architekturführer Zürich 1990–2010',\n",
       " ' Hochparterre, Zürich 2010, ISBN 978-3-85881-127-1',\n",
       " '\\nOechslin, Werner: Hochschulstadt Zürich',\n",
       " ' Bauten der ETH 1855–2005',\n",
       " ' GTA, Zürich 2005, ISBN 3-85676-154-3',\n",
       " '\\nBonte, Alexander, Bürkle, J',\n",
       " ' Christoph: Max Dudler Die neue Dichte – Der neue Stadtteil Europaallee und die Pädagogische Hochschule Zürich, Jovis, Berlin 2012, ISBN 978-3-86859-198-9\\n\\n\\n=== Culture ===\\nKröger, Ute: Zürich, du mein blaues Wunder',\n",
       " ' Literarische Streifzüge durch eine europäische Kulturstadt',\n",
       " ' Limmat, Zürich 2004, ISBN 3-85791-447-5',\n",
       " '\\nStaub, Ueli: Jazzstadt Zürich',\n",
       " ' Von Louis Armstrong bis Zürich Jazz Orchestra',\n",
       " ' Neue Zürcher Zeitung, Zürich 2003, ISBN 3-03823-012-X',\n",
       " '\\n\\n\\n=== Others ===\\nFoppa, Daniel: Berühmte und vergessene Tote auf Zürichs Friedhöfen',\n",
       " ' Limmat, Zürich 2003, ISBN 3-85791-446-7',\n",
       " '\\nHegi, Christof u',\n",
       " ' a',\n",
       " ': Zürich',\n",
       " ' Mairs, Ostfildern 2006, ISBN 3-8297-0315-5 (= Marco Polo Reiseführer)',\n",
       " '\\nHeimgartner, Susanna: Zürich komplett',\n",
       " ' Regenbogen, Zürich 2005, ISBN 3-85862-458-6 (= Regenbogen Reiseführer)',\n",
       " '\\nSmith, Duncan J',\n",
       " ' D',\n",
       " ': Nur in Zürich – Ein Reiseführer zu einzigartigen Orten, geheimen Plätzen und ungewöhnlichen Sehenswürdigkeiten (übersetzt von Walter Goidinger), Brandstätter, Wien 2012, ISBN 978-3-85033-546-1',\n",
       " '\\n\\n\\n== See also ==\\nSwitzerland\\nBern\\nList of mayors of Zürich\\nPS Stadt Zürich\\n\\n\\n== Notes and references ==\\n\\n\\n=== Notes ===\\n\\n\\n=== References ===\\n\\n\\n== External links ==\\n\\nStadt Zürich – official website (in German)\\nCity of Zürich – official website (in English)\\nZürich Tourism – official website\\nZürich Chamber of Commerce – official website\\nEvent & Pleasure Calendar by Tages-Anzeiger (newspaper) (in German)\\nNYT Travel Guide by The New York Times']"
      ]
     },
     "execution_count": 233,
     "metadata": {},
     "output_type": "execute_result"
    }
   ],
   "source": [
    "point"
   ]
  },
  {
   "cell_type": "code",
   "execution_count": 234,
   "id": "f5c1b6aa",
   "metadata": {},
   "outputs": [
    {
     "data": {
      "text/plain": [
       "580"
      ]
     },
     "execution_count": 234,
     "metadata": {},
     "output_type": "execute_result"
    }
   ],
   "source": [
    "len(point)"
   ]
  },
  {
   "cell_type": "code",
   "execution_count": 235,
   "id": "204f7b9c",
   "metadata": {},
   "outputs": [
    {
     "data": {
      "text/plain": [
       "list"
      ]
     },
     "execution_count": 235,
     "metadata": {},
     "output_type": "execute_result"
    }
   ],
   "source": [
    "type(point)"
   ]
  },
  {
   "cell_type": "code",
   "execution_count": 236,
   "id": "9ed5c414",
   "metadata": {},
   "outputs": [
    {
     "data": {
      "text/plain": [
       "str"
      ]
     },
     "execution_count": 236,
     "metadata": {},
     "output_type": "execute_result"
    }
   ],
   "source": [
    "type(point[0])"
   ]
  },
  {
   "cell_type": "code",
   "execution_count": 237,
   "id": "74506fe3",
   "metadata": {},
   "outputs": [
    {
     "data": {
      "text/plain": [
       "'Zürich ( ZURE-ik, German: [ˈtsyːrɪç] ; see below) is the largest city in Switzerland and the capital of the canton of Zürich'"
      ]
     },
     "execution_count": 237,
     "metadata": {},
     "output_type": "execute_result"
    }
   ],
   "source": [
    "point[0]"
   ]
  },
  {
   "cell_type": "markdown",
   "id": "88e1147c",
   "metadata": {},
   "source": [
    "# 3. Strip()"
   ]
  },
  {
   "cell_type": "markdown",
   "id": "a6748e4c",
   "metadata": {},
   "source": [
    "The strip method is used to remove any leading (that means at the beginning of the string) or trailing (that means at the end) whitespaces. (For more information have a look at: https://www.w3schools.com/python/ref_string_strip.asp)"
   ]
  },
  {
   "cell_type": "markdown",
   "id": "5104d1c6",
   "metadata": {},
   "source": [
    "Let's begin by creating a new variable called test by using the second element of the comma list."
   ]
  },
  {
   "cell_type": "code",
   "execution_count": 238,
   "id": "019f295b",
   "metadata": {},
   "outputs": [],
   "source": [
    "#your code in here"
   ]
  },
  {
   "cell_type": "code",
   "execution_count": 239,
   "id": "02378fa6",
   "metadata": {},
   "outputs": [],
   "source": [
    "#Solution\n",
    "\n",
    "test = comma[1]"
   ]
  },
  {
   "cell_type": "code",
   "execution_count": 240,
   "id": "bab1bbfe",
   "metadata": {},
   "outputs": [
    {
     "data": {
      "text/plain": [
       "' German: [ˈtsyːrɪç] ; see below) is the largest city in Switzerland and the capital of the canton of Zürich. It is located in north-central Switzerland'"
      ]
     },
     "execution_count": 240,
     "metadata": {},
     "output_type": "execute_result"
    }
   ],
   "source": [
    "test"
   ]
  },
  {
   "cell_type": "markdown",
   "id": "e44a88b3",
   "metadata": {},
   "source": [
    "Let's print out the first element in that list."
   ]
  },
  {
   "cell_type": "code",
   "execution_count": 241,
   "id": "474d59a2",
   "metadata": {},
   "outputs": [],
   "source": [
    "#Your code in here"
   ]
  },
  {
   "cell_type": "code",
   "execution_count": 242,
   "id": "cb1eea34",
   "metadata": {},
   "outputs": [
    {
     "data": {
      "text/plain": [
       "' '"
      ]
     },
     "execution_count": 242,
     "metadata": {},
     "output_type": "execute_result"
    }
   ],
   "source": [
    "#Solution\n",
    "\n",
    "test[0]"
   ]
  },
  {
   "cell_type": "markdown",
   "id": "245761dc",
   "metadata": {},
   "source": [
    "It's a white space! Now let's check the length of that variable."
   ]
  },
  {
   "cell_type": "code",
   "execution_count": 243,
   "id": "fc626b7a",
   "metadata": {},
   "outputs": [],
   "source": [
    "#Your code in here"
   ]
  },
  {
   "cell_type": "code",
   "execution_count": 244,
   "id": "f739cb91",
   "metadata": {},
   "outputs": [
    {
     "data": {
      "text/plain": [
       "151"
      ]
     },
     "execution_count": 244,
     "metadata": {},
     "output_type": "execute_result"
    }
   ],
   "source": [
    "#Solution\n",
    "\n",
    "len(test)"
   ]
  },
  {
   "cell_type": "markdown",
   "id": "dcda6b6d",
   "metadata": {},
   "source": [
    "A quick way of getting rid of that space is by using the strip() method! Create a new variable called strip_test doing that. After that: a) print it, b) check its lenght, c) check out the first element in the list."
   ]
  },
  {
   "cell_type": "code",
   "execution_count": 245,
   "id": "be03742d",
   "metadata": {},
   "outputs": [],
   "source": [
    "#Your code in here"
   ]
  },
  {
   "cell_type": "code",
   "execution_count": 246,
   "id": "f105da5d",
   "metadata": {},
   "outputs": [],
   "source": [
    "#Solution\n",
    "\n",
    "strip_test = test.strip()"
   ]
  },
  {
   "cell_type": "code",
   "execution_count": 247,
   "id": "e44b63f9",
   "metadata": {},
   "outputs": [
    {
     "name": "stdout",
     "output_type": "stream",
     "text": [
      "German: [ˈtsyːrɪç] ; see below) is the largest city in Switzerland and the capital of the canton of Zürich. It is located in north-central Switzerland\n"
     ]
    }
   ],
   "source": [
    "print(strip_test)"
   ]
  },
  {
   "cell_type": "code",
   "execution_count": 248,
   "id": "ff705c70",
   "metadata": {},
   "outputs": [
    {
     "data": {
      "text/plain": [
       "150"
      ]
     },
     "execution_count": 248,
     "metadata": {},
     "output_type": "execute_result"
    }
   ],
   "source": [
    "len(strip_test)"
   ]
  },
  {
   "cell_type": "code",
   "execution_count": 249,
   "id": "7e5f9a82",
   "metadata": {},
   "outputs": [
    {
     "data": {
      "text/plain": [
       "'G'"
      ]
     },
     "execution_count": 249,
     "metadata": {},
     "output_type": "execute_result"
    }
   ],
   "source": [
    "strip_test[0]"
   ]
  },
  {
   "cell_type": "markdown",
   "id": "eb420d7e",
   "metadata": {},
   "source": [
    "Voilá! We got rid of the initial white space. "
   ]
  },
  {
   "cell_type": "markdown",
   "id": "bda3c639",
   "metadata": {},
   "source": [
    "We can also use strip to get rid of initial or ending characters (i.e. vowels or consonants), but we can´t use it to get rid of \"inter-string\" characters (have a look at: https://www.perplexity.ai/search/cfab86c0-af6e-4261-8d2d-9e995d92db2f?s=u)."
   ]
  },
  {
   "cell_type": "markdown",
   "id": "54e8df51",
   "metadata": {},
   "source": [
    "For example, if we have the word banana, and we want to get rid of the last \"-a\" or initial \"-b\", we can use strip() to do that."
   ]
  },
  {
   "cell_type": "code",
   "execution_count": 250,
   "id": "77972314",
   "metadata": {},
   "outputs": [],
   "source": [
    "txt = \"banana\""
   ]
  },
  {
   "cell_type": "code",
   "execution_count": 251,
   "id": "1bfa2c95",
   "metadata": {},
   "outputs": [
    {
     "data": {
      "text/plain": [
       "'banan'"
      ]
     },
     "execution_count": 251,
     "metadata": {},
     "output_type": "execute_result"
    }
   ],
   "source": [
    "txt.strip(\"a\")"
   ]
  },
  {
   "cell_type": "code",
   "execution_count": 252,
   "id": "0df6c7f4",
   "metadata": {},
   "outputs": [
    {
     "data": {
      "text/plain": [
       "'anana'"
      ]
     },
     "execution_count": 252,
     "metadata": {},
     "output_type": "execute_result"
    }
   ],
   "source": [
    "txt.strip(\"b\")"
   ]
  },
  {
   "cell_type": "markdown",
   "id": "24baf32c",
   "metadata": {},
   "source": [
    "But if we would like to get rid of all the vowels, then we would need to use a different script (and quite an advanced one for this course using something called \"regex\": https://docs.python.org/3/library/re.html)"
   ]
  },
  {
   "cell_type": "code",
   "execution_count": 253,
   "id": "a5b89c6c",
   "metadata": {},
   "outputs": [],
   "source": [
    "import re\n",
    "def remove_vowels(string):\n",
    "    pattern = re.compile('[aeiouAEIOU]')\n",
    "    result = re.sub(pattern, '', string)\n",
    "    return result\n",
    "\n",
    "#source: https://www.perplexity.ai/search/2c3f097a-ad6c-4388-91da-825454a1a613?s=u"
   ]
  },
  {
   "cell_type": "code",
   "execution_count": 254,
   "id": "6d675c4a",
   "metadata": {},
   "outputs": [
    {
     "data": {
      "text/plain": [
       "'bnn'"
      ]
     },
     "execution_count": 254,
     "metadata": {},
     "output_type": "execute_result"
    }
   ],
   "source": [
    "remove_vowels(txt)"
   ]
  },
  {
   "cell_type": "markdown",
   "id": "08b9fae7",
   "metadata": {},
   "source": [
    "# Join"
   ]
  },
  {
   "cell_type": "markdown",
   "id": "a306f5c4",
   "metadata": {},
   "source": [
    "If we would like to add some extra text, we can use the \"join.()\" method. Bear in mind that to be able to use this method, we need a list, and that our desired texte will appear after each element in the list. So:\n",
    "\n",
    "* Let's practice our list slicing techniques. Using the comma variable, select elements 1-3 in the list and store them in a variable called test_comma. Check its length and type.\n",
    "* Repeat the same process with the point variable. "
   ]
  },
  {
   "cell_type": "code",
   "execution_count": 255,
   "id": "a56f6824",
   "metadata": {},
   "outputs": [],
   "source": [
    "#Your code in here"
   ]
  },
  {
   "cell_type": "code",
   "execution_count": 256,
   "id": "88ff2577",
   "metadata": {},
   "outputs": [],
   "source": [
    "#Solution\n",
    "test_comma = comma[0:3]"
   ]
  },
  {
   "cell_type": "code",
   "execution_count": 258,
   "id": "2a5a3655",
   "metadata": {},
   "outputs": [
    {
     "data": {
      "text/plain": [
       "list"
      ]
     },
     "execution_count": 258,
     "metadata": {},
     "output_type": "execute_result"
    }
   ],
   "source": [
    "type(test_comma)"
   ]
  },
  {
   "cell_type": "code",
   "execution_count": 259,
   "id": "9f93b84f",
   "metadata": {},
   "outputs": [
    {
     "data": {
      "text/plain": [
       "3"
      ]
     },
     "execution_count": 259,
     "metadata": {},
     "output_type": "execute_result"
    }
   ],
   "source": [
    "len(test_comma)"
   ]
  },
  {
   "cell_type": "code",
   "execution_count": 260,
   "id": "04dc84a3",
   "metadata": {},
   "outputs": [],
   "source": [
    "test_point = point[0:3]"
   ]
  },
  {
   "cell_type": "code",
   "execution_count": 261,
   "id": "22f60876",
   "metadata": {},
   "outputs": [
    {
     "name": "stdout",
     "output_type": "stream",
     "text": [
      "<class 'list'>\n",
      "3\n"
     ]
    }
   ],
   "source": [
    "print(type(test_point))\n",
    "print(len(test_point))"
   ]
  },
  {
   "cell_type": "markdown",
   "id": "ec96ac71",
   "metadata": {},
   "source": [
    "Now, using the join method, add \"COMMA\" and \"POINT\" in each case (remember to add one extra space to not have overlappint text)."
   ]
  },
  {
   "cell_type": "code",
   "execution_count": 264,
   "id": "4a82546a",
   "metadata": {},
   "outputs": [],
   "source": [
    "#Your code here"
   ]
  },
  {
   "cell_type": "code",
   "execution_count": 265,
   "id": "8a0d0682",
   "metadata": {},
   "outputs": [
    {
     "data": {
      "text/plain": [
       "'Zürich ( ZURE-ik COMMA German: [ˈtsyːrɪç] ; see below) is the largest city in Switzerland and the capital of the canton of Zürich. It is located in north-central Switzerland COMMA at the northwestern tip of Lake Zürich. As of January 2023 the municipality had 443'"
      ]
     },
     "execution_count": 265,
     "metadata": {},
     "output_type": "execute_result"
    }
   ],
   "source": [
    "#Solution\n",
    "\n",
    "\" COMMA\".join(test_comma) #now we have 3 COMMA where a \",\"  is."
   ]
  },
  {
   "cell_type": "code",
   "execution_count": 267,
   "id": "381f3e1f",
   "metadata": {},
   "outputs": [
    {
     "data": {
      "text/plain": [
       "'Zürich ( ZURE-ik, German: [ˈtsyːrɪç] ; see below) is the largest city in Switzerland and the capital of the canton of Zürich POINT It is located in north-central Switzerland, at the northwestern tip of Lake Zürich POINT As of January 2023 the municipality had 443,037 inhabitants, the urban area 1'"
      ]
     },
     "execution_count": 267,
     "metadata": {},
     "output_type": "execute_result"
    }
   ],
   "source": [
    "\" POINT\".join(test_point) # now we have 2 POINT where a \".\" is."
   ]
  },
  {
   "cell_type": "markdown",
   "id": "d02a196d",
   "metadata": {},
   "source": [
    "# Index()"
   ]
  },
  {
   "cell_type": "markdown",
   "id": "61751882",
   "metadata": {},
   "source": [
    "We can find the specific position of words or characters in text by using the index() method. For example, in the variable zurich_text, let's find where the word Zurich appears. "
   ]
  },
  {
   "cell_type": "code",
   "execution_count": 271,
   "id": "3734955d",
   "metadata": {},
   "outputs": [],
   "source": [
    "#Your code here"
   ]
  },
  {
   "cell_type": "code",
   "execution_count": 272,
   "id": "0fbb7668",
   "metadata": {},
   "outputs": [
    {
     "data": {
      "text/plain": [
       "0"
      ]
     },
     "execution_count": 272,
     "metadata": {},
     "output_type": "execute_result"
    }
   ],
   "source": [
    "#Solution\n",
    "zurich_text.index(\"Zürich\")"
   ]
  },
  {
   "cell_type": "markdown",
   "id": "585d4000",
   "metadata": {},
   "source": [
    "And now let's double check that"
   ]
  },
  {
   "cell_type": "code",
   "execution_count": 274,
   "id": "fa71072a",
   "metadata": {},
   "outputs": [
    {
     "data": {
      "text/plain": [
       "'Zürich ( ZURE-ik, German: [ˈtsyːrɪç] ; see below) is the largest city in Switzerland and the capital of the canton of Zürich. It is located in north-central Switzerland, at the northwestern tip of Lake Zürich. As of January 2023 the municipality had 443,037 inhabitants, the urban area 1.315 million (2009), and the Zürich metropolitan area 1.83 million (2011). Zürich is a hub for railways, roads, and air traffic. Both Zurich Airport and Zürich\\'s main railway station are the largest and busiest in the country.\\nPermanently settled for over 2,000 years, Zürich was founded by the Romans, who called it Turicum. However, early settlements have been found dating back more than 6,400 years (although this only indicates human presence in the area and not the presence of a town that early). During the Middle Ages, Zürich gained the independent and privileged status of imperial immediacy and, in 1519, became a primary centre of the Protestant Reformation in Europe under the leadership of Huldrych Zwingli.The official language of Zürich is German, but the main spoken language is Zürich German, the local variant of the Alemannic Swiss German dialect.\\nMany museums and art galleries can be found in the city, including the Swiss National Museum and Kunsthaus. Schauspielhaus Zürich is generally considered to be one of the most important theatres in the German-speaking world.As one of Switzerland\\'s primary financial centres, Zürich is home to many financial institutions and banking companies.\\n\\n\\n== Name ==\\nIn German, the city name is written Zürich, and pronounced [ˈtsyːrɪç] in Swiss Standard German or [ˈtsyːʁɪç]  in German Standard German. In the local dialect, the name is pronounced without the final consonant, as Züri [ˈtsyri], although the adjective remains Zürcher(in). The city is called Zurich [zyʁik] in French, Zurigo [dzuˈriːɡo] in Italian, and Turitg [tuˈritɕ]  in Romansh.\\nThe name is traditionally written in English as Zurich, without the umlaut. It is pronounced  ZURE-ik.The earliest known form of the city\\'s name is Turicum, attested on a tombstone of the late 2nd century AD in the form STA(tio) TURICEN(sis) (\"Turicum tax post\"). The name is interpreted as a derivation from a given name, possibly the Gaulish personal name Tūros, for a reconstructed native form of the toponym of *Turīcon. The Latin stress on the long vowel of the Gaulish name, [tʊˈriːkõː], was lost in German [ˈtsyːrɪç] but is preserved in Italian [dzuˈriːɡo] and in Romansh [tuˈritɕ]. The first development towards its later Germanic form is attested as early as the 6th century with the form Ziurichi. From the 9th century onward, the name is established in an Old High German form Zuri(c)h (857 in villa Zurih, 924 in Zurich curtem, 1416 Zürich Stadt). In the early modern period, the name became associated with the name of the Tigurini, and the name Tigurum rather than the historical Turicum is sometimes encountered in Modern Latin contexts.\\n\\n\\n== History ==\\n\\n\\n=== Early history ===\\nSettlements of the Neolithic and Bronze Age were found around Lake Zürich. Traces of pre-Roman Celtic, La Tène settlements were discovered near the Lindenhof, a morainic hill dominating the SE - NW waterway constituted by Lake Zurich and the river Limmat. In Roman times, during the conquest of the alpine region in 15 BC, the Romans built a castellum on the Lindenhof. Later here was erected Turicum (a toponym of clear Celtic origin), a tax-collecting point for goods trafficked on the Limmat, which constituted part of the border between Gallia Belgica (from AD 90 Germania Superior) and Raetia: this customs point developed later into a vicus. After Emperor Constantine\\'s reforms in AD 318, the border between Gaul and Italy (two of the four praetorian prefectures of the Roman Empire) was located east of Turicum, crossing the river Linth between Lake Walen and Lake Zürich, where a castle and garrison looked over Turicum\\'s safety. The earliest written record of the town dates from the 2nd century, with a tombstone referring to it as to the Statio Turicensis Quadragesima Galliarum (\"Zürich post for collecting the 2.5% value tax of the Galliae\"), discovered at the Lindenhof.In the 5th century, the Germanic Alemanni tribe settled in the Swiss Plateau. The Roman castle remained standing until the 7th century. A Carolingian castle, built on the site of the Roman castle by the grandson of Charlemagne, Louis the German, is mentioned in 835 (in castro Turicino iuxta fluvium Lindemaci). Louis also founded the Fraumünster abbey in 853 for his daughter Hildegard. He endowed the Benedictine convent with the lands of Zürich, Uri, and the Albis forest, and granted the convent immunity, placing it under his direct authority. In 1045, King Henry III granted the convent the right to hold markets, collect tolls, and mint coins, and thus effectively made the abbess the ruler of the city.Zürich gained Imperial immediacy (Reichsunmittelbar, becoming an Imperial free city) in 1218 with the extinction of the main line of the Zähringer family and attained a status comparable to statehood. During the 1230s, a city wall was built, enclosing 38 hectares, when the earliest stone houses on the Rennweg were built as well. The Carolingian castle was used as a quarry, as it had started to fall into ruin.Emperor Frederick II promoted the abbess of the Fraumünster to the rank of a duchess in 1234. The abbess nominated the mayor, and she frequently delegated the minting of coins to citizens of the city. The political power of the convent slowly waned in the 14th century, beginning with the establishment of the Zunftordnung (guild laws) in 1336 by Rudolf Brun, who also became the first independent mayor, i.e. not nominated by the abbess.\\nAn important event in the early 14th century was the completion of the Manesse Codex, a key source of medieval German poetry. The famous illuminated manuscript – described as \"the most beautifully illumined German manuscript in centuries;\" – was commissioned by the Manesse family of Zürich, copied and illustrated in the city at some time between 1304 and 1340. Producing such a work was a highly expensive prestige project, requiring several years work by highly skilled scribes and miniature painters, and it clearly testifies to the increasing wealth and pride of Zürich citizens in this period. The work contains 6 songs by Süsskind von Trimberg, who may have been a Jew, since the work itself contains reflections on medieval Jewish life, though little is known about him.The first mention of Jews in Zürich was in 1273. Sources show that there was a synagogue in Zürich in the 13th century, implying the existence of a Jewish community. With the rise of the Black Death in 1349, Zürich, like most other Swiss cities, responded by persecuting and burning the local Jews, marking the end of the first Jewish community there. The second Jewish community of Zürich, formed towards the end of the 14th century, was short-lived, and Jews were expulsed and banned from the city from 1423 until the 19th century.\\n\\n\\n==== Archaeological findings ====\\nA woman who died in about 200 BC was found buried in a carved tree trunk during a construction project at the Kern school complex in March 2017 in Aussersihl. Archaeologists revealed that she was approximately 40 years old when she died and likely carried out little physical labor when she was alive. A sheepskin coat, a belt chain, a fancy wool dress, a scarf and a pendant made of glass and amber beads were also discovered with the woman.\\n\\n\\n=== Old Swiss Confederacy ===\\nOn 1 May 1351, the citizens of Zürich had to swear allegiance before representatives of the cantons of Lucerne, Schwyz, Uri and Unterwalden, the other members of the Swiss Confederacy. Thus, Zürich became the fifth member of the Confederacy, which was at that time a loose confederation of de facto independent states. Zürich was the presiding canton of the Diet from 1468 to 1519. This authority was the executive council and lawmaking body of the confederacy, from the Middle Ages until the establishment of the Swiss federal state in 1848. Zürich was temporarily expelled from the confederacy in 1440 due to a war with the other member states over the territory of Toggenburg (the Old Zürich War). Neither side had attained significant victory when peace was agreed upon in 1446, and Zürich was readmitted to the confederation in 1450.\\nZwingli started the Swiss Reformation at the time when he was the main preacher in the 1520s, at the Grossmünster. He lived there from 1484 until his death in 1531. The Zürich Bible, based on that of Zwingli, was issued in 1531. The Reformation resulted in major changes in state matters and civil life in Zürich, spreading also to a number of other cantons. Several cantons remained Catholic and became the basis of serious conflicts that eventually led to the outbreak of the Wars of Kappel.\\nDuring the 16th and 17th centuries, the Council of Zürich adopted an isolationist attitude, resulting in a second ring of imposing fortifications built in 1624. The Thirty Years\\' War which raged across Europe motivated the city to build these walls. The fortifications required a lot of resources, which were taken from subject territories without reaching any agreement. The following revolts were crushed brutally. In 1648, Zürich proclaimed itself a republic, shedding its former status of a free imperial city. In this time the political system of Zürich was an oligarchy (Patriziat): the dominant families of the city were the following ones: Bonstetten, Brun, Bürkli, Escher vom Glas, Escher vom Luchs, Hirzel, Jori (or von Jori), Kilchsperger, Landenberg, Manesse, Meiss, Meyer von Knonau, Mülner, von Orelli.\\n\\nThe Helvetic Revolution of 1798 saw the fall of the Ancien Régime. Zürich lost control of the land and its economic privileges, and the city and the canton separated their possessions between 1803 and 1805. In 1839, the city had to yield to the demands of its urban subjects, following the Züriputsch of 6 September. Most of the ramparts built in the 17th century were torn down, without ever having been besieged, to allay rural concerns over the city\\'s hegemony. The Treaty of Zürich between Austria, France, and Sardinia was signed in 1859.\\n\\n\\n=== Modern history ===\\nZürich was the Federal capital for 1839–40, and consequently, the victory of the Conservative party there in 1839 caused a great stir throughout Switzerland. But when in 1845 the Radicals regained power at Zürich, which was again the Federal capital for 1845–46, Zürich took the lead in opposing the Sonderbund cantons. Following the Sonderbund war and the formation of the Swiss Federal State, Zürich voted in favour of the Federal constitutions of 1848 and of 1874. The enormous immigration from the country districts into the town from the 1830s onwards created an industrial class which, though \"settled\" in the town, did not possess the privileges of burghership, and consequently had no share in the municipal government. First of all in 1860 the town schools, hitherto open to \"settlers\" only on paying high fees, were made accessible to all, next in 1875 ten years\\' residence ipso facto conferred the right of burghership, and in 1893 the eleven outlying districts were incorporated within the town proper.\\nWhen Jews also began to settle in Zürich following their equality in 1862, the Israelitische Cultusgemeinde Zürich was founded.\\nExtensive developments took place during the 19th century. From 1847, the Spanisch-Brötli-Bahn, the first railway on Swiss territory, connected Zürich with Baden, putting the Zürich Hauptbahnhof at the origin of the Swiss rail network. The present building of the Hauptbahnhof (the main railway station) dates to 1871. Zürich\\'s Bahnhofstrasse (Station Street) was laid out in 1867, and the Zürich Stock Exchange was founded in 1877. Industrialisation led to migration into the cities and to rapid population growth, particularly in the suburbs of Zürich.\\nThe Quaianlagen are an important milestone in the development of the modern city of Zürich, as the construction of the new lake front transformed Zürich from a small medieval town on the rivers Limmat and Sihl to an attractive modern city on the Zürichsee shore, under the guidance of the city engineer Arnold Bürkli.In 1893, the twelve outlying districts were incorporated into Zürich, including Aussersihl, the workman\\'s quarter on the left bank of the Sihl, and additional land was reclaimed from Lake Zürich.In 1934, eight additional districts in the north and west of Zürich were incorporated.\\nZürich was accidentally bombed during World War II. As persecuted Jews sought refuge in Switzerland, the SIG (Israelite Community of Switzerland) raised financial resources. The central committee for refugee aid, created in 1933, was located in Zürich.\\nThe canton of Zürich did not recognise the Jewish religious communities as legal entities (and therefore as equal to national churches) until 2005.\\n\\n\\n=== Coat of arms ===\\nThe blue and white coat of arms of Zürich is attested from 1389 and was derived from banners with blue and white stripes in use since 1315. The first certain testimony of banners with the same design is from 1434. The coat of arms is flanked by two lions. The red Schwenkel on top of the banner had varying interpretations: For the people of Zürich, it was a mark of honour, granted by Rudolph I. Zürich\\'s neighbours mocked it as a sign of shame, commemorating the loss of the banner at Winterthur in 1292. Today, the Canton of Zürich uses the same coat of arms as the city.\\n\\n\\n== Politics ==\\n\\n\\n=== City districts ===\\n\\nThe previous boundaries of the city of Zürich (before 1893) were more or less synonymous with the location of the old town. Two large expansions of the city limits occurred in 1893 and in 1934 when the city of Zürich merged with many surrounding municipalities, that had been growing increasingly together since the 19th century. Today, the city is divided into twelve districts (known as Kreis in German), numbered 1 to 12, each one of which contains between one and four neighborhoods:\\n\\nKreis 1, known as Altstadt, contains the old town, both to the east and west of the start of the Limmat. District 1 contains the neighbourhoods of Hochschulen, Rathaus, Lindenhof, and City.\\nKreis 2 lies along the west side of Lake Zürich, and contains the neighbourhoods of Enge, Wollishofen and Leimbach.\\nKreis 3, known as Wiedikon is between the Sihl and the Uetliberg, and contains the neighbourhoods of Alt-Wiedikon, Sihlfeld and Friesenberg.\\nKreis 4, known as Aussersihl lies between the Sihl and the train tracks leaving Zürich Hauptbahnhof, and contains the neighbourhoods of Werd, Langstrasse, and Hard.\\nKreis 5, known as Industriequartier, is between the Limmat and the train tracks leaving Zürich Hauptbahnhof, it contains the former industrial area of Zürich which has undergone large-scale rezoning to create upscale modern housing, retail, and commercial real estate. It contains the neighborhoods of Gewerbeschule and Escher-Wyss.\\nKreis 6 is on the edge of the Zürichberg, a hill overlooking the eastern part of the city. District 6 contains the neighbourhoods of Oberstrass and Unterstrass.\\nKreis 7 is on the edge of the Adlisberg hill as well as the Zürichberg, on the eastern side of the city. District 7 contains the neighbourhoods of Fluntern, Hottingen, and Hirslanden. These neighbourhoods are home to Zürich\\'s wealthiest and more prominent residents. The neighbourhood Witikon also belongs to district 7.\\nKreis 8, officially called Riesbach, but colloquially known as Seefeld, lies on the eastern side of Lake Zürich. District 8 consists of the neighbourhoods of Seefeld, Mühlebach, and Weinegg.\\nKreis 9 is between the Limmat to the north and the Uetliberg to the south. It contains the neighbourhoods Altstetten and Albisrieden.\\nKreis 10 is to the east of the Limmat and to the south of the Hönggerberg and Käferberg hills. District 10 contains the neighbourhoods of Höngg and Wipkingen.\\nKreis 11 is in the area north of the Hönggerberg and Käferberg and between the Glatt Valley and the Katzensee (Cats Lake). It contains the neighbourhoods of Affoltern, Oerlikon and Seebach.\\nKreis 12, known as Schwamendingen, is located in the Glattal (Glatt valley) on the northern side of the Zürichberg. District 12 contains the neighbourhoods of Saatlen, Schwamendigen Mitte, and Hirzenbach.Most of the district boundaries are fairly similar to the original boundaries of the previously existing municipalities before they were incorporated into the city of Zürich.\\n\\n\\n=== Government ===\\n\\nThe City Council (Stadtrat) constitutes the executive government of the City of Zürich and operates as a collegiate authority. It is composed of nine councilors, each presiding over a department. Departmental tasks, coordination measures and implementation of laws decreed by the Municipal Council are carried out by the City Council. The regular election of the City Council by any inhabitant valid to vote is held every four years. The mayor (German: Stadtpräsident(in)) is elected as such by a public election by a system of Majorz while the heads of the other departments are assigned by the collegiate. Any resident of Zurich allowed to vote can be elected as a member of the City Council. In the mandate period 2022–2026 (Legislatur) the City Council is presided by mayor Corine Mauch. The executive body holds its meetings in the City Hall (German: Stadthaus), on the left bank of the Limmat. The building was built in 1883 in Renaissance style.\\nAs of May 2023, the Zürich City Council is made up of four representatives of the SP (Social Democratic Party, one of whom is the mayor), two members each of the Green Party and the FDP (Free Democratic Party), and one member of GLP (Green Liberal Party), giving the left parties a combined six out of nine seats. The last regular election was held on 13 February 2022.\\n\\nClaudia Cuche-Curti is Town Chronicler (Stadtschreiberin) since 2012, and Andrea Töndury is Legal Counsel (Rechtskonsulent) since 2020 for the City Council.\\n\\n\\n=== Parliament ===\\n\\nThe Municipal Council (Gemeinderat) holds the legislative power. It is made up of 125 members (Gemeindrat / Gemeinderätin), with elections held every four years. The Municipal Council decrees regulations and by-laws that are executed by the City Council and the administration. The sessions of the Municipal Council are held in public. Unlike those of the City Council, the members of the Municipal Council are not politicians by profession but are paid a fee based on their attendance. Any resident of Zürich allowed to vote can be elected as a member of the Municipal Council. The legislative body holds its meetings in the town hall (Rathaus), on the right bank of the Limmat opposite to the City Hall (Stadthaus).The last election of the Municipal Council was held on 4 March 2018 for the mandate period of 2022–2026. As of February 2023, the Municipal Council consist of 37 members of the Social Democratic Party (SP), 23 The Liberals (FDP), 18 Green Party (GPS), 16 Green Liberal Party (GLP), 14 members of the Swiss People\\'s Party (SVP), 8 Alternative List (AL), and three members of the Evangelical People\\'s Party (EVP), giving the left parties an  absolute majority of total 63 seats with only one seat.\\n\\n\\n=== Elections ===\\n\\n\\n==== National Council ====\\nIn the 2019 federal election for the Swiss National Council the most popular party was the SPS which received 25.6% (-6) of the vote. The next four most popular parties were the GPS (20.9%, +9.7), GLP (15.7%, +6.4), SVP (13.7%, -4.3), the FDP (11.8%, -2.2), the AL (4%, new), and the CVP (3.5%, -0.2). In the federal election, a total of 110,760 voters were cast, and the voter turnout was 47.7%.In the 2015 federal election for the Swiss National Council the most popular party was the SPS which received 31.6% of the vote. The next four most popular parties were the SVP (18%), the FDP (14%), the GPS (10.7%), the GLP (9.2%). In the federal election, a total of 114,377 voters were cast, and the voter turnout was 46.2%.\\n\\n\\n=== International relations ===\\n\\n\\n==== Twin towns and sister cities ====\\nZürich is partnered with two sister cities: Kunming and San Francisco.\\n\\n\\n== Geography ==\\nZürich is situated at 408 m (1,339 ft) above sea level on the lower (northern) end of Lake Zürich (Zürichsee) about 30 km (19 mi) north of the Alps, nestling between the wooded hills on the west and east side. The Old Town stretches on both sides of the Limmat, which flows from the lake, running northwards at first and then gradually turning into a curve to the west. The geographic (and historic) centre of the city is the Lindenhof, a small natural hill on the west bank of the Limmat, about 700 m (2,300 ft) north of where the river issues from Lake Zürich. Today the incorporated city stretches somewhat beyond the natural confines of the hills and includes some districts to the northeast in the Glatt Valley (Glattal) and to the north in the Limmat Valley (Limmattal). The boundaries of the older city are easy to recognize by the Schanzengraben canal. This artificial watercourse has been used for the construction of the third fortress in the 17th and 18th centuries.\\n\\n\\n=== Topography ===\\nThe municipality of Zürich has an area of 91.88 km2 (35.48 sq mi), of which 4.1 km2 (1.6 sq mi) is made up of Lake Zürich. The area includes a section of the northern Swiss Plateau. The banks of the Limmat constitute the densest part of the city. The river is oriented in the southeast–northwest direction, with the flat valley floor having a width of two to three km (1.2 to 1.9 mi). The partially channeled and straightened Limmat does not flow in the central part of the valley, but always along its right (northeastern) side. The Sihl meets with the Limmat at the end of Platzspitz, which borders the Swiss National Museum. The Limmat reaches the lowest point of the municipality in Oberengstringen at 392 m (1,286 ft) above sea level.\\nOn its west side, the Limmat valley is flanked by the wooded heights of the Albis chain, which runs along the western border. The Uetliberg is, with 869 m (2,851 ft) above sea level, the highest elevation of the surrounding area. Its summit can be reached easily by the Uetlibergbahn. From the platform of the observation tower on the summit, an impressive panorama of the city, the lake, and the Alps can be seen.The northeast side of the Limmat valley includes a range of hills, which marks the watershed between the Limmat and the Glatt. From the northwest to the southeast, the height of the mostly wooded knolls generally increases: the Gubrist (615 m or 2,018 ft), the Hönggerberg (541 m or 1,775 ft), the Käferberg (571 m or 1,873 ft), the Zürichberg (676 m or 2,218 ft), the Adlisberg (701 m or 2,300 ft) and the Öschbrig (696 m or 2,283 ft). Between the Käferberg and the Zürichberg is located the saddle of the Milchbuck (about 470 m or 1,540 ft), an important passage from the Limmat valley to the Glatt valley.The northernmost part of the municipality extends to the plain of the Glatt valley and to the saddle which makes the connection between the Glattal and Furttal. Also, a part of the Katzensee (nature reserve) and the Büsisee, both of which are drained by the Katzenbach to Glatt, belong to the city.\\n\\n\\n=== Climate ===\\nZürich has an oceanic climate (Köppen: Cfb), with warm summers and four distinct seasons. Decisive for the climate of Zürich are both the winds from westerly directions, which often result in precipitation and, on the other hand, the Bise (east or north-east wind), which is usually associated with high-pressure situations, but cooler weather phases with temperatures lower than the average. The Foehn wind, which plays an important role in the northern alpine valleys, also has some impact on Zürich.The annual mean temperature at the measuring station of the Federal Office of Meteorology and Climatology in Zürich-Fluntern (556 m[1,824 ft] above sea level on the slope of the Zürichberg, 150 m[490 ft] above the level of the city centre) is 9.3 °C (48.7 °F). The lowest monthly mean of daily minimum temperature are measured in January with −2.0 °C (28.4 °F) and the highest monthly mean of daily maximum temperature are measured in July with 24.0 °C (75.2 °F). On average there are 74.9 days in which the minimum temperature is below 0 °C (32 °F) (so-called frost days), and 23.7 days in which the maximum temperature is below 0 °C (32 °F) (so-called ice days). There are on average 30 so-called summer days (maximum temperature equal to or above 25 °C [77 °F]) throughout the year, while so-called heat days (with maximum temperature equal to or above 30 °C [86 °F]) are 5.8 days.The average high temperature in July is 24.0 °C (75.2 °F) and average low temperature is 14 °C (57.2 °F). The highest recorded temperature in Zürich was 37.7 °C (100 °F), recorded in July 1947, and typically the warmest day reaches an average of 32.2 °C (90.0 °F).Spring and autumn are generally cool to mild, but sometimes with large differences between warm and cold days even during the same year. The highest temperature of the month March in 2014 was on the 20th at 20.6 °C (69.1 °F) during a sunny afternoon and the lowest temperature was on the 25th at −0.4 °C (31.3 °F) during the night/early morning. Record low of average daily temperatures in March since 1864 is −12 °C (10 °F) and record high of average daily temperatures in March is 16 °C (61 °F). Record low of average daily temperatures in October is −16 °C (3 °F) and record high of average daily temperatures in October is 20 °C (68 °F).Zürich has an average of 1,544 hours of sunshine per year and shines on 38% of its potential time throughout the year. During the months April until September the sun shines between 150 and 215 hours per month. The 1,134 mm (44.6 in) rainfall spread on 133.9 days with precipitation throughout the year. Roughly about every third day you will encounter at least some precipitation, which is very much a Swiss average. During the warmer half of the year and especially during the three summer months, the strength of rainfall is higher than those measured in winter, but the days with precipitation stays about the same throughout the year (in average 9.9–12.7 days per month). October has the lowest number (9.9) of days with some precipitation. There is an average of 59.5 so-called bright days (number of days with sunshine duration greater than 80%) through the year, the most in July and August (7.4, 7.7 days), and the least in January and December (2.7, 1.8 days). The average number of days with sunshine duration less than 20%, so-called cloudy days, is 158.4 days, while the most cloudy days are in November (17.8 days), December (21.7 days), and January with 19 days.\\n\\n\\n=== Climate protection ===\\nIn November 2008 the people of Zürich voted in a public referendum to write into law the quantifiable and fixed deadline of one tonne of CO2 per person per annum by 2050. This forces any decision of the executive to support this goal, even if the costs are higher in all dimensions. Some examples are the new disinfection section of the public city hospital in Triemli (Minergie-P quality – passive house), the continued optimisation and creation of public transportation, enlargement of the bicycle-only network, research and projects for renewable energy and enclosure of speed-ways.\\n\\n\\n=== Urban area ===\\nThe areas surrounding the Limmat are almost completely developed with residential, industrial, and commercial zones. The sunny and desirable residential areas in the hills overlooking Zürich, Waidberg and Zürichberg, and the bottom part of the slope on the western side of the valley on the Uetliberg, are also densely built.\\nThe \"green lungs\" of the city include the vast forest areas of Adlisberg, Zürichberg, Käferberg, Hönggerberg and Uetliberg. Major parks are also located along the lakeshore (Zürichhorn and Enge), while smaller parks dot the city. Larger contiguous agricultural lands are located near Affoltern and Seebach. Of the total area of the municipality of Zürich (in 1996, without the lake), 45.4% is residential, industrial and commercial, 15.5% is transportation infrastructure, 26.5% is forest, 11%: is agriculture and 1.2% is water.\\n\\n\\n== Transport ==\\n\\n\\n=== Public transport ===\\nPublic transport is extremely popular in Zürich, and its inhabitants use public transport in large numbers. About 70% of the visitors to the city use the tram or bus, and about half of the journeys within the municipality take place on public transport. The ZVV network of public transport contains at least four means of mass-transit: any train that stops within the network\\'s borders, in particular the S-Bahn (local trains), Zürich trams, and buses (both diesel and electric, also called trolley buses) and boats on the lake and river. In addition, the public transport network includes funicular railways and even the Luftseilbahn Adliswil-Felsenegg (LAF), a cable car between Adliswil and Felsenegg. Tickets purchased for a trip are valid on all means of public transportation (train, tram, bus, boat). The Zürichsee-Schifffahrtsgesellschaft (commonly abbreviated to ZSG) operates passenger vessels on the Limmat and the Lake Zürich, connecting surrounding towns between Zürich and Rapperswil.\\n\\nZürich is a mixed hub for railways, roads, and air traffic. Zürich Hauptbahnhof (Zürich HB) is the largest and busiest station in Switzerland and is an important railway hub in Europe. As of early 2020, Zürich HB served around 470,000 passengers and nearly 3,000 trains every day. Among the 16 railway stations (and 10 additional train stops) within Zürich\\'s city borders, there are five other major passenger railway stations. Three of them belong to the ten most frequented railway stations in Switzerland: Stadelhofen, Oerlikon, Altstetten, Hardbrücke, and Enge. The railway network is mainly operated by the Swiss Federal Railways (SBB CFF FFS), but Zürich is also served by major EuroCity trains from the neighbouring countries and is a destination for both French/Swiss (TGV Lyria) and German (ICE) high-speed trains, as well as by Austrian RailJet.\\n\\n\\n=== Zurich Airport ===\\nZurich Airport is located less than 10 km (6.2 mi) northeast of the city in Kloten. Zurich Airport has its own railway station, which is located underground. It is directly connected to Zürich and most of the major Swiss cities. Zurich Airport is served by more than 60 passenger airlines from around the world. It is also served by one cargo airline and is a hub for Swiss International Air Lines. There is also an airfield in Dübendorf.\\n\\n\\n=== Road traffic ===\\nThe A1, A3 and A4 motorways pass close to Zürich. The A1 heads west towards Bern and Geneva and eastwards towards St. Gallen; the A4 leads northwards to Schaffhausen and southwards to Altdorf connecting with the A2 towards Chiasso; and the A3 heads northwest towards Basel and southeast along Lake Zürich and Lake Walen towards Sargans.\\n\\n\\n=== Bicycle transport ===\\nIn 2012, the city council launched a program to improve the city\\'s attractiveness for bicycle traffic. The so-called \"Masterplan Velo\" is part of the superordinate framework Stadtverkehr 2025 which shapes the future of the different means of transport. Research revealed that infrastructure and the social environment are essential factors in improving a city\\'s appeal to bicycle traffic. Three main goals are specified: First, the modal share of bicycle traffic should be enhanced to twice the value of 2011 by 2015. Second, cyclists\\' safety should be improved to lower the overall accident risk. Third, cycling should be established as an everyday means of transport with a special focus on children and young people.\\nIn terms of infrastructure, the city aims to build up a network of distinctive bicycle routes in order to achieve these objectives. At a final stage, the network will consist of main routes (Hauptrouten) for everyday use and comfort routes (Komfortrouten), with the latter focusing on leisure cycling. Additional measures such as special Velostationen providing bike-related services are expected to help to further improve the quality. One of the key projects of the system is a tunnel beneath the tracks of the main railway station planned to combine a main connection with staffed possibilities where commuters can leave their bikes throughout the day. Apart from infrastructural measures, further approaches are planned in the fields of communication, education and administration.\\nHowever, these efforts cause critique, mainly due to postponing. The institution of the bike tunnel at the main railway station, originally planned for 2016, was delayed to at least 2019. Pro Velo, a nationwide interest group, has publicly questioned whether the masterplan already failed. The critique aims at badly governed traffic management at construction sites, missing possibilities to park bikes in the city as well as rather diffident ambitions. In response, the responsible city department points to the big investments made every year and mentions ongoing discussions that would finally lead to even better results.\\n\\n\\n== Demographics ==\\n\\n\\n=== Population ===\\nThere are 421,878 people living in Zürich (as of 31 December 2020), making it Switzerland\\'s largest city. Of registered inhabitants (in 2016), 32% (133,473) do not hold Swiss citizenship. Of these, German citizens make up the largest group with 8% (33,548), followed by Italians 3.5% (14,543). As of 2011, the population of the city, including suburbs, totaled 1.17 million people. The entire metropolitan area (including the cities of Winterthur, Baden, Brugg, Schaffhausen, Frauenfeld, Uster / Wetzikon, Rapperswil-Jona, and Zug) had a population of around 1.82 million people.\\n\\n\\n=== Languages ===\\nThe official formal language used by governmental institutions, print, news, schools and universities, courts, theatres and in any kind of written form is the Swiss variety of Standard German, while the spoken language is Zürich German (Züritüütsch), one of the several more or less distinguishable, but mutually intelligible Swiss German dialects of Switzerland with roots in the medieval Alemannic German dialect groups. However, because of Zürich\\'s national importance, and therefore its existing high fluctuation, its inhabitants and commuters speak all kinds of Swiss German dialects. As of the December 2010 census, 69.3% of the population speaks diglossic Swiss German/Swiss Standard German as their mother-tongue at home. Some 22.7% of inhabitants speak Standard German in their family environment (\"at home\"). Dramatically increasing, according to the last census in 2000, 8.8% now speak English. Italian follows behind at 7.1% of the population, then French at 4.5%. Other languages spoken here include: Bosnian (4.1%), Spanish (3.9%), Portuguese (3.1%), and Albanian (2.3%). (Multiple choices were possible.) Thus, 20% of the population speak two or more languages at home.\\n\\n\\n=== Religion ===\\n\\nBefore the Protestant Reformation reached Zürich, it was de jure and de facto Roman Catholic.\\nThe Protestant Reformation, led by Huldrych Zwingli, made Zürich both a theological centre and a stronghold of Protestantism in Switzerland. Another Swiss city with a comparable status was Geneva, the so-called Protestant Rome, where John Calvin and his Protestant Reformers operated, as well as Basel. Zürich attracted other influential Protestant Reformers like Heinrich Bullinger. Zwingli translated the Bible (Zürich Bible) into the local variety of German, and introduced the Reformation by winning support of the magistrates, the princess abbess Katharina von Zimmern, and the largely peasant population of the Canton of Zürich. The canton unanimously adopted the Reformed tradition, as represented by Zwingli. Religious wars between Catholics and Protestants tormented the Swiss Confederacy. Zwingli died for political and religious reasons by defending the Canton of Zürich in the Battle of Kappel. Bullinger took over his role as the city\\'s spiritual leader.\\nIn 1970, about 53% of the population were Swiss Reformed, while almost 40% were Roman Catholic. Since then, both large Swiss churches, the Roman Catholic Church and Swiss Reformed Church, have been constantly losing members, though for the Catholic Church, the decrease started 20 years later, in around 1990. Nevertheless, for the last twenty years, both confessions have been reduced by 10%, to the current figures (census 2010): 30% Roman Catholic, and 26% Swiss Reformed (organized in Evangelical Reformed Church of the Canton of Zürich). In 1970, only 2% of Zürich\\'s inhabitants claimed to be not affiliated with any religious confession. In accordance with the loss by the large Swiss churches, the number of people declaring themselves as non-affiliated rose to 17% in the year 2000. In the last ten years, this figure rose to more than 25%. For the group of people, being between 24 and 44 years old, this is as high as one in every third person.5% of Zürich\\'s inhabitants are Muslims, a slight decrease of 1%, compared to the year 2000. The Mahmood Mosque Zürich, situated in Forchstrasse, is the first mosque built in Switzerland.The population of Jewish ethnicity and religion has been more or less constant since 1970, at about 1%. The Synagoge Zürich Löwenstrasse is the oldest and largest synagogue of Zürich.\\n\\n\\n=== Social ===\\nThe level of unemployment in Zürich was 3.2% in July 2012. In 2008, the average monthly income was about CHF 7000 before any deductions for social insurances and taxes. In 2010, there were 12,994 cases (on average per month) of direct or indirect welfare payments from the state.\\n\\n\\n=== Quality of living ===\\nZürich often performs very well in international rankings, some of which are mentioned below:\\n\\nMonocle\\'s 2012 \"Quality of Life Survey\" ranked Zürich first on a list of the top 25 cities in the world \"to make a base within\". In 2019 Zürich was ranked among the ten most liveable cities in the world by Mercer together with Geneva and Basel.\\nIn fDi Magazine\\'s \"Global Cities of the Future 2021/22\" report, Zürich placed 16th in the overall rankings (all categories). In the category \"Mid-sized and small cities\", Zürich was 2nd overall, behind Wroclaw, having also placed 2nd in the subcategory \"Human capital and lifestyle\" and 3rd under \"Business friendliness\". In the category \"FDI strategy, overall\" (relating to foreign direct investment), Zürich ranked 9th, behind such cities as New York, Montreal (1st and 2nd) and Dubai (at number 8).\\n\\n\\n== Main sites ==\\n\\nMost of Zürich\\'s sites are located within the area on either side of the Limmat, between the Main railway station and Lake Zürich. The churches and houses of the old town are clustered here, as are the most expensive shops along the famous Bahnhofstrasse. The Lindenhof in the old town is the historical site of the Roman castle, and the later Carolingian Imperial Palace.\\n\\n\\n=== Churches ===\\nGrossmünster (Great Minster) According to legend, Charlemagne discovered the graves of the city\\'s martyrs Felix and Regula and had built the first church as a monastery; start of current building around 1100; in the first half of the 16th century, the Great Minster was the starting point of the Swiss-German Reformation led by Huldrych Zwingli and Heinrich Bullinger; declared by Charlemagne imperial church; romanesque crypt, romanesque capitals in the church and cloister; choir windows by Augusto Giacometti (1932) and Sigmar Polke (2009), bronze doors by Otto Münch (1935 and 1950).\\nFraumünster (Women\\'s Minster) Church of a former abbey for aristocratical women from southern Germany which was founded in 853 by Louis the German for his daughter Hildegard; first church built before 874; the romanesque choir dates from 1250 to 1270; the church enjoyed the patronage of kings and had the right of coinage from Zürich to the 13th century; after the Reformation, church and convent passed into the possession of the city; the most important jewelry – in addition to the largest organ in the canton with its 5,793 pipes and 92 stops – are color windows: the window in the north transept of Augusto Giacometti (1945), the five-part cycle in the choir (1970) and the rosette in the southern transept (1978) are by Marc Chagall; also the church of Zürich\\'s largest choir with 100 and more singers.\\nSt. Peter romanesque-gothic-baroque church built on remains of former churches from before the 9th century; with the largest church clock face in Europe built 1538; baptismal font of 1598, baroque stucco; individual stalls from the 15th century from city repealed monasteries with rich carvings and armrests; Kanzellettner (increased barrier between the nave and choir with built-pulpit) of 1705 pulpit sounding board about 1790; rich Akanthus embellishment with Bible verse above the pulpit; 1971 new crystal chandelier modeled according 1710 design; organ in 1974 with 53 stops; Bells: five from 1880, the largest, A minor, without clapper weighs about 6,000 kg (13,228 lb); fire guard in the tower to the Middle Ages to 1911.\\nPredigerkirche is one of the four main churches of the old town, first built in 1231 AD as a Romanesque church of the then Dominican Predigerkloster nearby the Neumarkt. It was converted in the first half of the 14th century, and the choir rebuilt between 1308 and 1350. Due to its construction and for that time unusual high bell tower, it was regarded as the most high Gothic edifice in Zürich.\\n\\n\\n=== Museums ===\\nZürich Museum of Art – The Museum of Art, also known as Kunsthaus Zürich, is one of the significant art museums of Europe. It holds one of the largest collections in Classic Modern art in the world (Munch, Picasso, Braque, Giacometti, etc.). The museum also features a large library collection of photographs.\\nSwiss National Museum – The National Museum (German: Landesmuseum) displays many objects that illustrate the cultural and historical background of Switzerland. It also contains many ancient artifacts, including stained glass, costumes, painted furniture and weapons. The museum is located in the Platzspitz park opposite to the Hauptbahnhof.\\nCentre Le Corbusier – Located on the shore of the Lake Zürich nearby Zürichhorn, the Centre Le Corbusier (also named: Heidi Weber Museum), is an art museum dedicated to the work of the Swiss architect Le Corbusier, inside the last house he designed.\\nRietberg Museum – The Rietberg Museum, situated in Gablerstrasse, is one of the great repositories of art and culture in Zürich. The museum also displays exhibits gathered from various corners of the world: bronze artifacts from Tibet, ceramics and jade, Indian sculpture, Chinese grave decorations, masks by African tribes, etc.\\nMuseum of Design – The Museum of Design is a museum for industrial design, visual communication, architecture and craft. It is part of the Department of Cultural Analysis of the Zürich University of the Arts.\\nHaus Konstruktiv – The Haus Konstruktiv is a museum with Swiss-wide and international recognition. The museum is about constructive, concrete and conceptual art and design. It testimonies to Zürich\\'s industrial architecture in the immediate vicinity of the Main Station.\\nUhrenmuseum Beyer – The Uhrenmuseum is located in the heart of the city. Documenting the history of timekeeping and timekeepers, the museum is home to a large collection of mechanical timepieces as well as a collection of primitive time keeping devices such as water clocks, sundials and hourglasses.\\nNo Show Museum – the No Show Museum is the first museum dedicated to nothing and its various manifestations throughout the history of art.\\nGuild houses – The Guild houses (German: Zunfthaus) are located along the Limmat (downstream from the Grossmünster): Meisen (also a porcelain and faience museum), Rüden, Haue, Saffran, Schneidern, Schmiden, Zimmerleuten, and some more.\\nTram Museum – The Tram Museum is located at Burgwies in Zürich\\'s eastern suburbs, and chronicles the history of Zürich\\'s iconic tram system with exhibits varying in date from 1897 to the present day.\\nNorth America Native Museum – The North American Native Museum specializes in the conservation, documentation and presentation of ethnographic objects and art of Native American, First Nation and Inuit cultures.\\nFIFA Museum - The museum exhibits memorabilities from the world of Association Football (Soccer), founded by the Féderation Internationale de Football Association\\n\\n\\n=== Parks and nature ===\\nZoological Garden – The zoological garden holds about 260 species of animals and houses about 2200 animals. One can come across separate enclosures of snow leopards, India lions, clouded leopards, Amur leopards, otters and pandas in the zoo.\\nBotanical Garden – The Botanical Garden houses about 15,000 species of plants and trees and contains as many as three million plants. In the garden, many rare plant species from south western part of Africa, as well as from New Caledonia can be found. The University of Zürich holds the ownership of the Botanical Garden.\\nChinese Garden – The Chinese Garden is a gift by Zürich\\'s Chinese partner town Kunming, as remiscence for Zürich\\'s technical and scientific assistance in the development of the Kunming city drinking water supply and drainage. The garden is an expression of one of the main themes of Chinese culture, the «Three Friends of Winter» – three plants that together brave the cold season – pine, bamboo, and plum.\\nUetliberg – Located to the west of the city at an altitude of 813 m (2,667 ft) above sea level, the Uetliberg is the highest hill and offers views over the city. The summit is easily accessible by train from Zürich main station.\\n\\n\\n=== Kunst und Bau (construction permit office) ===\\nIn 1922 Augusto Giacometti won the competition to paint the entrance hall of Amtshaus I, which the city promised to brighten up this gloomy room, which was once used as a cellar, and at the same time to alleviate the precarious economic situation of the local artists. Giacometti brought in the painters Jakob Gubler, Giuseppe Scartezzini and Franz Riklin for the execution of this fresco, which encompasses the ceiling and walls, thereby creating a unique color space that appears almost sacred in its luminosity.\\n\\n\\n=== Architecture ===\\nCompared to other cities, there are few tall buildings in Zürich. The municipal building regulations (Article 9) limit the construction of high-rise buildings to areas in the west and north of the city. In the industrial district, Altstetten and Oerlikon, buildings up to 80 m (260 ft) in height are allowed (high-rise area I). In the adjacent high-rise areas II and III the height is limited to 40 m (130 ft). Around the year 2000, regulations became more flexible and high-rise buildings were again planned and built. The people\\'s initiative \"40 m (130 ft) is enough,\" which would have reduced both the maximum height and the high-rise buildings area, was clearly rejected on 29 November 2009. At this time in Zürich about a dozen high-rise buildings were under construction or in planning, including the Prime Tower as the tallest skyscraper in Switzerland at the time of its construction. There are numerous examples of brutalist buildings throughout the city, including the Swissmill Tower which, at 118m, is the world\\'s tallest grain silo. \\n\\n\\n=== World heritage sites ===\\nThe prehistoric settlements at Enge Alpenquai and Grosser Hafner and Kleiner Hafner are part of the Prehistoric Pile dwellings around the Alps a UNESCO World Heritage Site.\\n\\n\\n== Economy ==\\n\\nIn a 2009 survey by CityMayors.com, Zürich was ranked 9th among the \"World\\'s 10 Most Powerful Cities\". In the 2017 Global Financial Centres Index, Zürich was ranked as having the 11th most competitive financial center in the world, and second most competitive in Europe after London. The Greater Zürich Area is Switzerland\\'s economic centre and home to many international companies. By far the most important sector in the economy of Zürich is the service industry, which employs nearly four-fifths of workers. Other important industries include light industry, machine and textile industries and tourism. Located in Zürich, the Swiss Stock Exchange was established in 1877 and is now the fourth most prominent stock exchange in the world. In addition, Zürich is the world\\'s largest gold trading centre.Ten of the country\\'s 50 largest companies have their head offices in Zürich, among them ABB, UBS, Credit Suisse, Swiss Re and Zürich Financial Services. Most Swiss banks have their headquarters in Zürich and there are numerous foreign banks in the Greater Zürich Area. \"Gnomes of Zurich\" is a disparaging term used for Swiss bankers  on account of their alleged secrecy and speculative dealing.\\n\\n\\n=== Contributory factors to economic strength ===\\nThe high quality of life has been cited as a reason for economic growth in Zürich. The consulting firm Mercer has for many years ranked Zürich as a city with the highest quality of life in the world. In particular, Zürich received high scores for work, housing, leisure, education and safety. Local planning authorities ensure clear separation between urban and recreational areas and there are many protected nature reserves. Zürich is also ranked the third most expensive city in the world, behind Hong Kong and Tokyo and ahead of Singapore.Zürich benefits from the high level of investment in education which is typical of Switzerland in general and provides skilled labour at all levels. The city is home to two major universities, thus enabling access to graduates and high technology research. Professional training incorporates a mix of practical work experience and academic study while, in general, emphasis is placed on obtaining a good level of general education and language ability. As a result, the city is home to many multilingual people and employees generally demonstrate a high degree of motivation and a low level of absenteeism. The employment laws are less restrictive as nearby Germany or France. Technology new start, FinTech and others in MedTech secure good seed and starter funding.Google Zurich is a main hub for its operations in Europe with about 5000 employees. In March 2023, workers at the center staged a solidarity movement in coordination with its IT workers\\' union Syndicom to reduce lay-offs and to oppose salary cuts. According to a spokesperson for the company, Zurich would remain a major employer despite the measures.\\n\\n\\n=== The Swiss stock exchange ===\\nThe Swiss stock exchange is called SIX Swiss Exchange, formerly known as SWX. The SIX Swiss Exchange is the head group of several different worldwide operative financial systems: Eurex, Eurex US, EXFEED, STOXX, and virt-x. The exchange turnover generated at the SWX was in 2007 of 1,780,499.5 million CHF; the number of transactions arrived in the same period at 35,339,296 and the Swiss Performance Index (SPI) arrived at a total market capitalization of 1,359,976.2 million CHF.\\n\\n\\n== Education and research ==\\nAbout 70,000 people study at the 20 universities, colleges and institutions of higher education in Zürich in 2019. Two of Switzerland\\'s most distinguished universities are located in the city: the Swiss Federal Institute of Technology (ETH Zurich), which is controlled by the federal government, and the University of Zurich, under direction of the canton of Zürich. Both universities were listed in the top 50 world universities rated in 2007, while the ETH has consistently remained in the top 10 universities worldwide since 2016.ETH was founded in 1854 by the Swiss Confederation and opened its doors in 1855 as a polytechnic institute. ETH achieved its reputation particularly in the fields of chemistry, mathematics and physics and there are 21 Nobel Laureates who are associated with the institution. ETH is usually ranked the top university in continental Europe. The institution consists of two campuses, the main building in the heart of the city and the new campus on the outskirts of the city.\\nThe University of Zurich was founded in 1833, although its beginnings date back to 1525 when the Swiss reformer Ulrich Zwingli founded a college of theology. Nowadays with its 24,000 students and 1,900 graduations each year, the University of Zürich is the largest in Switzerland and offers the widest range of subjects and courses at any Swiss higher education institution.\\nThe Pedagogical College, the Zurich University of Applied Sciences (ZHAW) and the Zurich University of the Arts (ZHdK) are another three top-class technical colleges which contribute to Zürich\\'s reputation as a knowledge and research pole by providing applied research and development. Zürich is also one of the co-location centres of the Knowledge and Innovation Community (Climate Change Mitigation and Adaptation) of the European Institute of Innovation and Technology.In addition to the university libraries, the city is also served by the Zentralbibliothek Zürich, a research and public library, and the Pestalozzi-Bibliothek Zürich, a public library with 14 locations.\\n\\n\\n=== State universities by size in canton of Zürich ===\\n\\n\\n== Media ==\\nMany large Swiss media conglomerates are headquartered in Zürich, such as tamedia, Ringier and the NZZ-Verlag.\\n\\n\\n=== Television and radio ===\\nThe headquarters of Switzerland\\'s national licence fee-funded German language television network (\"SF\") are located in the Leutschenbach neighborhood, to the north of the Oerlikon railway station. Regional commercial television station \"TeleZüri\" (Zürich Television) has its headquarters near Escher-Wyss Platz. The production facilities for other commercial stations \"Star TV\", \"u1\" TV and \"3+\" are located in Schlieren.\\nOne section of the Swiss German language licence fee-funded public radio station \"Schweizer Radio DRS\" is located in Zürich. There are commercial local radio stations broadcasting from Zürich, such as \"Radio 24\" on the Limmatstrasse, \"Energy Zürich\" in Seefeld on the Kreuzstrasse, Radio \"LoRa\" and \"Radio 1\". There are other radio stations that operate only during certain parts of the year, such as \"CSD Radio\" (May/June), \"Radio Streetparade\" (July/August) and \"rundfunk.fm\" (August/September).\\n\\n\\n=== Print media ===\\nThere are three large daily newspapers published in Zürich that are known across Switzerland. The Neue Zürcher Zeitung (NZZ), the Tages-Anzeiger and Blick, the largest Swiss tabloid. All three of those newspapers publish Sunday editions. These are the NZZ am Sonntag, SonntagsZeitung and SonntagsBlick. Besides the three main daily newspapers, there is a free daily commuter newspaper which is widely distributed: 20 Minuten (20 minutes), published weekdays in the mornings.\\nA number of magazines from major publishers are based in Zürich. Some examples are Bilanz, Die Weltwoche, Annabelle, Schweizer Familie and Schweizer Illustrierte.\\n\\n\\n== Culture ==\\n\\nIn addition to high-quality museums and galleries, Zürich has high-calibre chamber and symphony orchestras and several important theatres.The Zurich Film Festival is an international film festival, lasting 11 days and featuring popular international productions.\\nOne of the largest and most popular annual events in Zürich is the Street Parade, which is also one of the largest techno and dance music festivals in the world. Proceeding along the side of Lake Zürich, it is normally held on the second Saturday in August. The first edition was held in 1992 with about 1,000 participants. By 2001 the event attracted one million participants. The Zürifäscht, on the other hand, is a triennial public festival. It features music, fireworks set to music, and other attractions throughout the old town. It is the largest public festival in Switzerland and attracts up to 2 million visitors.The Kunst Zürich is an international contemporary art fair with an annual guest city; it combines most recent arts with the works of well-established artists. Another annual public art exhibit is the city campaign, sponsored by the City Vereinigung (the local equivalent of a chamber of commerce) with the cooperation of the city government. It consists of decorated sculptures distributed over the city centre, in public places. Past themes have included lions (1986), cows (1998), benches (2003), teddy bears (2005), and huge flower pots (2009). From this originated the concept of the CowParade that has been featured in other major world cities.\\nZürich has been the home to several art movements. The Dada movement was founded in 1916 at the Cabaret Voltaire. Artists like Max Bill, Marcel Breuer, Camille Graeser or Richard Paul Lohse had their ateliers in Zürich, which became even more important after the takeover of power by the Nazi regime in Germany and World War II.\\nThe best known traditional holiday in Zürich is the Sechseläuten (Sächsilüüte), including a parade of the guilds and the burning of \"winter\" in effigy at the Sechseläutenplatz. During this festival the popular march known as the Sechseläutenmarsch is played. It has no known composer but likely originated in Russia. Another is the Knabenschiessen target shooting competition for teenagers (originally boys, open to female participants since 1991).\\n\\n\\n=== Opera, ballet, and theaters ===\\nThe Zürich Opera House (German: Zürcher Opernhaus), built in 1834, was the first permanent theatre in the heart of Zürich and was at the time, the main seat of Richard Wagner\\'s activities. Later in 1890, the theatre was re-built as an ornate building with a neo-classical architecture. The portico is made of white and grey stone ornamented with the busts of Wagner, Weber and Mozart. Later, busts of Schiller, Shakespeare and Goethe were also added. The auditorium is designed in the rococo style. Once a year, it hosts the Zürcher Opernball with the President of the Swiss Confederation and the economic and cultural élite of Switzerland. The Ballet Zürich performs at the opera house. The Zürich Opera Ball, a major social event, is held annually at the Opera House as a fundraiser for the opera and ballet companies.\\nThe Schauspielhaus Zürich is the main theatre complex of the city. It has two dépendances: Pfauen in the Central City District and Schiffbauhalle, an old industrial hall, in Zürich West. The Schauspielhaus was home to emigrants such as Bertolt Brecht or Thomas Mann, and saw premieres of works of Max Frisch, Friedrich Dürrenmatt, Botho Strauss or Elfriede Jelinek. The Schauspielhaus is one of the most prominent and important theatres in Switzerland.The Theater am Neumarkt is one of the oldest theatres of the city. Established by the old guilds in the Old City District, it is located in a baroque palace near Niederdorf Street. It has two stages staging mostly avantgarde works by European directors.\\nThe Zürcher Theater Spektakel is an international theatre festival, featuring contemporary performing arts.\\n\\n\\n=== Food ===\\nThe traditional cuisine of Zürich reflects the centuries of rule by patrician burghers as well as the lasting imprint of Huldrych Zwingli\\'s puritanism. Traditional dishes include Zürcher Geschnetzeltes and Tirggel.\\n\\n\\n=== Nightlife and clubbing ===\\nZürich is host city of the Street Parade, which takes place in August every year (see above).\\nThe most famous districts for Nightlife are the Niederdorf in the old town with bars, restaurants, lounges, hotels, clubs, etc. and a lot of fashion shops for a young and stylish public and the Langstrasse in the districts 4 and 5 of the city. There are authentic amusements: bars, punk clubs, hip hop stages, Caribbean restaurants, arthouse cinemas, Turkish kebabs and Italian espresso-bars, but also sex shops or the famous red-light district of Zürich.\\nIn the past ten years new parts of the city have risen into the spotlight. Notably, the area known as Zürich West in district 5, near the Escher-Wyss square and the S-Bahn Station of Zürich Hardbrücke.\\n\\n\\n== Sports ==\\nZürich is home to several international sport federations. The Fédération Internationale de Football Association (FIFA) is headquartered in the city. In 2007 were inaugurated the new FIFA headquarters building, designed by architect Tilla Theus.\\nAssociation football is an essential aspect of sports in Zürich. The city is home to two major Swiss football teams; Grasshopper Club Zürich founded in 1886 and FC Zürich founded in 1896, both competing in Switzerland\\'s highest league.\\nAmong the most popular sports in Switzerland is ice hockey. In Zürich it is represented by the ZSC Lions. The International Ice Hockey Federation (IIHF) officiating as head organisation for ice hockey leagues worldwide is based in Zürich as well.\\nCycling is a popular sport as well as a means of transport in Zürich. Cycling routes are generally marked with red and white signs and the yellow lanes are exclusively meant for cyclists. Also hiking trails are well marked with yellow signs, which give the hiker the probable time it will take them to reach their destination. There are specific maps available for hiking and walking trails throughout Switzerland. Some of the most accessible walks in the Zürich area are the Uetliberg and the Zürichberg. The Offene Rennbahn otherwise known as the Oerlikon Velodrome deserves a special visit on any Tuesday evening in the summer, for cyclists there are chances to see time trial champions or local Swiss national cyclists challenging other amateurs in a variety of races including Madison or Keirin events.\\nAs many as 30 clubs and seven indoor curling facilities can be found in the Greater Zürich Area. The curling season starts in early September and continues until the end of April.Zürich is Switzerland\\'s hub for lacrosse. The Zürich Lions Lacrosse Academics, who play their home games at the Hochschulsportanlage Fluntern, have been the country\\'s dominant team and a major competitor at international events.\\n\\n\\n=== Events ===\\nWeltklasse Zürich, sometimes referred to as the one-day Olympics, is a one-day athletics meet held annually at the Letzigrund Stadium. Since it started on 12 August 1928, the sporting event has witnessed new world records and national records. To date as many as 24 world records were set in Weltklasse.Zürich Marathon is a popular sport event, inviting numerous athletes from every corner of the globe. Zürich Marathon is a long-distance running event, covering 42.195 km (26.219 mi) at one stretch. The running course starts in Zürich and passes through Bahnhofstrasse, Bellevueplatz, Mythenquai, Quaibrücke, Talstrasse and Utoquai, and along Lake Zürich to several other places. New Year\\'s Eve run is another important running event. The race is held on 1 January each year and the start takes place at midnight exactly.\\nZürich was one of six venues of the 1954 FIFA World Cup and one of eight venues of the UEFA Euro 2008. The Euro 2008 games were held in the Letzigrund Stadium. Work on the new Letzigrund was completed in exceptionally quick time and the stadium opened in August 2007 just one year after the demolition of the old arena.Zürich hosted the UCI Track Cycling World Championships six times at the Oerlikon Velodrome. The first time was in 1929 and the last time in 1983.\\nSince 2013, the international Openair Literatur Festival Zürich takes place annually in Zurich, presented by Literaturhaus Zürich and Kaufleuten.\\nZürich also hosted the 1998 World Ice Hockey Championships. The city previously co-hosted the 1953 and 1939 editions.\\nZürich was also host to the 2012 Men\\'s World Floorball Championships. This was the first time the event had been held in Zürich.\\n\\n\\n== Notable people ==\\n\\n\\n== Other points of interest ==\\nThe Schwamendingen X: level crossing of tram tracks, necessary because the tunnel uses island platforms for boarding (between trams, whose doors are on the right) while normally (outside the tunnel), passengers board to the outside (opposite the boarding area of oncoming trams). Trams normally travel on the right track, but in the tunnel they travel on the left.\\nThe Sihlfeld cemetery has a vending machine for funeral cards and other mourning supplies.\\nThe \"Oepfelchammer\" tavern in Zürich\\'s Old Town offers an unusual athletic drinking game called Balkenprobe: the drinker has to pull themselves up on a ceiling beam, cross over to the next beam, then drink a glass of wine with their head hanging down.\\n\\n\\n== Further reading ==\\n\\n\\n=== Architecture ===\\nHönig, Roderick: Zürich wird gebaut. Architekturführer Zürich 1990–2010. Hochparterre, Zürich 2010, ISBN 978-3-85881-127-1.\\nOechslin, Werner: Hochschulstadt Zürich. Bauten der ETH 1855–2005. GTA, Zürich 2005, ISBN 3-85676-154-3.\\nBonte, Alexander, Bürkle, J. Christoph: Max Dudler Die neue Dichte – Der neue Stadtteil Europaallee und die Pädagogische Hochschule Zürich, Jovis, Berlin 2012, ISBN 978-3-86859-198-9\\n\\n\\n=== Culture ===\\nKröger, Ute: Zürich, du mein blaues Wunder. Literarische Streifzüge durch eine europäische Kulturstadt. Limmat, Zürich 2004, ISBN 3-85791-447-5.\\nStaub, Ueli: Jazzstadt Zürich. Von Louis Armstrong bis Zürich Jazz Orchestra. Neue Zürcher Zeitung, Zürich 2003, ISBN 3-03823-012-X.\\n\\n\\n=== Others ===\\nFoppa, Daniel: Berühmte und vergessene Tote auf Zürichs Friedhöfen. Limmat, Zürich 2003, ISBN 3-85791-446-7.\\nHegi, Christof u. a.: Zürich. Mairs, Ostfildern 2006, ISBN 3-8297-0315-5 (= Marco Polo Reiseführer).\\nHeimgartner, Susanna: Zürich komplett. Regenbogen, Zürich 2005, ISBN 3-85862-458-6 (= Regenbogen Reiseführer).\\nSmith, Duncan J. D.: Nur in Zürich – Ein Reiseführer zu einzigartigen Orten, geheimen Plätzen und ungewöhnlichen Sehenswürdigkeiten (übersetzt von Walter Goidinger), Brandstätter, Wien 2012, ISBN 978-3-85033-546-1.\\n\\n\\n== See also ==\\nSwitzerland\\nBern\\nList of mayors of Zürich\\nPS Stadt Zürich\\n\\n\\n== Notes and references ==\\n\\n\\n=== Notes ===\\n\\n\\n=== References ===\\n\\n\\n== External links ==\\n\\nStadt Zürich – official website (in German)\\nCity of Zürich – official website (in English)\\nZürich Tourism – official website\\nZürich Chamber of Commerce – official website\\nEvent & Pleasure Calendar by Tages-Anzeiger (newspaper) (in German)\\nNYT Travel Guide by The New York Times'"
      ]
     },
     "execution_count": 274,
     "metadata": {},
     "output_type": "execute_result"
    }
   ],
   "source": [
    "zurich_text #that's correct!"
   ]
  },
  {
   "cell_type": "markdown",
   "id": "4781f585",
   "metadata": {},
   "source": [
    "Note that the index method only detects the first occurrence of that word in the text. If we would like to find the position of all the Zürich words in the text we would need to use something more sophisticated (if you would like to play around a little bit with your Python skills explore this script: https://www.perplexity.ai/search/ef62d3e5-2e0e-4c3e-986b-e0a53f434e87?s=u)"
   ]
  },
  {
   "cell_type": "markdown",
   "id": "cb1ec3aa",
   "metadata": {},
   "source": [
    "# Find()"
   ]
  },
  {
   "cell_type": "markdown",
   "id": "33555a32",
   "metadata": {},
   "source": [
    "Find does in essence the same thing as index: it provides the position of a string in a text.Let's try again to find the word \"Zürich\"."
   ]
  },
  {
   "cell_type": "code",
   "execution_count": 284,
   "id": "c6554ca1",
   "metadata": {},
   "outputs": [],
   "source": [
    "#Your code in here"
   ]
  },
  {
   "cell_type": "code",
   "execution_count": 285,
   "id": "2745e2ac",
   "metadata": {},
   "outputs": [
    {
     "data": {
      "text/plain": [
       "0"
      ]
     },
     "execution_count": 285,
     "metadata": {},
     "output_type": "execute_result"
    }
   ],
   "source": [
    "#Solution\n",
    "\n",
    "zurich_text.find(\"Zürich\")"
   ]
  },
  {
   "cell_type": "markdown",
   "id": "e8f24515",
   "metadata": {},
   "source": [
    "The main difference between index() and find() lies on how both behave when we try to look for a string that is not in our variable. Find() will return -1, and index will return a Value error. Let's test this trying to find the string \"Madrid\". "
   ]
  },
  {
   "cell_type": "code",
   "execution_count": 286,
   "id": "cf0e49c2",
   "metadata": {},
   "outputs": [],
   "source": [
    "#Your code in here"
   ]
  },
  {
   "cell_type": "code",
   "execution_count": 287,
   "id": "dc4a8840",
   "metadata": {},
   "outputs": [
    {
     "ename": "ValueError",
     "evalue": "substring not found",
     "output_type": "error",
     "traceback": [
      "\u001b[1;31m---------------------------------------------------------------------------\u001b[0m",
      "\u001b[1;31mValueError\u001b[0m                                Traceback (most recent call last)",
      "Input \u001b[1;32mIn [287]\u001b[0m, in \u001b[0;36m<cell line: 3>\u001b[1;34m()\u001b[0m\n\u001b[0;32m      1\u001b[0m \u001b[38;5;66;03m#Solution\u001b[39;00m\n\u001b[1;32m----> 3\u001b[0m \u001b[43mzurich_text\u001b[49m\u001b[38;5;241;43m.\u001b[39;49m\u001b[43mindex\u001b[49m\u001b[43m(\u001b[49m\u001b[38;5;124;43m\"\u001b[39;49m\u001b[38;5;124;43mMadrid\u001b[39;49m\u001b[38;5;124;43m\"\u001b[39;49m\u001b[43m)\u001b[49m\n",
      "\u001b[1;31mValueError\u001b[0m: substring not found"
     ]
    }
   ],
   "source": [
    "#Solution\n",
    "\n",
    "zurich_text.index(\"Madrid\")"
   ]
  },
  {
   "cell_type": "code",
   "execution_count": 288,
   "id": "7fa4ff13",
   "metadata": {},
   "outputs": [
    {
     "data": {
      "text/plain": [
       "-1"
      ]
     },
     "execution_count": 288,
     "metadata": {},
     "output_type": "execute_result"
    }
   ],
   "source": [
    "zurich_text.find(\"Madrid\")"
   ]
  },
  {
   "cell_type": "markdown",
   "id": "61000975",
   "metadata": {},
   "source": [
    "# Wrapping up things"
   ]
  },
  {
   "cell_type": "markdown",
   "id": "678fa97a",
   "metadata": {},
   "source": [
    "Many Eurovision attendees would like to do a one day trip to Geneva while in Zurich. Lets create another icon with Geneva information:\n",
    "\n",
    "* Using the wikipedia python library, create a variable called geneva_text with information about geneva.\n",
    "* Create a variable called comma where you split geneva_text by \",\". Check its type to make sure that it's a list and its len().\n",
    "* Do some data exploration with the comma variable to see if there is some extra space either at the beginnig or at the end of an element in the list. When you find an instance of this problem, use the strip() method and get rid of it. \n",
    "* Practice your list slicing skills and create a variable called test_comma where you select the first 3 elements in the comma list (be aware of Python indexing!). Double check its type, length, and print it to have a look at it. \n",
    "* Now, using the join method, add \" IT'S GENEVA\" (and remember to add an extra space at the very beginning!).\n",
    "* After that, check out with find() and index() the position of the word Switzerland. \n",
    "* Finally, let's see if the string \"Barcelona\" appears mentioned in this article. Use both find() and index() to check this out. "
   ]
  },
  {
   "cell_type": "code",
   "execution_count": 313,
   "id": "3b5721a9",
   "metadata": {},
   "outputs": [],
   "source": [
    "#Your code in here."
   ]
  },
  {
   "cell_type": "code",
   "execution_count": 314,
   "id": "193a0155",
   "metadata": {},
   "outputs": [],
   "source": [
    "#Solution"
   ]
  },
  {
   "cell_type": "code",
   "execution_count": 290,
   "id": "ac214d38",
   "metadata": {},
   "outputs": [],
   "source": [
    "geneva = wikipedia.page(\"Geneva\")"
   ]
  },
  {
   "cell_type": "code",
   "execution_count": 292,
   "id": "827971fa",
   "metadata": {},
   "outputs": [],
   "source": [
    "geneva_text = geneva.content"
   ]
  },
  {
   "cell_type": "code",
   "execution_count": 295,
   "id": "e4737c06",
   "metadata": {},
   "outputs": [
    {
     "data": {
      "text/plain": [
       "['Geneva ( jə-NEE-və; French: Genève [ʒənɛv] ) is the second-most populous city in Switzerland (after Zürich) and the most populous city of Romandy',\n",
       " ' the French-speaking part of Switzerland. Situated in the south west of the country',\n",
       " ' where the Rhône exits Lake Geneva',\n",
       " ' it is the capital of the Republic and Canton of Geneva',\n",
       " ' and a centre for international diplomacy.\\nThe city of Geneva (ville de Genève) had a population of 203',\n",
       " '951 in 2020 (Jan. estimate) within its small municipal territory of 16 km2 (6 sq mi)',\n",
       " ' but the Canton of Geneva (the city and its closest Swiss suburbs and exurbs) had a population of 504',\n",
       " '128 (Jan. 2020 estimate) over 246 km2 (95 sq mi)',\n",
       " ' and together with the suburbs and exurbs located in the canton of Vaud and in the French departments of Ain and Haute-Savoie the cross-border Geneva metropolitan area as officially defined by Eurostat',\n",
       " ' which extends over 2',\n",
       " '292 km2 (885 sq mi)',\n",
       " ' had a population of 1',\n",
       " '044',\n",
       " '766 in Jan. 2020 (Swiss estimates and French census).Since 2013',\n",
       " ' the Canton of Geneva',\n",
       " ' the Nyon District (in the canton of Vaud)',\n",
       " \" and the Pôle métropolitain du Genevois français (literally 'Metropolitan hub of the French Genevan territory')\",\n",
       " ' this last one a federation of eight French intercommunal councils',\n",
       " ' have formed Grand Genève (\"Greater Geneva\")',\n",
       " ' a Local Grouping of Transnational Cooperation (GLCT in French',\n",
       " ' a public entity under Swiss law) in charge of organizing cooperation within the cross-border metropolitan area of Geneva (in particular metropolitan transports). The Grand Genève GLCT extends over 1',\n",
       " '996 km2 (771 sq mi) and had a population of 1',\n",
       " '037',\n",
       " '407 in Jan. 2020 (Swiss estimates and French census)',\n",
       " ' 58.4% of them living on Swiss territory',\n",
       " ' and 41.6% on French territory.Geneva is a global city',\n",
       " ' a financial centre',\n",
       " ' and a worldwide centre for diplomacy due to the presence of numerous international organizations',\n",
       " ' including the headquarters of many agencies of the United Nations and the Red Cross. In the aftermath of World War I',\n",
       " ' it hosted the League of Nations. Geneva hosts the highest number of international organizations in the world. It is also where the Geneva Conventions were signed',\n",
       " ' which chiefly concern the treatment of wartime non-combatants and prisoners of war. It shares a unique distinction with municipalities such as New York City (global headquarters of the UN)',\n",
       " ' Basel (Bank for International Settlements)',\n",
       " ' and Strasbourg (Council of Europe) as a city which serves as the headquarters of at least one critical international organization without being the capital of a country.In 2023',\n",
       " \" Geneva was ranked as the world's tenth most important financial centre by the Global Financial Centres Index\",\n",
       " ' second in Europe behind London. In 2019',\n",
       " ' Geneva was ranked among the ten most liveable cities in the world by Mercer together with Zürich and Basel. The city has been referred to as the world\\'s most compact metropolis and the \"Peace Capital\". In 2019',\n",
       " ' Mercer ranked Geneva as the thirteenth most expensive city in the world. In a UBS ranking of global cities in 2018',\n",
       " ' Geneva was ranked first for gross earnings',\n",
       " ' second most expensive',\n",
       " ' and fourth in purchasing power.\\n\\n\\n== Name ==\\nThe city was mentioned in Latin texts',\n",
       " ' by Caesar',\n",
       " ' with the spelling Genava',\n",
       " ' probably from the Celtic *genawa- from the stem *genu- (\"mouth\")',\n",
       " ' in the sense of an estuary',\n",
       " ' an etymology shared with the Italian port city of Genoa (in Italian Genova).The medieval county of Geneva in Middle Latin was known as pagus major Genevensis or Comitatus Genevensis (also Gebennensis). After 1400 it became the Genevois province of Savoy (albeit not extending to the city proper',\n",
       " ' until the reformation of the seat of the Bishop of Geneva).\\n\\n\\n== History ==\\n\\nGeneva was an Allobrogian border town',\n",
       " ' fortified against the Helvetii tribe',\n",
       " ' when the Romans took it in 121 BC. It became Christian under the Late Roman Empire',\n",
       " ' and acquired its first bishop in the 5th century',\n",
       " ' having been connected to the Bishopric of Vienne in the 4th.\\n\\nIn the Middle Ages',\n",
       " ' Geneva was ruled by a count under the Holy Roman Empire until the late 14th century',\n",
       " ' when it was granted a charter giving it a high degree of self-governance. Around this time',\n",
       " ' the House of Savoy came to at least nominally dominate the city. In the 15th century',\n",
       " ' an oligarchic republican government emerged with the creation of the Grand Council. In the first half of the 16th century',\n",
       " ' the Protestant Reformation reached the city',\n",
       " ' causing religious strife',\n",
       " ' during which Savoy rule was thrown off and Geneva allied itself with the Swiss Confederacy.\\nIn 1541',\n",
       " ' with Protestantism on the rise',\n",
       " ' John Calvin',\n",
       " ' the Protestant Reformer and proponent of Calvinism',\n",
       " ' became the spiritual leader of the city and established the Republic of Geneva. By the 18th century',\n",
       " ' Geneva had come under the influence of Catholic France',\n",
       " ' which cultivated the city as its own. France tended to be at odds with the ordinary townsfolk',\n",
       " ' which inspired the failed Geneva Revolution of 1782',\n",
       " ' an attempt to win representation in the government for men of modest means. In 1798',\n",
       " ' revolutionary France under the Directory annexed Geneva. At the end of the Napoleonic Wars',\n",
       " ' on 1 June 1814',\n",
       " ' Geneva was admitted to the Swiss Confederation. In 1907',\n",
       " ' the separation of Church and State was adopted. Geneva flourished in the 19th and 20th centuries',\n",
       " \" becoming the seat of many international organizations.\\n\\n\\n== Geography ==\\n\\n\\n=== Topography ===\\nGeneva is located at 46°12' North\",\n",
       " \" 6°09' East\",\n",
       " ' at the south-western end of Lake Geneva',\n",
       " ' where the Rhône flows out. It is surrounded by three mountain chains',\n",
       " ' each belonging to the Jura: the Jura main range lies north-westward',\n",
       " ' the Vuache southward',\n",
       " ' and the Salève south-eastward.\\n\\nThe city covers an area of 15.93 km2 (6.2 sq mi)',\n",
       " ' while the area of the canton is 282 km2 (108.9 sq mi)',\n",
       " ' including the two small exclaves of Céligny in Vaud. The part of the lake that is attached to Geneva has an area of 38 km2 (14.7 sq mi) and is sometimes referred to as petit lac (small lake). The canton has only a 4.5 km-long (2.8 mi) border with the rest of Switzerland. Of 107.5 km (66.8 mi) of border',\n",
       " ' 103 are shared with France',\n",
       " \" the Département de l'Ain to the north and west and the Département de la Haute-Savoie to the south and east.\\nOf the land in the city\",\n",
       " ' 0.24 km2 (0.093 sq mi)',\n",
       " ' or 1.5%',\n",
       " ' is used for agricultural purposes',\n",
       " ' while 0.5 km2 (0.19 sq mi)',\n",
       " ' or 3.1%',\n",
       " ' is forested. The rest of the land',\n",
       " ' 14.63 km2 (5.65 sq mi)',\n",
       " ' or 91.8%',\n",
       " ' is built up (buildings or roads)',\n",
       " ' 0.49 km2 (0.19 sq mi)',\n",
       " ' or 3.1%',\n",
       " ' is either rivers or lakes and 0.02 km2 (4.9 acres)',\n",
       " ' or 0.1%',\n",
       " ' is wasteland.Of the built up area',\n",
       " ' industrial buildings made up 3.4%',\n",
       " ' housing and buildings made up 46.2% and transportation infrastructure 25.8%',\n",
       " ' while parks',\n",
       " ' green belts and sports fields made up 15.7%. Of the agricultural land',\n",
       " ' 0.3% is used for growing crops. Of the water in the municipality',\n",
       " ' 0.2% is composed of lakes and 2.9% is rivers and streams.\\nThe altitude of Geneva is 373.6 m (1',\n",
       " '225.7 ft) and corresponds to the altitude of the largest of the Pierres du Niton',\n",
       " ' two large rocks emerging from the lake which date from the last ice age. This rock was chosen by General Guillaume Henri Dufour as the reference point for surveying in Switzerland. The second main river of Geneva is the Arve',\n",
       " \" which flows into the Rhône just west of the city centre. Mont Blanc can be seen from Geneva and is an hour's drive from the city.\\n\\n\\n=== Climate ===\\nThe climate of Geneva is a temperate climate\",\n",
       " ' more specifically an oceanic climate (Köppen climate classification: Cfb). Winters are cool',\n",
       " ' usually with light frosts at night and thawing conditions during the day. Summers are relatively warm. Precipitation is adequate and is relatively well-distributed throughout the year',\n",
       " ' although autumn is slightly wetter than other seasons. Ice storms near Lac Léman are normal in the winter: Geneva can be affected by the Bise',\n",
       " ' a north-easterly wind. This can lead to severe icing in winter.In summer',\n",
       " ' many people swim in the lake and patronise public beaches such as Genève Plage and the Bains des Pâquis. The city',\n",
       " ' in certain years',\n",
       " ' receives snow during colder months. The nearby mountains are subject to substantial snowfall and are suitable for skiing. Many world-renowned ski resorts such as Verbier and Crans-Montana are less than three hours away by car. Mont Salève (1',\n",
       " '379 m (4',\n",
       " '524 ft))',\n",
       " ' just across the border in France',\n",
       " ' dominates the southerly view from the city centre',\n",
       " ' and Mont Blanc',\n",
       " ' the highest of the Alpine range',\n",
       " ' is visible from most of the city',\n",
       " ' towering high above Chamonix',\n",
       " ' which',\n",
       " ' along with Morzine',\n",
       " ' Le Grand Bornand',\n",
       " ' La Clusaz',\n",
       " ' and resorts of the Grand Massif such as Samoens',\n",
       " ' Morillon',\n",
       " ' and Flaine',\n",
       " ' are the closest French skiing destinations to Geneva.\\nDuring the years 2000–2009',\n",
       " ' the mean yearly temperature was 11 °C and the mean number of sunshine-hours per year was 2003.The highest temperature recorded in Genève–Cointrin was 39.7 °C (103.5 °F) in July 2015',\n",
       " ' and the lowest temperature recorded was −20.0 °C (−4.0 °F) in February 1956.\\n\\n\\n== Politics ==\\n\\n\\n=== Coat of arms ===\\n\\n\\n=== Administrative divisions ===\\nThe city is divided into eight quartiers',\n",
       " ' or districts',\n",
       " ' sometimes composed of several neighbourhoods. On the left bank are: (1) Jonction',\n",
       " ' (2) Centre',\n",
       " ' Plainpalais',\n",
       " ' and Acacias; (3) Eaux-Vives; and (4) Champel. The right bank includes: (1) Saint-Jean and Charmilles; (2) Servette and Petit-Saconnex; (3) Grottes and Saint-Gervais; and (4) Paquis and Nations.\\n\\n\\n=== Government ===\\n\\nThe Administrative Council (Conseil administratif) constitutes the executive government of the city of Geneva and operates as a collegiate authority. It is composed of five councilors (French: Conseiller administratif/ Conseillère administrative)',\n",
       " ' each presiding over a department. The president of the executive department acts as mayor (la maire/le maire). In the governmental year 2021–2022',\n",
       " ' the Administrative Council is presided over by Madame la maire de Genève Frédérique Perler. Departmental tasks',\n",
       " ' coordination measures and implementation of laws decreed by the Municipal Council are carried out by the Administrative Council. Elections for the Administrative Council are held every five years. The current term of (la législature) is from 1 June 2020 to 31 May 2025. The delegates are elected by means of a system of Majorz. The mayor and vice change each year',\n",
       " ' while the heads of the other departments are assigned by the collegiate. The executive body holds its meetings in the Palais Eynard',\n",
       " ' near the Parc des Bastions.As of 2020',\n",
       " \" Geneva's Administrative Council is made up of two representatives each of the Social Democratic Party (PS) and the Green Party (PES)\",\n",
       " ' and one member of the Christian Democratic Party (PDC). This gives the left-wing parties four out of the five seats and',\n",
       " ' for the first time in history',\n",
       " ' a female majority. The last election was held on 15 March/5 April 2020. Except for the mayor',\n",
       " ' all other councillors have been elected for the first time.\\n\\n\\n=== Parliament ===\\n\\nThe Municipal Council (Conseil municipal) holds legislative power. It is made up of 80 members',\n",
       " ' with elections held every five years. The Municipal Council makes regulations and by-laws that are executed by the Administrative Council and the administration. The delegates are selected by means of a system of proportional representation with a seven percent threshold.\\nThe sessions of the Municipal Council are public. Unlike members of the Administrative Council',\n",
       " ' members of the Municipal Council are not politicians by profession',\n",
       " ' and they are paid a fee based on their attendance. Any resident of Geneva allowed to vote can be elected as a member of the Municipal Council. The Council holds its meetings in the Town Hall (Hôtel de Ville)',\n",
       " ' in the old city.The last election of the Municipal Council was held on 15 March 2020 for the (législature) of 2020–2025. Currently',\n",
       " ' the Municipal Council consists of: 19 members of the Social Democratic Party (PS)',\n",
       " ' 18 Green Party (PES)',\n",
       " ' 14 Les Libéraux-Radicaux (PLR)',\n",
       " \" 8 Christian Democratic People's Party (PDC); 7 Geneva Citizens' Movement (MCG)\",\n",
       " ' 7 Ensemble à Gauche (an alliance of the left parties PST-POP (Parti Suisse du Travail – Parti Ouvrier et Populaire) and solidaritéS)',\n",
       " \" 6 Swiss People's Party (UDC).\\n\\n\\n=== Elections ===\\n\\n\\n==== National Council ====\\nIn the 2019 federal election for the Swiss National Council the most popular party was the Green Party which received 26% (+14.6) of the vote. The next seven most popular parties were the PS (17.9%\",\n",
       " ' -5.9)',\n",
       " ' PLR (15.1%',\n",
       " ' -2.4)',\n",
       " ' the UDC (12.6%',\n",
       " ' -3.7)',\n",
       " ' the PdA/solidaritéS (10%',\n",
       " ' +1.3)',\n",
       " ' the PDC (5.4%',\n",
       " ' -5.3)',\n",
       " ' the pvl (5%',\n",
       " ' +2.9)',\n",
       " ' and MCR (4.9%',\n",
       " ' -2.7). In the federal election a total of 34',\n",
       " '319 votes were cast',\n",
       " ' and the voter turnout was 39.6%.In the 2015 federal election for the Swiss National Council the most popular party was the PS which received 23.8% of the vote. The next five most popular parties were the PLR (17.6%)',\n",
       " ' the UDC (16.3%)',\n",
       " ' the Green Party (11.4%)',\n",
       " ' the PDC (10.7%)',\n",
       " ' and the solidaritéS (8.8%). In the federal election a total of 36',\n",
       " '490 votes were cast',\n",
       " ' and the voter turnout was 44.1%.\\n\\n\\n=== Metropolitan cooperation ===\\nThe city centre of Geneva is located only 1.9 km (1.2 mi) from the border of France. As a result',\n",
       " ' the urban area and the metropolitan area largely extend across the border on French territory. Due to the small size of the municipality of Geneva (16 km2 (6 sq mi)) and extension of the urban area over an international border',\n",
       " ' official bodies of transnational cooperation were developed as early as the 1970s to manage the cross-border Greater Geneva area at a metropolitan level.\\nIn 1973',\n",
       " ' a Franco-Swiss agreement created the Comité régional franco-genevois (\"Franco-Genevan Regional Committee\"',\n",
       " ' CRFG in French). In 1997 an \\'Urban planning charter\\' of the CRFG defined for the first time a planning territory called agglomération franco-valdo-genevoise (\"Franco-Vaud-Genevan urban area\"). 2001 saw the creation of a Comité stratégique de développement des transports publics régionaux (\"Strategic Committee for the Development of Regional Public Transports\"',\n",
       " ' DTPR in French)',\n",
       " \" a committee which adopted in 2003 a 'Charter for Public Transports'\",\n",
       " ' first step in the development of a metropolitan',\n",
       " ' cross-border commuter rail network (see Léman Express).\\nIn 2004',\n",
       " ' a public transnational body called Projet d’agglomération franco-valdo-genevois (\"Franco-Vaud-Genevan urban area project\") was created to serve as the main body of metropolitan cooperation for the planning territory defined in 1997',\n",
       " ' with more local French councils taking part in this new public body than in the CRFG created in 1973. Finally in 2012 the Projet d’agglomération franco-valdo-genevois was renamed Grand Genève (\"Greater Geneva\")',\n",
       " ' and the following year it was transformed into a Local Grouping of Transnational Cooperation (GLCT in French)',\n",
       " ' a public entity under Swiss law',\n",
       " ' which now serves as the executive body of the Grand Genève.\\nThe Grand Genève GLCT is made up of the Canton of Geneva',\n",
       " ' the Nyon District (in the canton of Vaud)',\n",
       " ' and the Pôle métropolitain du Genevois français (literally \"Metropolitan hub of the French Genevan territory\")',\n",
       " ' this last one a federation of eight French intercommunal councils in Ain and Haute-Savoie. The Grand Genève GLCT extends over 1',\n",
       " '996 km2 (771 sq mi)\\nand had a population of 1',\n",
       " '025',\n",
       " '316 in Jan. 2019 (Swiss estimates and French census)',\n",
       " ' 58.5% of them living on Swiss territory',\n",
       " ' and 41.5% on French territory.\\n\\n\\n=== International relations ===\\nGeneva does not have any sister relationships with other cities. It declares itself related to the entire world.\\n\\n\\n== Demographics ==\\n\\n\\n=== Population ===\\nThe city of Geneva (ville de Genève) had a population 203',\n",
       " '951 in 2020 (Jan. estimate) within its small municipal territory of 16 km2 (6 sq mi). The city of Geneva is at the centre of the Geneva metropolitan area',\n",
       " ' a Functional Urban Area (as per Eurostat methodology) which extends over Swiss territory (entire Canton of Geneva and part of the canton of Vaud) and French territory (parts of the departments of Ain and Haute-Savoie). The Geneva Functional Urban Area covers a land area of 2',\n",
       " '292 km2 (885 sq mi) (24.2% in Switzerland',\n",
       " ' 75.8% in France) and had 1',\n",
       " '044',\n",
       " '766 inhabitants in Jan. 2020 (Swiss estimates and French census)',\n",
       " ' 58.0% of them on Swiss territory and 42.0% on French territory.The Geneva metropolitan area is one of the fastest growing in Europe. Its population rose from 888',\n",
       " '651 in Jan. 2009 to 1',\n",
       " '044',\n",
       " '766 in Jan. 2020',\n",
       " ' which means the metropolitan area registered a population growth rate of +1.48% per year during those 11 years. Growth is higher in the French part of the metropolitan area (+1.93% per year between 2009 and 2020) than in the Swiss part (+1.17% per year between 2009 and 2020)',\n",
       " ' as Geneva attracts many French commuters due to high Swiss salaries and a favourable Franco-Swiss tax regime for French residents working in Switzerland.\\nThe official language of Geneva (both the city and the canton) is French. English is also common due to a high number of Anglophone residents working in international institutions and the bank sector. In 2000 there were 128',\n",
       " '622 residents',\n",
       " ' or 72.3% of the population',\n",
       " ' who spoke French as a first language. English was the second most common (7',\n",
       " '853 or 4.4%)',\n",
       " ' followed by Spanish (7',\n",
       " '462 or 4.2%)',\n",
       " ' Italian (7',\n",
       " '320 or 4.1%)',\n",
       " ' and German (7',\n",
       " '050 or 4.0%); 113 spoke Romansh',\n",
       " ' an official language in Switzerland.In the city of Geneva',\n",
       " ' as of 2013',\n",
       " ' 48% of the population are resident foreign nationals. For a list of the largest groups of foreign residents see the cantonal overview. Over the last 10 years (1999–2009)',\n",
       " ' the population has changed at a rate of 7.2%; a rate of 3.4% due to migration and at a rate of 3.4% due to births and deaths.As of 2008',\n",
       " ' the gender distribution of the population was 47.8% male and 52.2% female. The population was made up of 46',\n",
       " '284 Swiss men (24.2% of the population) and 45',\n",
       " '127 (23.6%) non-Swiss men. There were 56',\n",
       " '091 Swiss women (29.3%) and 43',\n",
       " '735 (22.9%) non-Swiss women. As of 2000 approximately 24.3% of the population of the municipality were born in Geneva and lived there in 2000 – 43',\n",
       " '296. A further 11',\n",
       " '757 or 6.6% who were born in the same canton',\n",
       " ' while 27',\n",
       " '359 or 15.4% were born elsewhere in Switzerland',\n",
       " ' and 77',\n",
       " '893 or 43.8% were born outside of Switzerland.In 2008',\n",
       " ' there were 1',\n",
       " '147 live births to Swiss citizens and 893 births to non-Swiss citizens',\n",
       " ' and in the same time span there were 1',\n",
       " '114 deaths of Swiss citizens and 274 non-Swiss citizen deaths. Ignoring immigration and emigration',\n",
       " ' the population of Swiss citizens increased by 33',\n",
       " ' while the foreign population increased by 619. There were 465 Swiss men and 498 Swiss women who emigrated from Switzerland. At the same time',\n",
       " ' there were 2933 non-Swiss men and 2662 non-Swiss women who immigrated from another country to Switzerland. The total Swiss population change in 2008 (from all sources',\n",
       " ' including moves across municipal borders) was an increase of 135 and the non-Swiss population increased by 3181 people. This represents a population growth rate of 1.8%.As of 2000',\n",
       " ' children and teenagers (0–19 years old) made up 18.2% of the population',\n",
       " ' while adults (20–64 years old) made up 65.8% and seniors (over 64 years old) make up 16%.As of 2000',\n",
       " ' there were 78',\n",
       " '666 people who were single and never married in the municipality. There were 74',\n",
       " '205 married individuals',\n",
       " ' 10',\n",
       " '006 widows or widowers and 15',\n",
       " '087 individuals who are divorced.As of 2000',\n",
       " ' there were 86',\n",
       " '231 private households in the municipality',\n",
       " ' and an average of 1.9 persons per household. There were 44',\n",
       " '373 households that consist of only one person and 2',\n",
       " '549 households with five or more people. Out of a total of 89',\n",
       " '269 households that answered this question',\n",
       " ' 49.7% were households made up of just one person and there were 471 adults who lived with their parents. Of the rest of the households',\n",
       " ' there are 17',\n",
       " '429 married couples without children',\n",
       " ' 16',\n",
       " '607 married couples with children. There were 5',\n",
       " '499 single parents with a child or children. There were 1',\n",
       " '852 households that were made up of unrelated people and 3',\n",
       " '038 households that were made up of some sort of institution or another collective housing.\\nIn 2000',\n",
       " ' there were 743 single family homes (or 10.6% of the total) out of a total of 6',\n",
       " '990 inhabited buildings. There were 2',\n",
       " '758 multi-family buildings (39.5%)',\n",
       " ' along with 2',\n",
       " '886 multi-purpose buildings that were mostly used for housing (41.3%) and 603 other use buildings (commercial or industrial) that also had some housing (8.6%). Of the single family homes',\n",
       " ' 197 were built before 1919',\n",
       " ' while 20 were built between 1990 and 2000. The greatest number of single family homes (277) were built between 1919 and 1945.In 2000',\n",
       " ' there were 101',\n",
       " '794 apartments in the municipality. The most common apartment size was 3 rooms of which there were 27',\n",
       " '084. There were 21',\n",
       " '889 single room apartments and 11',\n",
       " '166 apartments with five or more rooms. Of these apartments',\n",
       " ' a total of 85',\n",
       " '330 apartments (83.8% of the total) were permanently occupied',\n",
       " ' while 13',\n",
       " '644 apartments (13.4%) were seasonally occupied and 2',\n",
       " '820 apartments (2.8%) were empty. As of 2009',\n",
       " ' the construction rate of new housing units was 1.3 new units per 1000 residents.As of 2003',\n",
       " ' the average price to rent an average apartment in Geneva was 1163.30 Swiss francs (CHF) per month (US$930',\n",
       " ' £520',\n",
       " ' €740 approx. exchange rate from 2003). The average rate for a one-room apartment was 641.60 CHF (US$510',\n",
       " ' £290',\n",
       " ' €410)',\n",
       " ' a two-room apartment was about 874.46 CHF (US$700',\n",
       " ' £390',\n",
       " ' €560)',\n",
       " ' a three-room apartment was about 1126.37 CHF (US$900',\n",
       " ' £510',\n",
       " ' €720) and a six or more room apartment cost an average of 2691.07 CHF (US$2150',\n",
       " ' £1210',\n",
       " ' €1720). The average apartment price in Geneva was 104.2% of the national average of 1116 CHF. The vacancy rate for the municipality',\n",
       " ' in 2010',\n",
       " ' was 0.25%.In June 2011',\n",
       " ' the average price of an apartment in and around Geneva was 13',\n",
       " '681 CHF per square metre (11 sq ft). The average can be as high as 17',\n",
       " '589 Swiss francs (CHF) per square metre (11 sq ft) for a luxury apartment and as low as 9',\n",
       " '847 Swiss francs (CHF) for an older or basic apartment. For houses in and around Geneva',\n",
       " ' the average price was 11',\n",
       " '595 Swiss francs (CHF) per square metre (11 sq ft) (June 2011)',\n",
       " ' with a lowest price per square metre (11 sq ft) of 4',\n",
       " '874 Swiss francs (CHF)',\n",
       " ' and a maximum price of 21',\n",
       " \"966 Swiss francs (CHF).\\n\\n\\n=== Historical population ===\\nWilliam Monter calculates that the city's total population was 12\",\n",
       " '000–13',\n",
       " '000 in 1550',\n",
       " ' doubling to over 25',\n",
       " '000 by 1560.The historical population is given in the following chart:\\n\\n\\n=== Religion ===\\nThe 2000 census recorded 66',\n",
       " '491 residents (37.4% of the population) as Catholic',\n",
       " ' while 41',\n",
       " '289 people (23.20%) belonged to no church or were agnostic or atheist',\n",
       " ' 24',\n",
       " '105 (13.5%) belonged to the Swiss Reformed Church',\n",
       " ' and 8',\n",
       " '698 (4.89%) were Muslim. There were also 3',\n",
       " '959 members of an Orthodox church (2.22%)',\n",
       " ' 220 individuals (or about 0.12% of the population) who belonged to the Christian Catholic Church of Switzerland',\n",
       " ' 2',\n",
       " '422 (1.36%) who belonged to another Christian church',\n",
       " ' and 2',\n",
       " '601 people (1.46%) who were Jewish. There were 707 individuals who were Buddhist',\n",
       " ' 474 who were Hindu and 423 who belonged to another church. 26',\n",
       " '575 respondents (14.93%) did not answer the question.According to 2012 statistics by Swiss Bundesamt für Statistik 49.2% of the population were Christian',\n",
       " ' (34.2% Catholic',\n",
       " ' 8.8% Swiss Reformed (organized in the Protestant Church of Geneva) and 6.2% other Christians',\n",
       " ' mostly other Protestants)',\n",
       " ' 38% of Genevans were non-religious',\n",
       " ' 6.1% were Muslim and 1.6% were Jews.Geneva has historically been considered a Protestant city and was known as the Protestant Rome due to it being the base of John Calvin',\n",
       " ' William Farel',\n",
       " ' Theodore Beza and other Protestant reformers. Over the past century',\n",
       " ' substantial immigration from France and other predominantly Catholic countries',\n",
       " ' as well as general secularization',\n",
       " ' has changed its religious landscape. As a result',\n",
       " ' three times as many Roman Catholics as Protestants lived in the city in 2000',\n",
       " ' while a large number of residents were members of neither group. Geneva forms part of the Roman Catholic Diocese of Lausanne',\n",
       " ' Geneva and Fribourg.\\nThe World Council of Churches and the Lutheran World Federation both have their headquarters at the Ecumenical Centre in Grand-Saconnex',\n",
       " ' Geneva. The World Communion of Reformed Churches',\n",
       " ' a worldwide organization of Presbyterian',\n",
       " ' Continental Reformed',\n",
       " ' Congregational and other Calvinist churches gathering more than 80 million people around the world was based here from 1948 until 2013. The executive committee of the World Communion of Reformed Churches voted in 2012 to move its offices to Hanover',\n",
       " ' Germany',\n",
       " ' citing the high costs of running the ecumenical organization in Geneva',\n",
       " ' Switzerland. The move was completed in 2013. Likewise',\n",
       " ' the Conference of European Churches have moved their headquarters from Geneva to Brussels.\\n\\n\\n==== \"Protestant Rome\" ====\\nPrior to the Protestant Reformation the city was de jure and de facto Catholic. Reaction to the new movement varied across Switzerland. John Calvin went to Geneva in 1536 after William Farel encouraged him to do so. In Geneva',\n",
       " ' the Catholic bishop had been obliged to seek exile in 1532. Geneva became a stronghold of Calvinism. Some of the tenets created there influenced Protestantism as a whole. St. Pierre Cathedral was where Calvin and his Protestant reformers preached. It constituted the epicentre of the newly developing Protestant thought that would later become known as the Reformed tradition. Many prominent Reformed theologians operated there',\n",
       " ' including William Farel and Theodore Beza',\n",
       " \" Calvin's successor who progressed Reformed thought after his death.\\nGeneva was a haven for Calvinists\",\n",
       " ' while Roman Catholics and others considered heretics were persecuted. The case of Michael Servetus',\n",
       " ' an early Nontrinitarian',\n",
       " ' is notable. Condemned by both Catholics and Protestants alike',\n",
       " \" he was arrested in Geneva and burnt at the stake as a heretic by order of the city's Protestant governing council. John Calvin and his followers denounced him\",\n",
       " ' and possibly contributed to his sentence.\\nIn 1802',\n",
       " ' during its annexation to France under Napoleon I',\n",
       " ' the Diocese of Geneva was united with the Diocese of Chambéry',\n",
       " ' but the 1814 Congress of Vienna and the 1816 Treaty of Turin stipulated that in the territories transferred to a now considerably extended Geneva',\n",
       " \" the Catholic religion was to be protected and that no changes were to be made in existing conditions without an agreement with the Holy See. Napoleon's common policy granted civil rights to Catholics in Protestant-majority areas\",\n",
       " ' as well as the reverse',\n",
       " ' and also emancipated Jews. In 1819',\n",
       " ' the city of Geneva and 20 parishes were united to the Diocese of Lausanne by Pope Pius VII and in 1822',\n",
       " ' the non-Swiss territory was made into the Diocese of Annecy. A variety of concord with the civil authorities came as a result of the separation of church and state',\n",
       " ' enacted with strong Catholic support in 1907.\\n\\n\\n=== Crime ===\\n\\nIn 2014 the incidence of crimes listed in the Swiss Criminal Code in Geneva was 143.9 per thousand residents. During the same period the rate of drug crimes was 33.6 per thousand residents. The rate of violations of immigration',\n",
       " ' visa and work permit laws was 35.7 per thousand residents.\\n\\n\\n== Cityscape ==\\n\\n\\n== Heritage sites of national significance ==\\nThere are 82 buildings or sites in Geneva that are listed as Swiss heritage sites of national significance',\n",
       " ' and the entire old city of Geneva is part of the Inventory of Swiss Heritage Sites.Religious buildings: Cathedral St-Pierre et Chapel des Macchabés',\n",
       " ' Notre-Dame Church',\n",
       " ' Russian church',\n",
       " ' St-Germain Church',\n",
       " ' Temple de la Fusterie',\n",
       " \" Temple de l'Auditoire\\nCivic buildings: Former Arsenal and Archives of the City of Genève\",\n",
       " ' Former Crédit Lyonnais',\n",
       " ' Former Hôtel Buisson',\n",
       " ' Former Hôtel du Résident de France et Bibliothèque de la Société de lecture de Genève',\n",
       " ' Former école des arts industriels',\n",
       " \" Archives d'État de Genève (Annexe)\",\n",
       " ' Bâtiment des forces motrices',\n",
       " ' Bibliothèque de Genève',\n",
       " ' Library juive de Genève «Gérard Nordmann»',\n",
       " ' Cabinet des estampes',\n",
       " \" Centre d'Iconographie genevoise\",\n",
       " ' Collège Calvin',\n",
       " ' École Geisendorf',\n",
       " ' University Hospital of Geneva (HUG)',\n",
       " ' Hôtel de Ville et tour Baudet',\n",
       " ' Immeuble Clarté at Rue Saint-Laurent 2 and 4',\n",
       " ' Immeubles House Rotonde at Rue Charles-Giron 11–19',\n",
       " ' Immeubles at Rue Beauregard 2',\n",
       " ' 4',\n",
       " ' 6',\n",
       " ' 8',\n",
       " ' Immeubles at Rue de la Corraterie 10–26',\n",
       " ' Immeubles at Rue des Granges 2–6',\n",
       " ' Immeuble at Rue des Granges 8',\n",
       " ' Immeubles at Rue des Granges 10 and 12',\n",
       " ' Immeuble at Rue des Granges 14',\n",
       " ' Immeuble and Former Armory at Rue des Granges 16',\n",
       " ' Immeubles at Rue Pierre Fatio 7 and 9',\n",
       " ' House de Saussure at Rue de la Cité 24',\n",
       " ' House Des arts du Grütli at Rue du Général-Dufour 16',\n",
       " ' House Royale et les deux immeubles à côté at Quai Gustave Ador 44–50',\n",
       " ' Tavel House at Rue du Puits-St-Pierre 6',\n",
       " \" Turrettini House at Rue de l'Hôtel-de-Ville 8 and 10\",\n",
       " ' Brunswick Monument',\n",
       " ' Palais de Justice',\n",
       " \" Palais de l'Athénée\",\n",
       " ' Palais des Nations with library and archives of the SDN and ONU',\n",
       " ' Palais Eynard et Archives de la ville de Genève',\n",
       " ' Palais Wilson',\n",
       " ' Parc des Bastions avec Mur des Réformateurs',\n",
       " ' Place de Neuve et Monument du Général Dufour',\n",
       " ' Pont de la Machine',\n",
       " \" Pont sur l'Arve\",\n",
       " ' Poste du Mont-Blanc',\n",
       " ' Quai du Mont-Blanc',\n",
       " ' Quai et Hôtel des Bergues',\n",
       " ' Quai Général Guisan and English Gardens',\n",
       " \" Quai Gustave-Ador and Jet d'eau\",\n",
       " ' Télévision Suisse Romande',\n",
       " ' University of Geneva',\n",
       " \" Victoria Hall.\\nArcheological sites:\\nFoundation Baur and Museum of the arts d'Extrême-Orient\",\n",
       " ' Parc et campagne de la Grange and Library (neolithic shore settlement/Roman villa)',\n",
       " ' Bronze Age shore settlement of Plonjon',\n",
       " ' Temple de la Madeleine archeological site',\n",
       " ' Temple Saint-Gervais archeological site',\n",
       " ' Old City with Celtic',\n",
       " ' Roman and medieval villages.\\nMuseums',\n",
       " ' theaters',\n",
       " ' and other cultural sites: Conservatoire de musique at Place Neuve 5',\n",
       " ' Conservatoire et Jardin botaniques',\n",
       " \" Fonds cantonal d'art contemporain\",\n",
       " ' Ile Rousseau and statue',\n",
       " ' Institut et Musée Voltaire with Library and Archives',\n",
       " ' Mallet House and Museum international de la Réforme',\n",
       " ' Musée Ariana',\n",
       " ' Museum of Art and History',\n",
       " \" Museum d'art moderne et contemporain\",\n",
       " \" Museum d'ethnographie\",\n",
       " ' Museum of the International Red Cross',\n",
       " ' Musée Rath',\n",
       " ' Natural History Museum',\n",
       " ' Plainpalais Commune Auditorium',\n",
       " ' Pitoëff Theatre',\n",
       " ' Villa Bartholoni at the Museum of History and Science.\\nInternational organizations: CERN',\n",
       " ' International Labour Organization (ILO)',\n",
       " ' International Committee of the Red Cross',\n",
       " ' United Nations High Commissioner for Refugees (UNHCR)',\n",
       " ' World Meteorological Organization',\n",
       " ' World Trade Organization',\n",
       " ' International Telecommunication Union',\n",
       " \" World YMCA.\\n\\n\\t\\t\\t\\n\\t\\t\\t\\n\\t\\t\\n\\t\\t\\n\\t\\t\\t\\n\\t\\t\\t\\n\\t\\t\\n\\t\\t\\n\\t\\t\\t\\n\\t\\t\\t\\n\\t\\t\\n\\t\\t\\n\\t\\t\\t\\n\\t\\t\\t\\n\\t\\t\\n\\t\\t\\n\\t\\t\\t\\n\\t\\t\\t\\n\\t\\t\\n\\t\\t\\n\\t\\t\\t\\n\\t\\t\\t\\n\\t\\t\\n\\t\\t\\n\\t\\t\\t\\n\\t\\t\\t\\n\\t\\t\\n\\t\\t\\n\\t\\t\\t\\n\\t\\t\\t\\n\\t\\t\\n\\t\\t\\n\\t\\t\\t\\n\\t\\t\\t\\n\\t\\t\\n\\t\\t\\n\\t\\t\\t\\n\\t\\t\\t\\n\\t\\t\\n\\t\\t\\n\\t\\t\\t\\n\\t\\t\\t\\n\\t\\t\\n\\t\\t\\n\\t\\t\\t\\n\\t\\t\\t\\n\\t\\t\\n\\t\\t\\n\\t\\t\\t\\n\\t\\t\\t\\n\\t\\t\\n\\t\\t\\n\\t\\t\\t\\n\\t\\t\\t\\n\\t\\t\\n\\n\\n== Society and culture ==\\n\\n\\n=== Media ===\\nThe city's main newspaper is the daily Tribune de Genève\",\n",
       " ' with a readership of about 187',\n",
       " '000. Le Courrier mainly focuses on Geneva. Both Le Temps (headquartered in Geneva) and Le Matin are widely read in Geneva',\n",
       " ' but cover the whole of Romandy.\\nGeneva is the main media center for French-speaking Switzerland. It is the headquarters for the numerous French language radio and television networks of the Swiss Broadcasting Corporation',\n",
       " ' known collectively as Radio Télévision Suisse. While both networks cover the whole of Romandy',\n",
       " ' special programs related to Geneva are sometimes broadcast on some of the local radio frequencies. Other local radio stations broadcast from the city',\n",
       " ' including YesFM (FM 91.8 MHz)',\n",
       " ' Radio Cité (non-commercial radio',\n",
       " ' FM 92.2 MHz)',\n",
       " ' OneFM (FM 107.0 MHz',\n",
       " ' also broadcast in Vaud)',\n",
       " ' and World Radio Switzerland (FM 88.4 MHz). Léman Bleu is a local TV channel',\n",
       " ' founded in 1996 and distributed by cable. Due to the proximity to France',\n",
       " ' many French television channels are also available.\\n\\n\\n=== Traditions and customs ===\\nGeneva observes Jeûne genevois on the first Thursday following the first Sunday in September. By local tradition',\n",
       " \" this commemorates the date news of the St. Bartholomew's Day massacre of Huguenots reached Geneva.\\nGeneva celebrates L'Escalade on the weekend nearest 12 December\",\n",
       " ' celebrating the defeat of the surprise attack of troops sent by Charles Emmanuel I',\n",
       " \" Duke of Savoy during the night of 11–12 December 1602. Festive traditions include chocolate cauldrons filled with vegetable-shaped marzipan treats and the Escalade procession on horseback in seventeenth century armour. Geneva has also been organizing a 'Course de l'Escalade'\",\n",
       " \" which means 'Climbing Race'. This race takes place in Geneva's Old Town\",\n",
       " ' and has been popular across all ages. Non-competitive racers dress up in fancy costumes',\n",
       " ' while walking in the race.\\nSince 1818',\n",
       " ' a particular chestnut tree has been used as the official \"herald of the spring\" in Geneva. The sautier (secretary of the Parliament of the Canton of Geneva) observes the tree and notes the day of arrival of the first bud. While this event has no practical effect',\n",
       " \" the sautier issues a formal press release and the local newspaper will usually mention the news.As this is one of the world's oldest records of a plant's reaction to climatic conditions\",\n",
       " ' researchers have been interested to note that the first bud has been appearing earlier and earlier in the year. During the 19th century many dates were in March or April. In recent years',\n",
       " ' they have usually been in late February (sometimes earlier). In 2002',\n",
       " ' the first bud appeared unusually early',\n",
       " ' on 7 February',\n",
       " ' and then again on 29 December of the same year. The following year',\n",
       " ' one of the hottest years recorded in Europe',\n",
       " ' was a year with no bud. In 2008',\n",
       " ' the first bud also appeared early',\n",
       " ' on 19 February.\\n\\n\\n=== Music and festivals ===\\nThe opera house',\n",
       " ' the Grand Théâtre de Genève',\n",
       " ' which officially opened in 1876',\n",
       " ' was partly destroyed by a fire in 1951 and reopened in 1962. It has the largest stage in Switzerland. It features opera and dance performances',\n",
       " ' recitals',\n",
       " ' concerts and',\n",
       " ' occasionally',\n",
       " \" theatre. The Victoria Hall is used for classical music concerts. It is the home of the Orchestre de la Suisse Romande.\\nEvery summer the Fêtes de Genève (Geneva Festival) are organised in Geneva. According to Radio Télévision Suisse in 2013 hundreds of thousands of people came to Geneva to see the annual hour-long grand firework display of the Fêtes de Genève.An annual music festival takes place in June. Groups of artists perform in different parts of the city. In 2016 the festival celebrated its 25th anniversary.Further annual festivals are the Fête de l'Olivier\",\n",
       " ' a festival of Arabic music',\n",
       " ' organized by the ICAM since 1980',\n",
       " ' and the Genevan Brass Festival',\n",
       " \" founded by Christophe Sturzenegger in 2010.\\n\\n\\n== Education ==\\nThe Canton of Geneva's public school system has écoles primaires (ages 4–12) and cycles d'orientation (ages 12–15). Students can leave school at 15\",\n",
       " ' but secondary education is provided by collèges (ages 15–19)',\n",
       " ' the oldest of which is the Collège Calvin',\n",
       " ' which could be considered one of the oldest public schools in the world',\n",
       " ' écoles de culture générale (15–18/19) and the écoles professionnelles (15–18/19). The écoles professionnelles offer full-time courses and part-time study as part of an apprenticeship. Geneva also has a number of private schools.In 2011 89',\n",
       " '244 (37.0%) of the population had completed non-mandatory upper secondary education',\n",
       " ' and 107',\n",
       " '060 or (44.3%) had completed additional higher education (either university or a Fachhochschule). Of the 107',\n",
       " '060 who completed tertiary schooling',\n",
       " ' 32.5% were Swiss men',\n",
       " ' 31.6% were Swiss women',\n",
       " ' 18.1% were non-Swiss men and 17.8% were non-Swiss women.\\nDuring the 2011–2012 school year',\n",
       " ' there were a total of 92',\n",
       " '311 students in the Geneva school system (primary to university). The education system in the Canton of Geneva has eight years of primary school',\n",
       " ' with 32',\n",
       " '716 students. The secondary school program consists of three lower',\n",
       " ' obligatory years of schooling',\n",
       " ' followed by three to five years of optional',\n",
       " ' advanced study. There were 13',\n",
       " '146 lower-secondary students who attended schools in Geneva. There were 10',\n",
       " '486 upper-secondary students from the municipality along with 10',\n",
       " '330 students who were in a professional',\n",
       " ' non-university track program. An additional 11',\n",
       " '797 students were attending private schools.\\nGeneva is home to the University of Geneva where approximately 16',\n",
       " '500 students are regularly enrolled. In 1559 John Calvin founded the Geneva Academy',\n",
       " ' a theological and humanist seminary. In the 19th century the academy lost its ecclesiastic links and in 1873',\n",
       " ' with the addition of a medical faculty',\n",
       " \" it became the University of Geneva. In 2011 it was ranked 35th European university.The Graduate Institute of International and Development Studies was among the first academic institutions in the world to teach international relations. It is one of Europe's most prestigious institutions\",\n",
       " ' offering MA and PhD programmes in anthropology and sociology',\n",
       " ' law',\n",
       " ' political science',\n",
       " ' history',\n",
       " ' economics',\n",
       " ' international affairs',\n",
       " ' and development studies.\\nThe oldest international school in the world is the International School of Geneva',\n",
       " ' founded in 1924 along with the League of Nations. The Geneva School of Diplomacy and International Relations is a private',\n",
       " \" for-profit university in the grounds of the Château de Penthes.\\nCERN (the European Organization for Nuclear Research) is probably the best known of Geneva's educational and research facilities\",\n",
       " ' most recently for the Large Hadron Collider. Founded in 1954',\n",
       " \" CERN was one of Europe's first joint ventures and has developed as the world's largest particle physics laboratory. Physicists from around the world travel to CERN to research matter and explore the fundamental forces and materials that form the universe.\\nGeneva is home to five major libraries\",\n",
       " ' the Bibliothèques municipales Genève',\n",
       " ' the Haute école de travail social',\n",
       " \" the Institut d'études sociales\",\n",
       " ' the Haute école de santé',\n",
       " \" the École d'ingénieurs de Genève and the Haute école d'art et de design. There were (as of 2008) 877\",\n",
       " '680 books or other media in the libraries',\n",
       " ' and in the same year 1',\n",
       " '798',\n",
       " \"980 items were loaned.\\n\\n\\n== Economy ==\\nGeneva's economy is largely service-driven and closely linked to the rest of the canton. The city is one of the global leaders in financial centres. Three main sectors dominate the financial sector: commodity trading; trade finance\",\n",
       " \" and wealth management.\\nAround a third of the world's free traded oil\",\n",
       " ' sugar',\n",
       " \" grains and oil seeds is traded in Geneva. Approximately 22% of the world's cotton is traded in the Lake Geneva region. Other major commodities traded in the canton include steel\",\n",
       " ' electricity',\n",
       " ' or coffee. Large trading companies have their regional or global headquarters in the canton',\n",
       " ' such as Bunge',\n",
       " ' Cargill',\n",
       " ' Vitol',\n",
       " ' Gunvor',\n",
       " ' BNP Paribas',\n",
       " ' Trafigura or Mercuria Energy Group',\n",
       " \" in addition to being home to the world's largest shipping company\",\n",
       " ' Mediterranean Shipping Company. Commodity trading is sustained by a strong trade finance sector',\n",
       " ' with large banks such as BCGE',\n",
       " ' BCP',\n",
       " ' BNP Paribas',\n",
       " ' BCV',\n",
       " ' Crédit Agricole',\n",
       " ' Credit Suisse',\n",
       " ' ING',\n",
       " ' Société Générale',\n",
       " ' and UBS',\n",
       " ' all having their headquarters in the area for this business.\\nWealth management is dominated by non-publicly listed banks and private banks',\n",
       " ' particularly Pictet',\n",
       " ' Lombard Odier',\n",
       " ' Edmond de Rothschild Group',\n",
       " ' Union Bancaire Privée',\n",
       " ' Mirabaud Group',\n",
       " ' Dukascopy Bank',\n",
       " ' Bordier & Cie',\n",
       " ' Banque SYZ',\n",
       " ' or REYL & Cie. In addition',\n",
       " ' the canton is home to the largest concentration of foreign-owned banks in Switzerland',\n",
       " ' such as HSBC Private Bank',\n",
       " ' JPMorgan Chase',\n",
       " ' or Arab Bank.\\nBehind the financial sector',\n",
       " ' the next largest major economic sector is watchmaking',\n",
       " ' dominated by luxury firms Rolex',\n",
       " ' Richemont',\n",
       " ' Patek Philippe',\n",
       " ' Piaget',\n",
       " ' Roger Dubuis',\n",
       " ' and others',\n",
       " ' whose factories are concentrated in the Les Acacias neighbourhood',\n",
       " ' as well as the neighbouring municipalities of Plan-les-Ouates',\n",
       " ' Satigny',\n",
       " ' and Meyrin.\\nTrade finance',\n",
       " ' wealth management',\n",
       " ' and watchmaking',\n",
       " ' approximately contribute two thirds of the corporate tax paid in the cantonOther large multinationals are also headquartered in the city and canton',\n",
       " ' such as Firmenich (in Satigny)',\n",
       " ' and Givaudan (in Vernier)',\n",
       " \" the world's two largest manufacturers of flavours\",\n",
       " ' fragrances and active cosmetic ingredients; SGS',\n",
       " \" the world's largest inspection\",\n",
       " ' verification',\n",
       " ' testing and certification services company; Temenos',\n",
       " ' a large banking software provider; or the local headquarters for Procter & Gamble',\n",
       " ' Japan Tobacco International',\n",
       " \" or L'Oréal (in Vernier).\\nAlthough they do not directly contribute to the local economy\",\n",
       " \" the city of Geneva is also host to the world's largest concentration of international organisations and UN agencies\",\n",
       " ' such as the Red Cross',\n",
       " ' the World Health Organization',\n",
       " ' the World Trade Organization',\n",
       " ' the International Telecommunication Union',\n",
       " ' the World Intellectual Property Organization',\n",
       " ' the World Meteorological Organization',\n",
       " ' and the International Labour Organization',\n",
       " ' as well as the European headquarters of the United Nations.\\nIts international mindedness',\n",
       " ' well-connected airport',\n",
       " ' and centrality in the continent',\n",
       " ' also make Geneva a good destination for congresses and trade fairs',\n",
       " ' of which the largest is the Geneva Motor Show held in Palexpo.\\nAgriculture is commonplace in the hinterlands of Geneva',\n",
       " ' particularly wheat and wine. Despite its relatively small size',\n",
       " ' the canton produces around 10% of the Swiss wine and has the highest vineyard density in the country. The largest strains grown in Geneva are gamay',\n",
       " ' chasselas',\n",
       " ' pinot noir',\n",
       " ' gamaret',\n",
       " ' and chardonnay.\\nAs of  2019',\n",
       " ' Geneva had an unemployment rate of 3.9%. As of 2008',\n",
       " ' there were five people employed in the primary economic sector and about three businesses involved in this sector. 9',\n",
       " '783 people were employed in the secondary sector and there were 1',\n",
       " '200 businesses in this sector. 134',\n",
       " '429 people were employed in the tertiary sector',\n",
       " ' with 12',\n",
       " '489 businesses in this sector. There were 91',\n",
       " '880 residents of the municipality who were employed in some capacity',\n",
       " ' with women making up 47.7% of the workforce.\\nIn 2008',\n",
       " ' the total number of full-time equivalent jobs was 124',\n",
       " '185. The number of jobs in the primary sector was four',\n",
       " ' all of which were in agriculture. The number of jobs in the secondary sector was 9',\n",
       " '363 of which 4',\n",
       " '863 or (51.9%) were in manufacturing and 4',\n",
       " '451 (47.5%) were in construction. The number of jobs in the tertiary sector was 114',\n",
       " '818. In the tertiary sector; 16',\n",
       " '573 or 14.4% were in wholesale or retail sales or the repair of motor vehicles',\n",
       " ' 3',\n",
       " '474 or 3.0% were in the movement and storage of goods',\n",
       " ' 9',\n",
       " '484 or 8.3% were in a hotel or restaurant',\n",
       " ' 4',\n",
       " '544 or 4.0% were in the information industry',\n",
       " ' 20',\n",
       " '982 or 18.3% were the insurance or financial industry',\n",
       " ' 12',\n",
       " '177 or 10.6% were technical professionals or scientists',\n",
       " ' 10',\n",
       " '007 or 8.7% were in education and 15',\n",
       " '029 or 13.1% were in health care.In 2000',\n",
       " ' there were 95',\n",
       " '190 workers who commuted into the municipality and 25',\n",
       " '920 workers who commuted away. The municipality is a net importer of workers',\n",
       " ' with about 3.7 workers entering the municipality for every one leaving. About 13.8% of the workforce coming into Geneva are coming from outside Switzerland',\n",
       " ' while 0.4% of the locals commute out of Switzerland for work. Of the working population',\n",
       " ' 38.2% used public transportation to get to work',\n",
       " ' and 30.6% used a private car.\\n\\n\\n== Sport ==\\nIce hockey is one of the most popular sports in Geneva. Geneva is home to Genève-Servette HC',\n",
       " ' which plays in the National League (NL). They play their home games in the 7',\n",
       " '135-seat Patinoire des Vernets. In 2008',\n",
       " ' 2010 and 2021 the team made it to the league finals but lost to the ZSC Lions',\n",
       " ' SC Bern and EV Zug respectively. The team was by far the most popular one in both the city and the canton of Geneva',\n",
       " ' drawing three times more spectators than the football team in 2017. Since the return of Servette FC in the Swiss Super League',\n",
       " ' however',\n",
       " ' both teams have similar attendance numbers.The town is home to Servette FC',\n",
       " ' a football club founded in 1890 and named after a borough on the right bank of the Rhône. It is the most successful football club in Romandy',\n",
       " ' and the third in Switzerland overall',\n",
       " ' with 17 league titles and 7 Swiss Cups. The home of Servette FC is the 30',\n",
       " '000-seat Stade de Genève. Servette FC plays in the Credit Suisse Super League. Étoile Carouge FC and Urania Genève Sport also play in the city.\\nGeneva is home to the basketball team Lions de Genève',\n",
       " ' 2013 and 2015 champions of the Swiss Basketball League. The team plays its home games in the Pavilion des Sports.\\nGeneva Jets Australian Football Club have been playing Australian Football in the AFL Switzerland league since 2019.\\n\\n\\n== Infrastructure ==\\n\\n\\n=== Transportation ===\\n\\nThe city is served by the Geneva Airport. It is connected by Geneva Airport railway station (French: Gare de Genève-Aéroport) to both the Swiss Federal Railways network and the French SNCF network',\n",
       " ' including links to Paris',\n",
       " ' Lyon',\n",
       " ' Marseille and Montpellier by TGV. Geneva is connected to the motorway systems of both Switzerland (A1 motorway) and France.\\nPublic transport by bus',\n",
       " ' trolleybus or tram is provided by Transports Publics Genevois. In addition to an extensive coverage of the city centre',\n",
       " ' the network extends to most of the municipalities of the Canton',\n",
       " ' with a few lines reaching into France. Public transport by boat is provided by the Mouettes Genevoises',\n",
       " ' which link the two banks of the lake within the city',\n",
       " ' and by the Compagnie Générale de Navigation sur le lac Léman which serves more distant destinations such as Nyon',\n",
       " ' Yvoire',\n",
       " ' Thonon',\n",
       " ' Évian',\n",
       " ' Lausanne and Montreux using both modern diesel vessels and vintage paddle steamers.\\n\\nTrains operated by Swiss Federal Railways connect the airport to the main station of Cornavin in six minutes. Regional train services are being developed towards Coppet and Bellegarde. At the city limits two new railway stations have been opened since 2002: Genève-Sécheron (close to the UN and the Botanical Gardens) and Lancy-Pont-Rouge.\\nIn 2011 work started on the CEVA rail (Cornavin – Eaux-Vives – Annemasse) project',\n",
       " ' first planned in 1884',\n",
       " ' which will connect Cornavin with the Cantonal hospital',\n",
       " ' Eaux-Vives railway station and Annemasse',\n",
       " ' in France. The link between the main railway station and the classification yard of La Praille already exists; from there',\n",
       " ' the line runs mostly underground to the Hospital and Eaux-Vives',\n",
       " ' where it links to the existing line to France. The line fully opened in December 2019',\n",
       " ' as part of the Léman Express regional rail network.\\n\\nIn May 2013',\n",
       " ' the demonstrator electric bus system with a capacity of 133 passengers commenced between Geneva Airport and Palexpo. The project aims to introduce a new system of mass transport with electric \"flash\" recharging of the buses at selected stops while passengers are disembarking and embarking.Taxis in Geneva can be difficult to find',\n",
       " ' and may need to be booked in advance',\n",
       " ' especially in the early morning or at peak hours. Taxis can refuse to take babies and children because of seating legislation.An ambitious project to close 200 streets in the centre of Geneva to cars was approved by the Geneva cantonal authorities in 2010 and was planned to be implemented over a span of four years (2010–2014)',\n",
       " ' though as of 2018',\n",
       " ' work on the project has yet to be started.\\n\\n\\n=== Utilities ===\\nWater',\n",
       " ' natural gas and electricity are provided to the municipalities of the Canton of Geneva by the state-owned Services Industriels de Genève',\n",
       " ' known as SIG. Most of the drinking water (80%) is extracted from the lake; the remaining 20% is provided by groundwater',\n",
       " \" originally formed by infiltration from the Arve. 30% of the Canton's electricity needs is locally produced\",\n",
       " ' mainly by three hydroelectric dams on the Rhône (Seujet',\n",
       " ' Verbois and Chancy-Pougny). In addition',\n",
       " ' 13% of the electricity produced in the Canton is from the burning of waste at the waste incineration facility of Les Cheneviers. The remaining needs (57%) are covered by imports from other cantons in Switzerland or other European countries; SIG buys only electricity produced by renewable methods',\n",
       " ' and in particular does not use electricity produced using nuclear reactors or fossil fuels. Natural gas is available in the City of Geneva',\n",
       " ' as well as in about two-thirds of the municipalities of the canton',\n",
       " ' and is imported from Western Europe by the Swiss company Gaznat. SIG also provides telecommunication facilities to carriers',\n",
       " ' service providers and large enterprises. From 2003 to 2005',\n",
       " ' \"Voisin',\n",
       " ' voisine\" a fibre-to-the-home pilot project with a triple play offering was launched to test the end-user market in the Charmilles district.\\n\\n\\n== International organisations ==\\n\\nGeneva is the European headquarters of the United Nations',\n",
       " ' in the Palace of Nations building',\n",
       " ' up the hill from the headquarters of the former League of Nations. Several agencies are headquartered in Geneva',\n",
       " ' including the United Nations High Commissioner for Refugees',\n",
       " ' the UN Office of the High Commissioner for Human Rights',\n",
       " ' the World Health Organization',\n",
       " ' the International Labour Organization',\n",
       " ' International Telecommunication Union',\n",
       " ' the International Baccalaureate Organization and the World Intellectual Property Organization.\\nApart from the UN agencies',\n",
       " ' Geneva hosts many inter-governmental organizations',\n",
       " ' such as the World Trade Organization',\n",
       " ' the South Centre',\n",
       " ' the World Meteorological Organization',\n",
       " ' the World Economic Forum',\n",
       " ' the International Organization for Migration',\n",
       " ' the International Federation of Red Cross and Red Crescent Societies and the International Committee of the Red Cross.\\nThe Maison de la Paix building hosts the three Geneva centres supported by the Swiss Confederation: the International Centre for Humanitarian Demining',\n",
       " ' the Centre for the Democratic Control of Armed Forces and the Geneva Centre for Security Policy',\n",
       " ' as well as other organisations active in the field of peace',\n",
       " \" international affairs and sustainable development.Organizations on the European level include the European Broadcasting Union (EBU) and CERN (the European Organization for Nuclear Research) which is the world's largest particle physics laboratory.\\nThe Geneva Environment Network (GEN) publishes the Geneva Green Guide\",\n",
       " ' an extensive listing of Geneva-based global organisations working on environmental protection and sustainable development. A website',\n",
       " ' jointly run by the Swiss Government',\n",
       " ' the World Business Council for Sustainable Development',\n",
       " ' the United Nations Environment Programme and the International Union for Conservation of Nature',\n",
       " ' includes accounts of how NGOs',\n",
       " ' business',\n",
       " ' government and the UN cooperate. By doing so',\n",
       " \" it attempts to explain why Geneva has been picked by so many NGOs and UN bodies as their headquarters' location.\\nThe World Organization of the Scout Movement and the World Scout Bureau Central Office are headquartered in Geneva.\\n\\n\\n== Notable people ==\\n\\n\\n=== A–C ===\\nAlfredo Aceto (born 1991)\",\n",
       " ' a visual artist\\nGustave Ador (1845–1928)',\n",
       " ' statesman',\n",
       " ' President of the Red Cross (ICRC)\\nDavid Aebischer (born 1978)',\n",
       " ' ice hockey goaltender',\n",
       " ' 2001 Stanley Cup champion\\nJacques-Laurent Agasse (1767–1849)',\n",
       " ' animal and landscape painter\\nJeff Agoos (born 1968)',\n",
       " ' retired American soccer defender',\n",
       " ' 134 caps for the US team\\nHenri-Frédéric Amiel (1821–1881)',\n",
       " ' moral philosopher',\n",
       " ' poet and critic\\nGustave Amoudruz (1885–1963)',\n",
       " ' sports shooter',\n",
       " ' bronze medallist at the 1920 Summer Olympics\\nAdolphe Appia (1862–1928)',\n",
       " ' architect and theorist of stage lighting and décor.\\nPhilip Arditti (born c. 1980)',\n",
       " ' British/Jewish Sephardic theatre and television actor\\nAimé Argand (1750–1803)',\n",
       " ' physicist and chemist',\n",
       " ' invented the Argand lamp\\nJean-Robert Argand (1768–1822)',\n",
       " ' amateur mathematician',\n",
       " ' published the Argand diagram\\nMartha Argerich (born 1941)',\n",
       " ' an Argentine classical concert pianist\\nJohn Armleder (born 1948)',\n",
       " ' performance artist',\n",
       " ' painter',\n",
       " ' sculptor',\n",
       " ' critic and curator\\nGermaine Aussey (1909–1979)',\n",
       " ' née Agassiz',\n",
       " ' an actress of Swiss origin who settled in Geneva in 1960\\nAlexandre Bardinon (born 2002)',\n",
       " ' racing driver\\nPierre Bardinon (1931–2012)',\n",
       " ' businessman and car collector\\nMathias Beche (born 1986)',\n",
       " ' racing driver\\nJean-Luc Bideau (born 1940)',\n",
       " ' film actor\\nErnest Bloch (1880–1959)',\n",
       " ' US composer of Swiss origin\\nRoger Bocquet (1921–1994)',\n",
       " ' footballer who won 48 caps for Switzerland\\nRaoul Marie Joseph Count de Boigne (1862–1949)',\n",
       " ' a French sports shooter',\n",
       " ' bronze medallist at the 1908 Summer Olympics\\nCaroline Boissier-Butini (1786–1836)',\n",
       " ' pianist and composer\\nFrançois Bonivard (1493–1570)',\n",
       " ' Geneva ecclesiastic',\n",
       " ' historian and libertine\\nCharles Bonnet (1720–1793)',\n",
       " ' naturalist and philosophical writer\\nJorge Luis Borges (1899–1986)',\n",
       " ' Argentine short-story writer',\n",
       " ' studied at the Collège de Genève\\nMarc-Théodore Bourrit (1739–1819)',\n",
       " ' traveller and writer\\nNicolas Bouvier (1929–1998)',\n",
       " ' writer and photographer\\nClotilde Bressler-Gianoli (1875–1912)',\n",
       " ' an Italian opera singer\\nChristiane Brunner (born 1947)',\n",
       " ' politician',\n",
       " ' lawyer and trade union champion\\nMickaël Buffaz (born 1979)',\n",
       " ' French cyclist\\nJean-Jacques Burlamaqui (1694–1748)',\n",
       " ' Genevan legal and political theorist\\nCécile Butticaz (1884–1966)',\n",
       " ' engineer\\nKate Burton (born 1957)',\n",
       " ' actress',\n",
       " ' the daughter of actor Richard Burton\\nJohn Calvin (1509–1564)',\n",
       " ' influential theologian',\n",
       " ' reformer\\nAugustin Pyramus de Candolle (1778–1841)',\n",
       " ' botanist',\n",
       " ' worked on plant classification\\nClint Capela (born 1994)',\n",
       " ' professional basketball player\\nJean de Carro (1770–1857)',\n",
       " ' Vienna-based physician',\n",
       " ' promoted vaccination against smallpox\\nIsaac Casaubon (1559–1614)',\n",
       " ' a classical scholar and philologist\\nMéric Casaubon (1599–1671)',\n",
       " ' son of Isaac Casaubon',\n",
       " ' a French-English classical scholar\\nMike Castro de Maria (born 1972)',\n",
       " ' electronic music composer\\nJean-Jacques Challet-Venel (1811–1893)',\n",
       " ' politician',\n",
       " ' on the Swiss Federal Council 1864–1872\\nAlfred Edward Chalon RA (1780–1860)',\n",
       " ' portrait painter\\nJohn James Chalon RA (1778–1854)',\n",
       " ' painter of landscapes',\n",
       " ' marine scenes and animal life\\nMarguerite Champendal (1870–1928)',\n",
       " ' first Genevan to have obtained her doctorate in medicine at the University of Geneva (1900)\\nHenri Christiné (1867–1941)',\n",
       " ' French composer of sparkling',\n",
       " ' witty',\n",
       " ' jazzy musical plays\\nVictor Cherbuliez (1829–1899)',\n",
       " ' novelist and author\\nÉtienne Clavière (1735–1793)',\n",
       " ' banker and politician of the French revolution\\nPaulo Coelho (born 1947)',\n",
       " ' Brazilian lyricist and novelist',\n",
       " ' author of The Alchemist',\n",
       " ' residing in Geneva\\nRenée Colliard (1933–2022)',\n",
       " ' former alpine skier',\n",
       " ' gold medallist at the 1956 Winter Olympics\\nGabriel Cramer (1704–1752)',\n",
       " \" Genevan mathematician\\n\\n\\n=== D–G ===\\nMaryam d'Abo (born 1960)\",\n",
       " ' English film and TV actress and Bond girl\\nJacques-Antoine Dassier (1715–1759)',\n",
       " ' a Genevan medallist',\n",
       " ' active in London\\nMichel Decastel (born 1955)',\n",
       " ' football manager and midfielder',\n",
       " ' 314 club caps',\n",
       " ' 19 for Switzerland\\nJean-Denis Delétraz (born 1963)',\n",
       " ' racing driver\\nLouis Delétraz (born 1997)',\n",
       " ' racing driver\\nJean-Louis de Lolme (1740–1806)',\n",
       " ' lawyer and constitutional writer\\nJean-André Deluc (1727–1817)',\n",
       " ' geologist',\n",
       " ' natural philosopher and meteorologist\\nJoël Dicker (born 1985)',\n",
       " ' author and novelist\\nGiovanni Diodati (1576–1649)',\n",
       " ' Italian Calvinist theologian and Bible translator\\nÉlie Ducommun (1833–1906)',\n",
       " ' peace activist',\n",
       " ' 1902 Nobel Peace Prize winner\\nArmand Dufaux (1833–1941)',\n",
       " ' aviation pioneer',\n",
       " ' flew the length of Lake Geneva in 1910\\nHenri Dufaux (1879–1980)',\n",
       " ' French-Swiss aviation pioneer',\n",
       " ' inventor',\n",
       " ' painter and politician\\nPierre Étienne Louis Dumont (1759–1829)',\n",
       " ' Genevan political writer\\nHenry Dunant (1828–1910)',\n",
       " ' founded the Red Cross',\n",
       " ' first recipient of Nobel Peace Prize in 1901\\nEmmanuel-Étienne Duvillard (1775–1832)',\n",
       " ' Swiss economist\\nIsabelle Eberhardt (1877–1904)',\n",
       " ' Russian-Swiss explorer and travel writer\\nEmpress Elisabeth of Austria (1837–1898)',\n",
       " ' Empress of Austria and Queen of Hungary\\nEmanuele Filiberto of Savoy',\n",
       " ' Prince of Venice (born 1972)',\n",
       " ' a member of the House of Savoy\\nLouis Favre (1826–1879)',\n",
       " ' engineer',\n",
       " ' responsible for the construction of the Gotthard Tunnel\\nPhilippe Favre (1961–2013)',\n",
       " ' racing driver\\nHenri Fazy (1842–1920)',\n",
       " ' politician and historian\\nEdmond Fleg',\n",
       " ' born Flegenheimer (1874–1963)',\n",
       " ' a Swiss-French writer',\n",
       " ' thinker',\n",
       " ' novelist',\n",
       " ' essayist and playwright\\nIan Fleming (1908–1964)',\n",
       " ' author (James Bond)',\n",
       " ' studied psychology briefly in Geneva in 1931\\nSylvie Fleury (born 1961)',\n",
       " ' a contemporary object artist of installation art and mixed media\\nSir Augustus Wollaston Franks KCB FRS FSA (1826–1897)',\n",
       " ' English antiquary and museum administrator\\nPierre-Victor Galland (1822–1892)',\n",
       " ' painter\\nAlbert Gallatin (1761–1849)',\n",
       " ' an American politician of Genevan origin',\n",
       " ' diplomat',\n",
       " ' ethnologist and linguist\\nAgénor de Gasparin (1810–1871)',\n",
       " ' French statesman and author',\n",
       " ' also researched table-turning\\nValérie de Gasparin (1813–1894)',\n",
       " ' woman of letters',\n",
       " ' regards freedom',\n",
       " ' equality and creativity\\nFrançois Gaussen (1790–1863)',\n",
       " ' Protestant divine\\nMarcel Golay (1927–2015)',\n",
       " ' astronomer\\nClaude Goretta (1929–2019)',\n",
       " ' film director and television producer\\nEmilie Gourd (1879–1946)',\n",
       " \" journalist and activist for Women's suffrage in Switzerland\\nIsabelle Graesslé (born 1959)\",\n",
       " ' theologian',\n",
       " ' feminist and former museum director',\n",
       " ' moderator of ministers and deacons at the Protestant Church of Geneva\\nKat Graham (born 1989)',\n",
       " ' actress',\n",
       " ' singer',\n",
       " ' and model',\n",
       " ' she plays Bonnie Bennett in The Vampire Diaries\\nCédric Grand (born 1976)',\n",
       " ' bobsledder',\n",
       " ' competed in four Winter Olympics',\n",
       " ' bronze medallist at the 2006 Winter Olympics\\nRomain Grosjean (born 1986)',\n",
       " ' former Formula 1 racing driver',\n",
       " ' currently racing for Andretti Autosport in the IndyCar Series. He is mainly known for his massive crash at the 2020 Bahrain Grand Prix.\\n\\n\\n=== H–M ===\\nAdmiral of the Fleet Lord John Hay GCB (1827–1916)',\n",
       " ' Royal Navy officer and politician\\nAbraham Hermanjat (1862–1932)',\n",
       " ' painter who worked in the Fauvist and Divisionist styles\\nGermain Henri Hess (1802–1850)',\n",
       " ' a Swiss-Russian chemist and doctor',\n",
       " \" formulated Hess's law\\nHector Hodler (1887–1920)\",\n",
       " ' Esperantist\\nFulk Greville Howard (1773–1846)',\n",
       " ' an English politician\\nJean Huber (1721–1786)',\n",
       " ' a painter',\n",
       " ' silhouettiste',\n",
       " ' soldier and author\\nFrançois Huber (1750–1831)',\n",
       " ' naturalist',\n",
       " ' studied the respiration of bees\\nMarie Huber (1695–1753)',\n",
       " ' translator',\n",
       " ' editor and author of theological works\\nPierre Jeanneret (1896–1967)',\n",
       " ' architect',\n",
       " ' collaborated with his cousin Le Corbusier\\nThomas Jouannet (born 1970)',\n",
       " ' actor\\nCharles Journet (1891–1975)',\n",
       " ' cardinal of the Roman Catholic Church\\nLouis Jurine (1751–1819)',\n",
       " ' physician',\n",
       " ' surgeon',\n",
       " ' naturalist and entomologist\\nSonia Kacem (born 1985)',\n",
       " ' Swiss-born visual artist\\nMichael Krausz (born 1942)',\n",
       " ' American philosopher',\n",
       " ' an artist and orchestral conductor\\nAdrien Lachenal (1849–1918)',\n",
       " ' politician',\n",
       " ' Federal Council of Switzerland 1892–1899\\nFrançois Lachenal (1918–1997)',\n",
       " ' a publisher and diplomat\\nPaul Lachenal (1884–1955)',\n",
       " ' politician',\n",
       " ' co-founded Orchestre de la Suisse Romande\\nMarie Laforêt (1939–2019)',\n",
       " ' a French singer and actress\\nSarah Lahbati (born 1993)',\n",
       " ' actress and singer\\nFrançois Le Fort (1656–1699)',\n",
       " ' first Russian Admiral\\nGeorges-Louis Le Sage (1724–1803)',\n",
       " ' physicist',\n",
       " \" Le Sage's theory of gravitation\\nJean Leclerc (1657–1736)\",\n",
       " ' theologian and biblical scholar',\n",
       " ' promoted exegesis\\nHenri Leconte (born 1963)',\n",
       " ' former French professional tennis player',\n",
       " \" men's singles finalist\",\n",
       " ' French Open 1988\\nPhilippe Le Royer (1816–1897)',\n",
       " ' French and Swiss politician and lawyer',\n",
       " ' served France as the Minister of Justice and President of the Senate\\nVladimir Lenin (1870–1924)',\n",
       " ' lived in Geneva 1902–1905 as an exile from the Russian Empire\\nJean-Étienne Liotard (1702–1789)',\n",
       " ' painter',\n",
       " ' art connoisseur and dealer\\nCorinne Maier (born 1963)',\n",
       " ' psychoanalyst',\n",
       " ' economist',\n",
       " ' and best-selling writer\\nElla Maillart (1903–1997)',\n",
       " ' adventurer',\n",
       " ' travel writer and photographer',\n",
       " ' as well as a sportswoman\\nSolomon Caesar Malan (1812–1894)',\n",
       " ' oriental linguist and biblical scholar\\nJacques Mallet du Pan (1749–1800)',\n",
       " ' Genevan-French royalist journalist\\nAlexander Marcet FRS (1770–1822)',\n",
       " ' physician who became a British citizen in 1800\\nJane Marcet (1769–1858)',\n",
       " ' an innovative writer of popular introductory science books\\nSebastian Marka (born 1978)',\n",
       " ' German film director and editor\\nFrank Martin (1890–1974)',\n",
       " ' composer',\n",
       " \" editor of The Statesman's Year Book\\nNicolas Maulini (born 1981)\",\n",
       " ' racing driver\\nThéodore Maunoir (1806–1869)',\n",
       " ' co-founder of the International Committee of the Red Cross\\nAmélie Mauresmo (born 1979)',\n",
       " ' former professional tennis player and former world No.1\\nBarthélemy Menn (1815–1893)',\n",
       " ' a landscape painter',\n",
       " ' introduced painting en plein air\\nAlain Menu (born 1963)',\n",
       " ' racing driver\\nHeinrich Menu von Minutoli (1772–1846)',\n",
       " ' a Prussian Generalmajor',\n",
       " ' explorer and archaeologist\\nJacques-Barthélemy Micheli du Crest (1690–1766)',\n",
       " ' military engineer',\n",
       " ' physicist and cartographer\\nGiorgio Mondini (born 1980)',\n",
       " ' racing driver\\nStephanie Morgenstern (born 1965)',\n",
       " ' Canadian actress',\n",
       " ' filmmaker and screenwriter\\nEdoardo Mortara (born 1987)',\n",
       " ' Swiss-Italian racing driver\\nThierry Moutinho (born 1991)',\n",
       " ' Swiss-Portuguese footballer\\nGustave Moynier (1826–1910)',\n",
       " ' lawyer and co-founder of the Red Cross\\n\\n\\n=== N–R ===\\nJacques Necker (1732–1804)',\n",
       " ' banker and finance minister for Louis XVI of France\\nLouis Albert Necker (1786–1861)',\n",
       " ' a crystallographer and geographer',\n",
       " ' devised the Necker cube\\nFelix Neff (1798–1829)',\n",
       " ' Protestant divine and philanthropist\\nAlfred Newton FRS HFRSE (1829–1907)',\n",
       " ' English zoologist and ornithologist\\nKarim Ojjeh (born 1965)',\n",
       " ' Saudi Arabian businessman and racing driver\\nJulie Ordon (born 1984)',\n",
       " ' model and actress\\nRémy Pagani (born 1954)',\n",
       " ' politician',\n",
       " ' Mayor of Geneva 2009/10 and 2012/13\\nLiliane Maury Pasquier (born 1956)',\n",
       " ' politician\\nPATjE (born 1970)',\n",
       " ' birth name Patrice Jauffret',\n",
       " ' a singer',\n",
       " ' songwriter',\n",
       " ' and musician\\nFaule Petitot (1572–1629)',\n",
       " ' sculptor',\n",
       " ' cabinetmaker and architect',\n",
       " ' citizen of Geneva since 1615\\nJean Petitot (1607–1691)',\n",
       " ' enamel painter',\n",
       " ' son of Faule\\nCarmen Perrin (born 1953)',\n",
       " ' Bolivian-born Swiss visual artist',\n",
       " ' designer',\n",
       " ' and educator.\\nJean Piaget (1896–1980)',\n",
       " ' clinical psychologist',\n",
       " ' devised genetic epistemology\\nRobert Pinget (1919–1997)',\n",
       " ' an avant-garde French modernist nouveau roman writer\\nGeorge Pitt',\n",
       " ' 1st Baron Rivers (1721–1803)',\n",
       " ' English diplomat and politician\\nBarbara Polla (born 1950)',\n",
       " ' medical doctor',\n",
       " ' gallery owner',\n",
       " ' art curator and writer\\nJames Pradier (1790–1852)',\n",
       " ' Genevan and then Swiss sculptor',\n",
       " ' neoclassical style\\nJean-Louis Prévost (1838–1927)',\n",
       " ' neurologist and physiologist\\nPierre Prévost (1751–1839)',\n",
       " ' philosopher',\n",
       " ' physicist wrote the law of exchange in radiation\\nTariq Ramadan (born 1962)',\n",
       " ' a Swiss Muslim academic',\n",
       " ' philosopher and writer\\nMarcel Raymond (1897–1981)',\n",
       " ' a literary critic of French literature of the \"Geneva School\"\\nFlore Revalles (1889–1966)',\n",
       " ' singer',\n",
       " ' dancer and actress\\nCharles Pierre Henri Rieu (1820–1902)',\n",
       " ' Orientalist and Professor of Arabic\\nAuguste Arthur de la Rive (1801–1873)',\n",
       " ' a physicist',\n",
       " ' worked on the heat of gases\\nCharles-Gaspard de la Rive (1770–1834)',\n",
       " ' physicist',\n",
       " ' psychiatrist and politician\\nFrançois Jules Pictet de la Rive (1809–1872)',\n",
       " ' zoologist and palaeontologist\\nTibor Rosenbaum (1923–1980)',\n",
       " ' rabbi and businessman\\nMarc Rosset (born 1970)',\n",
       " ' former pro tennis player',\n",
       " ' gold medallist at the 1992 Olympic Games\\nJean-Jacques Rousseau (1712–1778)',\n",
       " ' writer and philosopher\\nJean Rousset (1910–2002)',\n",
       " ' literary critic and early structuralism writer of the Geneva School\\nXavier Ruiz (born 1970)',\n",
       " ' film producer and director\\n\\n\\n=== S–Z ===\\nFerdinand de Saussure (1857–1913)',\n",
       " ' a linguist and semiotician\\nHorace Bénédict de Saussure (1740–1799)',\n",
       " ' geologist',\n",
       " ' meteorologist',\n",
       " ' physicist',\n",
       " ' and Alpine explorer\\nNicolas-Théodore de Saussure (1767–1845)',\n",
       " ' chemist',\n",
       " ...]"
      ]
     },
     "execution_count": 295,
     "metadata": {},
     "output_type": "execute_result"
    }
   ],
   "source": [
    "comma = geneva_text.split(\",\")\n",
    "comma"
   ]
  },
  {
   "cell_type": "code",
   "execution_count": 300,
   "id": "5d9d18c6",
   "metadata": {},
   "outputs": [
    {
     "name": "stdout",
     "output_type": "stream",
     "text": [
      "1069\n",
      "<class 'list'>\n"
     ]
    }
   ],
   "source": [
    "print(len(comma))\n",
    "print(type(comma))"
   ]
  },
  {
   "cell_type": "code",
   "execution_count": 297,
   "id": "39405387",
   "metadata": {},
   "outputs": [
    {
     "data": {
      "text/plain": [
       "' the French-speaking part of Switzerland. Situated in the south west of the country'"
      ]
     },
     "execution_count": 297,
     "metadata": {},
     "output_type": "execute_result"
    }
   ],
   "source": [
    "test = comma[1]\n",
    "test"
   ]
  },
  {
   "cell_type": "code",
   "execution_count": 298,
   "id": "c4a5d403",
   "metadata": {},
   "outputs": [
    {
     "data": {
      "text/plain": [
       "'the French-speaking part of Switzerland. Situated in the south west of the country'"
      ]
     },
     "execution_count": 298,
     "metadata": {},
     "output_type": "execute_result"
    }
   ],
   "source": [
    "strip_test = test.strip()\n",
    "strip_test"
   ]
  },
  {
   "cell_type": "code",
   "execution_count": 301,
   "id": "a003cab7",
   "metadata": {},
   "outputs": [],
   "source": [
    "test_comma = comma[0:3]"
   ]
  },
  {
   "cell_type": "code",
   "execution_count": 303,
   "id": "e22ef609",
   "metadata": {},
   "outputs": [
    {
     "name": "stdout",
     "output_type": "stream",
     "text": [
      "['Geneva ( jə-NEE-və; French: Genève [ʒənɛv] ) is the second-most populous city in Switzerland (after Zürich) and the most populous city of Romandy', ' the French-speaking part of Switzerland. Situated in the south west of the country', ' where the Rhône exits Lake Geneva']\n"
     ]
    }
   ],
   "source": [
    "print(test_comma)"
   ]
  },
  {
   "cell_type": "code",
   "execution_count": 304,
   "id": "d4e17758",
   "metadata": {},
   "outputs": [
    {
     "name": "stdout",
     "output_type": "stream",
     "text": [
      "3\n"
     ]
    }
   ],
   "source": [
    "print(len(test_comma))"
   ]
  },
  {
   "cell_type": "code",
   "execution_count": 305,
   "id": "99aacb70",
   "metadata": {},
   "outputs": [
    {
     "name": "stdout",
     "output_type": "stream",
     "text": [
      "<class 'list'>\n"
     ]
    }
   ],
   "source": [
    "print(type(test_comma))"
   ]
  },
  {
   "cell_type": "code",
   "execution_count": 306,
   "id": "3701077e",
   "metadata": {},
   "outputs": [
    {
     "data": {
      "text/plain": [
       "\"Geneva ( jə-NEE-və; French: Genève [ʒənɛv] ) is the second-most populous city in Switzerland (after Zürich) and the most populous city of Romandy IT'S GENEVA the French-speaking part of Switzerland. Situated in the south west of the country IT'S GENEVA where the Rhône exits Lake Geneva\""
      ]
     },
     "execution_count": 306,
     "metadata": {},
     "output_type": "execute_result"
    }
   ],
   "source": [
    "\" IT'S GENEVA\".join(test_comma)"
   ]
  },
  {
   "cell_type": "code",
   "execution_count": 308,
   "id": "c840e8fc",
   "metadata": {},
   "outputs": [
    {
     "name": "stdout",
     "output_type": "stream",
     "text": [
      "81\n",
      "81\n"
     ]
    }
   ],
   "source": [
    "print(geneva_text.index(\"Switzerland\"))\n",
    "print(geneva_text.find(\"Switzerland\"))"
   ]
  },
  {
   "cell_type": "code",
   "execution_count": 311,
   "id": "2e2d7060",
   "metadata": {},
   "outputs": [
    {
     "ename": "ValueError",
     "evalue": "substring not found",
     "output_type": "error",
     "traceback": [
      "\u001b[1;31m---------------------------------------------------------------------------\u001b[0m",
      "\u001b[1;31mValueError\u001b[0m                                Traceback (most recent call last)",
      "Input \u001b[1;32mIn [311]\u001b[0m, in \u001b[0;36m<cell line: 1>\u001b[1;34m()\u001b[0m\n\u001b[1;32m----> 1\u001b[0m \u001b[38;5;28mprint\u001b[39m(\u001b[43mgeneva_text\u001b[49m\u001b[38;5;241;43m.\u001b[39;49m\u001b[43mindex\u001b[49m\u001b[43m(\u001b[49m\u001b[38;5;124;43m\"\u001b[39;49m\u001b[38;5;124;43mBarcelona\u001b[39;49m\u001b[38;5;124;43m\"\u001b[39;49m\u001b[43m)\u001b[49m)\n",
      "\u001b[1;31mValueError\u001b[0m: substring not found"
     ]
    }
   ],
   "source": [
    "print(geneva_text.index(\"Barcelona\"))"
   ]
  },
  {
   "cell_type": "code",
   "execution_count": 312,
   "id": "f7de79e3",
   "metadata": {},
   "outputs": [
    {
     "name": "stdout",
     "output_type": "stream",
     "text": [
      "-1\n"
     ]
    }
   ],
   "source": [
    "print(geneva_text.find(\"Barcelona\"))"
   ]
  }
 ],
 "metadata": {
  "kernelspec": {
   "display_name": "Python 3 (ipykernel)",
   "language": "python",
   "name": "python3"
  },
  "language_info": {
   "codemirror_mode": {
    "name": "ipython",
    "version": 3
   },
   "file_extension": ".py",
   "mimetype": "text/x-python",
   "name": "python",
   "nbconvert_exporter": "python",
   "pygments_lexer": "ipython3",
   "version": "3.8.8"
  }
 },
 "nbformat": 4,
 "nbformat_minor": 5
}
