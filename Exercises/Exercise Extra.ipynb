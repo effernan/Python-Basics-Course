{
 "cells": [
  {
   "cell_type": "markdown",
   "id": "2f1c1515",
   "metadata": {},
   "source": [
    "(C) Elena Fernández Fernández"
   ]
  },
  {
   "cell_type": "markdown",
   "id": "27f29e34",
   "metadata": {},
   "source": [
    "# The Academy Awards"
   ]
  },
  {
   "cell_type": "markdown",
   "id": "172a4774",
   "metadata": {},
   "source": [
    "The Academy Awards Ceremony (also known as The Oscars) takes place every year getting a lot of international attention. You are a software engineer working for The Academy of Motion Picture Arts and Sciences (AMPAS), and you have been given the task to create a new app where movie fans all around the world can get some information at the tip of their fingers.<br>\n",
    "\n",
    "**A**\n",
    "\n",
    "As a software engineer, your first task is to have a look at the data. Answer the following questions:\n",
    "\n",
    "> -  What is \"Pandas\". Do a google search!\n",
    "> -  What does \"csv\" mean?\n",
    "> -  What other way of opening a file have we learnt in this course?\n",
    "> -  What happens when you open a csv file using f.read()?\n",
    "> -  What happens if you run the following script?: len(data)\n",
    "> -  What happens if you run the following script?: data[\"year\"]\n",
    "> -  What happens if you run the following script?: type(data[\"year\"])\n",
    "> -  What happens if you run the following script?: data[\"year\"].to_list()\n",
    "> -  What happens if you run the following script?: type(data[\"year\"].to_list())\n",
    "> -  What happens if you run the following script?: year = data[\"year\"].to_list()\n",
    "\n"
   ]
  },
  {
   "cell_type": "code",
   "execution_count": 62,
   "id": "79d386d3",
   "metadata": {},
   "outputs": [],
   "source": [
    "import pandas as pd"
   ]
  },
  {
   "cell_type": "code",
   "execution_count": 63,
   "id": "fa8be536",
   "metadata": {},
   "outputs": [],
   "source": [
    "data = pd.read_csv(\"oscars_data.csv\")"
   ]
  },
  {
   "cell_type": "code",
   "execution_count": 64,
   "id": "679ac7d3",
   "metadata": {},
   "outputs": [],
   "source": [
    "data = data.loc[:, ~data.columns.str.contains('^Unnamed')] #don´t worry about this"
   ]
  },
  {
   "cell_type": "code",
   "execution_count": 65,
   "id": "38137473",
   "metadata": {
    "scrolled": true
   },
   "outputs": [
    {
     "data": {
      "text/html": [
       "<div>\n",
       "<style scoped>\n",
       "    .dataframe tbody tr th:only-of-type {\n",
       "        vertical-align: middle;\n",
       "    }\n",
       "\n",
       "    .dataframe tbody tr th {\n",
       "        vertical-align: top;\n",
       "    }\n",
       "\n",
       "    .dataframe thead th {\n",
       "        text-align: right;\n",
       "    }\n",
       "</style>\n",
       "<table border=\"1\" class=\"dataframe\">\n",
       "  <thead>\n",
       "    <tr style=\"text-align: right;\">\n",
       "      <th></th>\n",
       "      <th>year</th>\n",
       "      <th>best actress</th>\n",
       "      <th>age actress</th>\n",
       "      <th>best actor</th>\n",
       "      <th>age actor</th>\n",
       "      <th>best movie</th>\n",
       "      <th>box office</th>\n",
       "    </tr>\n",
       "  </thead>\n",
       "  <tbody>\n",
       "    <tr>\n",
       "      <th>0</th>\n",
       "      <td>2000</td>\n",
       "      <td>julia roberts</td>\n",
       "      <td>33</td>\n",
       "      <td>Russel Crowe</td>\n",
       "      <td>36</td>\n",
       "      <td>Gladiator</td>\n",
       "      <td>503</td>\n",
       "    </tr>\n",
       "    <tr>\n",
       "      <th>1</th>\n",
       "      <td>2001</td>\n",
       "      <td>halle berry</td>\n",
       "      <td>35</td>\n",
       "      <td>Denzel Washington</td>\n",
       "      <td>44</td>\n",
       "      <td>A Beautiful Mind</td>\n",
       "      <td>316</td>\n",
       "    </tr>\n",
       "    <tr>\n",
       "      <th>2</th>\n",
       "      <td>2000</td>\n",
       "      <td>nicole kidman</td>\n",
       "      <td>35</td>\n",
       "      <td>Adrien Brody</td>\n",
       "      <td>29</td>\n",
       "      <td>Chicago</td>\n",
       "      <td>306</td>\n",
       "    </tr>\n",
       "    <tr>\n",
       "      <th>3</th>\n",
       "      <td>2003</td>\n",
       "      <td>charlize theron</td>\n",
       "      <td>28</td>\n",
       "      <td>Sean Penn</td>\n",
       "      <td>43</td>\n",
       "      <td>The Lord of the Rings: the Return of the King</td>\n",
       "      <td>1147</td>\n",
       "    </tr>\n",
       "    <tr>\n",
       "      <th>4</th>\n",
       "      <td>2004</td>\n",
       "      <td>hilary swank</td>\n",
       "      <td>30</td>\n",
       "      <td>Jamie Foxx</td>\n",
       "      <td>37</td>\n",
       "      <td>Million Dollar Baby</td>\n",
       "      <td>216</td>\n",
       "    </tr>\n",
       "    <tr>\n",
       "      <th>5</th>\n",
       "      <td>2005</td>\n",
       "      <td>reese witherspoon</td>\n",
       "      <td>29</td>\n",
       "      <td>Phillip Seymour Hoffman</td>\n",
       "      <td>38</td>\n",
       "      <td>Crash</td>\n",
       "      <td>98</td>\n",
       "    </tr>\n",
       "    <tr>\n",
       "      <th>6</th>\n",
       "      <td>2006</td>\n",
       "      <td>hellen mirren</td>\n",
       "      <td>61</td>\n",
       "      <td>Forest Whitaker</td>\n",
       "      <td>45</td>\n",
       "      <td>The Departed</td>\n",
       "      <td>291</td>\n",
       "    </tr>\n",
       "    <tr>\n",
       "      <th>7</th>\n",
       "      <td>2007</td>\n",
       "      <td>marion cotillard</td>\n",
       "      <td>32</td>\n",
       "      <td>Daniel Day Lewis</td>\n",
       "      <td>50</td>\n",
       "      <td>No Country for Old Men</td>\n",
       "      <td>171</td>\n",
       "    </tr>\n",
       "    <tr>\n",
       "      <th>8</th>\n",
       "      <td>2008</td>\n",
       "      <td>kate winslet</td>\n",
       "      <td>33</td>\n",
       "      <td>Sean Penn</td>\n",
       "      <td>48</td>\n",
       "      <td>Slumdog Millionaire</td>\n",
       "      <td>378</td>\n",
       "    </tr>\n",
       "    <tr>\n",
       "      <th>9</th>\n",
       "      <td>2009</td>\n",
       "      <td>sandra bullock</td>\n",
       "      <td>45</td>\n",
       "      <td>Jeff Bridges</td>\n",
       "      <td>60</td>\n",
       "      <td>The Hurt Locker</td>\n",
       "      <td>49</td>\n",
       "    </tr>\n",
       "    <tr>\n",
       "      <th>10</th>\n",
       "      <td>2010</td>\n",
       "      <td>natalie portman</td>\n",
       "      <td>29</td>\n",
       "      <td>Colin Firth</td>\n",
       "      <td>50</td>\n",
       "      <td>The Kings Speech</td>\n",
       "      <td>427</td>\n",
       "    </tr>\n",
       "    <tr>\n",
       "      <th>11</th>\n",
       "      <td>2011</td>\n",
       "      <td>meryl streep</td>\n",
       "      <td>63</td>\n",
       "      <td>Jean Dujardin</td>\n",
       "      <td>39</td>\n",
       "      <td>The Artist</td>\n",
       "      <td>133</td>\n",
       "    </tr>\n",
       "    <tr>\n",
       "      <th>12</th>\n",
       "      <td>2012</td>\n",
       "      <td>jennifer lawrence</td>\n",
       "      <td>22</td>\n",
       "      <td>Daniel Day Lewis</td>\n",
       "      <td>56</td>\n",
       "      <td>Argo</td>\n",
       "      <td>232</td>\n",
       "    </tr>\n",
       "    <tr>\n",
       "      <th>13</th>\n",
       "      <td>2013</td>\n",
       "      <td>cate blanchett</td>\n",
       "      <td>44</td>\n",
       "      <td>Matthew McConaughey</td>\n",
       "      <td>44</td>\n",
       "      <td>12 years a slave</td>\n",
       "      <td>187</td>\n",
       "    </tr>\n",
       "    <tr>\n",
       "      <th>14</th>\n",
       "      <td>2014</td>\n",
       "      <td>julianne mooore</td>\n",
       "      <td>54</td>\n",
       "      <td>Eddie Redmayne</td>\n",
       "      <td>32</td>\n",
       "      <td>Birdman</td>\n",
       "      <td>103</td>\n",
       "    </tr>\n",
       "    <tr>\n",
       "      <th>15</th>\n",
       "      <td>2015</td>\n",
       "      <td>brie larson</td>\n",
       "      <td>26</td>\n",
       "      <td>Leonardo DiCaprio</td>\n",
       "      <td>41</td>\n",
       "      <td>Spotlight</td>\n",
       "      <td>98</td>\n",
       "    </tr>\n",
       "    <tr>\n",
       "      <th>16</th>\n",
       "      <td>2016</td>\n",
       "      <td>emma stone</td>\n",
       "      <td>28</td>\n",
       "      <td>Casey Affleck</td>\n",
       "      <td>41</td>\n",
       "      <td>Moonlight</td>\n",
       "      <td>65</td>\n",
       "    </tr>\n",
       "    <tr>\n",
       "      <th>17</th>\n",
       "      <td>2017</td>\n",
       "      <td>frances mcdormand</td>\n",
       "      <td>60</td>\n",
       "      <td>Gary Oldman</td>\n",
       "      <td>59</td>\n",
       "      <td>The Shape of Water</td>\n",
       "      <td>193</td>\n",
       "    </tr>\n",
       "    <tr>\n",
       "      <th>18</th>\n",
       "      <td>2018</td>\n",
       "      <td>olivia colman</td>\n",
       "      <td>44</td>\n",
       "      <td>Rami Malek</td>\n",
       "      <td>37</td>\n",
       "      <td>Green Book</td>\n",
       "      <td>321</td>\n",
       "    </tr>\n",
       "    <tr>\n",
       "      <th>19</th>\n",
       "      <td>2019</td>\n",
       "      <td>rene zellweger</td>\n",
       "      <td>50</td>\n",
       "      <td>Joaquin Phoenix</td>\n",
       "      <td>45</td>\n",
       "      <td>Parasite</td>\n",
       "      <td>262</td>\n",
       "    </tr>\n",
       "    <tr>\n",
       "      <th>20</th>\n",
       "      <td>2020</td>\n",
       "      <td>frances mcdormand</td>\n",
       "      <td>63</td>\n",
       "      <td>Anthony Hopkins</td>\n",
       "      <td>83</td>\n",
       "      <td>Nomadland</td>\n",
       "      <td>39</td>\n",
       "    </tr>\n",
       "    <tr>\n",
       "      <th>21</th>\n",
       "      <td>2021</td>\n",
       "      <td>jessica chastain</td>\n",
       "      <td>44</td>\n",
       "      <td>Will Smith</td>\n",
       "      <td>53</td>\n",
       "      <td>CODA</td>\n",
       "      <td>2</td>\n",
       "    </tr>\n",
       "    <tr>\n",
       "      <th>22</th>\n",
       "      <td>2022</td>\n",
       "      <td>michelle yeoh</td>\n",
       "      <td>60</td>\n",
       "      <td>Brendan Fraser</td>\n",
       "      <td>54</td>\n",
       "      <td>Everything Everywhere All at Once</td>\n",
       "      <td>131</td>\n",
       "    </tr>\n",
       "  </tbody>\n",
       "</table>\n",
       "</div>"
      ],
      "text/plain": [
       "    year       best actress  age actress               best actor  age actor  \\\n",
       "0   2000      julia roberts           33             Russel Crowe         36   \n",
       "1   2001        halle berry           35        Denzel Washington         44   \n",
       "2   2000      nicole kidman           35             Adrien Brody         29   \n",
       "3   2003    charlize theron           28                Sean Penn         43   \n",
       "4   2004       hilary swank           30               Jamie Foxx         37   \n",
       "5   2005  reese witherspoon           29  Phillip Seymour Hoffman         38   \n",
       "6   2006      hellen mirren           61          Forest Whitaker         45   \n",
       "7   2007   marion cotillard           32         Daniel Day Lewis         50   \n",
       "8   2008       kate winslet           33                Sean Penn         48   \n",
       "9   2009     sandra bullock           45             Jeff Bridges         60   \n",
       "10  2010    natalie portman           29              Colin Firth         50   \n",
       "11  2011       meryl streep           63            Jean Dujardin         39   \n",
       "12  2012  jennifer lawrence           22         Daniel Day Lewis         56   \n",
       "13  2013     cate blanchett           44      Matthew McConaughey         44   \n",
       "14  2014    julianne mooore           54           Eddie Redmayne         32   \n",
       "15  2015        brie larson           26        Leonardo DiCaprio         41   \n",
       "16  2016         emma stone           28            Casey Affleck         41   \n",
       "17  2017  frances mcdormand           60              Gary Oldman         59   \n",
       "18  2018      olivia colman           44               Rami Malek         37   \n",
       "19  2019     rene zellweger           50          Joaquin Phoenix         45   \n",
       "20  2020  frances mcdormand           63          Anthony Hopkins         83   \n",
       "21  2021   jessica chastain           44               Will Smith         53   \n",
       "22  2022      michelle yeoh           60           Brendan Fraser         54   \n",
       "\n",
       "                                       best movie  box office  \n",
       "0                                       Gladiator         503  \n",
       "1                                A Beautiful Mind         316  \n",
       "2                                         Chicago         306  \n",
       "3   The Lord of the Rings: the Return of the King        1147  \n",
       "4                             Million Dollar Baby         216  \n",
       "5                                           Crash          98  \n",
       "6                                    The Departed         291  \n",
       "7                          No Country for Old Men         171  \n",
       "8                             Slumdog Millionaire         378  \n",
       "9                                 The Hurt Locker          49  \n",
       "10                               The Kings Speech         427  \n",
       "11                                     The Artist         133  \n",
       "12                                           Argo         232  \n",
       "13                               12 years a slave         187  \n",
       "14                                        Birdman         103  \n",
       "15                                      Spotlight          98  \n",
       "16                                      Moonlight          65  \n",
       "17                             The Shape of Water         193  \n",
       "18                                     Green Book         321  \n",
       "19                                       Parasite         262  \n",
       "20                                      Nomadland          39  \n",
       "21                                           CODA           2  \n",
       "22              Everything Everywhere All at Once         131  "
      ]
     },
     "execution_count": 65,
     "metadata": {},
     "output_type": "execute_result"
    }
   ],
   "source": [
    "data"
   ]
  },
  {
   "cell_type": "markdown",
   "id": "70640872",
   "metadata": {},
   "source": [
    "**B**\n",
    "\n",
    "Your next task is to create an app that tells users which actress and actor were the winners in which year. Create two functions (**best_actress, best_actor**), only using 13 years of data (2010-2023) that take one argument (the year of the movie). Inside the function, write conditional statements (if, elif, else).\n",
    "\n",
    "**Tip**: to practice how to slice lists, you may want to use the hacks that you just learnt about extracting data from dataframes. Here goes an example about how to get your data from the \"best actress\" column. \n"
   ]
  },
  {
   "cell_type": "code",
   "execution_count": 66,
   "id": "c9adc81c",
   "metadata": {},
   "outputs": [
    {
     "data": {
      "text/plain": [
       "['natalie portman',\n",
       " 'meryl streep',\n",
       " 'jennifer lawrence',\n",
       " 'cate blanchett',\n",
       " 'julianne mooore',\n",
       " 'brie larson',\n",
       " 'emma stone',\n",
       " 'frances mcdormand',\n",
       " 'olivia colman',\n",
       " 'rene zellweger',\n",
       " 'frances mcdormand',\n",
       " 'jessica chastain',\n",
       " 'michelle yeoh']"
      ]
     },
     "execution_count": 66,
     "metadata": {},
     "output_type": "execute_result"
    }
   ],
   "source": [
    "data_actress = data[\"best actress\"].to_list()\n",
    "data_actress = data_actress[10:23]\n",
    "data_actress"
   ]
  },
  {
   "cell_type": "markdown",
   "id": "f0d6ce90",
   "metadata": {},
   "source": [
    "**C**\n",
    "\n",
    "To help users of your app have all the information about the Oscars, you are going to build one icon per year where you they can find all the information about awardees. Create one sample variable for the year 2010 (oscars_2010). Using a dictionary, include all the information that you can find at the table of the things that happened that year."
   ]
  },
  {
   "cell_type": "markdown",
   "id": "63dd60b1",
   "metadata": {},
   "source": [
    "**D**\n",
    "\n",
    "Now that you have finished building the user friendly Oscars app, the AMPAS wants that you do some data analytics. Your first task is to compare the age of awarded actresses and actors during your observational time (23 years): \n",
    "\n",
    "> -  Create two lists (age_actor, age_actress), using data from the columns. \n",
    "> -  Having a quick look at the data, it looks like winner actors are slightly older than winner actress. Let's check how many of them in both categories were 35 or older at the time of the award. Using a for loop, create a new variable where you store a list with the number of over 35 actors/actresses. Use the len() function to check the difference between both. \n",
    "> -  Yesterday you learnt that a linear regression can be used to predict unknown values using known data types (i.e. the World Cup exercise). Linnear Regressions are also a very common tool for visualization purposes in Data Science. You can find a linear regression in the next script that will help you to identify trends in actresses age patterns. What do you observe? The line goes up as we approach contemporary times: what does it mean?  \n",
    "> -  Now run the regression line using the actors age data. What do you see?\n"
   ]
  },
  {
   "cell_type": "code",
   "execution_count": 67,
   "id": "df9ba49d",
   "metadata": {},
   "outputs": [],
   "source": [
    "# first we import the libraries\n",
    "\n",
    "import numpy as np\n",
    "from sklearn.linear_model import LinearRegression"
   ]
  },
  {
   "cell_type": "code",
   "execution_count": 68,
   "id": "d41d57db",
   "metadata": {},
   "outputs": [],
   "source": [
    "year = data[\"year\"].to_list()\n",
    "age_actress = data[\"age actress\"].to_list()"
   ]
  },
  {
   "cell_type": "code",
   "execution_count": 69,
   "id": "7a303e8f",
   "metadata": {},
   "outputs": [],
   "source": [
    "# then we feed the data to the linear regression \n",
    "\n",
    "x = np.array(year).reshape((-1, 1))\n",
    "y = np.array(age_actress)"
   ]
  },
  {
   "cell_type": "code",
   "execution_count": 70,
   "id": "4db12bf8",
   "metadata": {},
   "outputs": [],
   "source": [
    "model = LinearRegression()"
   ]
  },
  {
   "cell_type": "code",
   "execution_count": 71,
   "id": "db9b3115",
   "metadata": {},
   "outputs": [
    {
     "data": {
      "text/plain": [
       "LinearRegression()"
      ]
     },
     "execution_count": 71,
     "metadata": {},
     "output_type": "execute_result"
    }
   ],
   "source": [
    "model.fit(x, y)"
   ]
  },
  {
   "cell_type": "code",
   "execution_count": 72,
   "id": "34f5d691",
   "metadata": {},
   "outputs": [
    {
     "name": "stdout",
     "output_type": "stream",
     "text": [
      "coefficient of determination: 0.226843592392021\n"
     ]
    }
   ],
   "source": [
    "r_sq = model.score(x, y)\n",
    "print(f\"coefficient of determination: {r_sq}\")"
   ]
  },
  {
   "cell_type": "code",
   "execution_count": 73,
   "id": "871948db",
   "metadata": {},
   "outputs": [
    {
     "name": "stdout",
     "output_type": "stream",
     "text": [
      "intercept: -1825.5602678571422\n",
      "slope: [0.92832341]\n"
     ]
    }
   ],
   "source": [
    "print(f\"intercept: {model.intercept_}\")\n",
    "intercept: 5.633333333333329\n",
    "\n",
    "print(f\"slope: {model.coef_}\")\n",
    "slope: [0.54]"
   ]
  },
  {
   "cell_type": "code",
   "execution_count": 74,
   "id": "f0986eff",
   "metadata": {},
   "outputs": [
    {
     "name": "stdout",
     "output_type": "stream",
     "text": [
      "intercept: [-1825.56026786]\n",
      "slope: [[0.92832341]]\n"
     ]
    }
   ],
   "source": [
    "new_model = LinearRegression().fit(x, y.reshape((-1, 1)))\n",
    "\n",
    "print(f\"intercept: {new_model.intercept_}\")\n",
    "intercept: [5.63333333]\n",
    "\n",
    "print(f\"slope: {new_model.coef_}\")\n",
    "slope: [[0.54]]"
   ]
  },
  {
   "cell_type": "code",
   "execution_count": 75,
   "id": "950a5856",
   "metadata": {},
   "outputs": [
    {
     "name": "stdout",
     "output_type": "stream",
     "text": [
      "predicted response:\n",
      "[31.08655754 32.01488095 31.08655754 33.87152778 34.79985119 35.7281746\n",
      " 36.65649802 37.58482143 38.51314484 39.44146825 40.36979167 41.29811508\n",
      " 42.22643849 43.1547619  44.08308532 45.01140873 45.93973214 46.86805556\n",
      " 47.79637897 48.72470238 49.65302579 50.58134921 51.50967262]\n"
     ]
    }
   ],
   "source": [
    "#and now we have the predicted response!\n",
    "\n",
    "y_pred = model.predict(x)\n",
    "\n",
    "print(f\"predicted response:\\n{y_pred}\")\n"
   ]
  },
  {
   "cell_type": "code",
   "execution_count": 76,
   "id": "707f135a",
   "metadata": {},
   "outputs": [],
   "source": [
    "# now, for visualization purposes, let's create a table (in Python we call that a pandas dataframe)\n",
    "x = year\n",
    "y = age_actress"
   ]
  },
  {
   "cell_type": "code",
   "execution_count": 77,
   "id": "62eecc95",
   "metadata": {},
   "outputs": [],
   "source": [
    "import pandas as pd\n",
    "import matplotlib.pyplot as plt"
   ]
  },
  {
   "cell_type": "code",
   "execution_count": 78,
   "id": "bc869689",
   "metadata": {},
   "outputs": [],
   "source": [
    "d = {\"years\" : x, \"age actress\" : y}\n",
    "\n",
    "df = pd.DataFrame(data = d)"
   ]
  },
  {
   "cell_type": "code",
   "execution_count": 79,
   "id": "8ee12b44",
   "metadata": {},
   "outputs": [
    {
     "data": {
      "text/html": [
       "<div>\n",
       "<style scoped>\n",
       "    .dataframe tbody tr th:only-of-type {\n",
       "        vertical-align: middle;\n",
       "    }\n",
       "\n",
       "    .dataframe tbody tr th {\n",
       "        vertical-align: top;\n",
       "    }\n",
       "\n",
       "    .dataframe thead th {\n",
       "        text-align: right;\n",
       "    }\n",
       "</style>\n",
       "<table border=\"1\" class=\"dataframe\">\n",
       "  <thead>\n",
       "    <tr style=\"text-align: right;\">\n",
       "      <th></th>\n",
       "      <th>years</th>\n",
       "      <th>age actress</th>\n",
       "    </tr>\n",
       "  </thead>\n",
       "  <tbody>\n",
       "    <tr>\n",
       "      <th>0</th>\n",
       "      <td>2000</td>\n",
       "      <td>33</td>\n",
       "    </tr>\n",
       "    <tr>\n",
       "      <th>1</th>\n",
       "      <td>2001</td>\n",
       "      <td>35</td>\n",
       "    </tr>\n",
       "    <tr>\n",
       "      <th>2</th>\n",
       "      <td>2000</td>\n",
       "      <td>35</td>\n",
       "    </tr>\n",
       "    <tr>\n",
       "      <th>3</th>\n",
       "      <td>2003</td>\n",
       "      <td>28</td>\n",
       "    </tr>\n",
       "    <tr>\n",
       "      <th>4</th>\n",
       "      <td>2004</td>\n",
       "      <td>30</td>\n",
       "    </tr>\n",
       "    <tr>\n",
       "      <th>5</th>\n",
       "      <td>2005</td>\n",
       "      <td>29</td>\n",
       "    </tr>\n",
       "    <tr>\n",
       "      <th>6</th>\n",
       "      <td>2006</td>\n",
       "      <td>61</td>\n",
       "    </tr>\n",
       "    <tr>\n",
       "      <th>7</th>\n",
       "      <td>2007</td>\n",
       "      <td>32</td>\n",
       "    </tr>\n",
       "    <tr>\n",
       "      <th>8</th>\n",
       "      <td>2008</td>\n",
       "      <td>33</td>\n",
       "    </tr>\n",
       "    <tr>\n",
       "      <th>9</th>\n",
       "      <td>2009</td>\n",
       "      <td>45</td>\n",
       "    </tr>\n",
       "    <tr>\n",
       "      <th>10</th>\n",
       "      <td>2010</td>\n",
       "      <td>29</td>\n",
       "    </tr>\n",
       "    <tr>\n",
       "      <th>11</th>\n",
       "      <td>2011</td>\n",
       "      <td>63</td>\n",
       "    </tr>\n",
       "    <tr>\n",
       "      <th>12</th>\n",
       "      <td>2012</td>\n",
       "      <td>22</td>\n",
       "    </tr>\n",
       "    <tr>\n",
       "      <th>13</th>\n",
       "      <td>2013</td>\n",
       "      <td>44</td>\n",
       "    </tr>\n",
       "    <tr>\n",
       "      <th>14</th>\n",
       "      <td>2014</td>\n",
       "      <td>54</td>\n",
       "    </tr>\n",
       "    <tr>\n",
       "      <th>15</th>\n",
       "      <td>2015</td>\n",
       "      <td>26</td>\n",
       "    </tr>\n",
       "    <tr>\n",
       "      <th>16</th>\n",
       "      <td>2016</td>\n",
       "      <td>28</td>\n",
       "    </tr>\n",
       "    <tr>\n",
       "      <th>17</th>\n",
       "      <td>2017</td>\n",
       "      <td>60</td>\n",
       "    </tr>\n",
       "    <tr>\n",
       "      <th>18</th>\n",
       "      <td>2018</td>\n",
       "      <td>44</td>\n",
       "    </tr>\n",
       "    <tr>\n",
       "      <th>19</th>\n",
       "      <td>2019</td>\n",
       "      <td>50</td>\n",
       "    </tr>\n",
       "    <tr>\n",
       "      <th>20</th>\n",
       "      <td>2020</td>\n",
       "      <td>63</td>\n",
       "    </tr>\n",
       "    <tr>\n",
       "      <th>21</th>\n",
       "      <td>2021</td>\n",
       "      <td>44</td>\n",
       "    </tr>\n",
       "    <tr>\n",
       "      <th>22</th>\n",
       "      <td>2022</td>\n",
       "      <td>60</td>\n",
       "    </tr>\n",
       "  </tbody>\n",
       "</table>\n",
       "</div>"
      ],
      "text/plain": [
       "    years  age actress\n",
       "0    2000           33\n",
       "1    2001           35\n",
       "2    2000           35\n",
       "3    2003           28\n",
       "4    2004           30\n",
       "5    2005           29\n",
       "6    2006           61\n",
       "7    2007           32\n",
       "8    2008           33\n",
       "9    2009           45\n",
       "10   2010           29\n",
       "11   2011           63\n",
       "12   2012           22\n",
       "13   2013           44\n",
       "14   2014           54\n",
       "15   2015           26\n",
       "16   2016           28\n",
       "17   2017           60\n",
       "18   2018           44\n",
       "19   2019           50\n",
       "20   2020           63\n",
       "21   2021           44\n",
       "22   2022           60"
      ]
     },
     "execution_count": 79,
     "metadata": {},
     "output_type": "execute_result"
    }
   ],
   "source": [
    "df"
   ]
  },
  {
   "cell_type": "code",
   "execution_count": 80,
   "id": "86b96a30",
   "metadata": {},
   "outputs": [
    {
     "data": {
      "image/png": "[encoded data removed]",
      "text/plain": [
       "<Figure size 432x288 with 1 Axes>"
      ]
     },
     "metadata": {
      "needs_background": "light"
     },
     "output_type": "display_data"
    }
   ],
   "source": [
    "# Plot outputs\n",
    "plt.scatter(x, y, color=\"black\")\n",
    "plt.plot(x, y_pred, color=\"blue\", linewidth=3)\n",
    "\n",
    "#plt.xticks(())\n",
    "#plt.yticks(())\n",
    "\n",
    "plt.show()"
   ]
  },
  {
   "cell_type": "markdown",
   "id": "4fdf46af",
   "metadata": {},
   "source": [
    "**E**\n",
    "\n",
    "And now, the AMPAS is interested to explore the relationship between box office and winner movies. Create a list using the box office data from your dataframe. Fitted to the linnear regression script above.\n",
    "What do you observe?"
   ]
  },
  {
   "cell_type": "markdown",
   "id": "ff2939a4",
   "metadata": {},
   "source": [
    "# Solution A"
   ]
  },
  {
   "cell_type": "markdown",
   "id": "47c173e0",
   "metadata": {},
   "source": [
    "Pandas is a Python Library"
   ]
  },
  {
   "cell_type": "code",
   "execution_count": 81,
   "id": "d0cc73b4",
   "metadata": {},
   "outputs": [
    {
     "data": {
      "text/plain": [
       "',year,best actress,age actress,best actor,age actor,best movie,box office\\n0,2000,julia roberts,33,Russel Crowe,36,Gladiator,503\\n1,2001,halle berry,35,Denzel Washington,44,A Beautiful Mind,316\\n2,2000,nicole kidman,35,Adrien Brody,29,Chicago,306\\n3,2003,charlize theron,28,Sean Penn,43,The Lord of the Rings: the Return of the King,1147\\n4,2004,hilary swank,30,Jamie Foxx,37,Million Dollar Baby,216\\n5,2005,reese witherspoon,29,Phillip Seymour Hoffman,38,Crash,98\\n6,2006,hellen mirren,61,Forest Whitaker,45,The Departed,291\\n7,2007,marion cotillard,32,Daniel Day Lewis,50,No Country for Old Men,171\\n8,2008,kate winslet,33,Sean Penn,48,Slumdog Millionaire,378\\n9,2009,sandra bullock,45,Jeff Bridges,60,The Hurt Locker,49\\n10,2010,natalie portman,29,Colin Firth,50,The Kings Speech,427\\n11,2011,meryl streep,63,Jean Dujardin,39,The Artist,133\\n12,2012,jennifer lawrence,22,Daniel Day Lewis,56,Argo,232\\n13,2013,cate blanchett,44,Matthew McConaughey,44,12 years a slave,187\\n14,2014,julianne mooore,54,Eddie Redmayne,32,Birdman,103\\n15,2015,brie larson,26,Leonardo DiCaprio,41,Spotlight,98\\n16,2016,emma stone,28,Casey Affleck,41,Moonlight,65\\n17,2017,frances mcdormand,60,Gary Oldman,59,The Shape of Water,193\\n18,2018,olivia colman,44,Rami Malek,37,Green Book,321\\n19,2019,rene zellweger,50,Joaquin Phoenix,45,Parasite,262\\n20,2020,frances mcdormand,63,Anthony Hopkins,83,Nomadland,39\\n21,2021,jessica chastain,44,Will Smith,53,CODA,2\\n22,2022,michelle yeoh,60,Brendan Fraser,54,Everything Everywhere All at Once,131\\n'"
      ]
     },
     "execution_count": 81,
     "metadata": {},
     "output_type": "execute_result"
    }
   ],
   "source": [
    "with open(\"oscars_data.csv\", \"r\", encoding = \"utf-8\") as f:\n",
    "    data_2 = f.read()\n",
    "data_2"
   ]
  },
  {
   "cell_type": "code",
   "execution_count": 82,
   "id": "7bc1f335",
   "metadata": {},
   "outputs": [
    {
     "data": {
      "text/plain": [
       "23"
      ]
     },
     "execution_count": 82,
     "metadata": {},
     "output_type": "execute_result"
    }
   ],
   "source": [
    "len(data)"
   ]
  },
  {
   "cell_type": "code",
   "execution_count": 83,
   "id": "fce5b33a",
   "metadata": {},
   "outputs": [
    {
     "data": {
      "text/plain": [
       "0     2000\n",
       "1     2001\n",
       "2     2000\n",
       "3     2003\n",
       "4     2004\n",
       "5     2005\n",
       "6     2006\n",
       "7     2007\n",
       "8     2008\n",
       "9     2009\n",
       "10    2010\n",
       "11    2011\n",
       "12    2012\n",
       "13    2013\n",
       "14    2014\n",
       "15    2015\n",
       "16    2016\n",
       "17    2017\n",
       "18    2018\n",
       "19    2019\n",
       "20    2020\n",
       "21    2021\n",
       "22    2022\n",
       "Name: year, dtype: int64"
      ]
     },
     "execution_count": 83,
     "metadata": {},
     "output_type": "execute_result"
    }
   ],
   "source": [
    "data[\"year\"]"
   ]
  },
  {
   "cell_type": "code",
   "execution_count": 84,
   "id": "299a6ac8",
   "metadata": {},
   "outputs": [
    {
     "data": {
      "text/plain": [
       "pandas.core.series.Series"
      ]
     },
     "execution_count": 84,
     "metadata": {},
     "output_type": "execute_result"
    }
   ],
   "source": [
    "type(data[\"year\"])"
   ]
  },
  {
   "cell_type": "code",
   "execution_count": 85,
   "id": "581b416e",
   "metadata": {},
   "outputs": [
    {
     "data": {
      "text/plain": [
       "[2000,\n",
       " 2001,\n",
       " 2000,\n",
       " 2003,\n",
       " 2004,\n",
       " 2005,\n",
       " 2006,\n",
       " 2007,\n",
       " 2008,\n",
       " 2009,\n",
       " 2010,\n",
       " 2011,\n",
       " 2012,\n",
       " 2013,\n",
       " 2014,\n",
       " 2015,\n",
       " 2016,\n",
       " 2017,\n",
       " 2018,\n",
       " 2019,\n",
       " 2020,\n",
       " 2021,\n",
       " 2022]"
      ]
     },
     "execution_count": 85,
     "metadata": {},
     "output_type": "execute_result"
    }
   ],
   "source": [
    "data[\"year\"].tolist()"
   ]
  },
  {
   "cell_type": "code",
   "execution_count": 88,
   "id": "dc84f088",
   "metadata": {},
   "outputs": [
    {
     "data": {
      "text/plain": [
       "list"
      ]
     },
     "execution_count": 88,
     "metadata": {},
     "output_type": "execute_result"
    }
   ],
   "source": [
    "type(data[\"year\"].to_list())"
   ]
  },
  {
   "cell_type": "code",
   "execution_count": 89,
   "id": "1ad8604e",
   "metadata": {},
   "outputs": [],
   "source": [
    "year = data[\"year\"].to_list()"
   ]
  },
  {
   "cell_type": "code",
   "execution_count": 90,
   "id": "a632882c",
   "metadata": {},
   "outputs": [
    {
     "data": {
      "text/plain": [
       "[2000,\n",
       " 2001,\n",
       " 2000,\n",
       " 2003,\n",
       " 2004,\n",
       " 2005,\n",
       " 2006,\n",
       " 2007,\n",
       " 2008,\n",
       " 2009,\n",
       " 2010,\n",
       " 2011,\n",
       " 2012,\n",
       " 2013,\n",
       " 2014,\n",
       " 2015,\n",
       " 2016,\n",
       " 2017,\n",
       " 2018,\n",
       " 2019,\n",
       " 2020,\n",
       " 2021,\n",
       " 2022]"
      ]
     },
     "execution_count": 90,
     "metadata": {},
     "output_type": "execute_result"
    }
   ],
   "source": [
    "year"
   ]
  },
  {
   "cell_type": "markdown",
   "id": "a57bfdf8",
   "metadata": {},
   "source": [
    "# Solution B"
   ]
  },
  {
   "cell_type": "code",
   "execution_count": 91,
   "id": "89f9247b",
   "metadata": {},
   "outputs": [],
   "source": [
    "def best_actress(x):\n",
    "    if x == 2010:\n",
    "        print(\"Natalie Portman\")\n",
    "    elif x == 2011:\n",
    "        print(\"Meryl Streep\")\n",
    "    elif x == 2012:\n",
    "        print(\"Jennifer Lawrence\")\n",
    "    elif x == 2013:\n",
    "        print(\"Cate Blanchett\")\n",
    "    elif x == 2014:\n",
    "        print(\"Julianne Moore\")\n",
    "    elif x == 2015:\n",
    "        print(\"Brie Larson\")\n",
    "    elif x == 2016:\n",
    "        print(\"Emma Stone\")\n",
    "    elif x == 2017:\n",
    "        print(\"Frances McDormand\")\n",
    "    elif x == 2018:\n",
    "        print(\"Olivia Colman\")\n",
    "    elif x == 2019:\n",
    "        print(\"Rene Zellweger\")\n",
    "    elif x == 2020:\n",
    "        print(\"Frances McDormand\")\n",
    "    elif x == 2021:\n",
    "        print(\"Jessica Chastain\")\n",
    "    elif x == 2022:\n",
    "        print(\"Michelle Yeoh\")\n",
    "    else:\n",
    "        print(\"I don´t know\")"
   ]
  },
  {
   "cell_type": "code",
   "execution_count": 92,
   "id": "5c741eb3",
   "metadata": {},
   "outputs": [
    {
     "name": "stdout",
     "output_type": "stream",
     "text": [
      "Meryl Streep\n"
     ]
    }
   ],
   "source": [
    "best_actress(2011)"
   ]
  },
  {
   "cell_type": "code",
   "execution_count": 93,
   "id": "4b75ccac",
   "metadata": {},
   "outputs": [
    {
     "name": "stdout",
     "output_type": "stream",
     "text": [
      "I don´t know\n"
     ]
    }
   ],
   "source": [
    "best_actress(1940)"
   ]
  },
  {
   "cell_type": "code",
   "execution_count": 95,
   "id": "d37e9aae",
   "metadata": {},
   "outputs": [
    {
     "data": {
      "text/plain": [
       "['Colin Firth',\n",
       " 'Jean Dujardin',\n",
       " 'Daniel Day Lewis',\n",
       " 'Matthew McConaughey',\n",
       " 'Eddie Redmayne',\n",
       " 'Leonardo DiCaprio',\n",
       " 'Casey Affleck',\n",
       " 'Gary Oldman',\n",
       " 'Rami Malek',\n",
       " 'Joaquin Phoenix',\n",
       " 'Anthony Hopkins',\n",
       " 'Will Smith',\n",
       " 'Brendan Fraser']"
      ]
     },
     "execution_count": 95,
     "metadata": {},
     "output_type": "execute_result"
    }
   ],
   "source": [
    "data_actor = data[\"best actor\"].to_list()\n",
    "data_actor = data_actor[10:23]\n",
    "data_actor"
   ]
  },
  {
   "cell_type": "code",
   "execution_count": 96,
   "id": "e4c6feaf",
   "metadata": {},
   "outputs": [],
   "source": [
    "def best_actor(x):\n",
    "    if x == 2010:\n",
    "        print(\"Colin Firth\")\n",
    "    elif x == 2011:\n",
    "        print(\"Jean Dujardin\")\n",
    "    elif x == 2012:\n",
    "        print(\"Daniel Day Lewis\")\n",
    "    elif x == 2013:\n",
    "        print('Matthew McConaughey')\n",
    "    elif x == 2014:\n",
    "        print(\"Eddie Redmayne\")\n",
    "    elif x == 2015:\n",
    "        print(\"Leonardo DiCaprio\")\n",
    "    elif x == 2016:\n",
    "        print(\"Casey Affleck\")\n",
    "    elif x == 2017:\n",
    "        print(\"Gary Oldman\")\n",
    "    elif x == 2018:\n",
    "        print(\"Rami Malek\")\n",
    "    elif x == 2019:\n",
    "        print(\"Joaquin Phoenix\")\n",
    "    elif x == 2020:\n",
    "        print(\"Anthony Hopkins\")\n",
    "    elif x == 2021:\n",
    "        print(\"Will Smit\")\n",
    "    elif x == 2022:\n",
    "        print(\"Brendan Fraser\")\n",
    "    else:\n",
    "        print(\"I don´t know\")"
   ]
  },
  {
   "cell_type": "code",
   "execution_count": 97,
   "id": "ebc32803",
   "metadata": {},
   "outputs": [
    {
     "name": "stdout",
     "output_type": "stream",
     "text": [
      "I don´t know\n"
     ]
    }
   ],
   "source": [
    "best_actor(1999)"
   ]
  },
  {
   "cell_type": "code",
   "execution_count": 98,
   "id": "d88432d0",
   "metadata": {},
   "outputs": [
    {
     "name": "stdout",
     "output_type": "stream",
     "text": [
      "Eddie Redmayne\n"
     ]
    }
   ],
   "source": [
    "best_actor(2014)"
   ]
  },
  {
   "cell_type": "markdown",
   "id": "7cd66e52",
   "metadata": {},
   "source": [
    "# Solution C"
   ]
  },
  {
   "cell_type": "code",
   "execution_count": 99,
   "id": "a5ba9690",
   "metadata": {},
   "outputs": [],
   "source": [
    "oscars_2010 = {\"year\": \"2010\", \"best actress\": \"Natalie Portman\", \"Age of actress\": \"29\", \"best actor\": \"Colin Firth\", \n",
    "              \"Age of actor\" : \"50\", \"best movie\": \"The Kings Speech\", \"Box Revenue\": \"427\"} "
   ]
  },
  {
   "cell_type": "code",
   "execution_count": 100,
   "id": "0f99d9b1",
   "metadata": {},
   "outputs": [
    {
     "data": {
      "text/plain": [
       "{'year': '2010',\n",
       " 'best actress': 'Natalie Portman',\n",
       " 'Age of actress': '29',\n",
       " 'best actor': 'Colin Firth',\n",
       " 'Age of actor': '50',\n",
       " 'best movie': 'The Kings Speech',\n",
       " 'Box Revenue': '427'}"
      ]
     },
     "execution_count": 100,
     "metadata": {},
     "output_type": "execute_result"
    }
   ],
   "source": [
    "oscars_2010"
   ]
  },
  {
   "cell_type": "markdown",
   "id": "e197b177",
   "metadata": {},
   "source": [
    "# Solution D"
   ]
  },
  {
   "cell_type": "code",
   "execution_count": 102,
   "id": "f4927f1a",
   "metadata": {},
   "outputs": [],
   "source": [
    "age_actress = data[\"age actress\"].to_list()"
   ]
  },
  {
   "cell_type": "code",
   "execution_count": 103,
   "id": "b3b12f37",
   "metadata": {
    "scrolled": true
   },
   "outputs": [
    {
     "data": {
      "text/plain": [
       "[33,\n",
       " 35,\n",
       " 35,\n",
       " 28,\n",
       " 30,\n",
       " 29,\n",
       " 61,\n",
       " 32,\n",
       " 33,\n",
       " 45,\n",
       " 29,\n",
       " 63,\n",
       " 22,\n",
       " 44,\n",
       " 54,\n",
       " 26,\n",
       " 28,\n",
       " 60,\n",
       " 44,\n",
       " 50,\n",
       " 63,\n",
       " 44,\n",
       " 60]"
      ]
     },
     "execution_count": 103,
     "metadata": {},
     "output_type": "execute_result"
    }
   ],
   "source": [
    "age_actress"
   ]
  },
  {
   "cell_type": "code",
   "execution_count": 105,
   "id": "8ee20e77",
   "metadata": {},
   "outputs": [
    {
     "data": {
      "text/plain": [
       "[36,\n",
       " 44,\n",
       " 29,\n",
       " 43,\n",
       " 37,\n",
       " 38,\n",
       " 45,\n",
       " 50,\n",
       " 48,\n",
       " 60,\n",
       " 50,\n",
       " 39,\n",
       " 56,\n",
       " 44,\n",
       " 32,\n",
       " 41,\n",
       " 41,\n",
       " 59,\n",
       " 37,\n",
       " 45,\n",
       " 83,\n",
       " 53,\n",
       " 54]"
      ]
     },
     "execution_count": 105,
     "metadata": {},
     "output_type": "execute_result"
    }
   ],
   "source": [
    "age_actor = data[\"age actor\"].to_list()\n",
    "age_actor"
   ]
  },
  {
   "cell_type": "code",
   "execution_count": 106,
   "id": "36efec3c",
   "metadata": {},
   "outputs": [],
   "source": [
    "actress_over_35 = []\n",
    "for i in age_actress:\n",
    "    if i >= 35:\n",
    "        actress_over_35.append(i)\n"
   ]
  },
  {
   "cell_type": "code",
   "execution_count": 107,
   "id": "2bb37958",
   "metadata": {},
   "outputs": [],
   "source": [
    "actor_over_35 = []\n",
    "for i in age_actor:\n",
    "    if i >= 35:\n",
    "        actor_over_35.append(i)"
   ]
  },
  {
   "cell_type": "code",
   "execution_count": 108,
   "id": "33946d03",
   "metadata": {},
   "outputs": [
    {
     "name": "stdout",
     "output_type": "stream",
     "text": [
      "13\n",
      "21\n"
     ]
    }
   ],
   "source": [
    "print(len(actress_over_35))\n",
    "print(len(actor_over_35))"
   ]
  },
  {
   "cell_type": "markdown",
   "id": "5559a045",
   "metadata": {},
   "source": [
    "# Solution E"
   ]
  },
  {
   "cell_type": "code",
   "execution_count": 110,
   "id": "5f66b49f",
   "metadata": {},
   "outputs": [
    {
     "data": {
      "text/plain": [
       "[503,\n",
       " 316,\n",
       " 306,\n",
       " 1147,\n",
       " 216,\n",
       " 98,\n",
       " 291,\n",
       " 171,\n",
       " 378,\n",
       " 49,\n",
       " 427,\n",
       " 133,\n",
       " 232,\n",
       " 187,\n",
       " 103,\n",
       " 98,\n",
       " 65,\n",
       " 193,\n",
       " 321,\n",
       " 262,\n",
       " 39,\n",
       " 2,\n",
       " 131]"
      ]
     },
     "execution_count": 110,
     "metadata": {},
     "output_type": "execute_result"
    }
   ],
   "source": [
    "box_office = data[\"box office\"].to_list()\n",
    "box_office"
   ]
  }
 ],
 "metadata": {
  "kernelspec": {
   "display_name": "Python 3 (ipykernel)",
   "language": "python",
   "name": "python3"
  },
  "language_info": {
   "codemirror_mode": {
    "name": "ipython",
    "version": 3
   },
   "file_extension": ".py",
   "mimetype": "text/x-python",
   "name": "python",
   "nbconvert_exporter": "python",
   "pygments_lexer": "ipython3",
   "version": "3.8.8"
  }
 },
 "nbformat": 4,
 "nbformat_minor": 5
}
