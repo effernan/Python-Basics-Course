{
 "cells": [
  {
   "cell_type": "markdown",
   "id": "75c293f0",
   "metadata": {},
   "source": [
    "Source: https://realpython.com/python-string-formatting/ "
   ]
  },
  {
   "cell_type": "markdown",
   "id": "37711ff8",
   "metadata": {},
   "source": [
    "# String formatters "
   ]
  },
  {
   "cell_type": "markdown",
   "id": "a4d894b0",
   "metadata": {},
   "source": [
    "String formatters are particularly useful when we want to create generic python scripts (that means one script that we can re-use with different variables)."
   ]
  },
  {
   "cell_type": "code",
   "execution_count": 3,
   "id": "8e1df5e5",
   "metadata": {},
   "outputs": [],
   "source": [
    "name = \"Elena\""
   ]
  },
  {
   "cell_type": "code",
   "execution_count": 5,
   "id": "686cbd58",
   "metadata": {},
   "outputs": [
    {
     "name": "stdout",
     "output_type": "stream",
     "text": [
      "Happy Birtday, Elena!\n"
     ]
    }
   ],
   "source": [
    "print(f'Happy Birtday, {name}!')"
   ]
  },
  {
   "cell_type": "markdown",
   "id": "9a022118",
   "metadata": {},
   "source": [
    "So, coming back to the Mark Zuckerberg explanation about computational thinking, if we would like to wish Happy Birthday to everybody in this class, we could write a for loop with just 2 lines of code using string formatters:"
   ]
  },
  {
   "cell_type": "code",
   "execution_count": 10,
   "id": "b83070aa",
   "metadata": {},
   "outputs": [],
   "source": [
    "names = [\"Alexandra\", \"Fatima\", \"Larissa\", \"Linbi\", \"Thierry\", \"Diego\", \"Hanieh\", \"Fiona\", \"Erëza\", \"Anita\", \"Sina\", \"Sofia\",\n",
    "         \"Arndt\", \"Maja\", \"Jeanne\", \"Lucas\", \"Panna\", \"Monika\", \"Basil\", \"Alec\", \"Nuno\", \"Patricia\", \"Amira\", \"Fabian\"]"
   ]
  },
  {
   "cell_type": "code",
   "execution_count": 11,
   "id": "e8a803c5",
   "metadata": {},
   "outputs": [
    {
     "name": "stdout",
     "output_type": "stream",
     "text": [
      "Happy Birthday, Alexandra!\n",
      "Happy Birthday, Fatima!\n",
      "Happy Birthday, Larissa!\n",
      "Happy Birthday, Linbi!\n",
      "Happy Birthday, Thierry!\n",
      "Happy Birthday, Diego!\n",
      "Happy Birthday, Hanieh!\n",
      "Happy Birthday, Fiona!\n",
      "Happy Birthday, Erëza!\n",
      "Happy Birthday, Anita!\n",
      "Happy Birthday, Sina!\n",
      "Happy Birthday, Sofia!\n",
      "Happy Birthday, Arndt!\n",
      "Happy Birthday, Maja!\n",
      "Happy Birthday, Jeanne!\n",
      "Happy Birthday, Lucas!\n",
      "Happy Birthday, Panna!\n",
      "Happy Birthday, Monika!\n",
      "Happy Birthday, Basil!\n",
      "Happy Birthday, Alec!\n",
      "Happy Birthday, Nuno!\n",
      "Happy Birthday, Patricia!\n",
      "Happy Birthday, Amira!\n",
      "Happy Birthday, Fabian!\n"
     ]
    }
   ],
   "source": [
    "for i in names:\n",
    "    print(f\"Happy Birthday, {i}!\")"
   ]
  }
 ],
 "metadata": {
  "kernelspec": {
   "display_name": "Python 3 (ipykernel)",
   "language": "python",
   "name": "python3"
  },
  "language_info": {
   "codemirror_mode": {
    "name": "ipython",
    "version": 3
   },
   "file_extension": ".py",
   "mimetype": "text/x-python",
   "name": "python",
   "nbconvert_exporter": "python",
   "pygments_lexer": "ipython3",
   "version": "3.8.8"
  }
 },
 "nbformat": 4,
 "nbformat_minor": 5
}
